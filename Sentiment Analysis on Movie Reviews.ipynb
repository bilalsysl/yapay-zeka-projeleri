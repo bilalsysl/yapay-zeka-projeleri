{
 "cells": [
  {
   "cell_type": "code",
   "execution_count": 1,
   "id": "53f9cc6f",
   "metadata": {},
   "outputs": [],
   "source": [
    "import pandas as pd\n",
    "import numpy as np"
   ]
  },
  {
   "cell_type": "code",
   "execution_count": 2,
   "id": "2c6d4b27",
   "metadata": {},
   "outputs": [],
   "source": [
    "df1=pd.read_table('train.tsv')\n",
    "df2=pd.read_table('test.tsv')"
   ]
  },
  {
   "cell_type": "code",
   "execution_count": 3,
   "id": "e6866ee1",
   "metadata": {},
   "outputs": [
    {
     "data": {
      "text/html": [
       "<div>\n",
       "<style scoped>\n",
       "    .dataframe tbody tr th:only-of-type {\n",
       "        vertical-align: middle;\n",
       "    }\n",
       "\n",
       "    .dataframe tbody tr th {\n",
       "        vertical-align: top;\n",
       "    }\n",
       "\n",
       "    .dataframe thead th {\n",
       "        text-align: right;\n",
       "    }\n",
       "</style>\n",
       "<table border=\"1\" class=\"dataframe\">\n",
       "  <thead>\n",
       "    <tr style=\"text-align: right;\">\n",
       "      <th></th>\n",
       "      <th>PhraseId</th>\n",
       "      <th>SentenceId</th>\n",
       "      <th>Phrase</th>\n",
       "      <th>Sentiment</th>\n",
       "    </tr>\n",
       "  </thead>\n",
       "  <tbody>\n",
       "    <tr>\n",
       "      <th>0</th>\n",
       "      <td>1</td>\n",
       "      <td>1</td>\n",
       "      <td>A series of escapades demonstrating the adage ...</td>\n",
       "      <td>1</td>\n",
       "    </tr>\n",
       "    <tr>\n",
       "      <th>1</th>\n",
       "      <td>2</td>\n",
       "      <td>1</td>\n",
       "      <td>A series of escapades demonstrating the adage ...</td>\n",
       "      <td>2</td>\n",
       "    </tr>\n",
       "    <tr>\n",
       "      <th>2</th>\n",
       "      <td>3</td>\n",
       "      <td>1</td>\n",
       "      <td>A series</td>\n",
       "      <td>2</td>\n",
       "    </tr>\n",
       "    <tr>\n",
       "      <th>3</th>\n",
       "      <td>4</td>\n",
       "      <td>1</td>\n",
       "      <td>A</td>\n",
       "      <td>2</td>\n",
       "    </tr>\n",
       "    <tr>\n",
       "      <th>4</th>\n",
       "      <td>5</td>\n",
       "      <td>1</td>\n",
       "      <td>series</td>\n",
       "      <td>2</td>\n",
       "    </tr>\n",
       "    <tr>\n",
       "      <th>...</th>\n",
       "      <td>...</td>\n",
       "      <td>...</td>\n",
       "      <td>...</td>\n",
       "      <td>...</td>\n",
       "    </tr>\n",
       "    <tr>\n",
       "      <th>156055</th>\n",
       "      <td>156056</td>\n",
       "      <td>8544</td>\n",
       "      <td>Hearst 's</td>\n",
       "      <td>2</td>\n",
       "    </tr>\n",
       "    <tr>\n",
       "      <th>156056</th>\n",
       "      <td>156057</td>\n",
       "      <td>8544</td>\n",
       "      <td>forced avuncular chortles</td>\n",
       "      <td>1</td>\n",
       "    </tr>\n",
       "    <tr>\n",
       "      <th>156057</th>\n",
       "      <td>156058</td>\n",
       "      <td>8544</td>\n",
       "      <td>avuncular chortles</td>\n",
       "      <td>3</td>\n",
       "    </tr>\n",
       "    <tr>\n",
       "      <th>156058</th>\n",
       "      <td>156059</td>\n",
       "      <td>8544</td>\n",
       "      <td>avuncular</td>\n",
       "      <td>2</td>\n",
       "    </tr>\n",
       "    <tr>\n",
       "      <th>156059</th>\n",
       "      <td>156060</td>\n",
       "      <td>8544</td>\n",
       "      <td>chortles</td>\n",
       "      <td>2</td>\n",
       "    </tr>\n",
       "  </tbody>\n",
       "</table>\n",
       "<p>156060 rows × 4 columns</p>\n",
       "</div>"
      ],
      "text/plain": [
       "        PhraseId  SentenceId  \\\n",
       "0              1           1   \n",
       "1              2           1   \n",
       "2              3           1   \n",
       "3              4           1   \n",
       "4              5           1   \n",
       "...          ...         ...   \n",
       "156055    156056        8544   \n",
       "156056    156057        8544   \n",
       "156057    156058        8544   \n",
       "156058    156059        8544   \n",
       "156059    156060        8544   \n",
       "\n",
       "                                                   Phrase  Sentiment  \n",
       "0       A series of escapades demonstrating the adage ...          1  \n",
       "1       A series of escapades demonstrating the adage ...          2  \n",
       "2                                                A series          2  \n",
       "3                                                       A          2  \n",
       "4                                                  series          2  \n",
       "...                                                   ...        ...  \n",
       "156055                                          Hearst 's          2  \n",
       "156056                          forced avuncular chortles          1  \n",
       "156057                                 avuncular chortles          3  \n",
       "156058                                          avuncular          2  \n",
       "156059                                           chortles          2  \n",
       "\n",
       "[156060 rows x 4 columns]"
      ]
     },
     "execution_count": 3,
     "metadata": {},
     "output_type": "execute_result"
    }
   ],
   "source": [
    "df1"
   ]
  },
  {
   "cell_type": "code",
   "execution_count": 4,
   "id": "cfbdca14",
   "metadata": {},
   "outputs": [
    {
     "data": {
      "text/html": [
       "<div>\n",
       "<style scoped>\n",
       "    .dataframe tbody tr th:only-of-type {\n",
       "        vertical-align: middle;\n",
       "    }\n",
       "\n",
       "    .dataframe tbody tr th {\n",
       "        vertical-align: top;\n",
       "    }\n",
       "\n",
       "    .dataframe thead th {\n",
       "        text-align: right;\n",
       "    }\n",
       "</style>\n",
       "<table border=\"1\" class=\"dataframe\">\n",
       "  <thead>\n",
       "    <tr style=\"text-align: right;\">\n",
       "      <th></th>\n",
       "      <th>PhraseId</th>\n",
       "      <th>SentenceId</th>\n",
       "      <th>Phrase</th>\n",
       "    </tr>\n",
       "  </thead>\n",
       "  <tbody>\n",
       "    <tr>\n",
       "      <th>0</th>\n",
       "      <td>156061</td>\n",
       "      <td>8545</td>\n",
       "      <td>An intermittently pleasing but mostly routine ...</td>\n",
       "    </tr>\n",
       "    <tr>\n",
       "      <th>1</th>\n",
       "      <td>156062</td>\n",
       "      <td>8545</td>\n",
       "      <td>An intermittently pleasing but mostly routine ...</td>\n",
       "    </tr>\n",
       "    <tr>\n",
       "      <th>2</th>\n",
       "      <td>156063</td>\n",
       "      <td>8545</td>\n",
       "      <td>An</td>\n",
       "    </tr>\n",
       "    <tr>\n",
       "      <th>3</th>\n",
       "      <td>156064</td>\n",
       "      <td>8545</td>\n",
       "      <td>intermittently pleasing but mostly routine effort</td>\n",
       "    </tr>\n",
       "    <tr>\n",
       "      <th>4</th>\n",
       "      <td>156065</td>\n",
       "      <td>8545</td>\n",
       "      <td>intermittently pleasing but mostly routine</td>\n",
       "    </tr>\n",
       "    <tr>\n",
       "      <th>...</th>\n",
       "      <td>...</td>\n",
       "      <td>...</td>\n",
       "      <td>...</td>\n",
       "    </tr>\n",
       "    <tr>\n",
       "      <th>66287</th>\n",
       "      <td>222348</td>\n",
       "      <td>11855</td>\n",
       "      <td>A long-winded , predictable scenario .</td>\n",
       "    </tr>\n",
       "    <tr>\n",
       "      <th>66288</th>\n",
       "      <td>222349</td>\n",
       "      <td>11855</td>\n",
       "      <td>A long-winded , predictable scenario</td>\n",
       "    </tr>\n",
       "    <tr>\n",
       "      <th>66289</th>\n",
       "      <td>222350</td>\n",
       "      <td>11855</td>\n",
       "      <td>A long-winded ,</td>\n",
       "    </tr>\n",
       "    <tr>\n",
       "      <th>66290</th>\n",
       "      <td>222351</td>\n",
       "      <td>11855</td>\n",
       "      <td>A long-winded</td>\n",
       "    </tr>\n",
       "    <tr>\n",
       "      <th>66291</th>\n",
       "      <td>222352</td>\n",
       "      <td>11855</td>\n",
       "      <td>predictable scenario</td>\n",
       "    </tr>\n",
       "  </tbody>\n",
       "</table>\n",
       "<p>66292 rows × 3 columns</p>\n",
       "</div>"
      ],
      "text/plain": [
       "       PhraseId  SentenceId                                             Phrase\n",
       "0        156061        8545  An intermittently pleasing but mostly routine ...\n",
       "1        156062        8545  An intermittently pleasing but mostly routine ...\n",
       "2        156063        8545                                                 An\n",
       "3        156064        8545  intermittently pleasing but mostly routine effort\n",
       "4        156065        8545         intermittently pleasing but mostly routine\n",
       "...         ...         ...                                                ...\n",
       "66287    222348       11855             A long-winded , predictable scenario .\n",
       "66288    222349       11855               A long-winded , predictable scenario\n",
       "66289    222350       11855                                    A long-winded ,\n",
       "66290    222351       11855                                      A long-winded\n",
       "66291    222352       11855                               predictable scenario\n",
       "\n",
       "[66292 rows x 3 columns]"
      ]
     },
     "execution_count": 4,
     "metadata": {},
     "output_type": "execute_result"
    }
   ],
   "source": [
    "df2"
   ]
  },
  {
   "cell_type": "code",
   "execution_count": 5,
   "id": "3fd5475f",
   "metadata": {},
   "outputs": [
    {
     "data": {
      "text/plain": [
       "2    79582\n",
       "3    32927\n",
       "1    27273\n",
       "4     9206\n",
       "0     7072\n",
       "Name: Sentiment, dtype: int64"
      ]
     },
     "execution_count": 5,
     "metadata": {},
     "output_type": "execute_result"
    }
   ],
   "source": [
    "df1.Sentiment.value_counts()"
   ]
  },
  {
   "cell_type": "code",
   "execution_count": 6,
   "id": "096504de",
   "metadata": {},
   "outputs": [
    {
     "name": "stderr",
     "output_type": "stream",
     "text": [
      "C:\\Users\\bilal\\AppData\\Local\\Temp\\ipykernel_8812\\926375990.py:2: FutureWarning: The default value of regex will change from True to False in a future version.\n",
      "  df1['Phrase']=df1['Phrase'].str.replace('\\d+','')\n",
      "C:\\Users\\bilal\\AppData\\Local\\Temp\\ipykernel_8812\\926375990.py:3: FutureWarning: The default value of regex will change from True to False in a future version.\n",
      "  df1['Phrase']=df1['Phrase'].str.replace('[^\\w\\s]','')\n"
     ]
    }
   ],
   "source": [
    "df1['Phrase']=df1['Phrase'].str.lower()\n",
    "df1['Phrase']=df1['Phrase'].str.replace('\\d+','')\n",
    "df1['Phrase']=df1['Phrase'].str.replace('[^\\w\\s]','')\n",
    "df1['Phrase']=df1['Phrase'].str.replace('\\n',' ').replace('\\r','')"
   ]
  },
  {
   "cell_type": "code",
   "execution_count": 7,
   "id": "41674755",
   "metadata": {},
   "outputs": [
    {
     "name": "stderr",
     "output_type": "stream",
     "text": [
      "C:\\Users\\bilal\\AppData\\Local\\Temp\\ipykernel_8812\\1020434583.py:2: FutureWarning: The default value of regex will change from True to False in a future version.\n",
      "  df2['Phrase']=df2['Phrase'].str.replace('\\d+','')\n",
      "C:\\Users\\bilal\\AppData\\Local\\Temp\\ipykernel_8812\\1020434583.py:3: FutureWarning: The default value of regex will change from True to False in a future version.\n",
      "  df2['Phrase']=df2['Phrase'].str.replace('[^\\w\\s]','')\n"
     ]
    }
   ],
   "source": [
    "df2['Phrase']=df2['Phrase'].str.lower()\n",
    "df2['Phrase']=df2['Phrase'].str.replace('\\d+','')\n",
    "df2['Phrase']=df2['Phrase'].str.replace('[^\\w\\s]','')\n",
    "df2['Phrase']=df2['Phrase'].str.replace('\\n',' ').replace('\\r','')"
   ]
  },
  {
   "cell_type": "code",
   "execution_count": 8,
   "id": "5683aa8b",
   "metadata": {},
   "outputs": [],
   "source": [
    "x=df1['Phrase']\n",
    "y=df1['Sentiment']\n",
    "a=df2['Phrase']"
   ]
  },
  {
   "cell_type": "code",
   "execution_count": 9,
   "id": "a846bc8a",
   "metadata": {},
   "outputs": [
    {
     "name": "stdout",
     "output_type": "stream",
     "text": [
      "0         a series of escapades demonstrating the adage ...\n",
      "1         a series of escapades demonstrating the adage ...\n",
      "2                                                  a series\n",
      "3                                                         a\n",
      "4                                                    series\n",
      "                                ...                        \n",
      "156055                                             hearst s\n",
      "156056                            forced avuncular chortles\n",
      "156057                                   avuncular chortles\n",
      "156058                                            avuncular\n",
      "156059                                             chortles\n",
      "Name: Phrase, Length: 156060, dtype: object\n"
     ]
    }
   ],
   "source": [
    "print(x)"
   ]
  },
  {
   "cell_type": "code",
   "execution_count": 10,
   "id": "743759b5",
   "metadata": {},
   "outputs": [],
   "source": [
    "from sklearn.model_selection import train_test_split"
   ]
  },
  {
   "cell_type": "code",
   "execution_count": 11,
   "id": "671c1895",
   "metadata": {},
   "outputs": [],
   "source": [
    "x_train,x_test,y_train,y_test=train_test_split(x,y,test_size=0.2 ,random_state=42)"
   ]
  },
  {
   "cell_type": "code",
   "execution_count": 12,
   "id": "0276927f",
   "metadata": {},
   "outputs": [
    {
     "data": {
      "text/plain": [
       "((124848,), (31212,), (124848,), (31212,))"
      ]
     },
     "execution_count": 12,
     "metadata": {},
     "output_type": "execute_result"
    }
   ],
   "source": [
    "x_train.shape,x_test.shape,y_train.shape,y_test.shape"
   ]
  },
  {
   "cell_type": "code",
   "execution_count": 13,
   "id": "a3b2b422",
   "metadata": {},
   "outputs": [],
   "source": [
    "import scipy as sp\n",
    "import nltk\n",
    "from sklearn.feature_extraction.text import CountVectorizer,TfidfVectorizer\n",
    "from sklearn.naive_bayes import MultinomialNB"
   ]
  },
  {
   "cell_type": "code",
   "execution_count": 14,
   "id": "8d45a482",
   "metadata": {},
   "outputs": [
    {
     "name": "stdout",
     "output_type": "stream",
     "text": [
      "  (0, 2185)\t1\n",
      "  (1, 14865)\t1\n",
      "  (1, 11778)\t1\n",
      "  (2, 9226)\t1\n",
      "  (2, 8275)\t1\n",
      "  (2, 9112)\t1\n",
      "  (2, 7582)\t1\n",
      "  (2, 5128)\t1\n",
      "  (2, 10617)\t1\n",
      "  (2, 8697)\t1\n",
      "  (3, 12736)\t1\n",
      "  (3, 1340)\t1\n",
      "  (3, 12982)\t1\n",
      "  (3, 6377)\t1\n",
      "  (3, 15500)\t1\n",
      "  (3, 6400)\t1\n",
      "  (4, 11358)\t1\n",
      "  (4, 14576)\t1\n",
      "  (4, 4347)\t1\n",
      "  (4, 1224)\t1\n",
      "  (4, 5287)\t1\n",
      "  (4, 3953)\t1\n",
      "  (5, 8359)\t1\n",
      "  (6, 5957)\t1\n",
      "  (6, 11752)\t1\n",
      "  :\t:\n",
      "  (124844, 8395)\t1\n",
      "  (124844, 14090)\t1\n",
      "  (124844, 12391)\t1\n",
      "  (124844, 10084)\t1\n",
      "  (124844, 6550)\t1\n",
      "  (124844, 2357)\t1\n",
      "  (124844, 1580)\t1\n",
      "  (124844, 9523)\t1\n",
      "  (124844, 4216)\t1\n",
      "  (124844, 10204)\t1\n",
      "  (124845, 8240)\t1\n",
      "  (124845, 13847)\t1\n",
      "  (124845, 14807)\t1\n",
      "  (124845, 9052)\t1\n",
      "  (124845, 3587)\t1\n",
      "  (124845, 10261)\t1\n",
      "  (124846, 502)\t1\n",
      "  (124846, 8240)\t1\n",
      "  (124846, 10359)\t1\n",
      "  (124846, 11101)\t1\n",
      "  (124846, 8603)\t1\n",
      "  (124846, 2168)\t1\n",
      "  (124847, 858)\t1\n",
      "  (124847, 4032)\t1\n",
      "  (124847, 4527)\t1\n"
     ]
    }
   ],
   "source": [
    "vect=CountVectorizer(stop_words='english')\n",
    "x_train_dtm=vect.fit_transform(x_train)\n",
    "print(x_train_dtm)\n",
    "x_test_dtm=vect.transform(x_test)\n",
    "a_dtm=vect.transform(a)"
   ]
  },
  {
   "cell_type": "code",
   "execution_count": 15,
   "id": "73751b9e",
   "metadata": {},
   "outputs": [],
   "source": [
    "from sklearn.metrics import accuracy_score"
   ]
  },
  {
   "cell_type": "code",
   "execution_count": 17,
   "id": "ef9e8059",
   "metadata": {},
   "outputs": [
    {
     "name": "stdout",
     "output_type": "stream",
     "text": [
      "Features:  93631\n",
      "Accuracy:  0.5902537485582469\n"
     ]
    }
   ],
   "source": [
    "vect=CountVectorizer(ngram_range=(1,2))\n",
    "x_train_dtm=vect.fit_transform(x_train)\n",
    "print('Features: ',x_train_dtm.shape[1])\n",
    "x_test_dtm=vect.transform(x_test)\n",
    "nb=MultinomialNB()\n",
    "nb.fit(x_train_dtm,y_train)\n",
    "y_pred_class1=nb.predict(x_test_dtm)\n",
    "print('Accuracy: ',accuracy_score(y_test,y_pred_class1))"
   ]
  },
  {
   "cell_type": "code",
   "execution_count": 18,
   "id": "604227cd",
   "metadata": {},
   "outputs": [
    {
     "name": "stdout",
     "output_type": "stream",
     "text": [
      "Features:  16176\n",
      "Accuracy:  0.6130334486735871\n"
     ]
    }
   ],
   "source": [
    "vect=CountVectorizer()\n",
    "x_train_dtm=vect.fit_transform(x_train)\n",
    "print('Features: ',x_train_dtm.shape[1])\n",
    "x_test_dtm=vect.transform(x_test)\n",
    "nb=MultinomialNB()\n",
    "nb.fit(x_train_dtm,y_train)\n",
    "y_pred_class2=nb.predict(x_test_dtm)\n",
    "print('Accuracy: ',accuracy_score(y_test,y_pred_class2))"
   ]
  },
  {
   "cell_type": "code",
   "execution_count": 19,
   "id": "42b09349",
   "metadata": {},
   "outputs": [
    {
     "name": "stdout",
     "output_type": "stream",
     "text": [
      "Features:  15890\n",
      "Accuracy:  0.6105664488017429\n"
     ]
    }
   ],
   "source": [
    "vect=CountVectorizer(stop_words='english')\n",
    "x_train_dtm=vect.fit_transform(x_train)\n",
    "print('Features: ',x_train_dtm.shape[1])\n",
    "x_test_dtm=vect.transform(x_test)\n",
    "nb=MultinomialNB()\n",
    "nb.fit(x_train_dtm,y_train)\n",
    "y_pred_class3=nb.predict(x_test_dtm)\n",
    "print('Accuracy: ',accuracy_score(y_test,y_pred_class3))"
   ]
  },
  {
   "cell_type": "code",
   "execution_count": 20,
   "id": "c4d01f22",
   "metadata": {},
   "outputs": [],
   "source": [
    "y_pred4=nb.predict(a_dtm)"
   ]
  },
  {
   "cell_type": "code",
   "execution_count": 21,
   "id": "b0976450",
   "metadata": {},
   "outputs": [
    {
     "data": {
      "text/plain": [
       "array([3, 3, 2, ..., 1, 1, 1], dtype=int64)"
      ]
     },
     "execution_count": 21,
     "metadata": {},
     "output_type": "execute_result"
    }
   ],
   "source": [
    "y_pred4"
   ]
  },
  {
   "cell_type": "code",
   "execution_count": 22,
   "id": "ba5a5d77",
   "metadata": {},
   "outputs": [],
   "source": [
    "df2['Sentiment']=y_pred4"
   ]
  },
  {
   "cell_type": "code",
   "execution_count": 23,
   "id": "0cef9116",
   "metadata": {},
   "outputs": [
    {
     "data": {
      "text/html": [
       "<div>\n",
       "<style scoped>\n",
       "    .dataframe tbody tr th:only-of-type {\n",
       "        vertical-align: middle;\n",
       "    }\n",
       "\n",
       "    .dataframe tbody tr th {\n",
       "        vertical-align: top;\n",
       "    }\n",
       "\n",
       "    .dataframe thead th {\n",
       "        text-align: right;\n",
       "    }\n",
       "</style>\n",
       "<table border=\"1\" class=\"dataframe\">\n",
       "  <thead>\n",
       "    <tr style=\"text-align: right;\">\n",
       "      <th></th>\n",
       "      <th>PhraseId</th>\n",
       "      <th>SentenceId</th>\n",
       "      <th>Phrase</th>\n",
       "      <th>Sentiment</th>\n",
       "    </tr>\n",
       "  </thead>\n",
       "  <tbody>\n",
       "    <tr>\n",
       "      <th>0</th>\n",
       "      <td>156061</td>\n",
       "      <td>8545</td>\n",
       "      <td>an intermittently pleasing but mostly routine ...</td>\n",
       "      <td>3</td>\n",
       "    </tr>\n",
       "    <tr>\n",
       "      <th>1</th>\n",
       "      <td>156062</td>\n",
       "      <td>8545</td>\n",
       "      <td>an intermittently pleasing but mostly routine ...</td>\n",
       "      <td>3</td>\n",
       "    </tr>\n",
       "    <tr>\n",
       "      <th>2</th>\n",
       "      <td>156063</td>\n",
       "      <td>8545</td>\n",
       "      <td>an</td>\n",
       "      <td>2</td>\n",
       "    </tr>\n",
       "    <tr>\n",
       "      <th>3</th>\n",
       "      <td>156064</td>\n",
       "      <td>8545</td>\n",
       "      <td>intermittently pleasing but mostly routine effort</td>\n",
       "      <td>3</td>\n",
       "    </tr>\n",
       "    <tr>\n",
       "      <th>4</th>\n",
       "      <td>156065</td>\n",
       "      <td>8545</td>\n",
       "      <td>intermittently pleasing but mostly routine</td>\n",
       "      <td>3</td>\n",
       "    </tr>\n",
       "    <tr>\n",
       "      <th>...</th>\n",
       "      <td>...</td>\n",
       "      <td>...</td>\n",
       "      <td>...</td>\n",
       "      <td>...</td>\n",
       "    </tr>\n",
       "    <tr>\n",
       "      <th>66287</th>\n",
       "      <td>222348</td>\n",
       "      <td>11855</td>\n",
       "      <td>a longwinded  predictable scenario</td>\n",
       "      <td>1</td>\n",
       "    </tr>\n",
       "    <tr>\n",
       "      <th>66288</th>\n",
       "      <td>222349</td>\n",
       "      <td>11855</td>\n",
       "      <td>a longwinded  predictable scenario</td>\n",
       "      <td>1</td>\n",
       "    </tr>\n",
       "    <tr>\n",
       "      <th>66289</th>\n",
       "      <td>222350</td>\n",
       "      <td>11855</td>\n",
       "      <td>a longwinded</td>\n",
       "      <td>1</td>\n",
       "    </tr>\n",
       "    <tr>\n",
       "      <th>66290</th>\n",
       "      <td>222351</td>\n",
       "      <td>11855</td>\n",
       "      <td>a longwinded</td>\n",
       "      <td>1</td>\n",
       "    </tr>\n",
       "    <tr>\n",
       "      <th>66291</th>\n",
       "      <td>222352</td>\n",
       "      <td>11855</td>\n",
       "      <td>predictable scenario</td>\n",
       "      <td>1</td>\n",
       "    </tr>\n",
       "  </tbody>\n",
       "</table>\n",
       "<p>66292 rows × 4 columns</p>\n",
       "</div>"
      ],
      "text/plain": [
       "       PhraseId  SentenceId  \\\n",
       "0        156061        8545   \n",
       "1        156062        8545   \n",
       "2        156063        8545   \n",
       "3        156064        8545   \n",
       "4        156065        8545   \n",
       "...         ...         ...   \n",
       "66287    222348       11855   \n",
       "66288    222349       11855   \n",
       "66289    222350       11855   \n",
       "66290    222351       11855   \n",
       "66291    222352       11855   \n",
       "\n",
       "                                                  Phrase  Sentiment  \n",
       "0      an intermittently pleasing but mostly routine ...          3  \n",
       "1      an intermittently pleasing but mostly routine ...          3  \n",
       "2                                                     an          2  \n",
       "3      intermittently pleasing but mostly routine effort          3  \n",
       "4             intermittently pleasing but mostly routine          3  \n",
       "...                                                  ...        ...  \n",
       "66287                a longwinded  predictable scenario           1  \n",
       "66288                 a longwinded  predictable scenario          1  \n",
       "66289                                      a longwinded           1  \n",
       "66290                                       a longwinded          1  \n",
       "66291                               predictable scenario          1  \n",
       "\n",
       "[66292 rows x 4 columns]"
      ]
     },
     "execution_count": 23,
     "metadata": {},
     "output_type": "execute_result"
    }
   ],
   "source": [
    "df2"
   ]
  },
  {
   "cell_type": "code",
   "execution_count": 24,
   "id": "4759d80a",
   "metadata": {},
   "outputs": [],
   "source": [
    "df2.drop(['SentenceId','Phrase'],axis=1,inplace=True)"
   ]
  },
  {
   "cell_type": "code",
   "execution_count": 25,
   "id": "c9a89b21",
   "metadata": {},
   "outputs": [],
   "source": [
    "df2.to_csv('sentiment.csv',index=False)"
   ]
  },
  {
   "cell_type": "code",
   "execution_count": null,
   "id": "fcebddb2",
   "metadata": {},
   "outputs": [],
   "source": []
  }
 ],
 "metadata": {
  "kernelspec": {
   "display_name": "Python 3 (ipykernel)",
   "language": "python",
   "name": "python3"
  },
  "language_info": {
   "codemirror_mode": {
    "name": "ipython",
    "version": 3
   },
   "file_extension": ".py",
   "mimetype": "text/x-python",
   "name": "python",
   "nbconvert_exporter": "python",
   "pygments_lexer": "ipython3",
   "version": "3.8.3"
  }
 },
 "nbformat": 4,
 "nbformat_minor": 5
}
