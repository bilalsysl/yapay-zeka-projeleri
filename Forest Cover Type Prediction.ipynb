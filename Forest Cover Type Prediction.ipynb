{
 "cells": [
  {
   "cell_type": "code",
   "execution_count": 1,
   "id": "8d4d661a",
   "metadata": {},
   "outputs": [],
   "source": [
    "import pandas as pd\n",
    "import numpy as np"
   ]
  },
  {
   "cell_type": "code",
   "execution_count": 2,
   "id": "40e0a08a",
   "metadata": {},
   "outputs": [],
   "source": [
    "df1=pd.read_csv('train.csv')\n",
    "df2=pd.read_csv('test.csv')"
   ]
  },
  {
   "cell_type": "code",
   "execution_count": 3,
   "id": "453e1843",
   "metadata": {},
   "outputs": [
    {
     "name": "stdout",
     "output_type": "stream",
     "text": [
      "<class 'pandas.core.frame.DataFrame'>\n",
      "RangeIndex: 15120 entries, 0 to 15119\n",
      "Data columns (total 56 columns):\n",
      " #   Column                              Non-Null Count  Dtype\n",
      "---  ------                              --------------  -----\n",
      " 0   Id                                  15120 non-null  int64\n",
      " 1   Elevation                           15120 non-null  int64\n",
      " 2   Aspect                              15120 non-null  int64\n",
      " 3   Slope                               15120 non-null  int64\n",
      " 4   Horizontal_Distance_To_Hydrology    15120 non-null  int64\n",
      " 5   Vertical_Distance_To_Hydrology      15120 non-null  int64\n",
      " 6   Horizontal_Distance_To_Roadways     15120 non-null  int64\n",
      " 7   Hillshade_9am                       15120 non-null  int64\n",
      " 8   Hillshade_Noon                      15120 non-null  int64\n",
      " 9   Hillshade_3pm                       15120 non-null  int64\n",
      " 10  Horizontal_Distance_To_Fire_Points  15120 non-null  int64\n",
      " 11  Wilderness_Area1                    15120 non-null  int64\n",
      " 12  Wilderness_Area2                    15120 non-null  int64\n",
      " 13  Wilderness_Area3                    15120 non-null  int64\n",
      " 14  Wilderness_Area4                    15120 non-null  int64\n",
      " 15  Soil_Type1                          15120 non-null  int64\n",
      " 16  Soil_Type2                          15120 non-null  int64\n",
      " 17  Soil_Type3                          15120 non-null  int64\n",
      " 18  Soil_Type4                          15120 non-null  int64\n",
      " 19  Soil_Type5                          15120 non-null  int64\n",
      " 20  Soil_Type6                          15120 non-null  int64\n",
      " 21  Soil_Type7                          15120 non-null  int64\n",
      " 22  Soil_Type8                          15120 non-null  int64\n",
      " 23  Soil_Type9                          15120 non-null  int64\n",
      " 24  Soil_Type10                         15120 non-null  int64\n",
      " 25  Soil_Type11                         15120 non-null  int64\n",
      " 26  Soil_Type12                         15120 non-null  int64\n",
      " 27  Soil_Type13                         15120 non-null  int64\n",
      " 28  Soil_Type14                         15120 non-null  int64\n",
      " 29  Soil_Type15                         15120 non-null  int64\n",
      " 30  Soil_Type16                         15120 non-null  int64\n",
      " 31  Soil_Type17                         15120 non-null  int64\n",
      " 32  Soil_Type18                         15120 non-null  int64\n",
      " 33  Soil_Type19                         15120 non-null  int64\n",
      " 34  Soil_Type20                         15120 non-null  int64\n",
      " 35  Soil_Type21                         15120 non-null  int64\n",
      " 36  Soil_Type22                         15120 non-null  int64\n",
      " 37  Soil_Type23                         15120 non-null  int64\n",
      " 38  Soil_Type24                         15120 non-null  int64\n",
      " 39  Soil_Type25                         15120 non-null  int64\n",
      " 40  Soil_Type26                         15120 non-null  int64\n",
      " 41  Soil_Type27                         15120 non-null  int64\n",
      " 42  Soil_Type28                         15120 non-null  int64\n",
      " 43  Soil_Type29                         15120 non-null  int64\n",
      " 44  Soil_Type30                         15120 non-null  int64\n",
      " 45  Soil_Type31                         15120 non-null  int64\n",
      " 46  Soil_Type32                         15120 non-null  int64\n",
      " 47  Soil_Type33                         15120 non-null  int64\n",
      " 48  Soil_Type34                         15120 non-null  int64\n",
      " 49  Soil_Type35                         15120 non-null  int64\n",
      " 50  Soil_Type36                         15120 non-null  int64\n",
      " 51  Soil_Type37                         15120 non-null  int64\n",
      " 52  Soil_Type38                         15120 non-null  int64\n",
      " 53  Soil_Type39                         15120 non-null  int64\n",
      " 54  Soil_Type40                         15120 non-null  int64\n",
      " 55  Cover_Type                          15120 non-null  int64\n",
      "dtypes: int64(56)\n",
      "memory usage: 6.5 MB\n"
     ]
    }
   ],
   "source": [
    "df1.info()"
   ]
  },
  {
   "cell_type": "code",
   "execution_count": 4,
   "id": "21a89af8",
   "metadata": {},
   "outputs": [],
   "source": [
    "df1.drop('Id',axis=1,inplace=True)"
   ]
  },
  {
   "cell_type": "code",
   "execution_count": 5,
   "id": "11f6f908",
   "metadata": {},
   "outputs": [
    {
     "data": {
      "text/plain": [
       "Cover_Type                            1.000000\n",
       "Soil_Type38                           0.257810\n",
       "Soil_Type39                           0.240384\n",
       "Wilderness_Area1                      0.230117\n",
       "Soil_Type29                           0.218564\n",
       "Soil_Type40                           0.205851\n",
       "Soil_Type22                           0.195993\n",
       "Soil_Type23                           0.158762\n",
       "Soil_Type32                           0.132312\n",
       "Soil_Type12                           0.129985\n",
       "Soil_Type10                           0.128972\n",
       "Wilderness_Area3                      0.122146\n",
       "Soil_Type35                           0.114327\n",
       "Horizontal_Distance_To_Roadways       0.105662\n",
       "Soil_Type24                           0.100797\n",
       "Hillshade_Noon                        0.098905\n",
       "Horizontal_Distance_To_Fire_Points    0.089389\n",
       "Slope                                 0.087722\n",
       "Soil_Type31                           0.079882\n",
       "Soil_Type33                           0.078955\n",
       "Wilderness_Area4                      0.075774\n",
       "Vertical_Distance_To_Hydrology        0.075647\n",
       "Soil_Type37                           0.071210\n",
       "Hillshade_3pm                         0.053399\n",
       "Soil_Type20                           0.053013\n",
       "Soil_Type17                           0.042453\n",
       "Soil_Type13                           0.040528\n",
       "Soil_Type19                           0.031824\n",
       "Soil_Type4                            0.027816\n",
       "Soil_Type5                            0.027692\n",
       "Soil_Type9                            0.027012\n",
       "Soil_Type36                           0.025726\n",
       "Soil_Type21                           0.024410\n",
       "Soil_Type27                           0.023109\n",
       "Soil_Type2                            0.022627\n",
       "Soil_Type14                           0.022019\n",
       "Soil_Type26                           0.017184\n",
       "Soil_Type3                            0.016393\n",
       "Elevation                             0.016090\n",
       "Soil_Type1                            0.015069\n",
       "Wilderness_Area2                      0.014994\n",
       "Soil_Type28                           0.012202\n",
       "Horizontal_Distance_To_Hydrology      0.010515\n",
       "Hillshade_9am                         0.010286\n",
       "Soil_Type11                           0.010228\n",
       "Soil_Type16                           0.008793\n",
       "Soil_Type25                           0.008133\n",
       "Soil_Type8                            0.008133\n",
       "Aspect                                0.008015\n",
       "Soil_Type6                            0.006521\n",
       "Soil_Type18                           0.006312\n",
       "Soil_Type34                           0.003470\n",
       "Soil_Type30                           0.001393\n",
       "Soil_Type7                                 NaN\n",
       "Soil_Type15                                NaN\n",
       "Name: Cover_Type, dtype: float64"
      ]
     },
     "execution_count": 5,
     "metadata": {},
     "output_type": "execute_result"
    }
   ],
   "source": [
    "abs(df1.corr()['Cover_Type']).sort_values(ascending=False)"
   ]
  },
  {
   "cell_type": "code",
   "execution_count": 6,
   "id": "db71761e",
   "metadata": {},
   "outputs": [],
   "source": [
    "x=df1[['Soil_Type38','Soil_Type39','Wilderness_Area1','Soil_Type29','Soil_Type40','Soil_Type22','Soil_Type23','Soil_Type32','Soil_Type12','Soil_Type10','Wilderness_Area3','Soil_Type35','Horizontal_Distance_To_Roadways','Soil_Type24']]"
   ]
  },
  {
   "cell_type": "code",
   "execution_count": 7,
   "id": "991b6c90",
   "metadata": {},
   "outputs": [],
   "source": [
    "y=df1['Cover_Type']"
   ]
  },
  {
   "cell_type": "code",
   "execution_count": 8,
   "id": "d517e07d",
   "metadata": {},
   "outputs": [],
   "source": [
    "from sklearn.model_selection import train_test_split\n",
    "from sklearn.ensemble import GradientBoostingClassifier"
   ]
  },
  {
   "cell_type": "code",
   "execution_count": 9,
   "id": "a415d9ba",
   "metadata": {},
   "outputs": [],
   "source": [
    "x_train,x_test,y_train,y_test=train_test_split(x,y,test_size=0.2,random_state=42)"
   ]
  },
  {
   "cell_type": "code",
   "execution_count": 13,
   "id": "65e14358",
   "metadata": {},
   "outputs": [],
   "source": [
    "gbc=GradientBoostingClassifier()\n",
    "gbc.fit(x_train,y_train)\n",
    "y_pred=gbc.predict(x_test)"
   ]
  },
  {
   "cell_type": "code",
   "execution_count": 12,
   "id": "4ae8be8f",
   "metadata": {},
   "outputs": [],
   "source": [
    "from sklearn.metrics import accuracy_score"
   ]
  },
  {
   "cell_type": "code",
   "execution_count": 14,
   "id": "68914cf0",
   "metadata": {},
   "outputs": [
    {
     "data": {
      "text/plain": [
       "0.6051587301587301"
      ]
     },
     "execution_count": 14,
     "metadata": {},
     "output_type": "execute_result"
    }
   ],
   "source": [
    "accuracy_score(y_test,y_pred)"
   ]
  },
  {
   "cell_type": "code",
   "execution_count": 15,
   "id": "e7ff0d6d",
   "metadata": {},
   "outputs": [],
   "source": [
    "a=df2[['Soil_Type38','Soil_Type39','Wilderness_Area1','Soil_Type29','Soil_Type40','Soil_Type22','Soil_Type23','Soil_Type32','Soil_Type12','Soil_Type10','Wilderness_Area3','Soil_Type35','Horizontal_Distance_To_Roadways','Soil_Type24']]"
   ]
  },
  {
   "cell_type": "code",
   "execution_count": 16,
   "id": "063b3ed9",
   "metadata": {},
   "outputs": [],
   "source": [
    "pred2=gbc.predict(a)"
   ]
  },
  {
   "cell_type": "code",
   "execution_count": 17,
   "id": "4444170c",
   "metadata": {},
   "outputs": [],
   "source": [
    "df2['Cover_Type']=pred2"
   ]
  },
  {
   "cell_type": "code",
   "execution_count": 19,
   "id": "f9b853be",
   "metadata": {},
   "outputs": [],
   "source": [
    "df2[['Id','Cover_Type']].to_csv('Forest.csv',index=False)"
   ]
  },
  {
   "cell_type": "code",
   "execution_count": null,
   "id": "6702ce35",
   "metadata": {},
   "outputs": [],
   "source": []
  }
 ],
 "metadata": {
  "kernelspec": {
   "display_name": "Python 3 (ipykernel)",
   "language": "python",
   "name": "python3"
  },
  "language_info": {
   "codemirror_mode": {
    "name": "ipython",
    "version": 3
   },
   "file_extension": ".py",
   "mimetype": "text/x-python",
   "name": "python",
   "nbconvert_exporter": "python",
   "pygments_lexer": "ipython3",
   "version": "3.8.3"
  }
 },
 "nbformat": 4,
 "nbformat_minor": 5
}
