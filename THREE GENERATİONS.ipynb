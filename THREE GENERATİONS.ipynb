{
 "cells": [
  {
   "cell_type": "code",
   "execution_count": 1,
   "id": "de96dfbc",
   "metadata": {},
   "outputs": [],
   "source": [
    "import pandas as pd\n",
    "import numpy as np"
   ]
  },
  {
   "cell_type": "code",
   "execution_count": 2,
   "id": "a8ecc070",
   "metadata": {},
   "outputs": [
    {
     "name": "stderr",
     "output_type": "stream",
     "text": [
      "C:\\Users\\bilal\\AppData\\Local\\Temp\\ipykernel_17316\\713461728.py:1: DtypeWarning: Columns (1,2,3,4,5,6,7,8,9,10,11,12,13,14,15,16,19,20,21,22,23,24,25,26,27,28,29,30) have mixed types. Specify dtype option on import or set low_memory=False.\n",
      "  df=pd.read_csv('profiles.csv')\n"
     ]
    }
   ],
   "source": [
    "df=pd.read_csv('profiles.csv')"
   ]
  },
  {
   "cell_type": "code",
   "execution_count": 3,
   "id": "8e30184b",
   "metadata": {},
   "outputs": [
    {
     "name": "stdout",
     "output_type": "stream",
     "text": [
      "<class 'pandas.core.frame.DataFrame'>\n",
      "RangeIndex: 60552 entries, 0 to 60551\n",
      "Data columns (total 31 columns):\n",
      " #   Column       Non-Null Count  Dtype  \n",
      "---  ------       --------------  -----  \n",
      " 0   age          9514 non-null   float64\n",
      " 1   body_type    8666 non-null   object \n",
      " 2   diet         5761 non-null   object \n",
      " 3   drinks       9012 non-null   object \n",
      " 4   drugs        7215 non-null   object \n",
      " 5   education    8459 non-null   object \n",
      " 6   essay0       8667 non-null   object \n",
      " 7   essay1       8347 non-null   object \n",
      " 8   essay2       8049 non-null   object \n",
      " 9   essay3       7690 non-null   object \n",
      " 10  essay4       7879 non-null   object \n",
      " 11  essay5       7814 non-null   object \n",
      " 12  essay6       7352 non-null   object \n",
      " 13  essay7       7553 non-null   object \n",
      " 14  essay8       6361 non-null   object \n",
      " 15  essay9       7554 non-null   object \n",
      " 16  ethnicity    8565 non-null   object \n",
      " 17  height       9514 non-null   float64\n",
      " 18  income       9514 non-null   float64\n",
      " 19  job          8183 non-null   object \n",
      " 20  last_online  9514 non-null   object \n",
      " 21  location     9514 non-null   object \n",
      " 22  offspring    3886 non-null   object \n",
      " 23  orientation  9514 non-null   object \n",
      " 24  pets         6352 non-null   object \n",
      " 25  religion     6261 non-null   object \n",
      " 26  sex          9514 non-null   object \n",
      " 27  sign         7776 non-null   object \n",
      " 28  smokes       8596 non-null   object \n",
      " 29  speaks       9508 non-null   object \n",
      " 30  status       9514 non-null   object \n",
      "dtypes: float64(3), object(28)\n",
      "memory usage: 14.3+ MB\n"
     ]
    }
   ],
   "source": [
    "df.info()"
   ]
  },
  {
   "cell_type": "code",
   "execution_count": 4,
   "id": "08443949",
   "metadata": {},
   "outputs": [
    {
     "data": {
      "text/plain": [
       "age            51038\n",
       "body_type      51886\n",
       "diet           54791\n",
       "drinks         51540\n",
       "drugs          53337\n",
       "education      52093\n",
       "essay0         51885\n",
       "essay1         52205\n",
       "essay2         52503\n",
       "essay3         52862\n",
       "essay4         52673\n",
       "essay5         52738\n",
       "essay6         53200\n",
       "essay7         52999\n",
       "essay8         54191\n",
       "essay9         52998\n",
       "ethnicity      51987\n",
       "height         51038\n",
       "income         51038\n",
       "job            52369\n",
       "last_online    51038\n",
       "location       51038\n",
       "offspring      56666\n",
       "orientation    51038\n",
       "pets           54200\n",
       "religion       54291\n",
       "sex            51038\n",
       "sign           52776\n",
       "smokes         51956\n",
       "speaks         51044\n",
       "status         51038\n",
       "dtype: int64"
      ]
     },
     "execution_count": 4,
     "metadata": {},
     "output_type": "execute_result"
    }
   ],
   "source": [
    "df.isnull().sum()"
   ]
  },
  {
   "cell_type": "code",
   "execution_count": 5,
   "id": "439d8f2d",
   "metadata": {},
   "outputs": [],
   "source": [
    "df=df.loc[:10000]"
   ]
  },
  {
   "cell_type": "code",
   "execution_count": 6,
   "id": "117ac13c",
   "metadata": {},
   "outputs": [
    {
     "data": {
      "text/html": [
       "<div>\n",
       "<style scoped>\n",
       "    .dataframe tbody tr th:only-of-type {\n",
       "        vertical-align: middle;\n",
       "    }\n",
       "\n",
       "    .dataframe tbody tr th {\n",
       "        vertical-align: top;\n",
       "    }\n",
       "\n",
       "    .dataframe thead th {\n",
       "        text-align: right;\n",
       "    }\n",
       "</style>\n",
       "<table border=\"1\" class=\"dataframe\">\n",
       "  <thead>\n",
       "    <tr style=\"text-align: right;\">\n",
       "      <th></th>\n",
       "      <th>age</th>\n",
       "      <th>body_type</th>\n",
       "      <th>diet</th>\n",
       "      <th>drinks</th>\n",
       "      <th>drugs</th>\n",
       "      <th>education</th>\n",
       "      <th>essay0</th>\n",
       "      <th>essay1</th>\n",
       "      <th>essay2</th>\n",
       "      <th>essay3</th>\n",
       "      <th>...</th>\n",
       "      <th>location</th>\n",
       "      <th>offspring</th>\n",
       "      <th>orientation</th>\n",
       "      <th>pets</th>\n",
       "      <th>religion</th>\n",
       "      <th>sex</th>\n",
       "      <th>sign</th>\n",
       "      <th>smokes</th>\n",
       "      <th>speaks</th>\n",
       "      <th>status</th>\n",
       "    </tr>\n",
       "  </thead>\n",
       "  <tbody>\n",
       "    <tr>\n",
       "      <th>0</th>\n",
       "      <td>22.0</td>\n",
       "      <td>a little extra</td>\n",
       "      <td>strictly anything</td>\n",
       "      <td>socially</td>\n",
       "      <td>never</td>\n",
       "      <td>working on college/university</td>\n",
       "      <td>about me:&lt;br /&gt;\\n&lt;br /&gt;\\ni would love to think...</td>\n",
       "      <td>currently working as an international agent fo...</td>\n",
       "      <td>making people laugh.&lt;br /&gt;\\nranting about a go...</td>\n",
       "      <td>the way i look. i am a six foot half asian, ha...</td>\n",
       "      <td>...</td>\n",
       "      <td>south san francisco, california</td>\n",
       "      <td>doesn&amp;rsquo;t have kids, but might want them</td>\n",
       "      <td>straight</td>\n",
       "      <td>likes dogs and likes cats</td>\n",
       "      <td>agnosticism and very serious about it</td>\n",
       "      <td>m</td>\n",
       "      <td>gemini</td>\n",
       "      <td>sometimes</td>\n",
       "      <td>english</td>\n",
       "      <td>single</td>\n",
       "    </tr>\n",
       "    <tr>\n",
       "      <th>1</th>\n",
       "      <td>35.0</td>\n",
       "      <td>average</td>\n",
       "      <td>mostly other</td>\n",
       "      <td>often</td>\n",
       "      <td>sometimes</td>\n",
       "      <td>working on space camp</td>\n",
       "      <td>i am a chef: this is what that means.&lt;br /&gt;\\n1...</td>\n",
       "      <td>dedicating everyday to being an unbelievable b...</td>\n",
       "      <td>being silly. having ridiculous amonts of fun w...</td>\n",
       "      <td>NaN</td>\n",
       "      <td>...</td>\n",
       "      <td>oakland, california</td>\n",
       "      <td>doesn&amp;rsquo;t have kids, but might want them</td>\n",
       "      <td>straight</td>\n",
       "      <td>likes dogs and likes cats</td>\n",
       "      <td>agnosticism but not too serious about it</td>\n",
       "      <td>m</td>\n",
       "      <td>cancer</td>\n",
       "      <td>no</td>\n",
       "      <td>english (fluently), spanish (poorly), french (...</td>\n",
       "      <td>single</td>\n",
       "    </tr>\n",
       "    <tr>\n",
       "      <th>2</th>\n",
       "      <td>38.0</td>\n",
       "      <td>thin</td>\n",
       "      <td>anything</td>\n",
       "      <td>socially</td>\n",
       "      <td>NaN</td>\n",
       "      <td>graduated from masters program</td>\n",
       "      <td>i'm not ashamed of much, but writing public te...</td>\n",
       "      <td>i make nerdy software for musicians, artists, ...</td>\n",
       "      <td>improvising in different contexts. alternating...</td>\n",
       "      <td>my large jaw and large glasses are the physica...</td>\n",
       "      <td>...</td>\n",
       "      <td>san francisco, california</td>\n",
       "      <td>NaN</td>\n",
       "      <td>straight</td>\n",
       "      <td>has cats</td>\n",
       "      <td>NaN</td>\n",
       "      <td>m</td>\n",
       "      <td>pisces but it doesn&amp;rsquo;t matter</td>\n",
       "      <td>no</td>\n",
       "      <td>english, french, c++</td>\n",
       "      <td>available</td>\n",
       "    </tr>\n",
       "    <tr>\n",
       "      <th>3</th>\n",
       "      <td>23.0</td>\n",
       "      <td>thin</td>\n",
       "      <td>vegetarian</td>\n",
       "      <td>socially</td>\n",
       "      <td>NaN</td>\n",
       "      <td>working on college/university</td>\n",
       "      <td>i work in a library and go to school. . .</td>\n",
       "      <td>reading things written by old dead people</td>\n",
       "      <td>playing synthesizers and organizing books acco...</td>\n",
       "      <td>socially awkward but i do my best</td>\n",
       "      <td>...</td>\n",
       "      <td>berkeley, california</td>\n",
       "      <td>doesn&amp;rsquo;t want kids</td>\n",
       "      <td>straight</td>\n",
       "      <td>likes cats</td>\n",
       "      <td>NaN</td>\n",
       "      <td>m</td>\n",
       "      <td>pisces</td>\n",
       "      <td>no</td>\n",
       "      <td>english, german (poorly)</td>\n",
       "      <td>single</td>\n",
       "    </tr>\n",
       "    <tr>\n",
       "      <th>4</th>\n",
       "      <td>29.0</td>\n",
       "      <td>athletic</td>\n",
       "      <td>NaN</td>\n",
       "      <td>socially</td>\n",
       "      <td>never</td>\n",
       "      <td>graduated from college/university</td>\n",
       "      <td>hey how's it going? currently vague on the pro...</td>\n",
       "      <td>work work work work + play</td>\n",
       "      <td>creating imagery to look at:&lt;br /&gt;\\nhttp://bag...</td>\n",
       "      <td>i smile a lot and my inquisitive nature</td>\n",
       "      <td>...</td>\n",
       "      <td>san francisco, california</td>\n",
       "      <td>NaN</td>\n",
       "      <td>straight</td>\n",
       "      <td>likes dogs and likes cats</td>\n",
       "      <td>NaN</td>\n",
       "      <td>m</td>\n",
       "      <td>aquarius</td>\n",
       "      <td>no</td>\n",
       "      <td>english</td>\n",
       "      <td>single</td>\n",
       "    </tr>\n",
       "    <tr>\n",
       "      <th>...</th>\n",
       "      <td>...</td>\n",
       "      <td>...</td>\n",
       "      <td>...</td>\n",
       "      <td>...</td>\n",
       "      <td>...</td>\n",
       "      <td>...</td>\n",
       "      <td>...</td>\n",
       "      <td>...</td>\n",
       "      <td>...</td>\n",
       "      <td>...</td>\n",
       "      <td>...</td>\n",
       "      <td>...</td>\n",
       "      <td>...</td>\n",
       "      <td>...</td>\n",
       "      <td>...</td>\n",
       "      <td>...</td>\n",
       "      <td>...</td>\n",
       "      <td>...</td>\n",
       "      <td>...</td>\n",
       "      <td>...</td>\n",
       "      <td>...</td>\n",
       "    </tr>\n",
       "    <tr>\n",
       "      <th>9996</th>\n",
       "      <td>NaN</td>\n",
       "      <td>NaN</td>\n",
       "      <td>NaN</td>\n",
       "      <td>NaN</td>\n",
       "      <td>NaN</td>\n",
       "      <td>NaN</td>\n",
       "      <td>NaN</td>\n",
       "      <td>NaN</td>\n",
       "      <td>NaN</td>\n",
       "      <td>NaN</td>\n",
       "      <td>...</td>\n",
       "      <td>NaN</td>\n",
       "      <td>NaN</td>\n",
       "      <td>NaN</td>\n",
       "      <td>NaN</td>\n",
       "      <td>NaN</td>\n",
       "      <td>NaN</td>\n",
       "      <td>NaN</td>\n",
       "      <td>NaN</td>\n",
       "      <td>NaN</td>\n",
       "      <td>NaN</td>\n",
       "    </tr>\n",
       "    <tr>\n",
       "      <th>9997</th>\n",
       "      <td>NaN</td>\n",
       "      <td>NaN</td>\n",
       "      <td>NaN</td>\n",
       "      <td>NaN</td>\n",
       "      <td>NaN</td>\n",
       "      <td>NaN</td>\n",
       "      <td>NaN</td>\n",
       "      <td>NaN</td>\n",
       "      <td>NaN</td>\n",
       "      <td>NaN</td>\n",
       "      <td>...</td>\n",
       "      <td>NaN</td>\n",
       "      <td>NaN</td>\n",
       "      <td>NaN</td>\n",
       "      <td>NaN</td>\n",
       "      <td>NaN</td>\n",
       "      <td>NaN</td>\n",
       "      <td>NaN</td>\n",
       "      <td>NaN</td>\n",
       "      <td>NaN</td>\n",
       "      <td>NaN</td>\n",
       "    </tr>\n",
       "    <tr>\n",
       "      <th>9998</th>\n",
       "      <td>NaN</td>\n",
       "      <td>NaN</td>\n",
       "      <td>NaN</td>\n",
       "      <td>NaN</td>\n",
       "      <td>NaN</td>\n",
       "      <td>NaN</td>\n",
       "      <td>NaN</td>\n",
       "      <td>NaN</td>\n",
       "      <td>NaN</td>\n",
       "      <td>NaN</td>\n",
       "      <td>...</td>\n",
       "      <td>NaN</td>\n",
       "      <td>NaN</td>\n",
       "      <td>NaN</td>\n",
       "      <td>NaN</td>\n",
       "      <td>NaN</td>\n",
       "      <td>NaN</td>\n",
       "      <td>NaN</td>\n",
       "      <td>NaN</td>\n",
       "      <td>NaN</td>\n",
       "      <td>NaN</td>\n",
       "    </tr>\n",
       "    <tr>\n",
       "      <th>9999</th>\n",
       "      <td>NaN</td>\n",
       "      <td>NaN</td>\n",
       "      <td>NaN</td>\n",
       "      <td>NaN</td>\n",
       "      <td>NaN</td>\n",
       "      <td>NaN</td>\n",
       "      <td>NaN</td>\n",
       "      <td>NaN</td>\n",
       "      <td>NaN</td>\n",
       "      <td>NaN</td>\n",
       "      <td>...</td>\n",
       "      <td>NaN</td>\n",
       "      <td>NaN</td>\n",
       "      <td>NaN</td>\n",
       "      <td>NaN</td>\n",
       "      <td>NaN</td>\n",
       "      <td>NaN</td>\n",
       "      <td>NaN</td>\n",
       "      <td>NaN</td>\n",
       "      <td>NaN</td>\n",
       "      <td>NaN</td>\n",
       "    </tr>\n",
       "    <tr>\n",
       "      <th>10000</th>\n",
       "      <td>NaN</td>\n",
       "      <td>NaN</td>\n",
       "      <td>NaN</td>\n",
       "      <td>NaN</td>\n",
       "      <td>NaN</td>\n",
       "      <td>NaN</td>\n",
       "      <td>NaN</td>\n",
       "      <td>NaN</td>\n",
       "      <td>NaN</td>\n",
       "      <td>NaN</td>\n",
       "      <td>...</td>\n",
       "      <td>NaN</td>\n",
       "      <td>NaN</td>\n",
       "      <td>NaN</td>\n",
       "      <td>NaN</td>\n",
       "      <td>NaN</td>\n",
       "      <td>NaN</td>\n",
       "      <td>NaN</td>\n",
       "      <td>NaN</td>\n",
       "      <td>NaN</td>\n",
       "      <td>NaN</td>\n",
       "    </tr>\n",
       "  </tbody>\n",
       "</table>\n",
       "<p>10001 rows × 31 columns</p>\n",
       "</div>"
      ],
      "text/plain": [
       "        age       body_type               diet    drinks      drugs  \\\n",
       "0      22.0  a little extra  strictly anything  socially      never   \n",
       "1      35.0         average       mostly other     often  sometimes   \n",
       "2      38.0            thin           anything  socially        NaN   \n",
       "3      23.0            thin         vegetarian  socially        NaN   \n",
       "4      29.0        athletic                NaN  socially      never   \n",
       "...     ...             ...                ...       ...        ...   \n",
       "9996    NaN             NaN                NaN       NaN        NaN   \n",
       "9997    NaN             NaN                NaN       NaN        NaN   \n",
       "9998    NaN             NaN                NaN       NaN        NaN   \n",
       "9999    NaN             NaN                NaN       NaN        NaN   \n",
       "10000   NaN             NaN                NaN       NaN        NaN   \n",
       "\n",
       "                               education  \\\n",
       "0          working on college/university   \n",
       "1                  working on space camp   \n",
       "2         graduated from masters program   \n",
       "3          working on college/university   \n",
       "4      graduated from college/university   \n",
       "...                                  ...   \n",
       "9996                                 NaN   \n",
       "9997                                 NaN   \n",
       "9998                                 NaN   \n",
       "9999                                 NaN   \n",
       "10000                                NaN   \n",
       "\n",
       "                                                  essay0  \\\n",
       "0      about me:<br />\\n<br />\\ni would love to think...   \n",
       "1      i am a chef: this is what that means.<br />\\n1...   \n",
       "2      i'm not ashamed of much, but writing public te...   \n",
       "3              i work in a library and go to school. . .   \n",
       "4      hey how's it going? currently vague on the pro...   \n",
       "...                                                  ...   \n",
       "9996                                                 NaN   \n",
       "9997                                                 NaN   \n",
       "9998                                                 NaN   \n",
       "9999                                                 NaN   \n",
       "10000                                                NaN   \n",
       "\n",
       "                                                  essay1  \\\n",
       "0      currently working as an international agent fo...   \n",
       "1      dedicating everyday to being an unbelievable b...   \n",
       "2      i make nerdy software for musicians, artists, ...   \n",
       "3              reading things written by old dead people   \n",
       "4                             work work work work + play   \n",
       "...                                                  ...   \n",
       "9996                                                 NaN   \n",
       "9997                                                 NaN   \n",
       "9998                                                 NaN   \n",
       "9999                                                 NaN   \n",
       "10000                                                NaN   \n",
       "\n",
       "                                                  essay2  \\\n",
       "0      making people laugh.<br />\\nranting about a go...   \n",
       "1      being silly. having ridiculous amonts of fun w...   \n",
       "2      improvising in different contexts. alternating...   \n",
       "3      playing synthesizers and organizing books acco...   \n",
       "4      creating imagery to look at:<br />\\nhttp://bag...   \n",
       "...                                                  ...   \n",
       "9996                                                 NaN   \n",
       "9997                                                 NaN   \n",
       "9998                                                 NaN   \n",
       "9999                                                 NaN   \n",
       "10000                                                NaN   \n",
       "\n",
       "                                                  essay3  ...  \\\n",
       "0      the way i look. i am a six foot half asian, ha...  ...   \n",
       "1                                                    NaN  ...   \n",
       "2      my large jaw and large glasses are the physica...  ...   \n",
       "3                      socially awkward but i do my best  ...   \n",
       "4                i smile a lot and my inquisitive nature  ...   \n",
       "...                                                  ...  ...   \n",
       "9996                                                 NaN  ...   \n",
       "9997                                                 NaN  ...   \n",
       "9998                                                 NaN  ...   \n",
       "9999                                                 NaN  ...   \n",
       "10000                                                NaN  ...   \n",
       "\n",
       "                              location  \\\n",
       "0      south san francisco, california   \n",
       "1                  oakland, california   \n",
       "2            san francisco, california   \n",
       "3                 berkeley, california   \n",
       "4            san francisco, california   \n",
       "...                                ...   \n",
       "9996                               NaN   \n",
       "9997                               NaN   \n",
       "9998                               NaN   \n",
       "9999                               NaN   \n",
       "10000                              NaN   \n",
       "\n",
       "                                          offspring orientation  \\\n",
       "0      doesn&rsquo;t have kids, but might want them    straight   \n",
       "1      doesn&rsquo;t have kids, but might want them    straight   \n",
       "2                                               NaN    straight   \n",
       "3                           doesn&rsquo;t want kids    straight   \n",
       "4                                               NaN    straight   \n",
       "...                                             ...         ...   \n",
       "9996                                            NaN         NaN   \n",
       "9997                                            NaN         NaN   \n",
       "9998                                            NaN         NaN   \n",
       "9999                                            NaN         NaN   \n",
       "10000                                           NaN         NaN   \n",
       "\n",
       "                            pets                                  religion  \\\n",
       "0      likes dogs and likes cats     agnosticism and very serious about it   \n",
       "1      likes dogs and likes cats  agnosticism but not too serious about it   \n",
       "2                       has cats                                       NaN   \n",
       "3                     likes cats                                       NaN   \n",
       "4      likes dogs and likes cats                                       NaN   \n",
       "...                          ...                                       ...   \n",
       "9996                         NaN                                       NaN   \n",
       "9997                         NaN                                       NaN   \n",
       "9998                         NaN                                       NaN   \n",
       "9999                         NaN                                       NaN   \n",
       "10000                        NaN                                       NaN   \n",
       "\n",
       "       sex                                sign     smokes  \\\n",
       "0        m                              gemini  sometimes   \n",
       "1        m                              cancer         no   \n",
       "2        m  pisces but it doesn&rsquo;t matter         no   \n",
       "3        m                              pisces         no   \n",
       "4        m                            aquarius         no   \n",
       "...    ...                                 ...        ...   \n",
       "9996   NaN                                 NaN        NaN   \n",
       "9997   NaN                                 NaN        NaN   \n",
       "9998   NaN                                 NaN        NaN   \n",
       "9999   NaN                                 NaN        NaN   \n",
       "10000  NaN                                 NaN        NaN   \n",
       "\n",
       "                                                  speaks     status  \n",
       "0                                                english     single  \n",
       "1      english (fluently), spanish (poorly), french (...     single  \n",
       "2                                   english, french, c++  available  \n",
       "3                               english, german (poorly)     single  \n",
       "4                                                english     single  \n",
       "...                                                  ...        ...  \n",
       "9996                                                 NaN        NaN  \n",
       "9997                                                 NaN        NaN  \n",
       "9998                                                 NaN        NaN  \n",
       "9999                                                 NaN        NaN  \n",
       "10000                                                NaN        NaN  \n",
       "\n",
       "[10001 rows x 31 columns]"
      ]
     },
     "execution_count": 6,
     "metadata": {},
     "output_type": "execute_result"
    }
   ],
   "source": [
    "df"
   ]
  },
  {
   "cell_type": "code",
   "execution_count": 7,
   "id": "2e584f17",
   "metadata": {},
   "outputs": [],
   "source": [
    "df.drop('location',axis=1,inplace=True)"
   ]
  },
  {
   "cell_type": "code",
   "execution_count": 8,
   "id": "f74c4916",
   "metadata": {},
   "outputs": [
    {
     "data": {
      "text/plain": [
       "age             487\n",
       "body_type      1335\n",
       "diet           4240\n",
       "drinks          989\n",
       "drugs          2786\n",
       "education      1542\n",
       "essay0         1334\n",
       "essay1         1654\n",
       "essay2         1952\n",
       "essay3         2311\n",
       "essay4         2122\n",
       "essay5         2187\n",
       "essay6         2649\n",
       "essay7         2448\n",
       "essay8         3640\n",
       "essay9         2447\n",
       "ethnicity      1436\n",
       "height          487\n",
       "income          487\n",
       "job            1818\n",
       "last_online     487\n",
       "offspring      6115\n",
       "orientation     487\n",
       "pets           3649\n",
       "religion       3740\n",
       "sex             487\n",
       "sign           2225\n",
       "smokes         1405\n",
       "speaks          493\n",
       "status          487\n",
       "dtype: int64"
      ]
     },
     "execution_count": 8,
     "metadata": {},
     "output_type": "execute_result"
    }
   ],
   "source": [
    "df.isnull().sum()"
   ]
  },
  {
   "cell_type": "code",
   "execution_count": 9,
   "id": "e29e3eaf",
   "metadata": {},
   "outputs": [],
   "source": [
    "df['age'].fillna(df['age'].median(),inplace=True)\n"
   ]
  },
  {
   "cell_type": "code",
   "execution_count": 10,
   "id": "03d6876d",
   "metadata": {},
   "outputs": [],
   "source": [
    "df['height'].fillna(df['height'].mean(),inplace=True)"
   ]
  },
  {
   "cell_type": "code",
   "execution_count": 11,
   "id": "be9bdb36",
   "metadata": {},
   "outputs": [],
   "source": [
    "df['income'].fillna(df['income'].median(),inplace=True)"
   ]
  },
  {
   "cell_type": "code",
   "execution_count": 12,
   "id": "3766ce7f",
   "metadata": {},
   "outputs": [],
   "source": [
    "\n",
    "df.loc[df['age']<=32,'kuşak']='Milenium'\n",
    "\n",
    "df.loc[df['age']>32 ,'kuşak']='Gen X er'\n",
    "\n",
    "\n",
    "df.loc[df['age']>=47,'kuşak']='Boomers'"
   ]
  },
  {
   "cell_type": "code",
   "execution_count": 13,
   "id": "78ee1b4c",
   "metadata": {},
   "outputs": [
    {
     "data": {
      "text/plain": [
       "Milenium    6534\n",
       "Gen X er    2640\n",
       "Boomers      827\n",
       "Name: kuşak, dtype: int64"
      ]
     },
     "execution_count": 13,
     "metadata": {},
     "output_type": "execute_result"
    }
   ],
   "source": [
    "df['kuşak'].value_counts()"
   ]
  },
  {
   "cell_type": "code",
   "execution_count": 14,
   "id": "74b9d45a",
   "metadata": {},
   "outputs": [],
   "source": [
    "df.fillna('Boş',inplace=True)\n",
    "\n"
   ]
  },
  {
   "cell_type": "code",
   "execution_count": 15,
   "id": "8a0f4b50",
   "metadata": {},
   "outputs": [
    {
     "data": {
      "text/plain": [
       "age            0\n",
       "body_type      0\n",
       "diet           0\n",
       "drinks         0\n",
       "drugs          0\n",
       "education      0\n",
       "essay0         0\n",
       "essay1         0\n",
       "essay2         0\n",
       "essay3         0\n",
       "essay4         0\n",
       "essay5         0\n",
       "essay6         0\n",
       "essay7         0\n",
       "essay8         0\n",
       "essay9         0\n",
       "ethnicity      0\n",
       "height         0\n",
       "income         0\n",
       "job            0\n",
       "last_online    0\n",
       "offspring      0\n",
       "orientation    0\n",
       "pets           0\n",
       "religion       0\n",
       "sex            0\n",
       "sign           0\n",
       "smokes         0\n",
       "speaks         0\n",
       "status         0\n",
       "kuşak          0\n",
       "dtype: int64"
      ]
     },
     "execution_count": 15,
     "metadata": {},
     "output_type": "execute_result"
    }
   ],
   "source": [
    "df.isnull().sum()"
   ]
  },
  {
   "cell_type": "code",
   "execution_count": 16,
   "id": "926ff23b",
   "metadata": {},
   "outputs": [],
   "source": [
    "df1=pd.get_dummies(df)"
   ]
  },
  {
   "cell_type": "code",
   "execution_count": 17,
   "id": "64a87c90",
   "metadata": {},
   "outputs": [],
   "source": [
    "x=df1.drop('age',axis=1)\n",
    "y=df1['age']"
   ]
  },
  {
   "cell_type": "code",
   "execution_count": 18,
   "id": "9d278106",
   "metadata": {},
   "outputs": [],
   "source": [
    "from sklearn.model_selection import train_test_split\n"
   ]
  },
  {
   "cell_type": "code",
   "execution_count": 19,
   "id": "20f9723a",
   "metadata": {},
   "outputs": [],
   "source": [
    "from sklearn.linear_model import LinearRegression\n",
    "from sklearn.metrics import mean_squared_error, r2_score  \n",
    "from sklearn.linear_model import Ridge,Lasso\n",
    "from sklearn.ensemble import GradientBoostingRegressor"
   ]
  },
  {
   "cell_type": "code",
   "execution_count": 20,
   "id": "de6e0f59",
   "metadata": {},
   "outputs": [],
   "source": [
    "x_train, x_test, y_train, y_test = train_test_split(x, y, test_size = 0.2,random_state=42)"
   ]
  },
  {
   "cell_type": "code",
   "execution_count": 21,
   "id": "0d1a6c78",
   "metadata": {},
   "outputs": [
    {
     "data": {
      "text/plain": [
       "array([23.17288001, 26.08452797, 37.92651215, ..., 27.311246  ,\n",
       "       25.67351598, 23.64160257])"
      ]
     },
     "execution_count": 21,
     "metadata": {},
     "output_type": "execute_result"
    }
   ],
   "source": [
    "lr=LinearRegression()\n",
    "regmodel=lr.fit(x_train,y_train)  \n",
    "\n",
    "y_pretest=regmodel.predict(x_test)      \n",
    "y_pretest"
   ]
  },
  {
   "cell_type": "code",
   "execution_count": 22,
   "id": "078544f4",
   "metadata": {},
   "outputs": [
    {
     "data": {
      "text/plain": [
       "3.5762434253513415"
      ]
     },
     "execution_count": 22,
     "metadata": {},
     "output_type": "execute_result"
    }
   ],
   "source": [
    "(mean_squared_error(y_test,y_pretest))**0.5\n"
   ]
  },
  {
   "cell_type": "code",
   "execution_count": 23,
   "id": "fff95a10",
   "metadata": {},
   "outputs": [
    {
     "data": {
      "text/plain": [
       "0.8387865873637428"
      ]
     },
     "execution_count": 23,
     "metadata": {},
     "output_type": "execute_result"
    }
   ],
   "source": [
    "r2_score(y_test,y_pretest)"
   ]
  },
  {
   "cell_type": "code",
   "execution_count": 24,
   "id": "b8649b11",
   "metadata": {},
   "outputs": [],
   "source": [
    "R=Ridge()\n",
    "R.fit(x_train,y_train)\n",
    "y_pred_ridge=R.predict(x_test)"
   ]
  },
  {
   "cell_type": "code",
   "execution_count": 25,
   "id": "fb62cacc",
   "metadata": {},
   "outputs": [
    {
     "data": {
      "text/plain": [
       "3.5035735665873085"
      ]
     },
     "execution_count": 25,
     "metadata": {},
     "output_type": "execute_result"
    }
   ],
   "source": [
    "(mean_squared_error(y_test,y_pred_ridge))**0.5"
   ]
  },
  {
   "cell_type": "code",
   "execution_count": 26,
   "id": "3736abbe",
   "metadata": {},
   "outputs": [
    {
     "data": {
      "text/plain": [
       "0.8452717873691272"
      ]
     },
     "execution_count": 26,
     "metadata": {},
     "output_type": "execute_result"
    }
   ],
   "source": [
    "r2_score(y_test,y_pred_ridge)"
   ]
  },
  {
   "cell_type": "code",
   "execution_count": 27,
   "id": "12bd05f2",
   "metadata": {},
   "outputs": [],
   "source": [
    "L=Lasso()\n",
    "L.fit(x_train,y_train)\n",
    "y_pred_lasso=L.predict(x_test)"
   ]
  },
  {
   "cell_type": "code",
   "execution_count": 28,
   "id": "2eb68201",
   "metadata": {},
   "outputs": [
    {
     "data": {
      "text/plain": [
       "5.087699281619761"
      ]
     },
     "execution_count": 28,
     "metadata": {},
     "output_type": "execute_result"
    }
   ],
   "source": [
    "(mean_squared_error(y_test,y_pred_lasso))**0.5"
   ]
  },
  {
   "cell_type": "code",
   "execution_count": 29,
   "id": "5ef9cb99",
   "metadata": {},
   "outputs": [
    {
     "data": {
      "text/plain": [
       "0.6737204206174849"
      ]
     },
     "execution_count": 29,
     "metadata": {},
     "output_type": "execute_result"
    }
   ],
   "source": [
    "r2_score(y_test,y_pred_lasso)"
   ]
  },
  {
   "cell_type": "code",
   "execution_count": 30,
   "id": "e8c3573a",
   "metadata": {},
   "outputs": [],
   "source": [
    "gbr=GradientBoostingRegressor()\n",
    "öğren=gbr.fit(x_train,y_train)\n",
    "tahmin=öğren.predict(x_test)"
   ]
  },
  {
   "cell_type": "code",
   "execution_count": 31,
   "id": "21c10895",
   "metadata": {},
   "outputs": [
    {
     "data": {
      "text/plain": [
       "3.383841256582169"
      ]
     },
     "execution_count": 31,
     "metadata": {},
     "output_type": "execute_result"
    }
   ],
   "source": [
    "(mean_squared_error(y_test,tahmin))**0.5"
   ]
  },
  {
   "cell_type": "code",
   "execution_count": 32,
   "id": "fd68a6c1",
   "metadata": {},
   "outputs": [
    {
     "data": {
      "text/plain": [
       "0.85566655125836"
      ]
     },
     "execution_count": 32,
     "metadata": {},
     "output_type": "execute_result"
    }
   ],
   "source": [
    "r2_score(y_test,tahmin)"
   ]
  },
  {
   "cell_type": "markdown",
   "id": "385e4659",
   "metadata": {},
   "source": [
    "## KUŞAK TAHMİN"
   ]
  },
  {
   "cell_type": "code",
   "execution_count": 33,
   "id": "153a6794",
   "metadata": {},
   "outputs": [],
   "source": [
    "from sklearn.metrics import accuracy_score,precision_score,recall_score,f1_score\n",
    "from sklearn.ensemble import GradientBoostingClassifier\n",
    "from sklearn.ensemble import RandomForestClassifier\n",
    "from sklearn.tree import DecisionTreeClassifier"
   ]
  },
  {
   "cell_type": "code",
   "execution_count": 34,
   "id": "5d3a7f5d",
   "metadata": {},
   "outputs": [],
   "source": [
    "d=DecisionTreeClassifier()\n",
    "gbc=GradientBoostingClassifier()\n",
    "r=RandomForestClassifier()"
   ]
  },
  {
   "cell_type": "code",
   "execution_count": 35,
   "id": "90328281",
   "metadata": {},
   "outputs": [],
   "source": [
    "df['kuşak']=df['kuşak'].str.replace('Milenium','0')\n",
    "df['kuşak']=df['kuşak'].str.replace('Gen X er','1')\n",
    "df['kuşak']=df['kuşak'].str.replace('Boomers','2')"
   ]
  },
  {
   "cell_type": "code",
   "execution_count": 36,
   "id": "7be93798",
   "metadata": {},
   "outputs": [],
   "source": [
    "df['kuşak']=df['kuşak'].astype(int)"
   ]
  },
  {
   "cell_type": "code",
   "execution_count": 37,
   "id": "20ec1010",
   "metadata": {
    "scrolled": true
   },
   "outputs": [
    {
     "name": "stdout",
     "output_type": "stream",
     "text": [
      "<class 'pandas.core.frame.DataFrame'>\n",
      "RangeIndex: 10001 entries, 0 to 10000\n",
      "Data columns (total 31 columns):\n",
      " #   Column       Non-Null Count  Dtype  \n",
      "---  ------       --------------  -----  \n",
      " 0   age          10001 non-null  float64\n",
      " 1   body_type    10001 non-null  object \n",
      " 2   diet         10001 non-null  object \n",
      " 3   drinks       10001 non-null  object \n",
      " 4   drugs        10001 non-null  object \n",
      " 5   education    10001 non-null  object \n",
      " 6   essay0       10001 non-null  object \n",
      " 7   essay1       10001 non-null  object \n",
      " 8   essay2       10001 non-null  object \n",
      " 9   essay3       10001 non-null  object \n",
      " 10  essay4       10001 non-null  object \n",
      " 11  essay5       10001 non-null  object \n",
      " 12  essay6       10001 non-null  object \n",
      " 13  essay7       10001 non-null  object \n",
      " 14  essay8       10001 non-null  object \n",
      " 15  essay9       10001 non-null  object \n",
      " 16  ethnicity    10001 non-null  object \n",
      " 17  height       10001 non-null  float64\n",
      " 18  income       10001 non-null  float64\n",
      " 19  job          10001 non-null  object \n",
      " 20  last_online  10001 non-null  object \n",
      " 21  offspring    10001 non-null  object \n",
      " 22  orientation  10001 non-null  object \n",
      " 23  pets         10001 non-null  object \n",
      " 24  religion     10001 non-null  object \n",
      " 25  sex          10001 non-null  object \n",
      " 26  sign         10001 non-null  object \n",
      " 27  smokes       10001 non-null  object \n",
      " 28  speaks       10001 non-null  object \n",
      " 29  status       10001 non-null  object \n",
      " 30  kuşak        10001 non-null  int32  \n",
      "dtypes: float64(3), int32(1), object(27)\n",
      "memory usage: 2.3+ MB\n"
     ]
    }
   ],
   "source": [
    "df.info()"
   ]
  },
  {
   "cell_type": "code",
   "execution_count": 38,
   "id": "1b688708",
   "metadata": {},
   "outputs": [],
   "source": [
    "df3=pd.get_dummies(df)"
   ]
  },
  {
   "cell_type": "code",
   "execution_count": 39,
   "id": "ceb0f1c5",
   "metadata": {},
   "outputs": [
    {
     "data": {
      "text/html": [
       "<div>\n",
       "<style scoped>\n",
       "    .dataframe tbody tr th:only-of-type {\n",
       "        vertical-align: middle;\n",
       "    }\n",
       "\n",
       "    .dataframe tbody tr th {\n",
       "        vertical-align: top;\n",
       "    }\n",
       "\n",
       "    .dataframe thead th {\n",
       "        text-align: right;\n",
       "    }\n",
       "</style>\n",
       "<table border=\"1\" class=\"dataframe\">\n",
       "  <thead>\n",
       "    <tr style=\"text-align: right;\">\n",
       "      <th></th>\n",
       "      <th>age</th>\n",
       "      <th>height</th>\n",
       "      <th>income</th>\n",
       "      <th>kuşak</th>\n",
       "      <th>body_type_Boş</th>\n",
       "      <th>body_type_a little extra</th>\n",
       "      <th>body_type_athletic</th>\n",
       "      <th>body_type_average</th>\n",
       "      <th>body_type_curvy</th>\n",
       "      <th>body_type_fit</th>\n",
       "      <th>...</th>\n",
       "      <th>speaks_english, vietnamese (okay)</th>\n",
       "      <th>speaks_english, vietnamese (okay), spanish (okay)</th>\n",
       "      <th>speaks_english, vietnamese (poorly)</th>\n",
       "      <th>speaks_english, vietnamese, spanish</th>\n",
       "      <th>speaks_english, yiddish (poorly)</th>\n",
       "      <th>status_Boş</th>\n",
       "      <th>status_available</th>\n",
       "      <th>status_married</th>\n",
       "      <th>status_seeing someone</th>\n",
       "      <th>status_single</th>\n",
       "    </tr>\n",
       "  </thead>\n",
       "  <tbody>\n",
       "    <tr>\n",
       "      <th>0</th>\n",
       "      <td>22.0</td>\n",
       "      <td>75.000000</td>\n",
       "      <td>-1.0</td>\n",
       "      <td>0</td>\n",
       "      <td>0</td>\n",
       "      <td>1</td>\n",
       "      <td>0</td>\n",
       "      <td>0</td>\n",
       "      <td>0</td>\n",
       "      <td>0</td>\n",
       "      <td>...</td>\n",
       "      <td>0</td>\n",
       "      <td>0</td>\n",
       "      <td>0</td>\n",
       "      <td>0</td>\n",
       "      <td>0</td>\n",
       "      <td>0</td>\n",
       "      <td>0</td>\n",
       "      <td>0</td>\n",
       "      <td>0</td>\n",
       "      <td>1</td>\n",
       "    </tr>\n",
       "    <tr>\n",
       "      <th>1</th>\n",
       "      <td>35.0</td>\n",
       "      <td>70.000000</td>\n",
       "      <td>80000.0</td>\n",
       "      <td>1</td>\n",
       "      <td>0</td>\n",
       "      <td>0</td>\n",
       "      <td>0</td>\n",
       "      <td>1</td>\n",
       "      <td>0</td>\n",
       "      <td>0</td>\n",
       "      <td>...</td>\n",
       "      <td>0</td>\n",
       "      <td>0</td>\n",
       "      <td>0</td>\n",
       "      <td>0</td>\n",
       "      <td>0</td>\n",
       "      <td>0</td>\n",
       "      <td>0</td>\n",
       "      <td>0</td>\n",
       "      <td>0</td>\n",
       "      <td>1</td>\n",
       "    </tr>\n",
       "    <tr>\n",
       "      <th>2</th>\n",
       "      <td>38.0</td>\n",
       "      <td>68.000000</td>\n",
       "      <td>-1.0</td>\n",
       "      <td>1</td>\n",
       "      <td>0</td>\n",
       "      <td>0</td>\n",
       "      <td>0</td>\n",
       "      <td>0</td>\n",
       "      <td>0</td>\n",
       "      <td>0</td>\n",
       "      <td>...</td>\n",
       "      <td>0</td>\n",
       "      <td>0</td>\n",
       "      <td>0</td>\n",
       "      <td>0</td>\n",
       "      <td>0</td>\n",
       "      <td>0</td>\n",
       "      <td>1</td>\n",
       "      <td>0</td>\n",
       "      <td>0</td>\n",
       "      <td>0</td>\n",
       "    </tr>\n",
       "    <tr>\n",
       "      <th>3</th>\n",
       "      <td>23.0</td>\n",
       "      <td>71.000000</td>\n",
       "      <td>20000.0</td>\n",
       "      <td>0</td>\n",
       "      <td>0</td>\n",
       "      <td>0</td>\n",
       "      <td>0</td>\n",
       "      <td>0</td>\n",
       "      <td>0</td>\n",
       "      <td>0</td>\n",
       "      <td>...</td>\n",
       "      <td>0</td>\n",
       "      <td>0</td>\n",
       "      <td>0</td>\n",
       "      <td>0</td>\n",
       "      <td>0</td>\n",
       "      <td>0</td>\n",
       "      <td>0</td>\n",
       "      <td>0</td>\n",
       "      <td>0</td>\n",
       "      <td>1</td>\n",
       "    </tr>\n",
       "    <tr>\n",
       "      <th>4</th>\n",
       "      <td>29.0</td>\n",
       "      <td>66.000000</td>\n",
       "      <td>-1.0</td>\n",
       "      <td>0</td>\n",
       "      <td>0</td>\n",
       "      <td>0</td>\n",
       "      <td>1</td>\n",
       "      <td>0</td>\n",
       "      <td>0</td>\n",
       "      <td>0</td>\n",
       "      <td>...</td>\n",
       "      <td>0</td>\n",
       "      <td>0</td>\n",
       "      <td>0</td>\n",
       "      <td>0</td>\n",
       "      <td>0</td>\n",
       "      <td>0</td>\n",
       "      <td>0</td>\n",
       "      <td>0</td>\n",
       "      <td>0</td>\n",
       "      <td>1</td>\n",
       "    </tr>\n",
       "    <tr>\n",
       "      <th>...</th>\n",
       "      <td>...</td>\n",
       "      <td>...</td>\n",
       "      <td>...</td>\n",
       "      <td>...</td>\n",
       "      <td>...</td>\n",
       "      <td>...</td>\n",
       "      <td>...</td>\n",
       "      <td>...</td>\n",
       "      <td>...</td>\n",
       "      <td>...</td>\n",
       "      <td>...</td>\n",
       "      <td>...</td>\n",
       "      <td>...</td>\n",
       "      <td>...</td>\n",
       "      <td>...</td>\n",
       "      <td>...</td>\n",
       "      <td>...</td>\n",
       "      <td>...</td>\n",
       "      <td>...</td>\n",
       "      <td>...</td>\n",
       "      <td>...</td>\n",
       "    </tr>\n",
       "    <tr>\n",
       "      <th>9996</th>\n",
       "      <td>30.0</td>\n",
       "      <td>68.337398</td>\n",
       "      <td>-1.0</td>\n",
       "      <td>0</td>\n",
       "      <td>1</td>\n",
       "      <td>0</td>\n",
       "      <td>0</td>\n",
       "      <td>0</td>\n",
       "      <td>0</td>\n",
       "      <td>0</td>\n",
       "      <td>...</td>\n",
       "      <td>0</td>\n",
       "      <td>0</td>\n",
       "      <td>0</td>\n",
       "      <td>0</td>\n",
       "      <td>0</td>\n",
       "      <td>1</td>\n",
       "      <td>0</td>\n",
       "      <td>0</td>\n",
       "      <td>0</td>\n",
       "      <td>0</td>\n",
       "    </tr>\n",
       "    <tr>\n",
       "      <th>9997</th>\n",
       "      <td>30.0</td>\n",
       "      <td>68.337398</td>\n",
       "      <td>-1.0</td>\n",
       "      <td>0</td>\n",
       "      <td>1</td>\n",
       "      <td>0</td>\n",
       "      <td>0</td>\n",
       "      <td>0</td>\n",
       "      <td>0</td>\n",
       "      <td>0</td>\n",
       "      <td>...</td>\n",
       "      <td>0</td>\n",
       "      <td>0</td>\n",
       "      <td>0</td>\n",
       "      <td>0</td>\n",
       "      <td>0</td>\n",
       "      <td>1</td>\n",
       "      <td>0</td>\n",
       "      <td>0</td>\n",
       "      <td>0</td>\n",
       "      <td>0</td>\n",
       "    </tr>\n",
       "    <tr>\n",
       "      <th>9998</th>\n",
       "      <td>30.0</td>\n",
       "      <td>68.337398</td>\n",
       "      <td>-1.0</td>\n",
       "      <td>0</td>\n",
       "      <td>1</td>\n",
       "      <td>0</td>\n",
       "      <td>0</td>\n",
       "      <td>0</td>\n",
       "      <td>0</td>\n",
       "      <td>0</td>\n",
       "      <td>...</td>\n",
       "      <td>0</td>\n",
       "      <td>0</td>\n",
       "      <td>0</td>\n",
       "      <td>0</td>\n",
       "      <td>0</td>\n",
       "      <td>1</td>\n",
       "      <td>0</td>\n",
       "      <td>0</td>\n",
       "      <td>0</td>\n",
       "      <td>0</td>\n",
       "    </tr>\n",
       "    <tr>\n",
       "      <th>9999</th>\n",
       "      <td>30.0</td>\n",
       "      <td>68.337398</td>\n",
       "      <td>-1.0</td>\n",
       "      <td>0</td>\n",
       "      <td>1</td>\n",
       "      <td>0</td>\n",
       "      <td>0</td>\n",
       "      <td>0</td>\n",
       "      <td>0</td>\n",
       "      <td>0</td>\n",
       "      <td>...</td>\n",
       "      <td>0</td>\n",
       "      <td>0</td>\n",
       "      <td>0</td>\n",
       "      <td>0</td>\n",
       "      <td>0</td>\n",
       "      <td>1</td>\n",
       "      <td>0</td>\n",
       "      <td>0</td>\n",
       "      <td>0</td>\n",
       "      <td>0</td>\n",
       "    </tr>\n",
       "    <tr>\n",
       "      <th>10000</th>\n",
       "      <td>30.0</td>\n",
       "      <td>68.337398</td>\n",
       "      <td>-1.0</td>\n",
       "      <td>0</td>\n",
       "      <td>1</td>\n",
       "      <td>0</td>\n",
       "      <td>0</td>\n",
       "      <td>0</td>\n",
       "      <td>0</td>\n",
       "      <td>0</td>\n",
       "      <td>...</td>\n",
       "      <td>0</td>\n",
       "      <td>0</td>\n",
       "      <td>0</td>\n",
       "      <td>0</td>\n",
       "      <td>0</td>\n",
       "      <td>1</td>\n",
       "      <td>0</td>\n",
       "      <td>0</td>\n",
       "      <td>0</td>\n",
       "      <td>0</td>\n",
       "    </tr>\n",
       "  </tbody>\n",
       "</table>\n",
       "<p>10001 rows × 84778 columns</p>\n",
       "</div>"
      ],
      "text/plain": [
       "        age     height   income  kuşak  body_type_Boş  \\\n",
       "0      22.0  75.000000     -1.0      0              0   \n",
       "1      35.0  70.000000  80000.0      1              0   \n",
       "2      38.0  68.000000     -1.0      1              0   \n",
       "3      23.0  71.000000  20000.0      0              0   \n",
       "4      29.0  66.000000     -1.0      0              0   \n",
       "...     ...        ...      ...    ...            ...   \n",
       "9996   30.0  68.337398     -1.0      0              1   \n",
       "9997   30.0  68.337398     -1.0      0              1   \n",
       "9998   30.0  68.337398     -1.0      0              1   \n",
       "9999   30.0  68.337398     -1.0      0              1   \n",
       "10000  30.0  68.337398     -1.0      0              1   \n",
       "\n",
       "       body_type_a little extra  body_type_athletic  body_type_average  \\\n",
       "0                             1                   0                  0   \n",
       "1                             0                   0                  1   \n",
       "2                             0                   0                  0   \n",
       "3                             0                   0                  0   \n",
       "4                             0                   1                  0   \n",
       "...                         ...                 ...                ...   \n",
       "9996                          0                   0                  0   \n",
       "9997                          0                   0                  0   \n",
       "9998                          0                   0                  0   \n",
       "9999                          0                   0                  0   \n",
       "10000                         0                   0                  0   \n",
       "\n",
       "       body_type_curvy  body_type_fit  ...  speaks_english, vietnamese (okay)  \\\n",
       "0                    0              0  ...                                  0   \n",
       "1                    0              0  ...                                  0   \n",
       "2                    0              0  ...                                  0   \n",
       "3                    0              0  ...                                  0   \n",
       "4                    0              0  ...                                  0   \n",
       "...                ...            ...  ...                                ...   \n",
       "9996                 0              0  ...                                  0   \n",
       "9997                 0              0  ...                                  0   \n",
       "9998                 0              0  ...                                  0   \n",
       "9999                 0              0  ...                                  0   \n",
       "10000                0              0  ...                                  0   \n",
       "\n",
       "       speaks_english, vietnamese (okay), spanish (okay)  \\\n",
       "0                                                      0   \n",
       "1                                                      0   \n",
       "2                                                      0   \n",
       "3                                                      0   \n",
       "4                                                      0   \n",
       "...                                                  ...   \n",
       "9996                                                   0   \n",
       "9997                                                   0   \n",
       "9998                                                   0   \n",
       "9999                                                   0   \n",
       "10000                                                  0   \n",
       "\n",
       "       speaks_english, vietnamese (poorly)  \\\n",
       "0                                        0   \n",
       "1                                        0   \n",
       "2                                        0   \n",
       "3                                        0   \n",
       "4                                        0   \n",
       "...                                    ...   \n",
       "9996                                     0   \n",
       "9997                                     0   \n",
       "9998                                     0   \n",
       "9999                                     0   \n",
       "10000                                    0   \n",
       "\n",
       "       speaks_english, vietnamese, spanish  speaks_english, yiddish (poorly)  \\\n",
       "0                                        0                                 0   \n",
       "1                                        0                                 0   \n",
       "2                                        0                                 0   \n",
       "3                                        0                                 0   \n",
       "4                                        0                                 0   \n",
       "...                                    ...                               ...   \n",
       "9996                                     0                                 0   \n",
       "9997                                     0                                 0   \n",
       "9998                                     0                                 0   \n",
       "9999                                     0                                 0   \n",
       "10000                                    0                                 0   \n",
       "\n",
       "       status_Boş  status_available  status_married  status_seeing someone  \\\n",
       "0               0                 0               0                      0   \n",
       "1               0                 0               0                      0   \n",
       "2               0                 1               0                      0   \n",
       "3               0                 0               0                      0   \n",
       "4               0                 0               0                      0   \n",
       "...           ...               ...             ...                    ...   \n",
       "9996            1                 0               0                      0   \n",
       "9997            1                 0               0                      0   \n",
       "9998            1                 0               0                      0   \n",
       "9999            1                 0               0                      0   \n",
       "10000           1                 0               0                      0   \n",
       "\n",
       "       status_single  \n",
       "0                  1  \n",
       "1                  1  \n",
       "2                  0  \n",
       "3                  1  \n",
       "4                  1  \n",
       "...              ...  \n",
       "9996               0  \n",
       "9997               0  \n",
       "9998               0  \n",
       "9999               0  \n",
       "10000              0  \n",
       "\n",
       "[10001 rows x 84778 columns]"
      ]
     },
     "execution_count": 39,
     "metadata": {},
     "output_type": "execute_result"
    }
   ],
   "source": [
    "df3"
   ]
  },
  {
   "cell_type": "code",
   "execution_count": 40,
   "id": "2b539318",
   "metadata": {},
   "outputs": [],
   "source": [
    "x=df3.drop('kuşak',axis=1)\n",
    "y=df3['kuşak']"
   ]
  },
  {
   "cell_type": "code",
   "execution_count": 41,
   "id": "f422927a",
   "metadata": {},
   "outputs": [],
   "source": [
    "x_train, x_test, y_train, y_test = train_test_split(x, y, test_size = 0.2,random_state=42)"
   ]
  },
  {
   "cell_type": "code",
   "execution_count": 42,
   "id": "770dcf44",
   "metadata": {},
   "outputs": [],
   "source": [
    "d.fit(x_train,y_train)\n",
    "pred1=d.predict(x_test)"
   ]
  },
  {
   "cell_type": "code",
   "execution_count": 43,
   "id": "45eb8df3",
   "metadata": {},
   "outputs": [
    {
     "data": {
      "text/plain": [
       "1.0"
      ]
     },
     "execution_count": 43,
     "metadata": {},
     "output_type": "execute_result"
    }
   ],
   "source": [
    "(accuracy_score(y_test,pred1))"
   ]
  },
  {
   "cell_type": "code",
   "execution_count": 44,
   "id": "009b3612",
   "metadata": {},
   "outputs": [
    {
     "data": {
      "text/plain": [
       "1.0"
      ]
     },
     "execution_count": 44,
     "metadata": {},
     "output_type": "execute_result"
    }
   ],
   "source": [
    "(recall_score(y_test,pred1,average='micro'))"
   ]
  },
  {
   "cell_type": "code",
   "execution_count": 45,
   "id": "56701c7c",
   "metadata": {},
   "outputs": [
    {
     "data": {
      "text/plain": [
       "1.0"
      ]
     },
     "execution_count": 45,
     "metadata": {},
     "output_type": "execute_result"
    }
   ],
   "source": [
    "(f1_score(y_test,pred1,average='micro'))"
   ]
  },
  {
   "cell_type": "code",
   "execution_count": 46,
   "id": "b6f0b40b",
   "metadata": {},
   "outputs": [
    {
     "data": {
      "text/plain": [
       "1.0"
      ]
     },
     "execution_count": 46,
     "metadata": {},
     "output_type": "execute_result"
    }
   ],
   "source": [
    "precision_score(y_test,pred1,average='micro')"
   ]
  },
  {
   "cell_type": "code",
   "execution_count": 47,
   "id": "83d31390",
   "metadata": {},
   "outputs": [],
   "source": [
    "gbc.fit(x_train,y_train)\n",
    "pred2=gbc.predict(x_test)"
   ]
  },
  {
   "cell_type": "code",
   "execution_count": 51,
   "id": "7889adbf",
   "metadata": {},
   "outputs": [
    {
     "data": {
      "text/plain": [
       "1.0"
      ]
     },
     "execution_count": 51,
     "metadata": {},
     "output_type": "execute_result"
    }
   ],
   "source": [
    "(accuracy_score(y_test,pred2))"
   ]
  },
  {
   "cell_type": "code",
   "execution_count": 52,
   "id": "c588a245",
   "metadata": {},
   "outputs": [
    {
     "data": {
      "text/plain": [
       "1.0"
      ]
     },
     "execution_count": 52,
     "metadata": {},
     "output_type": "execute_result"
    }
   ],
   "source": [
    "(recall_score(y_test,pred2,average='micro'))"
   ]
  },
  {
   "cell_type": "code",
   "execution_count": 53,
   "id": "cf363b10",
   "metadata": {},
   "outputs": [
    {
     "data": {
      "text/plain": [
       "1.0"
      ]
     },
     "execution_count": 53,
     "metadata": {},
     "output_type": "execute_result"
    }
   ],
   "source": [
    "(f1_score(y_test,pred2,average='micro'))"
   ]
  },
  {
   "cell_type": "code",
   "execution_count": 54,
   "id": "789b4c30",
   "metadata": {},
   "outputs": [
    {
     "data": {
      "text/plain": [
       "1.0"
      ]
     },
     "execution_count": 54,
     "metadata": {},
     "output_type": "execute_result"
    }
   ],
   "source": [
    "precision_score(y_test,pred2,average='micro')"
   ]
  },
  {
   "cell_type": "code",
   "execution_count": 49,
   "id": "3e334bfa",
   "metadata": {},
   "outputs": [],
   "source": [
    "r.fit(x_train,y_train)\n",
    "pred3=r.predict(x_test)"
   ]
  },
  {
   "cell_type": "code",
   "execution_count": 55,
   "id": "6dfd076c",
   "metadata": {},
   "outputs": [
    {
     "data": {
      "text/plain": [
       "0.8420789605197402"
      ]
     },
     "execution_count": 55,
     "metadata": {},
     "output_type": "execute_result"
    }
   ],
   "source": [
    "(accuracy_score(y_test,pred3))"
   ]
  },
  {
   "cell_type": "code",
   "execution_count": 56,
   "id": "aee7628f",
   "metadata": {},
   "outputs": [
    {
     "data": {
      "text/plain": [
       "0.8420789605197402"
      ]
     },
     "execution_count": 56,
     "metadata": {},
     "output_type": "execute_result"
    }
   ],
   "source": [
    "(recall_score(y_test,pred3,average='micro'))"
   ]
  },
  {
   "cell_type": "code",
   "execution_count": 57,
   "id": "5b72a45f",
   "metadata": {},
   "outputs": [
    {
     "data": {
      "text/plain": [
       "0.8420789605197402"
      ]
     },
     "execution_count": 57,
     "metadata": {},
     "output_type": "execute_result"
    }
   ],
   "source": [
    "(f1_score(y_test,pred3,average='micro'))"
   ]
  },
  {
   "cell_type": "code",
   "execution_count": 58,
   "id": "03febda9",
   "metadata": {},
   "outputs": [
    {
     "data": {
      "text/plain": [
       "0.8420789605197402"
      ]
     },
     "execution_count": 58,
     "metadata": {},
     "output_type": "execute_result"
    }
   ],
   "source": [
    "precision_score(y_test,pred3,average='micro')"
   ]
  },
  {
   "cell_type": "code",
   "execution_count": null,
   "id": "82504811",
   "metadata": {},
   "outputs": [],
   "source": []
  }
 ],
 "metadata": {
  "kernelspec": {
   "display_name": "Python 3 (ipykernel)",
   "language": "python",
   "name": "python3"
  },
  "language_info": {
   "codemirror_mode": {
    "name": "ipython",
    "version": 3
   },
   "file_extension": ".py",
   "mimetype": "text/x-python",
   "name": "python",
   "nbconvert_exporter": "python",
   "pygments_lexer": "ipython3",
   "version": "3.8.3"
  }
 },
 "nbformat": 4,
 "nbformat_minor": 5
}
