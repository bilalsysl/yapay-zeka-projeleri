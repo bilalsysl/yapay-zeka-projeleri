{
 "cells": [
  {
   "cell_type": "code",
   "execution_count": null,
   "id": "b31219ad",
   "metadata": {},
   "outputs": [],
   "source": [
    "! pip install --user opencv-contrib-python"
   ]
  },
  {
   "cell_type": "code",
   "execution_count": null,
   "id": "5aac1fe2",
   "metadata": {},
   "outputs": [],
   "source": [
    "import cv2\n",
    "import numpy as np\n",
    "face_classifier=cv2.CascadeClassifier('haarcascade_frontalface_default.xml')\n",
    "def face_extractor(img):\n",
    "    gray=cv2.cvtColor(img,cv2.COLOR_BGR2GRAY)\n",
    "    faces=face_classifier.detectMultiScale(gray,1.3,5)\n",
    "    if faces is ():\n",
    "        return None\n",
    "    for (x,y,w,h) in faces:\n",
    "        cropped_face=img[y:y+h,x:x+w]\n",
    "    return cropped_face\n",
    "cap=cv2.VideoCapture(0)\n",
    "count=0\n",
    "while True:\n",
    "    ret,frame=cap.read()\n",
    "    if face_extractor(frame) is not None:\n",
    "        count+=1\n",
    "        face=cv2.resize(face_extractor(frame),(200,200))\n",
    "        face=cv2.cvtColor(face,cv2.COLOR_BGR2GRAY)\n",
    "        file_name_path='./faces/user/'+str(count)+'.jpg'\n",
    "        cv2.imwrite(file_name_path,face)\n",
    "        cv2.putText(face,str(count),(50,50),cv2.FONT_HERSHEY_COMPLEX,1,(0,255,0),2)\n",
    "        cv2.imshow('Face Cropper',face)\n",
    "    else:\n",
    "        print('no face')\n",
    "        pass\n",
    "    if cv2.waitKey(1)==13 or count==100:\n",
    "        break\n",
    "cap.release()\n",
    "cv2.destroyAllWindows()\n",
    "        \n",
    "    "
   ]
  },
  {
   "cell_type": "code",
   "execution_count": null,
   "id": "f32690ee",
   "metadata": {},
   "outputs": [],
   "source": [
    "from os import listdir\n",
    "from os.path import isfile,join\n",
    "\n",
    "data_path='./faces/user/'\n",
    "onlyfiles=[f for f in listdir(data_path) if isfile(join(data_path,f))]\n",
    "\n",
    "Training_Data,Labels=[],[]\n",
    "\n",
    "for i,files in enumerate(onlyfiles):\n",
    "    image_path=data_path+onlyfiles[i]\n",
    "    images=cv2.imread(image_path,cv2.IMREAD_GRAYSCALE)\n",
    "    Training_Data.append(np.asarray(images,dtype=np.uint8))\n",
    "    Labels.append(i)\n",
    "Labels=np.asarray(Labels,dtype=np.uint32)\n",
    "\n",
    "model= cv2.face.LBPHFaceRecognizer_create()\n",
    "\n",
    "model.train(np.asarray(Training_Data),np.asarray(Labels))\n",
    "print('Model tamam babayiğit')\n",
    "    "
   ]
  },
  {
   "cell_type": "code",
   "execution_count": null,
   "id": "53ec2cab",
   "metadata": {},
   "outputs": [],
   "source": []
  },
  {
   "cell_type": "code",
   "execution_count": null,
   "id": "c642999d",
   "metadata": {},
   "outputs": [],
   "source": []
  }
 ],
 "metadata": {
  "kernelspec": {
   "display_name": "Python 3.8.3 64-bit",
   "language": "python",
   "name": "python3"
  },
  "language_info": {
   "codemirror_mode": {
    "name": "ipython",
    "version": 3
   },
   "file_extension": ".py",
   "mimetype": "text/x-python",
   "name": "python",
   "nbconvert_exporter": "python",
   "pygments_lexer": "ipython3",
   "version": "3.8.3"
  },
  "vscode": {
   "interpreter": {
    "hash": "bc98aebe86ff5d0b47cd3c965885a66547819f4fa7e4966c37275f31e9e55567"
   }
  }
 },
 "nbformat": 4,
 "nbformat_minor": 5
}
