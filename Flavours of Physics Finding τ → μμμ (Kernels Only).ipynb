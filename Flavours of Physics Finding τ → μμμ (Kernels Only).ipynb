{
 "cells": [
  {
   "cell_type": "code",
   "execution_count": 1,
   "id": "ad7b07b1",
   "metadata": {},
   "outputs": [],
   "source": [
    "import pandas as pd\n",
    "import numpy as np"
   ]
  },
  {
   "cell_type": "code",
   "execution_count": 3,
   "id": "a1ee535a",
   "metadata": {},
   "outputs": [],
   "source": [
    "df1=pd.read_csv('training.csv')\n",
    "df2=pd.read_csv('test.csv')"
   ]
  },
  {
   "cell_type": "code",
   "execution_count": 6,
   "id": "9a52dee1",
   "metadata": {},
   "outputs": [
    {
     "name": "stdout",
     "output_type": "stream",
     "text": [
      "<class 'pandas.core.frame.DataFrame'>\n",
      "RangeIndex: 67553 entries, 0 to 67552\n",
      "Data columns (total 51 columns):\n",
      " #   Column               Non-Null Count  Dtype  \n",
      "---  ------               --------------  -----  \n",
      " 0   id                   67553 non-null  int64  \n",
      " 1   LifeTime             67553 non-null  float64\n",
      " 2   dira                 67553 non-null  float64\n",
      " 3   FlightDistance       67553 non-null  float64\n",
      " 4   FlightDistanceError  67553 non-null  float64\n",
      " 5   IP                   67553 non-null  float64\n",
      " 6   IPSig                67553 non-null  float64\n",
      " 7   VertexChi2           67553 non-null  float64\n",
      " 8   pt                   67553 non-null  float64\n",
      " 9   DOCAone              67553 non-null  float64\n",
      " 10  DOCAtwo              67553 non-null  float64\n",
      " 11  DOCAthree            67553 non-null  float64\n",
      " 12  IP_p0p2              67553 non-null  float64\n",
      " 13  IP_p1p2              67553 non-null  float64\n",
      " 14  isolationa           67553 non-null  int64  \n",
      " 15  isolationb           67553 non-null  int64  \n",
      " 16  isolationc           67553 non-null  int64  \n",
      " 17  isolationd           67553 non-null  float64\n",
      " 18  isolatione           67553 non-null  float64\n",
      " 19  isolationf           67553 non-null  float64\n",
      " 20  iso                  67553 non-null  float64\n",
      " 21  CDF1                 67553 non-null  float64\n",
      " 22  CDF2                 67553 non-null  float64\n",
      " 23  CDF3                 67553 non-null  float64\n",
      " 24  ISO_SumBDT           67553 non-null  float64\n",
      " 25  p0_IsoBDT            67553 non-null  float64\n",
      " 26  p1_IsoBDT            67553 non-null  float64\n",
      " 27  p2_IsoBDT            67553 non-null  float64\n",
      " 28  p0_track_Chi2Dof     67553 non-null  float64\n",
      " 29  p1_track_Chi2Dof     67553 non-null  float64\n",
      " 30  p2_track_Chi2Dof     67553 non-null  float64\n",
      " 31  p0_IP                67553 non-null  float64\n",
      " 32  p1_IP                67553 non-null  float64\n",
      " 33  p2_IP                67553 non-null  float64\n",
      " 34  p0_IPSig             67553 non-null  float64\n",
      " 35  p1_IPSig             67553 non-null  float64\n",
      " 36  p2_IPSig             67553 non-null  float64\n",
      " 37  p0_pt                67553 non-null  float64\n",
      " 38  p1_pt                67553 non-null  float64\n",
      " 39  p2_pt                67553 non-null  float64\n",
      " 40  p0_p                 67553 non-null  float64\n",
      " 41  p1_p                 67553 non-null  float64\n",
      " 42  p2_p                 67553 non-null  float64\n",
      " 43  p0_eta               67553 non-null  float64\n",
      " 44  p1_eta               67553 non-null  float64\n",
      " 45  p2_eta               67553 non-null  float64\n",
      " 46  SPDhits              67553 non-null  int64  \n",
      " 47  production           67553 non-null  int64  \n",
      " 48  signal               67553 non-null  int64  \n",
      " 49  mass                 67553 non-null  float64\n",
      " 50  min_ANNmuon          67553 non-null  float64\n",
      "dtypes: float64(44), int64(7)\n",
      "memory usage: 26.3 MB\n"
     ]
    }
   ],
   "source": [
    "df1.info()"
   ]
  },
  {
   "cell_type": "code",
   "execution_count": 8,
   "id": "5bcf8f2f",
   "metadata": {},
   "outputs": [
    {
     "data": {
      "text/plain": [
       "signal                 1.000000\n",
       "production             0.999639\n",
       "IPSig                  0.519312\n",
       "IP                     0.470281\n",
       "min_ANNmuon            0.411675\n",
       "iso                    0.382588\n",
       "ISO_SumBDT             0.380310\n",
       "SPDhits                0.377807\n",
       "p0_IsoBDT              0.344930\n",
       "p1_IsoBDT              0.332852\n",
       "isolatione             0.328382\n",
       "VertexChi2             0.328232\n",
       "p2_IsoBDT              0.322754\n",
       "isolationd             0.321865\n",
       "isolationf             0.319212\n",
       "p0_track_Chi2Dof       0.282560\n",
       "dira                   0.274832\n",
       "isolationa             0.259999\n",
       "CDF2                   0.207078\n",
       "CDF3                   0.191552\n",
       "DOCAtwo                0.184562\n",
       "DOCAthree              0.183710\n",
       "isolationb             0.183383\n",
       "isolationc             0.179380\n",
       "DOCAone                0.168650\n",
       "p0_IPSig               0.166194\n",
       "p1_track_Chi2Dof       0.146841\n",
       "p2_track_Chi2Dof       0.119317\n",
       "p0_IP                  0.115931\n",
       "CDF1                   0.114125\n",
       "IP_p1p2                0.106945\n",
       "LifeTime               0.097118\n",
       "p1_eta                 0.074185\n",
       "FlightDistanceError    0.071107\n",
       "p0_eta                 0.069145\n",
       "p1_IPSig               0.067253\n",
       "p2_eta                 0.065038\n",
       "IP_p0p2                0.059922\n",
       "FlightDistance         0.056076\n",
       "p1_pt                  0.049703\n",
       "pt                     0.043643\n",
       "p2_p                   0.035502\n",
       "mass                   0.033521\n",
       "p0_pt                  0.028117\n",
       "p2_IP                  0.019502\n",
       "p1_IP                  0.006704\n",
       "p2_pt                  0.004552\n",
       "p0_p                   0.003815\n",
       "p1_p                   0.002273\n",
       "p2_IPSig               0.002254\n",
       "id                     0.000643\n",
       "Name: signal, dtype: float64"
      ]
     },
     "execution_count": 8,
     "metadata": {},
     "output_type": "execute_result"
    }
   ],
   "source": [
    "abs(df1.corr()['signal']).sort_values(ascending=False)"
   ]
  },
  {
   "cell_type": "code",
   "execution_count": 7,
   "id": "c9692da7",
   "metadata": {},
   "outputs": [
    {
     "name": "stdout",
     "output_type": "stream",
     "text": [
      "<class 'pandas.core.frame.DataFrame'>\n",
      "RangeIndex: 855819 entries, 0 to 855818\n",
      "Data columns (total 47 columns):\n",
      " #   Column               Non-Null Count   Dtype  \n",
      "---  ------               --------------   -----  \n",
      " 0   id                   855819 non-null  int64  \n",
      " 1   LifeTime             855819 non-null  float64\n",
      " 2   dira                 855819 non-null  float64\n",
      " 3   FlightDistance       855819 non-null  float64\n",
      " 4   FlightDistanceError  855819 non-null  float64\n",
      " 5   IP                   855819 non-null  float64\n",
      " 6   IPSig                855819 non-null  float64\n",
      " 7   VertexChi2           855819 non-null  float64\n",
      " 8   pt                   855819 non-null  float64\n",
      " 9   DOCAone              855819 non-null  float64\n",
      " 10  DOCAtwo              855819 non-null  float64\n",
      " 11  DOCAthree            855819 non-null  float64\n",
      " 12  IP_p0p2              855819 non-null  float64\n",
      " 13  IP_p1p2              855819 non-null  float64\n",
      " 14  isolationa           855819 non-null  int64  \n",
      " 15  isolationb           855819 non-null  int64  \n",
      " 16  isolationc           855819 non-null  int64  \n",
      " 17  isolationd           855819 non-null  float64\n",
      " 18  isolatione           855819 non-null  float64\n",
      " 19  isolationf           855819 non-null  float64\n",
      " 20  iso                  855819 non-null  float64\n",
      " 21  CDF1                 855819 non-null  float64\n",
      " 22  CDF2                 855819 non-null  float64\n",
      " 23  CDF3                 855819 non-null  float64\n",
      " 24  ISO_SumBDT           855819 non-null  float64\n",
      " 25  p0_IsoBDT            855819 non-null  float64\n",
      " 26  p1_IsoBDT            855819 non-null  float64\n",
      " 27  p2_IsoBDT            855819 non-null  float64\n",
      " 28  p0_track_Chi2Dof     855819 non-null  float64\n",
      " 29  p1_track_Chi2Dof     855819 non-null  float64\n",
      " 30  p2_track_Chi2Dof     855819 non-null  float64\n",
      " 31  p0_IP                855819 non-null  float64\n",
      " 32  p1_IP                855819 non-null  float64\n",
      " 33  p2_IP                855819 non-null  float64\n",
      " 34  p0_IPSig             855819 non-null  float64\n",
      " 35  p1_IPSig             855819 non-null  float64\n",
      " 36  p2_IPSig             855819 non-null  float64\n",
      " 37  p0_pt                855819 non-null  float64\n",
      " 38  p1_pt                855819 non-null  float64\n",
      " 39  p2_pt                855819 non-null  float64\n",
      " 40  p0_p                 855819 non-null  float64\n",
      " 41  p1_p                 855819 non-null  float64\n",
      " 42  p2_p                 855819 non-null  float64\n",
      " 43  p0_eta               855819 non-null  float64\n",
      " 44  p1_eta               855819 non-null  float64\n",
      " 45  p2_eta               855819 non-null  float64\n",
      " 46  SPDhits              855819 non-null  int64  \n",
      "dtypes: float64(42), int64(5)\n",
      "memory usage: 306.9 MB\n"
     ]
    }
   ],
   "source": [
    "df2.info()"
   ]
  },
  {
   "cell_type": "code",
   "execution_count": 18,
   "id": "48764ed2",
   "metadata": {},
   "outputs": [],
   "source": [
    "x=df1[['IPSig','IP','iso','ISO_SumBDT','SPDhits','p0_IsoBDT','p1_IsoBDT','isolationa','VertexChi2','p2_IsoBDT','isolationd','isolationf','p0_track_Chi2Dof','dira','isolationa','CDF2']]"
   ]
  },
  {
   "cell_type": "code",
   "execution_count": 19,
   "id": "424dfac8",
   "metadata": {},
   "outputs": [],
   "source": [
    "y=df1['signal']"
   ]
  },
  {
   "cell_type": "code",
   "execution_count": 20,
   "id": "0da44697",
   "metadata": {},
   "outputs": [],
   "source": [
    "from sklearn.model_selection import train_test_split\n",
    "from sklearn.ensemble import GradientBoostingClassifier"
   ]
  },
  {
   "cell_type": "code",
   "execution_count": 21,
   "id": "c63538a2",
   "metadata": {},
   "outputs": [],
   "source": [
    "x_train,x_test,y_train,y_test=train_test_split(x,y,test_size=0.2,random_state=42)"
   ]
  },
  {
   "cell_type": "code",
   "execution_count": 22,
   "id": "86c71ce3",
   "metadata": {},
   "outputs": [],
   "source": [
    "gbc=GradientBoostingClassifier()\n",
    "gbc.fit(x_train,y_train)\n",
    "y_pred=gbc.predict(x_test)"
   ]
  },
  {
   "cell_type": "code",
   "execution_count": 23,
   "id": "8185479c",
   "metadata": {},
   "outputs": [],
   "source": [
    "from sklearn.metrics import accuracy_score"
   ]
  },
  {
   "cell_type": "code",
   "execution_count": 24,
   "id": "de9a3277",
   "metadata": {},
   "outputs": [
    {
     "data": {
      "text/plain": [
       "0.8517504255791577"
      ]
     },
     "execution_count": 24,
     "metadata": {},
     "output_type": "execute_result"
    }
   ],
   "source": [
    "accuracy_score(y_test,y_pred)"
   ]
  },
  {
   "cell_type": "code",
   "execution_count": 25,
   "id": "7c28f0ff",
   "metadata": {},
   "outputs": [],
   "source": [
    "a=df2[['IPSig','IP','iso','ISO_SumBDT','SPDhits','p0_IsoBDT','p1_IsoBDT','isolationa','VertexChi2','p2_IsoBDT','isolationd','isolationf','p0_track_Chi2Dof','dira','isolationa','CDF2']]"
   ]
  },
  {
   "cell_type": "code",
   "execution_count": 26,
   "id": "2ea3151d",
   "metadata": {},
   "outputs": [],
   "source": [
    "tahmin=gbc.predict(a)"
   ]
  },
  {
   "cell_type": "code",
   "execution_count": 27,
   "id": "42857502",
   "metadata": {},
   "outputs": [],
   "source": [
    "df2['predict']=tahmin"
   ]
  },
  {
   "cell_type": "code",
   "execution_count": 32,
   "id": "a5c11cb4",
   "metadata": {},
   "outputs": [],
   "source": [
    "df2[['id','predict']].to_csv('Fizik.csv',index=False)"
   ]
  },
  {
   "cell_type": "code",
   "execution_count": null,
   "id": "5722a20e",
   "metadata": {},
   "outputs": [],
   "source": []
  }
 ],
 "metadata": {
  "kernelspec": {
   "display_name": "Python 3 (ipykernel)",
   "language": "python",
   "name": "python3"
  },
  "language_info": {
   "codemirror_mode": {
    "name": "ipython",
    "version": 3
   },
   "file_extension": ".py",
   "mimetype": "text/x-python",
   "name": "python",
   "nbconvert_exporter": "python",
   "pygments_lexer": "ipython3",
   "version": "3.8.3"
  }
 },
 "nbformat": 4,
 "nbformat_minor": 5
}
