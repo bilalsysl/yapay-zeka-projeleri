{
 "cells": [
  {
   "cell_type": "code",
   "execution_count": 25,
   "id": "9aa501fa",
   "metadata": {},
   "outputs": [],
   "source": [
    "import pandas as pd\n",
    "import numpy as np"
   ]
  },
  {
   "cell_type": "code",
   "execution_count": 1,
   "id": "3f2673f0",
   "metadata": {},
   "outputs": [],
   "source": [
    "import tensorflow as tf\n",
    "from tensorflow import keras"
   ]
  },
  {
   "cell_type": "code",
   "execution_count": 2,
   "id": "c45e83e2",
   "metadata": {},
   "outputs": [],
   "source": [
    "mnist=keras.datasets.mnist"
   ]
  },
  {
   "cell_type": "code",
   "execution_count": 3,
   "id": "7453974e",
   "metadata": {},
   "outputs": [],
   "source": [
    "(train_images,train_labels),(test_images,test_labels)=mnist.load_data()"
   ]
  },
  {
   "cell_type": "code",
   "execution_count": 4,
   "id": "61d531ec",
   "metadata": {},
   "outputs": [
    {
     "data": {
      "text/plain": [
       "(60000, 28, 28)"
      ]
     },
     "execution_count": 4,
     "metadata": {},
     "output_type": "execute_result"
    }
   ],
   "source": [
    "train_images.shape"
   ]
  },
  {
   "cell_type": "code",
   "execution_count": 5,
   "id": "4bcec7aa",
   "metadata": {},
   "outputs": [
    {
     "data": {
      "text/plain": [
       "(array([[[0, 0, 0, ..., 0, 0, 0],\n",
       "         [0, 0, 0, ..., 0, 0, 0],\n",
       "         [0, 0, 0, ..., 0, 0, 0],\n",
       "         ...,\n",
       "         [0, 0, 0, ..., 0, 0, 0],\n",
       "         [0, 0, 0, ..., 0, 0, 0],\n",
       "         [0, 0, 0, ..., 0, 0, 0]],\n",
       " \n",
       "        [[0, 0, 0, ..., 0, 0, 0],\n",
       "         [0, 0, 0, ..., 0, 0, 0],\n",
       "         [0, 0, 0, ..., 0, 0, 0],\n",
       "         ...,\n",
       "         [0, 0, 0, ..., 0, 0, 0],\n",
       "         [0, 0, 0, ..., 0, 0, 0],\n",
       "         [0, 0, 0, ..., 0, 0, 0]],\n",
       " \n",
       "        [[0, 0, 0, ..., 0, 0, 0],\n",
       "         [0, 0, 0, ..., 0, 0, 0],\n",
       "         [0, 0, 0, ..., 0, 0, 0],\n",
       "         ...,\n",
       "         [0, 0, 0, ..., 0, 0, 0],\n",
       "         [0, 0, 0, ..., 0, 0, 0],\n",
       "         [0, 0, 0, ..., 0, 0, 0]],\n",
       " \n",
       "        ...,\n",
       " \n",
       "        [[0, 0, 0, ..., 0, 0, 0],\n",
       "         [0, 0, 0, ..., 0, 0, 0],\n",
       "         [0, 0, 0, ..., 0, 0, 0],\n",
       "         ...,\n",
       "         [0, 0, 0, ..., 0, 0, 0],\n",
       "         [0, 0, 0, ..., 0, 0, 0],\n",
       "         [0, 0, 0, ..., 0, 0, 0]],\n",
       " \n",
       "        [[0, 0, 0, ..., 0, 0, 0],\n",
       "         [0, 0, 0, ..., 0, 0, 0],\n",
       "         [0, 0, 0, ..., 0, 0, 0],\n",
       "         ...,\n",
       "         [0, 0, 0, ..., 0, 0, 0],\n",
       "         [0, 0, 0, ..., 0, 0, 0],\n",
       "         [0, 0, 0, ..., 0, 0, 0]],\n",
       " \n",
       "        [[0, 0, 0, ..., 0, 0, 0],\n",
       "         [0, 0, 0, ..., 0, 0, 0],\n",
       "         [0, 0, 0, ..., 0, 0, 0],\n",
       "         ...,\n",
       "         [0, 0, 0, ..., 0, 0, 0],\n",
       "         [0, 0, 0, ..., 0, 0, 0],\n",
       "         [0, 0, 0, ..., 0, 0, 0]]], dtype=uint8),)"
      ]
     },
     "execution_count": 5,
     "metadata": {},
     "output_type": "execute_result"
    }
   ],
   "source": [
    "train_images,"
   ]
  },
  {
   "cell_type": "code",
   "execution_count": 6,
   "id": "187bde30",
   "metadata": {},
   "outputs": [
    {
     "data": {
      "text/plain": [
       "(array([5, 0, 4, ..., 5, 6, 8], dtype=uint8),)"
      ]
     },
     "execution_count": 6,
     "metadata": {},
     "output_type": "execute_result"
    }
   ],
   "source": [
    "train_labels,"
   ]
  },
  {
   "cell_type": "code",
   "execution_count": 22,
   "id": "0981bb12",
   "metadata": {},
   "outputs": [
    {
     "data": {
      "text/plain": [
       "<matplotlib.image.AxesImage at 0x243bf2b7250>"
      ]
     },
     "execution_count": 22,
     "metadata": {},
     "output_type": "execute_result"
    },
    {
     "data": {
      "image/png": "[encoded data removed]",
      "text/plain": [
       "<Figure size 432x288 with 1 Axes>"
      ]
     },
     "metadata": {
      "needs_background": "light"
     },
     "output_type": "display_data"
    }
   ],
   "source": [
    "import matplotlib.pyplot as plt\n",
    "%matplotlib inline\n",
    "plt.imshow(train_images[5666],cmap='gray')\n"
   ]
  },
  {
   "cell_type": "code",
   "execution_count": 8,
   "id": "9df3fe65",
   "metadata": {},
   "outputs": [
    {
     "data": {
      "text/plain": [
       "<matplotlib.image.AxesImage at 0x2439b3b6250>"
      ]
     },
     "execution_count": 8,
     "metadata": {},
     "output_type": "execute_result"
    },
    {
     "data": {
      "image/png": "[encoded data removed]",
      "text/plain": [
       "<Figure size 432x288 with 1 Axes>"
      ]
     },
     "metadata": {
      "needs_background": "light"
     },
     "output_type": "display_data"
    }
   ],
   "source": [
    "plt.imshow(train_images[5000],cmap='red')"
   ]
  },
  {
   "cell_type": "code",
   "execution_count": 9,
   "id": "26d88f14",
   "metadata": {},
   "outputs": [],
   "source": [
    "train_images=train_images/255.0\n",
    "test_images=test_images/255.0"
   ]
  },
  {
   "cell_type": "code",
   "execution_count": 10,
   "id": "8f2b6ae3",
   "metadata": {},
   "outputs": [],
   "source": [
    "model=keras.Sequential([keras.layers.InputLayer(input_shape=(28,28),),\n",
    "                        keras.layers.Reshape(target_shape=(28,28,1)),\n",
    "                        keras.layers.Conv2D(filters=12,kernel_size=(3,3),activation=tf.nn.relu),\n",
    "                        keras.layers.MaxPooling2D(pool_size=(2,2)),\n",
    "                        keras.layers.Flatten(),\n",
    "                        keras.layers.Dense(10)\n",
    "                       ])"
   ]
  },
  {
   "cell_type": "code",
   "execution_count": 11,
   "id": "56350432",
   "metadata": {},
   "outputs": [],
   "source": [
    "model.compile(optimizer='adam',loss=tf.keras.losses.SparseCategoricalCrossentropy(from_logits=True),metrics=['accuracy'])"
   ]
  },
  {
   "cell_type": "code",
   "execution_count": 12,
   "id": "6e669f18",
   "metadata": {},
   "outputs": [
    {
     "name": "stdout",
     "output_type": "stream",
     "text": [
      "Epoch 1/50\n",
      "1688/1688 [==============================] - 6s 3ms/step - loss: 0.2907 - accuracy: 0.9201 - val_loss: 0.1251 - val_accuracy: 0.9648\n",
      "Epoch 2/50\n",
      "1688/1688 [==============================] - 5s 3ms/step - loss: 0.1143 - accuracy: 0.9668 - val_loss: 0.0892 - val_accuracy: 0.9748\n",
      "Epoch 3/50\n",
      "1688/1688 [==============================] - 5s 3ms/step - loss: 0.0836 - accuracy: 0.9756 - val_loss: 0.0652 - val_accuracy: 0.9827\n",
      "Epoch 4/50\n",
      "1688/1688 [==============================] - 5s 3ms/step - loss: 0.0697 - accuracy: 0.9794 - val_loss: 0.0646 - val_accuracy: 0.9822\n",
      "Epoch 5/50\n",
      "1688/1688 [==============================] - 5s 3ms/step - loss: 0.0609 - accuracy: 0.9817 - val_loss: 0.0612 - val_accuracy: 0.9835\n",
      "Epoch 6/50\n",
      "1688/1688 [==============================] - 5s 3ms/step - loss: 0.0551 - accuracy: 0.9833 - val_loss: 0.0683 - val_accuracy: 0.9818\n",
      "Epoch 7/50\n",
      "1688/1688 [==============================] - 5s 3ms/step - loss: 0.0489 - accuracy: 0.9853 - val_loss: 0.0579 - val_accuracy: 0.9835\n",
      "Epoch 8/50\n",
      "1688/1688 [==============================] - 5s 3ms/step - loss: 0.0439 - accuracy: 0.9868 - val_loss: 0.0618 - val_accuracy: 0.9823\n",
      "Epoch 9/50\n",
      "1688/1688 [==============================] - 6s 3ms/step - loss: 0.0400 - accuracy: 0.9876 - val_loss: 0.0559 - val_accuracy: 0.9853\n",
      "Epoch 10/50\n",
      "1688/1688 [==============================] - 5s 3ms/step - loss: 0.0369 - accuracy: 0.9886 - val_loss: 0.0569 - val_accuracy: 0.9852\n",
      "Epoch 11/50\n",
      "1688/1688 [==============================] - 5s 3ms/step - loss: 0.0335 - accuracy: 0.9899 - val_loss: 0.0573 - val_accuracy: 0.9853\n",
      "Epoch 12/50\n",
      "1688/1688 [==============================] - 5s 3ms/step - loss: 0.0308 - accuracy: 0.9908 - val_loss: 0.0630 - val_accuracy: 0.9837\n",
      "Epoch 13/50\n",
      "1688/1688 [==============================] - 5s 3ms/step - loss: 0.0286 - accuracy: 0.9910 - val_loss: 0.0623 - val_accuracy: 0.9845\n",
      "Epoch 14/50\n",
      "1688/1688 [==============================] - 5s 3ms/step - loss: 0.0262 - accuracy: 0.9920 - val_loss: 0.0664 - val_accuracy: 0.9838\n",
      "Epoch 15/50\n",
      "1688/1688 [==============================] - 5s 3ms/step - loss: 0.0240 - accuracy: 0.9929 - val_loss: 0.0647 - val_accuracy: 0.9840\n",
      "Epoch 16/50\n",
      "1688/1688 [==============================] - 6s 3ms/step - loss: 0.0222 - accuracy: 0.9934 - val_loss: 0.0634 - val_accuracy: 0.9848\n",
      "Epoch 17/50\n",
      "1688/1688 [==============================] - 5s 3ms/step - loss: 0.0210 - accuracy: 0.9936 - val_loss: 0.0611 - val_accuracy: 0.9855\n",
      "Epoch 18/50\n",
      "1688/1688 [==============================] - 5s 3ms/step - loss: 0.0192 - accuracy: 0.9940 - val_loss: 0.0700 - val_accuracy: 0.9828\n",
      "Epoch 19/50\n",
      "1688/1688 [==============================] - 5s 3ms/step - loss: 0.0171 - accuracy: 0.9952 - val_loss: 0.0698 - val_accuracy: 0.9835\n",
      "Epoch 20/50\n",
      "1688/1688 [==============================] - 5s 3ms/step - loss: 0.0162 - accuracy: 0.9952 - val_loss: 0.0670 - val_accuracy: 0.9848\n",
      "Epoch 21/50\n",
      "1688/1688 [==============================] - 5s 3ms/step - loss: 0.0149 - accuracy: 0.9957 - val_loss: 0.0633 - val_accuracy: 0.9862\n",
      "Epoch 22/50\n",
      "1688/1688 [==============================] - 5s 3ms/step - loss: 0.0142 - accuracy: 0.9957 - val_loss: 0.0717 - val_accuracy: 0.9853\n",
      "Epoch 23/50\n",
      "1688/1688 [==============================] - 5s 3ms/step - loss: 0.0131 - accuracy: 0.9965 - val_loss: 0.0676 - val_accuracy: 0.9850\n",
      "Epoch 24/50\n",
      "1688/1688 [==============================] - 5s 3ms/step - loss: 0.0116 - accuracy: 0.9966 - val_loss: 0.0751 - val_accuracy: 0.9837\n",
      "Epoch 25/50\n",
      "1688/1688 [==============================] - 5s 3ms/step - loss: 0.0108 - accuracy: 0.9969 - val_loss: 0.0805 - val_accuracy: 0.9837\n",
      "Epoch 26/50\n",
      "1688/1688 [==============================] - 5s 3ms/step - loss: 0.0103 - accuracy: 0.9972 - val_loss: 0.0795 - val_accuracy: 0.9845\n",
      "Epoch 27/50\n",
      "1688/1688 [==============================] - 5s 3ms/step - loss: 0.0092 - accuracy: 0.9976 - val_loss: 0.0760 - val_accuracy: 0.9852\n",
      "Epoch 28/50\n",
      "1688/1688 [==============================] - 5s 3ms/step - loss: 0.0086 - accuracy: 0.9976 - val_loss: 0.0835 - val_accuracy: 0.9837\n",
      "Epoch 29/50\n",
      "1688/1688 [==============================] - 5s 3ms/step - loss: 0.0082 - accuracy: 0.9978 - val_loss: 0.0839 - val_accuracy: 0.9837\n",
      "Epoch 30/50\n",
      "1688/1688 [==============================] - 5s 3ms/step - loss: 0.0071 - accuracy: 0.9981 - val_loss: 0.0831 - val_accuracy: 0.9838\n",
      "Epoch 31/50\n",
      "1688/1688 [==============================] - 5s 3ms/step - loss: 0.0067 - accuracy: 0.9982 - val_loss: 0.0780 - val_accuracy: 0.9853\n",
      "Epoch 32/50\n",
      "1688/1688 [==============================] - 5s 3ms/step - loss: 0.0062 - accuracy: 0.9984 - val_loss: 0.0854 - val_accuracy: 0.9850\n",
      "Epoch 33/50\n",
      "1688/1688 [==============================] - 5s 3ms/step - loss: 0.0064 - accuracy: 0.9982 - val_loss: 0.0922 - val_accuracy: 0.9840\n",
      "Epoch 34/50\n",
      "1688/1688 [==============================] - 5s 3ms/step - loss: 0.0048 - accuracy: 0.9990 - val_loss: 0.1028 - val_accuracy: 0.9825\n",
      "Epoch 35/50\n",
      "1688/1688 [==============================] - 5s 3ms/step - loss: 0.0059 - accuracy: 0.9983 - val_loss: 0.0952 - val_accuracy: 0.9833\n",
      "Epoch 36/50\n",
      "1688/1688 [==============================] - 6s 3ms/step - loss: 0.0046 - accuracy: 0.9990 - val_loss: 0.0908 - val_accuracy: 0.9847\n",
      "Epoch 37/50\n",
      "1688/1688 [==============================] - 5s 3ms/step - loss: 0.0043 - accuracy: 0.9990 - val_loss: 0.0985 - val_accuracy: 0.9835\n",
      "Epoch 38/50\n",
      "1688/1688 [==============================] - 5s 3ms/step - loss: 0.0041 - accuracy: 0.9991 - val_loss: 0.0908 - val_accuracy: 0.9852\n",
      "Epoch 39/50\n",
      "1688/1688 [==============================] - 5s 3ms/step - loss: 0.0044 - accuracy: 0.9988 - val_loss: 0.0994 - val_accuracy: 0.9845\n",
      "Epoch 40/50\n",
      "1688/1688 [==============================] - 5s 3ms/step - loss: 0.0039 - accuracy: 0.9990 - val_loss: 0.1032 - val_accuracy: 0.9825\n",
      "Epoch 41/50\n",
      "1688/1688 [==============================] - 5s 3ms/step - loss: 0.0031 - accuracy: 0.9995 - val_loss: 0.1058 - val_accuracy: 0.9832\n",
      "Epoch 42/50\n",
      "1688/1688 [==============================] - 5s 3ms/step - loss: 0.0042 - accuracy: 0.9989 - val_loss: 0.1031 - val_accuracy: 0.9848\n",
      "Epoch 43/50\n",
      "1688/1688 [==============================] - 5s 3ms/step - loss: 0.0025 - accuracy: 0.9995 - val_loss: 0.1065 - val_accuracy: 0.9838\n",
      "Epoch 44/50\n",
      "1688/1688 [==============================] - 5s 3ms/step - loss: 0.0032 - accuracy: 0.9992 - val_loss: 0.1088 - val_accuracy: 0.9845\n",
      "Epoch 45/50\n",
      "1688/1688 [==============================] - 5s 3ms/step - loss: 0.0025 - accuracy: 0.9996 - val_loss: 0.1014 - val_accuracy: 0.9848\n",
      "Epoch 46/50\n",
      "1688/1688 [==============================] - 6s 3ms/step - loss: 0.0031 - accuracy: 0.9991 - val_loss: 0.1045 - val_accuracy: 0.9843\n",
      "Epoch 47/50\n",
      "1688/1688 [==============================] - 6s 3ms/step - loss: 0.0025 - accuracy: 0.9996 - val_loss: 0.1237 - val_accuracy: 0.9812\n",
      "Epoch 48/50\n",
      "1688/1688 [==============================] - 6s 3ms/step - loss: 0.0021 - accuracy: 0.9996 - val_loss: 0.1106 - val_accuracy: 0.9847\n",
      "Epoch 49/50\n",
      "1688/1688 [==============================] - 5s 3ms/step - loss: 0.0028 - accuracy: 0.9993 - val_loss: 0.1077 - val_accuracy: 0.9842\n",
      "Epoch 50/50\n",
      "1688/1688 [==============================] - 5s 3ms/step - loss: 0.0019 - accuracy: 0.9997 - val_loss: 0.1130 - val_accuracy: 0.9847\n"
     ]
    },
    {
     "data": {
      "text/plain": [
       "<keras.callbacks.History at 0x24398028070>"
      ]
     },
     "execution_count": 12,
     "metadata": {},
     "output_type": "execute_result"
    }
   ],
   "source": [
    "model.fit(train_images,train_labels,validation_split=0.1,epochs=50)"
   ]
  },
  {
   "cell_type": "code",
   "execution_count": 13,
   "id": "e666965b",
   "metadata": {},
   "outputs": [
    {
     "name": "stdout",
     "output_type": "stream",
     "text": [
      "313/313 [==============================] - 0s 1ms/step - loss: 0.1092 - accuracy: 0.9803\n"
     ]
    }
   ],
   "source": [
    "accuracy=model.evaluate(test_images,test_labels)\n"
   ]
  },
  {
   "cell_type": "code",
   "execution_count": 14,
   "id": "d6f381bd",
   "metadata": {},
   "outputs": [
    {
     "name": "stdout",
     "output_type": "stream",
     "text": [
      "313/313 [==============================] - 0s 1ms/step\n"
     ]
    }
   ],
   "source": [
    "tahmin=model.predict(test_images)"
   ]
  },
  {
   "cell_type": "code",
   "execution_count": 33,
   "id": "00d05988",
   "metadata": {},
   "outputs": [
    {
     "data": {
      "text/plain": [
       "array([[-29.332169 , -21.942726 , -15.3702545, ...,  16.637829 ,\n",
       "        -12.249224 , -14.583409 ],\n",
       "       [-21.819586 , -22.330547 ,   9.127726 , ..., -70.024925 ,\n",
       "        -36.906384 , -43.887123 ],\n",
       "       [-11.830668 ,  12.407897 ,  -8.962807 , ..., -18.299822 ,\n",
       "         -9.932186 , -19.82941  ],\n",
       "       ...,\n",
       "       [-48.381634 , -28.549812 , -40.27029  , ..., -12.495509 ,\n",
       "        -12.402544 ,  -9.060797 ],\n",
       "       [-43.951324 , -40.692204 , -41.325047 , ..., -35.027424 ,\n",
       "         -9.80732  , -37.42968  ],\n",
       "       [-37.34912  , -60.91585  , -25.798662 , ..., -68.88602  ,\n",
       "        -23.573763 , -57.38507  ]], dtype=float32)"
      ]
     },
     "execution_count": 33,
     "metadata": {},
     "output_type": "execute_result"
    }
   ],
   "source": [
    "tahmin"
   ]
  },
  {
   "cell_type": "code",
   "execution_count": 27,
   "id": "23d516c6",
   "metadata": {
    "scrolled": false
   },
   "outputs": [],
   "source": [
    "df=pd.DataFrame()"
   ]
  },
  {
   "cell_type": "code",
   "execution_count": 30,
   "id": "32ae3ce0",
   "metadata": {},
   "outputs": [],
   "source": [
    "df[['label1','label2','label3','label4','label5','label6','label7','label8','label9','label10']]=tahmin"
   ]
  },
  {
   "cell_type": "code",
   "execution_count": 36,
   "id": "20a96c30",
   "metadata": {},
   "outputs": [],
   "source": [
    "df=df[['label1','label2','label3','label4','label5','label6','label7','label8','label9','label10']].astype(str)"
   ]
  },
  {
   "cell_type": "code",
   "execution_count": 37,
   "id": "455dceb3",
   "metadata": {},
   "outputs": [],
   "source": [
    "df['label'] = df[['label1','label2','label3','label4','label5','label6','label7','label8','label9','label10']].agg('-'.join, axis=1)"
   ]
  },
  {
   "cell_type": "code",
   "execution_count": 39,
   "id": "f437dbbb",
   "metadata": {},
   "outputs": [],
   "source": [
    "df.drop(['label1','label2','label3','label4','label5','label6','label7','label8','label9','label10'],axis=1,inplace=True)"
   ]
  },
  {
   "cell_type": "code",
   "execution_count": 40,
   "id": "70637271",
   "metadata": {},
   "outputs": [
    {
     "data": {
      "text/html": [
       "<div>\n",
       "<style scoped>\n",
       "    .dataframe tbody tr th:only-of-type {\n",
       "        vertical-align: middle;\n",
       "    }\n",
       "\n",
       "    .dataframe tbody tr th {\n",
       "        vertical-align: top;\n",
       "    }\n",
       "\n",
       "    .dataframe thead th {\n",
       "        text-align: right;\n",
       "    }\n",
       "</style>\n",
       "<table border=\"1\" class=\"dataframe\">\n",
       "  <thead>\n",
       "    <tr style=\"text-align: right;\">\n",
       "      <th></th>\n",
       "      <th>label</th>\n",
       "    </tr>\n",
       "  </thead>\n",
       "  <tbody>\n",
       "    <tr>\n",
       "      <th>0</th>\n",
       "      <td>-29.332169--21.942726--15.3702545--4.1823606--...</td>\n",
       "    </tr>\n",
       "    <tr>\n",
       "      <th>1</th>\n",
       "      <td>-21.819586--22.330547-9.127726--31.801935--50....</td>\n",
       "    </tr>\n",
       "    <tr>\n",
       "      <th>2</th>\n",
       "      <td>-11.830668-12.407897--8.962807--19.307323--1.4...</td>\n",
       "    </tr>\n",
       "    <tr>\n",
       "      <th>3</th>\n",
       "      <td>11.067032--22.129137--11.349384--32.211617--33...</td>\n",
       "    </tr>\n",
       "    <tr>\n",
       "      <th>4</th>\n",
       "      <td>-27.727768--30.491793--29.402927--20.469261-14...</td>\n",
       "    </tr>\n",
       "    <tr>\n",
       "      <th>...</th>\n",
       "      <td>...</td>\n",
       "    </tr>\n",
       "    <tr>\n",
       "      <th>9995</th>\n",
       "      <td>-37.687683--14.404024-11.652514--5.901413--54....</td>\n",
       "    </tr>\n",
       "    <tr>\n",
       "      <th>9996</th>\n",
       "      <td>-23.97192--35.44215--22.184362-14.113787--67.7...</td>\n",
       "    </tr>\n",
       "    <tr>\n",
       "      <th>9997</th>\n",
       "      <td>-48.381634--28.549812--40.27029--16.963804-17....</td>\n",
       "    </tr>\n",
       "    <tr>\n",
       "      <th>9998</th>\n",
       "      <td>-43.951324--40.692204--41.325047--35.148514--4...</td>\n",
       "    </tr>\n",
       "    <tr>\n",
       "      <th>9999</th>\n",
       "      <td>-37.34912--60.91585--25.798662--31.892952--34....</td>\n",
       "    </tr>\n",
       "  </tbody>\n",
       "</table>\n",
       "<p>10000 rows × 1 columns</p>\n",
       "</div>"
      ],
      "text/plain": [
       "                                                  label\n",
       "0     -29.332169--21.942726--15.3702545--4.1823606--...\n",
       "1     -21.819586--22.330547-9.127726--31.801935--50....\n",
       "2     -11.830668-12.407897--8.962807--19.307323--1.4...\n",
       "3     11.067032--22.129137--11.349384--32.211617--33...\n",
       "4     -27.727768--30.491793--29.402927--20.469261-14...\n",
       "...                                                 ...\n",
       "9995  -37.687683--14.404024-11.652514--5.901413--54....\n",
       "9996  -23.97192--35.44215--22.184362-14.113787--67.7...\n",
       "9997  -48.381634--28.549812--40.27029--16.963804-17....\n",
       "9998  -43.951324--40.692204--41.325047--35.148514--4...\n",
       "9999  -37.34912--60.91585--25.798662--31.892952--34....\n",
       "\n",
       "[10000 rows x 1 columns]"
      ]
     },
     "execution_count": 40,
     "metadata": {},
     "output_type": "execute_result"
    }
   ],
   "source": [
    "df"
   ]
  },
  {
   "cell_type": "code",
   "execution_count": 41,
   "id": "69e3f08f",
   "metadata": {},
   "outputs": [],
   "source": [
    "df.to_csv('digitrecognizer.csv')"
   ]
  },
  {
   "cell_type": "code",
   "execution_count": 44,
   "id": "42c9eae5",
   "metadata": {},
   "outputs": [],
   "source": [
    "df1=pd.read_csv('digitrecognizer.csv')"
   ]
  },
  {
   "cell_type": "code",
   "execution_count": 46,
   "id": "2b4251fc",
   "metadata": {},
   "outputs": [],
   "source": [
    "df1['ImageID']=df1['Unnamed: 0']"
   ]
  },
  {
   "cell_type": "code",
   "execution_count": 48,
   "id": "e06ff733",
   "metadata": {},
   "outputs": [],
   "source": [
    "df1.drop('Unnamed: 0',axis=1,inplace=True)"
   ]
  },
  {
   "cell_type": "code",
   "execution_count": 49,
   "id": "f63e45d0",
   "metadata": {},
   "outputs": [],
   "source": [
    "df1.to_csv('new.csv')"
   ]
  },
  {
   "cell_type": "code",
   "execution_count": null,
   "id": "83d96bbc",
   "metadata": {},
   "outputs": [],
   "source": []
  }
 ],
 "metadata": {
  "kernelspec": {
   "display_name": "Python 3 (ipykernel)",
   "language": "python",
   "name": "python3"
  },
  "language_info": {
   "codemirror_mode": {
    "name": "ipython",
    "version": 3
   },
   "file_extension": ".py",
   "mimetype": "text/x-python",
   "name": "python",
   "nbconvert_exporter": "python",
   "pygments_lexer": "ipython3",
   "version": "3.8.3"
  }
 },
 "nbformat": 4,
 "nbformat_minor": 5
}
