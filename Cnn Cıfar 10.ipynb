{
 "cells": [
  {
   "cell_type": "code",
   "execution_count": 1,
   "id": "faa72e37",
   "metadata": {},
   "outputs": [],
   "source": [
    "import pandas as pd\n",
    "import numpy as np\n",
    "import tensorflow as tf\n",
    "from keras.models import Sequential\n",
    "from keras.layers import Dense\n",
    "from sklearn.preprocessing import normalize,scale\n",
    "from tensorflow.keras.models import Sequential\n",
    "from tensorflow.keras.layers import Dense,Activation\n",
    "from tensorflow.keras.optimizers import Adam\n",
    "from sklearn.model_selection import train_test_split\n",
    "from tensorflow.keras.datasets import cifar10\n",
    "import keras"
   ]
  },
  {
   "cell_type": "code",
   "execution_count": 2,
   "id": "5c70628b",
   "metadata": {},
   "outputs": [],
   "source": [
    "(x_train, y_train), (x_test, y_test) = cifar10.load_data()"
   ]
  },
  {
   "cell_type": "code",
   "execution_count": 3,
   "id": "68316a7e",
   "metadata": {},
   "outputs": [
    {
     "data": {
      "text/plain": [
       "(50000, 32, 32, 3)"
      ]
     },
     "execution_count": 3,
     "metadata": {},
     "output_type": "execute_result"
    }
   ],
   "source": [
    "x_train.shape"
   ]
  },
  {
   "cell_type": "code",
   "execution_count": 4,
   "id": "ebddbe78",
   "metadata": {},
   "outputs": [
    {
     "data": {
      "text/plain": [
       "(10000, 32, 32, 3)"
      ]
     },
     "execution_count": 4,
     "metadata": {},
     "output_type": "execute_result"
    }
   ],
   "source": [
    "x_test.shape"
   ]
  },
  {
   "cell_type": "code",
   "execution_count": null,
   "id": "8cc9a7fd",
   "metadata": {},
   "outputs": [],
   "source": []
  },
  {
   "cell_type": "code",
   "execution_count": 5,
   "id": "7a1ea6fb",
   "metadata": {},
   "outputs": [],
   "source": [
    "x_train=x_train/255.0\n",
    "x_test=x_test/255.0"
   ]
  },
  {
   "cell_type": "code",
   "execution_count": 12,
   "id": "e90778d9",
   "metadata": {},
   "outputs": [],
   "source": [
    "model=keras.Sequential([keras.layers.InputLayer(input_shape=(32,32,3)),\n",
    "                        keras.layers.Reshape(target_shape=(32,32,3)),\n",
    "                        keras.layers.Conv2D(filters=12,kernel_size=(3,3),activation=tf.nn.relu),\n",
    "                        keras.layers.MaxPooling2D(pool_size=(2,2)),\n",
    "                        keras.layers.Flatten(),\n",
    "                        keras.layers.Dense(12)\n",
    "                        ]) # CNN-Convolutional Neural Network"
   ]
  },
  {
   "cell_type": "code",
   "execution_count": 13,
   "id": "4fb744f3",
   "metadata": {},
   "outputs": [],
   "source": [
    "model.compile(optimizer='adam',loss=tf.keras.losses.SparseCategoricalCrossentropy(from_logits=True),metrics=['accuracy'])"
   ]
  },
  {
   "cell_type": "code",
   "execution_count": 14,
   "id": "9b7b3ad7",
   "metadata": {},
   "outputs": [
    {
     "name": "stdout",
     "output_type": "stream",
     "text": [
      "Epoch 1/50\n",
      "1407/1407 [==============================] - 6s 4ms/step - loss: 1.6185 - accuracy: 0.4329 - val_loss: 1.4224 - val_accuracy: 0.5102\n",
      "Epoch 2/50\n",
      "1407/1407 [==============================] - 6s 4ms/step - loss: 1.3482 - accuracy: 0.5284 - val_loss: 1.3183 - val_accuracy: 0.5398\n",
      "Epoch 3/50\n",
      "1407/1407 [==============================] - 6s 4ms/step - loss: 1.2528 - accuracy: 0.5644 - val_loss: 1.2598 - val_accuracy: 0.5688\n",
      "Epoch 4/50\n",
      "1407/1407 [==============================] - 6s 4ms/step - loss: 1.1956 - accuracy: 0.5836 - val_loss: 1.2423 - val_accuracy: 0.5612\n",
      "Epoch 5/50\n",
      "1407/1407 [==============================] - 6s 4ms/step - loss: 1.1513 - accuracy: 0.6015 - val_loss: 1.2064 - val_accuracy: 0.5800\n",
      "Epoch 6/50\n",
      "1407/1407 [==============================] - 6s 4ms/step - loss: 1.1224 - accuracy: 0.6116 - val_loss: 1.1750 - val_accuracy: 0.5938\n",
      "Epoch 7/50\n",
      "1407/1407 [==============================] - 6s 4ms/step - loss: 1.1006 - accuracy: 0.6197 - val_loss: 1.1655 - val_accuracy: 0.5990\n",
      "Epoch 8/50\n",
      "1407/1407 [==============================] - 6s 4ms/step - loss: 1.0772 - accuracy: 0.6281 - val_loss: 1.1560 - val_accuracy: 0.6066\n",
      "Epoch 9/50\n",
      "1407/1407 [==============================] - 6s 4ms/step - loss: 1.0613 - accuracy: 0.6324 - val_loss: 1.1581 - val_accuracy: 0.5982\n",
      "Epoch 10/50\n",
      "1407/1407 [==============================] - 6s 4ms/step - loss: 1.0477 - accuracy: 0.6370 - val_loss: 1.1435 - val_accuracy: 0.6092\n",
      "Epoch 11/50\n",
      "1407/1407 [==============================] - 6s 4ms/step - loss: 1.0332 - accuracy: 0.6423 - val_loss: 1.1588 - val_accuracy: 0.6024\n",
      "Epoch 12/50\n",
      "1407/1407 [==============================] - 6s 4ms/step - loss: 1.0193 - accuracy: 0.6468 - val_loss: 1.1707 - val_accuracy: 0.6012\n",
      "Epoch 13/50\n",
      "1407/1407 [==============================] - 6s 4ms/step - loss: 1.0101 - accuracy: 0.6508 - val_loss: 1.1557 - val_accuracy: 0.6046\n",
      "Epoch 14/50\n",
      "1407/1407 [==============================] - 6s 4ms/step - loss: 0.9976 - accuracy: 0.6546 - val_loss: 1.1676 - val_accuracy: 0.6008\n",
      "Epoch 15/50\n",
      "1407/1407 [==============================] - 6s 5ms/step - loss: 0.9884 - accuracy: 0.6579 - val_loss: 1.1516 - val_accuracy: 0.6100\n",
      "Epoch 16/50\n",
      "1407/1407 [==============================] - 6s 4ms/step - loss: 0.9785 - accuracy: 0.6609 - val_loss: 1.2048 - val_accuracy: 0.5836\n",
      "Epoch 17/50\n",
      "1407/1407 [==============================] - 6s 4ms/step - loss: 0.9717 - accuracy: 0.6641 - val_loss: 1.1925 - val_accuracy: 0.5988\n",
      "Epoch 18/50\n",
      "1407/1407 [==============================] - 6s 4ms/step - loss: 0.9626 - accuracy: 0.6672 - val_loss: 1.1641 - val_accuracy: 0.6112\n",
      "Epoch 19/50\n",
      "1407/1407 [==============================] - 6s 4ms/step - loss: 0.9508 - accuracy: 0.6736 - val_loss: 1.1490 - val_accuracy: 0.6168\n",
      "Epoch 20/50\n",
      "1407/1407 [==============================] - 6s 4ms/step - loss: 0.9452 - accuracy: 0.6721 - val_loss: 1.1308 - val_accuracy: 0.6188\n",
      "Epoch 21/50\n",
      "1407/1407 [==============================] - 6s 4ms/step - loss: 0.9356 - accuracy: 0.6749 - val_loss: 1.1639 - val_accuracy: 0.6052\n",
      "Epoch 22/50\n",
      "1407/1407 [==============================] - 6s 4ms/step - loss: 0.9273 - accuracy: 0.6803 - val_loss: 1.1689 - val_accuracy: 0.6050\n",
      "Epoch 23/50\n",
      "1407/1407 [==============================] - 6s 4ms/step - loss: 0.9265 - accuracy: 0.6789 - val_loss: 1.1736 - val_accuracy: 0.6026\n",
      "Epoch 24/50\n",
      "1407/1407 [==============================] - 6s 4ms/step - loss: 0.9177 - accuracy: 0.6839 - val_loss: 1.1904 - val_accuracy: 0.6056\n",
      "Epoch 25/50\n",
      "1407/1407 [==============================] - 6s 5ms/step - loss: 0.9100 - accuracy: 0.6849 - val_loss: 1.2022 - val_accuracy: 0.6018\n",
      "Epoch 26/50\n",
      "1407/1407 [==============================] - 6s 4ms/step - loss: 0.9058 - accuracy: 0.6865 - val_loss: 1.1764 - val_accuracy: 0.6010\n",
      "Epoch 27/50\n",
      "1407/1407 [==============================] - 6s 4ms/step - loss: 0.8985 - accuracy: 0.6885 - val_loss: 1.1505 - val_accuracy: 0.6136\n",
      "Epoch 28/50\n",
      "1407/1407 [==============================] - 6s 4ms/step - loss: 0.8958 - accuracy: 0.6902 - val_loss: 1.1670 - val_accuracy: 0.6096\n",
      "Epoch 29/50\n",
      "1407/1407 [==============================] - 6s 4ms/step - loss: 0.8931 - accuracy: 0.6912 - val_loss: 1.1619 - val_accuracy: 0.6154\n",
      "Epoch 30/50\n",
      "1407/1407 [==============================] - 6s 5ms/step - loss: 0.8845 - accuracy: 0.6935 - val_loss: 1.1678 - val_accuracy: 0.6110\n",
      "Epoch 31/50\n",
      "1407/1407 [==============================] - 6s 5ms/step - loss: 0.8817 - accuracy: 0.6968 - val_loss: 1.1918 - val_accuracy: 0.5994\n",
      "Epoch 32/50\n",
      "1407/1407 [==============================] - 7s 5ms/step - loss: 0.8786 - accuracy: 0.6949 - val_loss: 1.1849 - val_accuracy: 0.6082\n",
      "Epoch 33/50\n",
      "1407/1407 [==============================] - 7s 5ms/step - loss: 0.8718 - accuracy: 0.6991 - val_loss: 1.1984 - val_accuracy: 0.6062\n",
      "Epoch 34/50\n",
      "1407/1407 [==============================] - 7s 5ms/step - loss: 0.8714 - accuracy: 0.6962 - val_loss: 1.1773 - val_accuracy: 0.6104\n",
      "Epoch 35/50\n",
      "1407/1407 [==============================] - 7s 5ms/step - loss: 0.8690 - accuracy: 0.6963 - val_loss: 1.1730 - val_accuracy: 0.6146\n",
      "Epoch 36/50\n",
      "1407/1407 [==============================] - 7s 5ms/step - loss: 0.8646 - accuracy: 0.6994 - val_loss: 1.1706 - val_accuracy: 0.6106\n",
      "Epoch 37/50\n",
      "1407/1407 [==============================] - 7s 5ms/step - loss: 0.8619 - accuracy: 0.7002 - val_loss: 1.2074 - val_accuracy: 0.6034\n",
      "Epoch 38/50\n",
      "1407/1407 [==============================] - 7s 5ms/step - loss: 0.8577 - accuracy: 0.7023 - val_loss: 1.2076 - val_accuracy: 0.5970\n",
      "Epoch 39/50\n",
      "1407/1407 [==============================] - 7s 5ms/step - loss: 0.8545 - accuracy: 0.7018 - val_loss: 1.2384 - val_accuracy: 0.6020\n",
      "Epoch 40/50\n",
      "1407/1407 [==============================] - 7s 5ms/step - loss: 0.8531 - accuracy: 0.7033 - val_loss: 1.2176 - val_accuracy: 0.5976\n",
      "Epoch 41/50\n",
      "1407/1407 [==============================] - 7s 5ms/step - loss: 0.8494 - accuracy: 0.7064 - val_loss: 1.1948 - val_accuracy: 0.6022\n",
      "Epoch 42/50\n",
      "1407/1407 [==============================] - 7s 5ms/step - loss: 0.8460 - accuracy: 0.7072 - val_loss: 1.2288 - val_accuracy: 0.5988\n",
      "Epoch 43/50\n",
      "1407/1407 [==============================] - 7s 5ms/step - loss: 0.8433 - accuracy: 0.7071 - val_loss: 1.2048 - val_accuracy: 0.6104\n",
      "Epoch 44/50\n",
      "1407/1407 [==============================] - 7s 5ms/step - loss: 0.8398 - accuracy: 0.7084 - val_loss: 1.2080 - val_accuracy: 0.6032\n",
      "Epoch 45/50\n",
      "1407/1407 [==============================] - 7s 5ms/step - loss: 0.8391 - accuracy: 0.7084 - val_loss: 1.2232 - val_accuracy: 0.5954\n",
      "Epoch 46/50\n",
      "1407/1407 [==============================] - 7s 5ms/step - loss: 0.8361 - accuracy: 0.7092 - val_loss: 1.2146 - val_accuracy: 0.6046\n",
      "Epoch 47/50\n",
      "1407/1407 [==============================] - 7s 5ms/step - loss: 0.8369 - accuracy: 0.7084 - val_loss: 1.2144 - val_accuracy: 0.6042\n",
      "Epoch 48/50\n",
      "1407/1407 [==============================] - 7s 5ms/step - loss: 0.8298 - accuracy: 0.7098 - val_loss: 1.2356 - val_accuracy: 0.6002\n",
      "Epoch 49/50\n",
      "1407/1407 [==============================] - 7s 5ms/step - loss: 0.8292 - accuracy: 0.7125 - val_loss: 1.2936 - val_accuracy: 0.5820\n",
      "Epoch 50/50\n",
      "1407/1407 [==============================] - 7s 5ms/step - loss: 0.8272 - accuracy: 0.7112 - val_loss: 1.2284 - val_accuracy: 0.5994\n"
     ]
    },
    {
     "data": {
      "text/plain": [
       "<keras.callbacks.History at 0x1f8e1bd8f40>"
      ]
     },
     "execution_count": 14,
     "metadata": {},
     "output_type": "execute_result"
    }
   ],
   "source": [
    "model.fit(x_train,y_train,validation_split=0.1,epochs=50)"
   ]
  },
  {
   "cell_type": "code",
   "execution_count": null,
   "id": "8bdc6d8e",
   "metadata": {},
   "outputs": [],
   "source": []
  },
  {
   "cell_type": "code",
   "execution_count": 15,
   "id": "203c8331",
   "metadata": {},
   "outputs": [
    {
     "name": "stdout",
     "output_type": "stream",
     "text": [
      "313/313 [==============================] - 1s 2ms/step - loss: 1.2492 - accuracy: 0.6021\n"
     ]
    }
   ],
   "source": [
    "accuracy=model.evaluate(x_test,y_test)"
   ]
  },
  {
   "cell_type": "code",
   "execution_count": null,
   "id": "17ec3db4",
   "metadata": {},
   "outputs": [],
   "source": []
  }
 ],
 "metadata": {
  "kernelspec": {
   "display_name": "Python 3 (ipykernel)",
   "language": "python",
   "name": "python3"
  },
  "language_info": {
   "codemirror_mode": {
    "name": "ipython",
    "version": 3
   },
   "file_extension": ".py",
   "mimetype": "text/x-python",
   "name": "python",
   "nbconvert_exporter": "python",
   "pygments_lexer": "ipython3",
   "version": "3.8.3"
  }
 },
 "nbformat": 4,
 "nbformat_minor": 5
}
