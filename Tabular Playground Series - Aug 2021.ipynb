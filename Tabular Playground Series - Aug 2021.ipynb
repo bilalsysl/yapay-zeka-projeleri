{
 "cells": [
  {
   "cell_type": "code",
   "execution_count": 1,
   "id": "3ccb5887",
   "metadata": {},
   "outputs": [],
   "source": [
    "import pandas as pd\n",
    "import numpy as np\n",
    "from sklearn.metrics import r2_score,mean_squared_error\n",
    "from sklearn.ensemble import GradientBoostingRegressor\n",
    "from sklearn.model_selection import train_test_split"
   ]
  },
  {
   "cell_type": "code",
   "execution_count": 2,
   "id": "d3caf621",
   "metadata": {},
   "outputs": [],
   "source": [
    "df1=pd.read_csv('train.csv')\n",
    "df2=pd.read_csv('test.csv')"
   ]
  },
  {
   "cell_type": "code",
   "execution_count": 3,
   "id": "baa3b092",
   "metadata": {},
   "outputs": [
    {
     "data": {
      "text/html": [
       "<div>\n",
       "<style scoped>\n",
       "    .dataframe tbody tr th:only-of-type {\n",
       "        vertical-align: middle;\n",
       "    }\n",
       "\n",
       "    .dataframe tbody tr th {\n",
       "        vertical-align: top;\n",
       "    }\n",
       "\n",
       "    .dataframe thead th {\n",
       "        text-align: right;\n",
       "    }\n",
       "</style>\n",
       "<table border=\"1\" class=\"dataframe\">\n",
       "  <thead>\n",
       "    <tr style=\"text-align: right;\">\n",
       "      <th></th>\n",
       "      <th>id</th>\n",
       "      <th>f0</th>\n",
       "      <th>f1</th>\n",
       "      <th>f2</th>\n",
       "      <th>f3</th>\n",
       "      <th>f4</th>\n",
       "      <th>f5</th>\n",
       "      <th>f6</th>\n",
       "      <th>f7</th>\n",
       "      <th>f8</th>\n",
       "      <th>...</th>\n",
       "      <th>f91</th>\n",
       "      <th>f92</th>\n",
       "      <th>f93</th>\n",
       "      <th>f94</th>\n",
       "      <th>f95</th>\n",
       "      <th>f96</th>\n",
       "      <th>f97</th>\n",
       "      <th>f98</th>\n",
       "      <th>f99</th>\n",
       "      <th>loss</th>\n",
       "    </tr>\n",
       "  </thead>\n",
       "  <tbody>\n",
       "    <tr>\n",
       "      <th>0</th>\n",
       "      <td>0</td>\n",
       "      <td>-0.002350</td>\n",
       "      <td>59</td>\n",
       "      <td>0.766739</td>\n",
       "      <td>-1.350460</td>\n",
       "      <td>42.27270</td>\n",
       "      <td>16.68570</td>\n",
       "      <td>30.35990</td>\n",
       "      <td>1.267300</td>\n",
       "      <td>0.392007</td>\n",
       "      <td>...</td>\n",
       "      <td>-42.43990</td>\n",
       "      <td>26.854000</td>\n",
       "      <td>1.45751</td>\n",
       "      <td>0.696161</td>\n",
       "      <td>0.941764</td>\n",
       "      <td>1.828470</td>\n",
       "      <td>0.924090</td>\n",
       "      <td>2.296580</td>\n",
       "      <td>10.489800</td>\n",
       "      <td>15</td>\n",
       "    </tr>\n",
       "    <tr>\n",
       "      <th>1</th>\n",
       "      <td>1</td>\n",
       "      <td>0.784462</td>\n",
       "      <td>145</td>\n",
       "      <td>-0.463845</td>\n",
       "      <td>-0.530421</td>\n",
       "      <td>27324.90000</td>\n",
       "      <td>3.47545</td>\n",
       "      <td>160.49800</td>\n",
       "      <td>0.828007</td>\n",
       "      <td>3.735860</td>\n",
       "      <td>...</td>\n",
       "      <td>-184.13200</td>\n",
       "      <td>7.901370</td>\n",
       "      <td>1.70644</td>\n",
       "      <td>-0.494699</td>\n",
       "      <td>-2.058300</td>\n",
       "      <td>0.819184</td>\n",
       "      <td>0.439152</td>\n",
       "      <td>2.364700</td>\n",
       "      <td>1.143830</td>\n",
       "      <td>3</td>\n",
       "    </tr>\n",
       "    <tr>\n",
       "      <th>2</th>\n",
       "      <td>2</td>\n",
       "      <td>0.317816</td>\n",
       "      <td>19</td>\n",
       "      <td>-0.432571</td>\n",
       "      <td>-0.382644</td>\n",
       "      <td>1383.26000</td>\n",
       "      <td>19.71290</td>\n",
       "      <td>31.10260</td>\n",
       "      <td>-0.515354</td>\n",
       "      <td>34.430800</td>\n",
       "      <td>...</td>\n",
       "      <td>7.43721</td>\n",
       "      <td>37.218100</td>\n",
       "      <td>3.25339</td>\n",
       "      <td>0.337934</td>\n",
       "      <td>0.615037</td>\n",
       "      <td>2.216760</td>\n",
       "      <td>0.745268</td>\n",
       "      <td>1.696790</td>\n",
       "      <td>12.305500</td>\n",
       "      <td>6</td>\n",
       "    </tr>\n",
       "    <tr>\n",
       "      <th>3</th>\n",
       "      <td>3</td>\n",
       "      <td>0.210753</td>\n",
       "      <td>17</td>\n",
       "      <td>-0.616454</td>\n",
       "      <td>0.946362</td>\n",
       "      <td>-119.25300</td>\n",
       "      <td>4.08235</td>\n",
       "      <td>185.25700</td>\n",
       "      <td>1.383310</td>\n",
       "      <td>-47.521400</td>\n",
       "      <td>...</td>\n",
       "      <td>9.66778</td>\n",
       "      <td>0.626942</td>\n",
       "      <td>1.49425</td>\n",
       "      <td>0.517513</td>\n",
       "      <td>-10.222100</td>\n",
       "      <td>2.627310</td>\n",
       "      <td>0.617270</td>\n",
       "      <td>1.456450</td>\n",
       "      <td>10.028800</td>\n",
       "      <td>2</td>\n",
       "    </tr>\n",
       "    <tr>\n",
       "      <th>4</th>\n",
       "      <td>4</td>\n",
       "      <td>0.439671</td>\n",
       "      <td>20</td>\n",
       "      <td>0.968126</td>\n",
       "      <td>-0.092546</td>\n",
       "      <td>74.30200</td>\n",
       "      <td>12.30650</td>\n",
       "      <td>72.18600</td>\n",
       "      <td>-0.233964</td>\n",
       "      <td>24.399100</td>\n",
       "      <td>...</td>\n",
       "      <td>290.65700</td>\n",
       "      <td>15.604300</td>\n",
       "      <td>1.73557</td>\n",
       "      <td>-0.476668</td>\n",
       "      <td>1.390190</td>\n",
       "      <td>2.195740</td>\n",
       "      <td>0.826987</td>\n",
       "      <td>1.784850</td>\n",
       "      <td>7.071970</td>\n",
       "      <td>1</td>\n",
       "    </tr>\n",
       "    <tr>\n",
       "      <th>...</th>\n",
       "      <td>...</td>\n",
       "      <td>...</td>\n",
       "      <td>...</td>\n",
       "      <td>...</td>\n",
       "      <td>...</td>\n",
       "      <td>...</td>\n",
       "      <td>...</td>\n",
       "      <td>...</td>\n",
       "      <td>...</td>\n",
       "      <td>...</td>\n",
       "      <td>...</td>\n",
       "      <td>...</td>\n",
       "      <td>...</td>\n",
       "      <td>...</td>\n",
       "      <td>...</td>\n",
       "      <td>...</td>\n",
       "      <td>...</td>\n",
       "      <td>...</td>\n",
       "      <td>...</td>\n",
       "      <td>...</td>\n",
       "      <td>...</td>\n",
       "    </tr>\n",
       "    <tr>\n",
       "      <th>249995</th>\n",
       "      <td>249995</td>\n",
       "      <td>0.923980</td>\n",
       "      <td>6</td>\n",
       "      <td>0.663212</td>\n",
       "      <td>-0.055120</td>\n",
       "      <td>6.61768</td>\n",
       "      <td>1.26619</td>\n",
       "      <td>40.44790</td>\n",
       "      <td>0.852375</td>\n",
       "      <td>25.522400</td>\n",
       "      <td>...</td>\n",
       "      <td>3517.97000</td>\n",
       "      <td>18.534200</td>\n",
       "      <td>1.41936</td>\n",
       "      <td>0.607504</td>\n",
       "      <td>4.950780</td>\n",
       "      <td>2.853420</td>\n",
       "      <td>0.961882</td>\n",
       "      <td>1.068010</td>\n",
       "      <td>1.437650</td>\n",
       "      <td>11</td>\n",
       "    </tr>\n",
       "    <tr>\n",
       "      <th>249996</th>\n",
       "      <td>249996</td>\n",
       "      <td>0.243556</td>\n",
       "      <td>7</td>\n",
       "      <td>-0.557062</td>\n",
       "      <td>1.333470</td>\n",
       "      <td>-54.88610</td>\n",
       "      <td>17.58310</td>\n",
       "      <td>212.96400</td>\n",
       "      <td>-1.204750</td>\n",
       "      <td>-128.385000</td>\n",
       "      <td>...</td>\n",
       "      <td>1945.81000</td>\n",
       "      <td>19.482200</td>\n",
       "      <td>1.60072</td>\n",
       "      <td>-0.154877</td>\n",
       "      <td>5.693280</td>\n",
       "      <td>1.994540</td>\n",
       "      <td>0.760925</td>\n",
       "      <td>1.427880</td>\n",
       "      <td>1.226720</td>\n",
       "      <td>5</td>\n",
       "    </tr>\n",
       "    <tr>\n",
       "      <th>249997</th>\n",
       "      <td>249997</td>\n",
       "      <td>0.046023</td>\n",
       "      <td>53</td>\n",
       "      <td>0.462863</td>\n",
       "      <td>0.704034</td>\n",
       "      <td>2062.94000</td>\n",
       "      <td>14.58160</td>\n",
       "      <td>11.42710</td>\n",
       "      <td>-0.509812</td>\n",
       "      <td>80.818000</td>\n",
       "      <td>...</td>\n",
       "      <td>-28.46890</td>\n",
       "      <td>11.008200</td>\n",
       "      <td>1.61080</td>\n",
       "      <td>-0.350927</td>\n",
       "      <td>27.986900</td>\n",
       "      <td>1.012690</td>\n",
       "      <td>0.830533</td>\n",
       "      <td>1.005470</td>\n",
       "      <td>0.455332</td>\n",
       "      <td>1</td>\n",
       "    </tr>\n",
       "    <tr>\n",
       "      <th>249998</th>\n",
       "      <td>249998</td>\n",
       "      <td>0.977330</td>\n",
       "      <td>12</td>\n",
       "      <td>-1.002880</td>\n",
       "      <td>0.576377</td>\n",
       "      <td>4741.16000</td>\n",
       "      <td>11.10090</td>\n",
       "      <td>3.81546</td>\n",
       "      <td>0.616191</td>\n",
       "      <td>118.902000</td>\n",
       "      <td>...</td>\n",
       "      <td>-275.53700</td>\n",
       "      <td>21.985700</td>\n",
       "      <td>3.16051</td>\n",
       "      <td>0.772058</td>\n",
       "      <td>2.592220</td>\n",
       "      <td>3.938260</td>\n",
       "      <td>0.697430</td>\n",
       "      <td>0.962347</td>\n",
       "      <td>7.415890</td>\n",
       "      <td>10</td>\n",
       "    </tr>\n",
       "    <tr>\n",
       "      <th>249999</th>\n",
       "      <td>249999</td>\n",
       "      <td>0.244233</td>\n",
       "      <td>51</td>\n",
       "      <td>0.729304</td>\n",
       "      <td>-0.702592</td>\n",
       "      <td>197.46200</td>\n",
       "      <td>19.02400</td>\n",
       "      <td>42.33370</td>\n",
       "      <td>0.465181</td>\n",
       "      <td>-115.398000</td>\n",
       "      <td>...</td>\n",
       "      <td>5387.25000</td>\n",
       "      <td>38.574600</td>\n",
       "      <td>3.61783</td>\n",
       "      <td>-0.544969</td>\n",
       "      <td>-0.987695</td>\n",
       "      <td>1.871910</td>\n",
       "      <td>0.452516</td>\n",
       "      <td>0.935411</td>\n",
       "      <td>28.912200</td>\n",
       "      <td>7</td>\n",
       "    </tr>\n",
       "  </tbody>\n",
       "</table>\n",
       "<p>250000 rows × 102 columns</p>\n",
       "</div>"
      ],
      "text/plain": [
       "            id        f0   f1        f2        f3           f4        f5  \\\n",
       "0            0 -0.002350   59  0.766739 -1.350460     42.27270  16.68570   \n",
       "1            1  0.784462  145 -0.463845 -0.530421  27324.90000   3.47545   \n",
       "2            2  0.317816   19 -0.432571 -0.382644   1383.26000  19.71290   \n",
       "3            3  0.210753   17 -0.616454  0.946362   -119.25300   4.08235   \n",
       "4            4  0.439671   20  0.968126 -0.092546     74.30200  12.30650   \n",
       "...        ...       ...  ...       ...       ...          ...       ...   \n",
       "249995  249995  0.923980    6  0.663212 -0.055120      6.61768   1.26619   \n",
       "249996  249996  0.243556    7 -0.557062  1.333470    -54.88610  17.58310   \n",
       "249997  249997  0.046023   53  0.462863  0.704034   2062.94000  14.58160   \n",
       "249998  249998  0.977330   12 -1.002880  0.576377   4741.16000  11.10090   \n",
       "249999  249999  0.244233   51  0.729304 -0.702592    197.46200  19.02400   \n",
       "\n",
       "               f6        f7          f8  ...         f91        f92      f93  \\\n",
       "0        30.35990  1.267300    0.392007  ...   -42.43990  26.854000  1.45751   \n",
       "1       160.49800  0.828007    3.735860  ...  -184.13200   7.901370  1.70644   \n",
       "2        31.10260 -0.515354   34.430800  ...     7.43721  37.218100  3.25339   \n",
       "3       185.25700  1.383310  -47.521400  ...     9.66778   0.626942  1.49425   \n",
       "4        72.18600 -0.233964   24.399100  ...   290.65700  15.604300  1.73557   \n",
       "...           ...       ...         ...  ...         ...        ...      ...   \n",
       "249995   40.44790  0.852375   25.522400  ...  3517.97000  18.534200  1.41936   \n",
       "249996  212.96400 -1.204750 -128.385000  ...  1945.81000  19.482200  1.60072   \n",
       "249997   11.42710 -0.509812   80.818000  ...   -28.46890  11.008200  1.61080   \n",
       "249998    3.81546  0.616191  118.902000  ...  -275.53700  21.985700  3.16051   \n",
       "249999   42.33370  0.465181 -115.398000  ...  5387.25000  38.574600  3.61783   \n",
       "\n",
       "             f94        f95       f96       f97       f98        f99  loss  \n",
       "0       0.696161   0.941764  1.828470  0.924090  2.296580  10.489800    15  \n",
       "1      -0.494699  -2.058300  0.819184  0.439152  2.364700   1.143830     3  \n",
       "2       0.337934   0.615037  2.216760  0.745268  1.696790  12.305500     6  \n",
       "3       0.517513 -10.222100  2.627310  0.617270  1.456450  10.028800     2  \n",
       "4      -0.476668   1.390190  2.195740  0.826987  1.784850   7.071970     1  \n",
       "...          ...        ...       ...       ...       ...        ...   ...  \n",
       "249995  0.607504   4.950780  2.853420  0.961882  1.068010   1.437650    11  \n",
       "249996 -0.154877   5.693280  1.994540  0.760925  1.427880   1.226720     5  \n",
       "249997 -0.350927  27.986900  1.012690  0.830533  1.005470   0.455332     1  \n",
       "249998  0.772058   2.592220  3.938260  0.697430  0.962347   7.415890    10  \n",
       "249999 -0.544969  -0.987695  1.871910  0.452516  0.935411  28.912200     7  \n",
       "\n",
       "[250000 rows x 102 columns]"
      ]
     },
     "execution_count": 3,
     "metadata": {},
     "output_type": "execute_result"
    }
   ],
   "source": [
    "df1"
   ]
  },
  {
   "cell_type": "code",
   "execution_count": 4,
   "id": "fe1d5e77",
   "metadata": {},
   "outputs": [
    {
     "data": {
      "text/html": [
       "<div>\n",
       "<style scoped>\n",
       "    .dataframe tbody tr th:only-of-type {\n",
       "        vertical-align: middle;\n",
       "    }\n",
       "\n",
       "    .dataframe tbody tr th {\n",
       "        vertical-align: top;\n",
       "    }\n",
       "\n",
       "    .dataframe thead th {\n",
       "        text-align: right;\n",
       "    }\n",
       "</style>\n",
       "<table border=\"1\" class=\"dataframe\">\n",
       "  <thead>\n",
       "    <tr style=\"text-align: right;\">\n",
       "      <th></th>\n",
       "      <th>id</th>\n",
       "      <th>f0</th>\n",
       "      <th>f1</th>\n",
       "      <th>f2</th>\n",
       "      <th>f3</th>\n",
       "      <th>f4</th>\n",
       "      <th>f5</th>\n",
       "      <th>f6</th>\n",
       "      <th>f7</th>\n",
       "      <th>f8</th>\n",
       "      <th>...</th>\n",
       "      <th>f90</th>\n",
       "      <th>f91</th>\n",
       "      <th>f92</th>\n",
       "      <th>f93</th>\n",
       "      <th>f94</th>\n",
       "      <th>f95</th>\n",
       "      <th>f96</th>\n",
       "      <th>f97</th>\n",
       "      <th>f98</th>\n",
       "      <th>f99</th>\n",
       "    </tr>\n",
       "  </thead>\n",
       "  <tbody>\n",
       "    <tr>\n",
       "      <th>0</th>\n",
       "      <td>250000</td>\n",
       "      <td>0.812665</td>\n",
       "      <td>15</td>\n",
       "      <td>-1.239120</td>\n",
       "      <td>-0.893251</td>\n",
       "      <td>295.5770</td>\n",
       "      <td>15.87120</td>\n",
       "      <td>23.04360</td>\n",
       "      <td>0.942256</td>\n",
       "      <td>29.898000</td>\n",
       "      <td>...</td>\n",
       "      <td>0.446389</td>\n",
       "      <td>-422.332</td>\n",
       "      <td>-1.44630</td>\n",
       "      <td>1.69075</td>\n",
       "      <td>1.059300</td>\n",
       "      <td>-3.010570</td>\n",
       "      <td>1.94664</td>\n",
       "      <td>0.529470</td>\n",
       "      <td>1.386950</td>\n",
       "      <td>8.78767</td>\n",
       "    </tr>\n",
       "    <tr>\n",
       "      <th>1</th>\n",
       "      <td>250001</td>\n",
       "      <td>0.190344</td>\n",
       "      <td>131</td>\n",
       "      <td>-0.501361</td>\n",
       "      <td>0.801921</td>\n",
       "      <td>64.8866</td>\n",
       "      <td>3.09703</td>\n",
       "      <td>344.80500</td>\n",
       "      <td>0.807194</td>\n",
       "      <td>38.421900</td>\n",
       "      <td>...</td>\n",
       "      <td>0.377179</td>\n",
       "      <td>10352.200</td>\n",
       "      <td>21.06270</td>\n",
       "      <td>1.84351</td>\n",
       "      <td>0.251895</td>\n",
       "      <td>4.440570</td>\n",
       "      <td>1.90309</td>\n",
       "      <td>0.248534</td>\n",
       "      <td>0.863881</td>\n",
       "      <td>11.79390</td>\n",
       "    </tr>\n",
       "    <tr>\n",
       "      <th>2</th>\n",
       "      <td>250002</td>\n",
       "      <td>0.919671</td>\n",
       "      <td>19</td>\n",
       "      <td>-0.057382</td>\n",
       "      <td>0.901419</td>\n",
       "      <td>11961.2000</td>\n",
       "      <td>16.39650</td>\n",
       "      <td>273.24000</td>\n",
       "      <td>-0.003300</td>\n",
       "      <td>37.940000</td>\n",
       "      <td>...</td>\n",
       "      <td>0.990140</td>\n",
       "      <td>3224.020</td>\n",
       "      <td>-2.25287</td>\n",
       "      <td>1.55100</td>\n",
       "      <td>-0.559157</td>\n",
       "      <td>17.838600</td>\n",
       "      <td>1.83385</td>\n",
       "      <td>0.931796</td>\n",
       "      <td>2.336870</td>\n",
       "      <td>9.05400</td>\n",
       "    </tr>\n",
       "    <tr>\n",
       "      <th>3</th>\n",
       "      <td>250003</td>\n",
       "      <td>0.860985</td>\n",
       "      <td>19</td>\n",
       "      <td>-0.549509</td>\n",
       "      <td>0.471799</td>\n",
       "      <td>7501.6000</td>\n",
       "      <td>2.80698</td>\n",
       "      <td>71.08170</td>\n",
       "      <td>0.792136</td>\n",
       "      <td>0.395235</td>\n",
       "      <td>...</td>\n",
       "      <td>1.396880</td>\n",
       "      <td>9689.760</td>\n",
       "      <td>14.77150</td>\n",
       "      <td>1.41390</td>\n",
       "      <td>0.329272</td>\n",
       "      <td>0.802437</td>\n",
       "      <td>2.23251</td>\n",
       "      <td>0.893348</td>\n",
       "      <td>1.359470</td>\n",
       "      <td>4.84833</td>\n",
       "    </tr>\n",
       "    <tr>\n",
       "      <th>4</th>\n",
       "      <td>250004</td>\n",
       "      <td>0.313229</td>\n",
       "      <td>89</td>\n",
       "      <td>0.588509</td>\n",
       "      <td>0.167705</td>\n",
       "      <td>2931.2600</td>\n",
       "      <td>4.34986</td>\n",
       "      <td>1.57187</td>\n",
       "      <td>1.118300</td>\n",
       "      <td>7.754630</td>\n",
       "      <td>...</td>\n",
       "      <td>0.862502</td>\n",
       "      <td>2693.350</td>\n",
       "      <td>44.18050</td>\n",
       "      <td>1.58020</td>\n",
       "      <td>-0.191021</td>\n",
       "      <td>26.253000</td>\n",
       "      <td>2.68238</td>\n",
       "      <td>0.361923</td>\n",
       "      <td>1.532800</td>\n",
       "      <td>3.70660</td>\n",
       "    </tr>\n",
       "    <tr>\n",
       "      <th>...</th>\n",
       "      <td>...</td>\n",
       "      <td>...</td>\n",
       "      <td>...</td>\n",
       "      <td>...</td>\n",
       "      <td>...</td>\n",
       "      <td>...</td>\n",
       "      <td>...</td>\n",
       "      <td>...</td>\n",
       "      <td>...</td>\n",
       "      <td>...</td>\n",
       "      <td>...</td>\n",
       "      <td>...</td>\n",
       "      <td>...</td>\n",
       "      <td>...</td>\n",
       "      <td>...</td>\n",
       "      <td>...</td>\n",
       "      <td>...</td>\n",
       "      <td>...</td>\n",
       "      <td>...</td>\n",
       "      <td>...</td>\n",
       "      <td>...</td>\n",
       "    </tr>\n",
       "    <tr>\n",
       "      <th>149995</th>\n",
       "      <td>399995</td>\n",
       "      <td>0.751053</td>\n",
       "      <td>77</td>\n",
       "      <td>0.666725</td>\n",
       "      <td>-1.106280</td>\n",
       "      <td>21433.3000</td>\n",
       "      <td>16.58120</td>\n",
       "      <td>122.77900</td>\n",
       "      <td>-0.319314</td>\n",
       "      <td>-82.222900</td>\n",
       "      <td>...</td>\n",
       "      <td>1.540530</td>\n",
       "      <td>123.551</td>\n",
       "      <td>13.98240</td>\n",
       "      <td>2.34641</td>\n",
       "      <td>-0.438368</td>\n",
       "      <td>-2.587330</td>\n",
       "      <td>-0.62910</td>\n",
       "      <td>0.358354</td>\n",
       "      <td>1.434990</td>\n",
       "      <td>8.55460</td>\n",
       "    </tr>\n",
       "    <tr>\n",
       "      <th>149996</th>\n",
       "      <td>399996</td>\n",
       "      <td>0.734669</td>\n",
       "      <td>41</td>\n",
       "      <td>0.611225</td>\n",
       "      <td>0.740177</td>\n",
       "      <td>294.1850</td>\n",
       "      <td>10.72900</td>\n",
       "      <td>25.03340</td>\n",
       "      <td>0.644556</td>\n",
       "      <td>-13.998000</td>\n",
       "      <td>...</td>\n",
       "      <td>0.457699</td>\n",
       "      <td>7051.200</td>\n",
       "      <td>8.85935</td>\n",
       "      <td>1.48816</td>\n",
       "      <td>1.481120</td>\n",
       "      <td>0.307554</td>\n",
       "      <td>2.26251</td>\n",
       "      <td>0.563482</td>\n",
       "      <td>1.872810</td>\n",
       "      <td>12.54960</td>\n",
       "    </tr>\n",
       "    <tr>\n",
       "      <th>149997</th>\n",
       "      <td>399997</td>\n",
       "      <td>0.417307</td>\n",
       "      <td>142</td>\n",
       "      <td>-0.357854</td>\n",
       "      <td>-0.836640</td>\n",
       "      <td>1215.2500</td>\n",
       "      <td>10.62460</td>\n",
       "      <td>221.60400</td>\n",
       "      <td>0.875104</td>\n",
       "      <td>-41.531500</td>\n",
       "      <td>...</td>\n",
       "      <td>0.391639</td>\n",
       "      <td>10879.100</td>\n",
       "      <td>13.31930</td>\n",
       "      <td>2.11974</td>\n",
       "      <td>0.524081</td>\n",
       "      <td>22.268500</td>\n",
       "      <td>2.40363</td>\n",
       "      <td>0.288236</td>\n",
       "      <td>2.323660</td>\n",
       "      <td>12.33840</td>\n",
       "    </tr>\n",
       "    <tr>\n",
       "      <th>149998</th>\n",
       "      <td>399998</td>\n",
       "      <td>1.023900</td>\n",
       "      <td>17</td>\n",
       "      <td>0.367100</td>\n",
       "      <td>-0.936674</td>\n",
       "      <td>1832.3900</td>\n",
       "      <td>8.51691</td>\n",
       "      <td>262.79700</td>\n",
       "      <td>-0.474002</td>\n",
       "      <td>7.162060</td>\n",
       "      <td>...</td>\n",
       "      <td>0.405020</td>\n",
       "      <td>2513.930</td>\n",
       "      <td>38.75670</td>\n",
       "      <td>1.49949</td>\n",
       "      <td>-0.189529</td>\n",
       "      <td>7.632810</td>\n",
       "      <td>2.54065</td>\n",
       "      <td>0.453850</td>\n",
       "      <td>1.653140</td>\n",
       "      <td>31.16380</td>\n",
       "    </tr>\n",
       "    <tr>\n",
       "      <th>149999</th>\n",
       "      <td>399999</td>\n",
       "      <td>0.249362</td>\n",
       "      <td>49</td>\n",
       "      <td>0.344670</td>\n",
       "      <td>-0.566363</td>\n",
       "      <td>2290.9300</td>\n",
       "      <td>20.80300</td>\n",
       "      <td>350.64400</td>\n",
       "      <td>1.018560</td>\n",
       "      <td>9.507420</td>\n",
       "      <td>...</td>\n",
       "      <td>0.869155</td>\n",
       "      <td>12093.000</td>\n",
       "      <td>16.91400</td>\n",
       "      <td>1.65282</td>\n",
       "      <td>-0.763589</td>\n",
       "      <td>11.822300</td>\n",
       "      <td>2.22475</td>\n",
       "      <td>0.387568</td>\n",
       "      <td>1.561280</td>\n",
       "      <td>5.69671</td>\n",
       "    </tr>\n",
       "  </tbody>\n",
       "</table>\n",
       "<p>150000 rows × 101 columns</p>\n",
       "</div>"
      ],
      "text/plain": [
       "            id        f0   f1        f2        f3          f4        f5  \\\n",
       "0       250000  0.812665   15 -1.239120 -0.893251    295.5770  15.87120   \n",
       "1       250001  0.190344  131 -0.501361  0.801921     64.8866   3.09703   \n",
       "2       250002  0.919671   19 -0.057382  0.901419  11961.2000  16.39650   \n",
       "3       250003  0.860985   19 -0.549509  0.471799   7501.6000   2.80698   \n",
       "4       250004  0.313229   89  0.588509  0.167705   2931.2600   4.34986   \n",
       "...        ...       ...  ...       ...       ...         ...       ...   \n",
       "149995  399995  0.751053   77  0.666725 -1.106280  21433.3000  16.58120   \n",
       "149996  399996  0.734669   41  0.611225  0.740177    294.1850  10.72900   \n",
       "149997  399997  0.417307  142 -0.357854 -0.836640   1215.2500  10.62460   \n",
       "149998  399998  1.023900   17  0.367100 -0.936674   1832.3900   8.51691   \n",
       "149999  399999  0.249362   49  0.344670 -0.566363   2290.9300  20.80300   \n",
       "\n",
       "               f6        f7         f8  ...       f90        f91       f92  \\\n",
       "0        23.04360  0.942256  29.898000  ...  0.446389   -422.332  -1.44630   \n",
       "1       344.80500  0.807194  38.421900  ...  0.377179  10352.200  21.06270   \n",
       "2       273.24000 -0.003300  37.940000  ...  0.990140   3224.020  -2.25287   \n",
       "3        71.08170  0.792136   0.395235  ...  1.396880   9689.760  14.77150   \n",
       "4         1.57187  1.118300   7.754630  ...  0.862502   2693.350  44.18050   \n",
       "...           ...       ...        ...  ...       ...        ...       ...   \n",
       "149995  122.77900 -0.319314 -82.222900  ...  1.540530    123.551  13.98240   \n",
       "149996   25.03340  0.644556 -13.998000  ...  0.457699   7051.200   8.85935   \n",
       "149997  221.60400  0.875104 -41.531500  ...  0.391639  10879.100  13.31930   \n",
       "149998  262.79700 -0.474002   7.162060  ...  0.405020   2513.930  38.75670   \n",
       "149999  350.64400  1.018560   9.507420  ...  0.869155  12093.000  16.91400   \n",
       "\n",
       "            f93       f94        f95      f96       f97       f98       f99  \n",
       "0       1.69075  1.059300  -3.010570  1.94664  0.529470  1.386950   8.78767  \n",
       "1       1.84351  0.251895   4.440570  1.90309  0.248534  0.863881  11.79390  \n",
       "2       1.55100 -0.559157  17.838600  1.83385  0.931796  2.336870   9.05400  \n",
       "3       1.41390  0.329272   0.802437  2.23251  0.893348  1.359470   4.84833  \n",
       "4       1.58020 -0.191021  26.253000  2.68238  0.361923  1.532800   3.70660  \n",
       "...         ...       ...        ...      ...       ...       ...       ...  \n",
       "149995  2.34641 -0.438368  -2.587330 -0.62910  0.358354  1.434990   8.55460  \n",
       "149996  1.48816  1.481120   0.307554  2.26251  0.563482  1.872810  12.54960  \n",
       "149997  2.11974  0.524081  22.268500  2.40363  0.288236  2.323660  12.33840  \n",
       "149998  1.49949 -0.189529   7.632810  2.54065  0.453850  1.653140  31.16380  \n",
       "149999  1.65282 -0.763589  11.822300  2.22475  0.387568  1.561280   5.69671  \n",
       "\n",
       "[150000 rows x 101 columns]"
      ]
     },
     "execution_count": 4,
     "metadata": {},
     "output_type": "execute_result"
    }
   ],
   "source": [
    "df2"
   ]
  },
  {
   "cell_type": "code",
   "execution_count": 5,
   "id": "812b35d9",
   "metadata": {},
   "outputs": [
    {
     "data": {
      "text/plain": [
       "id      0\n",
       "f0      0\n",
       "f1      0\n",
       "f2      0\n",
       "f3      0\n",
       "       ..\n",
       "f96     0\n",
       "f97     0\n",
       "f98     0\n",
       "f99     0\n",
       "loss    0\n",
       "Length: 102, dtype: int64"
      ]
     },
     "execution_count": 5,
     "metadata": {},
     "output_type": "execute_result"
    }
   ],
   "source": [
    "df1.isnull().sum()"
   ]
  },
  {
   "cell_type": "code",
   "execution_count": 6,
   "id": "bc84f73c",
   "metadata": {},
   "outputs": [
    {
     "name": "stdout",
     "output_type": "stream",
     "text": [
      "<class 'pandas.core.frame.DataFrame'>\n",
      "RangeIndex: 250000 entries, 0 to 249999\n",
      "Columns: 102 entries, id to loss\n",
      "dtypes: float64(95), int64(7)\n",
      "memory usage: 194.5 MB\n"
     ]
    }
   ],
   "source": [
    "df1.info()"
   ]
  },
  {
   "cell_type": "code",
   "execution_count": 8,
   "id": "6a0892df",
   "metadata": {},
   "outputs": [
    {
     "data": {
      "text/plain": [
       "loss    1.000000\n",
       "f25     0.030164\n",
       "f52     0.026566\n",
       "f13     0.025730\n",
       "f46     0.023828\n",
       "          ...   \n",
       "f87     0.000660\n",
       "f67     0.000527\n",
       "f71     0.000469\n",
       "f80     0.000200\n",
       "f89     0.000070\n",
       "Name: loss, Length: 102, dtype: float64"
      ]
     },
     "execution_count": 8,
     "metadata": {},
     "output_type": "execute_result"
    }
   ],
   "source": [
    "abs(df1.corr()['loss']).sort_values(ascending=False)"
   ]
  },
  {
   "cell_type": "code",
   "execution_count": 7,
   "id": "30bd44c8",
   "metadata": {},
   "outputs": [],
   "source": [
    "x=df1.drop('loss',axis=1)\n",
    "y=df1['loss']"
   ]
  },
  {
   "cell_type": "code",
   "execution_count": 8,
   "id": "f0ac5848",
   "metadata": {},
   "outputs": [],
   "source": [
    "x_train,x_test,y_train,y_test=train_test_split(x,y,test_size=0.3,random_state=42)"
   ]
  },
  {
   "cell_type": "code",
   "execution_count": 9,
   "id": "7341cf7e",
   "metadata": {},
   "outputs": [],
   "source": [
    "gbr=GradientBoostingRegressor()\n",
    "öğren=gbr.fit(x_train,y_train)"
   ]
  },
  {
   "cell_type": "code",
   "execution_count": 10,
   "id": "998242b9",
   "metadata": {},
   "outputs": [],
   "source": [
    "y_pred=öğren.predict(x_test)"
   ]
  },
  {
   "cell_type": "code",
   "execution_count": 11,
   "id": "28800f58",
   "metadata": {},
   "outputs": [
    {
     "data": {
      "text/plain": [
       "0.013856213662188033"
      ]
     },
     "execution_count": 11,
     "metadata": {},
     "output_type": "execute_result"
    }
   ],
   "source": [
    "(r2_score(y_test,y_pred))"
   ]
  },
  {
   "cell_type": "code",
   "execution_count": 12,
   "id": "8e7565ae",
   "metadata": {},
   "outputs": [
    {
     "data": {
      "text/plain": [
       "7.8877795627591825"
      ]
     },
     "execution_count": 12,
     "metadata": {},
     "output_type": "execute_result"
    }
   ],
   "source": [
    "(mean_squared_error(y_test,y_pred))**0.5"
   ]
  },
  {
   "cell_type": "code",
   "execution_count": null,
   "id": "01cd6430",
   "metadata": {},
   "outputs": [],
   "source": []
  },
  {
   "cell_type": "code",
   "execution_count": null,
   "id": "d75c06f4",
   "metadata": {},
   "outputs": [],
   "source": []
  },
  {
   "cell_type": "code",
   "execution_count": null,
   "id": "b2c63d9f",
   "metadata": {},
   "outputs": [],
   "source": []
  },
  {
   "cell_type": "code",
   "execution_count": 13,
   "id": "114bffec",
   "metadata": {},
   "outputs": [],
   "source": [
    "from sklearn.linear_model import LinearRegression\n",
    "from sklearn.model_selection import train_test_split\n",
    "from sklearn.linear_model import Ridge,Lasso"
   ]
  },
  {
   "cell_type": "code",
   "execution_count": 14,
   "id": "7bcb2c87",
   "metadata": {},
   "outputs": [
    {
     "data": {
      "text/plain": [
       "array([6.2624592 , 6.96207755, 7.03473806, ..., 5.42189656, 7.23091289,\n",
       "       5.3062239 ])"
      ]
     },
     "execution_count": 14,
     "metadata": {},
     "output_type": "execute_result"
    }
   ],
   "source": [
    "lr=LinearRegression()\n",
    "regmodel=lr.fit(x_train,y_train)\n",
    "y_pretest=regmodel.predict(x_test)\n",
    "y_pretest"
   ]
  },
  {
   "cell_type": "code",
   "execution_count": 15,
   "id": "31081372",
   "metadata": {},
   "outputs": [
    {
     "data": {
      "text/plain": [
       "7.9021589717393645"
      ]
     },
     "execution_count": 15,
     "metadata": {},
     "output_type": "execute_result"
    }
   ],
   "source": [
    "(mean_squared_error(y_test,y_pretest))**0.5"
   ]
  },
  {
   "cell_type": "code",
   "execution_count": 16,
   "id": "e3246c80",
   "metadata": {},
   "outputs": [
    {
     "data": {
      "text/plain": [
       "0.010257459434210747"
      ]
     },
     "execution_count": 16,
     "metadata": {},
     "output_type": "execute_result"
    }
   ],
   "source": [
    "r2_score(y_test,y_pretest)"
   ]
  },
  {
   "cell_type": "code",
   "execution_count": 17,
   "id": "ca67b5b1",
   "metadata": {},
   "outputs": [
    {
     "name": "stderr",
     "output_type": "stream",
     "text": [
      "C:\\Users\\bilal\\AppData\\Local\\Programs\\Python\\Python38\\lib\\site-packages\\sklearn\\linear_model\\_ridge.py:147: LinAlgWarning: Ill-conditioned matrix (rcond=1.21123e-22): result may not be accurate.\n",
      "  return linalg.solve(A, Xy, sym_pos=True,\n"
     ]
    }
   ],
   "source": [
    "R=Ridge()\n",
    "R.fit(x_train,y_train)\n",
    "y_pred_ridge=R.predict(x_test)"
   ]
  },
  {
   "cell_type": "code",
   "execution_count": 18,
   "id": "7af9357c",
   "metadata": {},
   "outputs": [
    {
     "data": {
      "text/plain": [
       "7.90216094544365"
      ]
     },
     "execution_count": 18,
     "metadata": {},
     "output_type": "execute_result"
    }
   ],
   "source": [
    "(mean_squared_error(y_test,y_pred_ridge))**0.5"
   ]
  },
  {
   "cell_type": "code",
   "execution_count": 19,
   "id": "6d0c0ae7",
   "metadata": {},
   "outputs": [
    {
     "data": {
      "text/plain": [
       "0.010256965022659603"
      ]
     },
     "execution_count": 19,
     "metadata": {},
     "output_type": "execute_result"
    }
   ],
   "source": [
    "r2_score(y_test,y_pred_ridge)"
   ]
  },
  {
   "cell_type": "code",
   "execution_count": 20,
   "id": "27dadca0",
   "metadata": {},
   "outputs": [],
   "source": [
    "L=Lasso()\n",
    "L.fit(x_train,y_train)\n",
    "y_pred_lasso=L.predict(x_test)"
   ]
  },
  {
   "cell_type": "code",
   "execution_count": 21,
   "id": "47edb6a8",
   "metadata": {},
   "outputs": [
    {
     "data": {
      "text/plain": [
       "7.933357195126258"
      ]
     },
     "execution_count": 21,
     "metadata": {},
     "output_type": "execute_result"
    }
   ],
   "source": [
    "(mean_squared_error(y_test,y_pred_lasso))**0.5"
   ]
  },
  {
   "cell_type": "code",
   "execution_count": 22,
   "id": "e85ddccf",
   "metadata": {},
   "outputs": [
    {
     "data": {
      "text/plain": [
       "0.002426899824491846"
      ]
     },
     "execution_count": 22,
     "metadata": {},
     "output_type": "execute_result"
    }
   ],
   "source": [
    "r2_score(y_test,y_pred_lasso)"
   ]
  },
  {
   "cell_type": "code",
   "execution_count": 23,
   "id": "48709c7f",
   "metadata": {},
   "outputs": [],
   "source": [
    "tabusonuc=öğren.predict(df2)"
   ]
  },
  {
   "cell_type": "code",
   "execution_count": 24,
   "id": "e1faa559",
   "metadata": {},
   "outputs": [],
   "source": [
    "df2['loss']=tabusonuc"
   ]
  },
  {
   "cell_type": "code",
   "execution_count": 25,
   "id": "c293ebce",
   "metadata": {},
   "outputs": [],
   "source": [
    "df3=df2[['id','loss']]"
   ]
  },
  {
   "cell_type": "code",
   "execution_count": 26,
   "id": "3980b835",
   "metadata": {},
   "outputs": [],
   "source": [
    "df3.to_csv('tabusonuc.csv',index=False)"
   ]
  },
  {
   "cell_type": "code",
   "execution_count": null,
   "id": "bcb26385",
   "metadata": {},
   "outputs": [],
   "source": [
    "## BU PROJEDEN KAGGLE DA 7.87 ALDIM 1.NİN PUANI 7.79 PROJEDE R2_SCORE FAZLA DÜŞÜK GÖZÜKTÜ AMA HERKESTE ÖYLE SANIRIM"
   ]
  },
  {
   "cell_type": "code",
   "execution_count": null,
   "id": "db89ff92",
   "metadata": {},
   "outputs": [],
   "source": []
  }
 ],
 "metadata": {
  "kernelspec": {
   "display_name": "Python 3 (ipykernel)",
   "language": "python",
   "name": "python3"
  },
  "language_info": {
   "codemirror_mode": {
    "name": "ipython",
    "version": 3
   },
   "file_extension": ".py",
   "mimetype": "text/x-python",
   "name": "python",
   "nbconvert_exporter": "python",
   "pygments_lexer": "ipython3",
   "version": "3.8.3"
  }
 },
 "nbformat": 4,
 "nbformat_minor": 5
}
