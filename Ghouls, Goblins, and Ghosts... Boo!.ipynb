{
 "cells": [
  {
   "cell_type": "code",
   "execution_count": 1,
   "id": "e97abeb1",
   "metadata": {},
   "outputs": [],
   "source": [
    "import pandas as pd\n",
    "import numpy as np"
   ]
  },
  {
   "cell_type": "code",
   "execution_count": 2,
   "id": "f07805c7",
   "metadata": {},
   "outputs": [],
   "source": [
    "df1=pd.read_csv('train.csv')\n",
    "df2=pd.read_csv('test.csv')"
   ]
  },
  {
   "cell_type": "code",
   "execution_count": 3,
   "id": "5d517126",
   "metadata": {},
   "outputs": [
    {
     "data": {
      "text/html": [
       "<div>\n",
       "<style scoped>\n",
       "    .dataframe tbody tr th:only-of-type {\n",
       "        vertical-align: middle;\n",
       "    }\n",
       "\n",
       "    .dataframe tbody tr th {\n",
       "        vertical-align: top;\n",
       "    }\n",
       "\n",
       "    .dataframe thead th {\n",
       "        text-align: right;\n",
       "    }\n",
       "</style>\n",
       "<table border=\"1\" class=\"dataframe\">\n",
       "  <thead>\n",
       "    <tr style=\"text-align: right;\">\n",
       "      <th></th>\n",
       "      <th>id</th>\n",
       "      <th>bone_length</th>\n",
       "      <th>rotting_flesh</th>\n",
       "      <th>hair_length</th>\n",
       "      <th>has_soul</th>\n",
       "      <th>color</th>\n",
       "      <th>type</th>\n",
       "    </tr>\n",
       "  </thead>\n",
       "  <tbody>\n",
       "    <tr>\n",
       "      <th>0</th>\n",
       "      <td>0</td>\n",
       "      <td>0.354512</td>\n",
       "      <td>0.350839</td>\n",
       "      <td>0.465761</td>\n",
       "      <td>0.781142</td>\n",
       "      <td>clear</td>\n",
       "      <td>Ghoul</td>\n",
       "    </tr>\n",
       "    <tr>\n",
       "      <th>1</th>\n",
       "      <td>1</td>\n",
       "      <td>0.575560</td>\n",
       "      <td>0.425868</td>\n",
       "      <td>0.531401</td>\n",
       "      <td>0.439899</td>\n",
       "      <td>green</td>\n",
       "      <td>Goblin</td>\n",
       "    </tr>\n",
       "    <tr>\n",
       "      <th>2</th>\n",
       "      <td>2</td>\n",
       "      <td>0.467875</td>\n",
       "      <td>0.354330</td>\n",
       "      <td>0.811616</td>\n",
       "      <td>0.791225</td>\n",
       "      <td>black</td>\n",
       "      <td>Ghoul</td>\n",
       "    </tr>\n",
       "    <tr>\n",
       "      <th>3</th>\n",
       "      <td>4</td>\n",
       "      <td>0.776652</td>\n",
       "      <td>0.508723</td>\n",
       "      <td>0.636766</td>\n",
       "      <td>0.884464</td>\n",
       "      <td>black</td>\n",
       "      <td>Ghoul</td>\n",
       "    </tr>\n",
       "    <tr>\n",
       "      <th>4</th>\n",
       "      <td>5</td>\n",
       "      <td>0.566117</td>\n",
       "      <td>0.875862</td>\n",
       "      <td>0.418594</td>\n",
       "      <td>0.636438</td>\n",
       "      <td>green</td>\n",
       "      <td>Ghost</td>\n",
       "    </tr>\n",
       "    <tr>\n",
       "      <th>...</th>\n",
       "      <td>...</td>\n",
       "      <td>...</td>\n",
       "      <td>...</td>\n",
       "      <td>...</td>\n",
       "      <td>...</td>\n",
       "      <td>...</td>\n",
       "      <td>...</td>\n",
       "    </tr>\n",
       "    <tr>\n",
       "      <th>366</th>\n",
       "      <td>886</td>\n",
       "      <td>0.458132</td>\n",
       "      <td>0.391760</td>\n",
       "      <td>0.660590</td>\n",
       "      <td>0.635689</td>\n",
       "      <td>blue</td>\n",
       "      <td>Goblin</td>\n",
       "    </tr>\n",
       "    <tr>\n",
       "      <th>367</th>\n",
       "      <td>889</td>\n",
       "      <td>0.331936</td>\n",
       "      <td>0.564836</td>\n",
       "      <td>0.539216</td>\n",
       "      <td>0.551471</td>\n",
       "      <td>green</td>\n",
       "      <td>Ghost</td>\n",
       "    </tr>\n",
       "    <tr>\n",
       "      <th>368</th>\n",
       "      <td>890</td>\n",
       "      <td>0.481640</td>\n",
       "      <td>0.501147</td>\n",
       "      <td>0.496446</td>\n",
       "      <td>0.544003</td>\n",
       "      <td>clear</td>\n",
       "      <td>Ghoul</td>\n",
       "    </tr>\n",
       "    <tr>\n",
       "      <th>369</th>\n",
       "      <td>896</td>\n",
       "      <td>0.294943</td>\n",
       "      <td>0.771286</td>\n",
       "      <td>0.583503</td>\n",
       "      <td>0.300618</td>\n",
       "      <td>clear</td>\n",
       "      <td>Ghost</td>\n",
       "    </tr>\n",
       "    <tr>\n",
       "      <th>370</th>\n",
       "      <td>897</td>\n",
       "      <td>0.670200</td>\n",
       "      <td>0.768469</td>\n",
       "      <td>0.737274</td>\n",
       "      <td>0.608384</td>\n",
       "      <td>white</td>\n",
       "      <td>Ghoul</td>\n",
       "    </tr>\n",
       "  </tbody>\n",
       "</table>\n",
       "<p>371 rows × 7 columns</p>\n",
       "</div>"
      ],
      "text/plain": [
       "      id  bone_length  rotting_flesh  hair_length  has_soul  color    type\n",
       "0      0     0.354512       0.350839     0.465761  0.781142  clear   Ghoul\n",
       "1      1     0.575560       0.425868     0.531401  0.439899  green  Goblin\n",
       "2      2     0.467875       0.354330     0.811616  0.791225  black   Ghoul\n",
       "3      4     0.776652       0.508723     0.636766  0.884464  black   Ghoul\n",
       "4      5     0.566117       0.875862     0.418594  0.636438  green   Ghost\n",
       "..   ...          ...            ...          ...       ...    ...     ...\n",
       "366  886     0.458132       0.391760     0.660590  0.635689   blue  Goblin\n",
       "367  889     0.331936       0.564836     0.539216  0.551471  green   Ghost\n",
       "368  890     0.481640       0.501147     0.496446  0.544003  clear   Ghoul\n",
       "369  896     0.294943       0.771286     0.583503  0.300618  clear   Ghost\n",
       "370  897     0.670200       0.768469     0.737274  0.608384  white   Ghoul\n",
       "\n",
       "[371 rows x 7 columns]"
      ]
     },
     "execution_count": 3,
     "metadata": {},
     "output_type": "execute_result"
    }
   ],
   "source": [
    "df1"
   ]
  },
  {
   "cell_type": "code",
   "execution_count": 4,
   "id": "6cceef74",
   "metadata": {},
   "outputs": [
    {
     "data": {
      "text/plain": [
       "white    137\n",
       "clear    120\n",
       "green     42\n",
       "black     41\n",
       "blue      19\n",
       "blood     12\n",
       "Name: color, dtype: int64"
      ]
     },
     "execution_count": 4,
     "metadata": {},
     "output_type": "execute_result"
    }
   ],
   "source": [
    "df1.color.value_counts()"
   ]
  },
  {
   "cell_type": "code",
   "execution_count": 5,
   "id": "1c5ff78e",
   "metadata": {},
   "outputs": [],
   "source": [
    "a=pd.get_dummies(df1.color)"
   ]
  },
  {
   "cell_type": "code",
   "execution_count": 6,
   "id": "bf2d1ce0",
   "metadata": {},
   "outputs": [
    {
     "data": {
      "text/html": [
       "<div>\n",
       "<style scoped>\n",
       "    .dataframe tbody tr th:only-of-type {\n",
       "        vertical-align: middle;\n",
       "    }\n",
       "\n",
       "    .dataframe tbody tr th {\n",
       "        vertical-align: top;\n",
       "    }\n",
       "\n",
       "    .dataframe thead th {\n",
       "        text-align: right;\n",
       "    }\n",
       "</style>\n",
       "<table border=\"1\" class=\"dataframe\">\n",
       "  <thead>\n",
       "    <tr style=\"text-align: right;\">\n",
       "      <th></th>\n",
       "      <th>black</th>\n",
       "      <th>blood</th>\n",
       "      <th>blue</th>\n",
       "      <th>clear</th>\n",
       "      <th>green</th>\n",
       "      <th>white</th>\n",
       "    </tr>\n",
       "  </thead>\n",
       "  <tbody>\n",
       "    <tr>\n",
       "      <th>0</th>\n",
       "      <td>0</td>\n",
       "      <td>0</td>\n",
       "      <td>0</td>\n",
       "      <td>1</td>\n",
       "      <td>0</td>\n",
       "      <td>0</td>\n",
       "    </tr>\n",
       "    <tr>\n",
       "      <th>1</th>\n",
       "      <td>0</td>\n",
       "      <td>0</td>\n",
       "      <td>0</td>\n",
       "      <td>0</td>\n",
       "      <td>1</td>\n",
       "      <td>0</td>\n",
       "    </tr>\n",
       "    <tr>\n",
       "      <th>2</th>\n",
       "      <td>1</td>\n",
       "      <td>0</td>\n",
       "      <td>0</td>\n",
       "      <td>0</td>\n",
       "      <td>0</td>\n",
       "      <td>0</td>\n",
       "    </tr>\n",
       "    <tr>\n",
       "      <th>3</th>\n",
       "      <td>1</td>\n",
       "      <td>0</td>\n",
       "      <td>0</td>\n",
       "      <td>0</td>\n",
       "      <td>0</td>\n",
       "      <td>0</td>\n",
       "    </tr>\n",
       "    <tr>\n",
       "      <th>4</th>\n",
       "      <td>0</td>\n",
       "      <td>0</td>\n",
       "      <td>0</td>\n",
       "      <td>0</td>\n",
       "      <td>1</td>\n",
       "      <td>0</td>\n",
       "    </tr>\n",
       "    <tr>\n",
       "      <th>...</th>\n",
       "      <td>...</td>\n",
       "      <td>...</td>\n",
       "      <td>...</td>\n",
       "      <td>...</td>\n",
       "      <td>...</td>\n",
       "      <td>...</td>\n",
       "    </tr>\n",
       "    <tr>\n",
       "      <th>366</th>\n",
       "      <td>0</td>\n",
       "      <td>0</td>\n",
       "      <td>1</td>\n",
       "      <td>0</td>\n",
       "      <td>0</td>\n",
       "      <td>0</td>\n",
       "    </tr>\n",
       "    <tr>\n",
       "      <th>367</th>\n",
       "      <td>0</td>\n",
       "      <td>0</td>\n",
       "      <td>0</td>\n",
       "      <td>0</td>\n",
       "      <td>1</td>\n",
       "      <td>0</td>\n",
       "    </tr>\n",
       "    <tr>\n",
       "      <th>368</th>\n",
       "      <td>0</td>\n",
       "      <td>0</td>\n",
       "      <td>0</td>\n",
       "      <td>1</td>\n",
       "      <td>0</td>\n",
       "      <td>0</td>\n",
       "    </tr>\n",
       "    <tr>\n",
       "      <th>369</th>\n",
       "      <td>0</td>\n",
       "      <td>0</td>\n",
       "      <td>0</td>\n",
       "      <td>1</td>\n",
       "      <td>0</td>\n",
       "      <td>0</td>\n",
       "    </tr>\n",
       "    <tr>\n",
       "      <th>370</th>\n",
       "      <td>0</td>\n",
       "      <td>0</td>\n",
       "      <td>0</td>\n",
       "      <td>0</td>\n",
       "      <td>0</td>\n",
       "      <td>1</td>\n",
       "    </tr>\n",
       "  </tbody>\n",
       "</table>\n",
       "<p>371 rows × 6 columns</p>\n",
       "</div>"
      ],
      "text/plain": [
       "     black  blood  blue  clear  green  white\n",
       "0        0      0     0      1      0      0\n",
       "1        0      0     0      0      1      0\n",
       "2        1      0     0      0      0      0\n",
       "3        1      0     0      0      0      0\n",
       "4        0      0     0      0      1      0\n",
       "..     ...    ...   ...    ...    ...    ...\n",
       "366      0      0     1      0      0      0\n",
       "367      0      0     0      0      1      0\n",
       "368      0      0     0      1      0      0\n",
       "369      0      0     0      1      0      0\n",
       "370      0      0     0      0      0      1\n",
       "\n",
       "[371 rows x 6 columns]"
      ]
     },
     "execution_count": 6,
     "metadata": {},
     "output_type": "execute_result"
    }
   ],
   "source": [
    "a"
   ]
  },
  {
   "cell_type": "code",
   "execution_count": 7,
   "id": "1fb99c5e",
   "metadata": {},
   "outputs": [
    {
     "data": {
      "text/plain": [
       "Ghoul     129\n",
       "Goblin    125\n",
       "Ghost     117\n",
       "Name: type, dtype: int64"
      ]
     },
     "execution_count": 7,
     "metadata": {},
     "output_type": "execute_result"
    }
   ],
   "source": [
    "df1.type.value_counts()"
   ]
  },
  {
   "cell_type": "code",
   "execution_count": 8,
   "id": "4c7e096a",
   "metadata": {},
   "outputs": [],
   "source": [
    "df1.drop('id',axis=1,inplace=True)"
   ]
  },
  {
   "cell_type": "code",
   "execution_count": 9,
   "id": "462b007e",
   "metadata": {},
   "outputs": [],
   "source": [
    "x=df1.drop('type',axis=1)\n",
    "y=df1['type']"
   ]
  },
  {
   "cell_type": "code",
   "execution_count": 10,
   "id": "a59601f0",
   "metadata": {},
   "outputs": [],
   "source": [
    "x=pd.get_dummies(x)"
   ]
  },
  {
   "cell_type": "code",
   "execution_count": 11,
   "id": "89459490",
   "metadata": {},
   "outputs": [],
   "source": [
    "from sklearn.metrics import accuracy_score,precision_score,recall_score,f1_score\n",
    "from sklearn.ensemble import GradientBoostingClassifier\n",
    "gbc=GradientBoostingClassifier()\n",
    "from sklearn.model_selection import train_test_split"
   ]
  },
  {
   "cell_type": "code",
   "execution_count": 12,
   "id": "51407970",
   "metadata": {},
   "outputs": [],
   "source": [
    "x_train,x_test,y_train,y_test=train_test_split(x,y,test_size=0.2,random_state=42)"
   ]
  },
  {
   "cell_type": "code",
   "execution_count": 13,
   "id": "193cb07d",
   "metadata": {},
   "outputs": [
    {
     "data": {
      "text/plain": [
       "GradientBoostingClassifier()"
      ]
     },
     "execution_count": 13,
     "metadata": {},
     "output_type": "execute_result"
    }
   ],
   "source": [
    "gbc.fit(x_train,y_train)"
   ]
  },
  {
   "cell_type": "code",
   "execution_count": 14,
   "id": "5c75af12",
   "metadata": {},
   "outputs": [],
   "source": [
    "y_pred=gbc.predict(x_test)"
   ]
  },
  {
   "cell_type": "code",
   "execution_count": 15,
   "id": "da2452f5",
   "metadata": {},
   "outputs": [
    {
     "data": {
      "text/plain": [
       "0.6666666666666666"
      ]
     },
     "execution_count": 15,
     "metadata": {},
     "output_type": "execute_result"
    }
   ],
   "source": [
    "accuracy_score(y_test,y_pred)"
   ]
  },
  {
   "cell_type": "code",
   "execution_count": 16,
   "id": "916b7424",
   "metadata": {},
   "outputs": [],
   "source": [
    "h=df2['id']"
   ]
  },
  {
   "cell_type": "code",
   "execution_count": 17,
   "id": "5fc53504",
   "metadata": {},
   "outputs": [],
   "source": [
    "df2.drop('id',axis=1,inplace=True)"
   ]
  },
  {
   "cell_type": "code",
   "execution_count": 18,
   "id": "df9e8da0",
   "metadata": {},
   "outputs": [],
   "source": [
    "df2=pd.get_dummies(df2)"
   ]
  },
  {
   "cell_type": "code",
   "execution_count": 19,
   "id": "bf11a5dd",
   "metadata": {},
   "outputs": [],
   "source": [
    "y_pred1=gbc.predict(df2)"
   ]
  },
  {
   "cell_type": "code",
   "execution_count": null,
   "id": "1864760e",
   "metadata": {},
   "outputs": [],
   "source": []
  },
  {
   "cell_type": "code",
   "execution_count": 20,
   "id": "c67647d6",
   "metadata": {},
   "outputs": [],
   "source": [
    "df2['id']=h"
   ]
  },
  {
   "cell_type": "code",
   "execution_count": 22,
   "id": "e15a3d7b",
   "metadata": {},
   "outputs": [],
   "source": [
    "df2['type']=y_pred1"
   ]
  },
  {
   "cell_type": "code",
   "execution_count": 24,
   "id": "1377f6c4",
   "metadata": {},
   "outputs": [],
   "source": [
    "df2[['id','type']].to_csv('canavar.csv',index=False)"
   ]
  },
  {
   "cell_type": "code",
   "execution_count": null,
   "id": "f8154296",
   "metadata": {},
   "outputs": [],
   "source": []
  }
 ],
 "metadata": {
  "kernelspec": {
   "display_name": "Python 3 (ipykernel)",
   "language": "python",
   "name": "python3"
  },
  "language_info": {
   "codemirror_mode": {
    "name": "ipython",
    "version": 3
   },
   "file_extension": ".py",
   "mimetype": "text/x-python",
   "name": "python",
   "nbconvert_exporter": "python",
   "pygments_lexer": "ipython3",
   "version": "3.8.3"
  }
 },
 "nbformat": 4,
 "nbformat_minor": 5
}
