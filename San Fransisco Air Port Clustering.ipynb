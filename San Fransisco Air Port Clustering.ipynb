{
 "cells": [
  {
   "cell_type": "code",
   "execution_count": 1,
   "id": "121f21ae",
   "metadata": {},
   "outputs": [],
   "source": [
    "import pandas as pd\n",
    "import numpy as np\n",
    "import matplotlib.pyplot as plt\n",
    "%matplotlib inline\n",
    "import seaborn as sns"
   ]
  },
  {
   "cell_type": "code",
   "execution_count": 2,
   "id": "286551ff",
   "metadata": {},
   "outputs": [],
   "source": [
    "from sklearn.cluster import KMeans\n",
    "from sklearn.metrics import silhouette_score\n",
    "import warnings\n",
    "warnings.filterwarnings('ignore')\n",
    "pd.set_option('display.max_columns',181)"
   ]
  },
  {
   "cell_type": "code",
   "execution_count": 3,
   "id": "35b34f19",
   "metadata": {},
   "outputs": [],
   "source": [
    "df=pd.read_csv('air-traffic-passenger-statistics.csv')"
   ]
  },
  {
   "cell_type": "code",
   "execution_count": 4,
   "id": "436ee442",
   "metadata": {},
   "outputs": [
    {
     "name": "stdout",
     "output_type": "stream",
     "text": [
      "<class 'pandas.core.frame.DataFrame'>\n",
      "RangeIndex: 18885 entries, 0 to 18884\n",
      "Data columns (total 12 columns):\n",
      " #   Column                       Non-Null Count  Dtype \n",
      "---  ------                       --------------  ----- \n",
      " 0   Activity Period              18885 non-null  int64 \n",
      " 1   Operating Airline            18885 non-null  object\n",
      " 2   Operating Airline IATA Code  18822 non-null  object\n",
      " 3   Published Airline            18885 non-null  object\n",
      " 4   Published Airline IATA Code  18822 non-null  object\n",
      " 5   GEO Summary                  18885 non-null  object\n",
      " 6   GEO Region                   18885 non-null  object\n",
      " 7   Activity Type Code           18885 non-null  object\n",
      " 8   Price Category Code          18885 non-null  object\n",
      " 9   Terminal                     18885 non-null  object\n",
      " 10  Boarding Area                18885 non-null  object\n",
      " 11  Passenger Count              18885 non-null  int64 \n",
      "dtypes: int64(2), object(10)\n",
      "memory usage: 1.7+ MB\n"
     ]
    }
   ],
   "source": [
    "df.info()"
   ]
  },
  {
   "cell_type": "code",
   "execution_count": 5,
   "id": "cd3d0ffd",
   "metadata": {},
   "outputs": [
    {
     "data": {
      "text/plain": [
       "Activity Period                 0\n",
       "Operating Airline               0\n",
       "Operating Airline IATA Code    63\n",
       "Published Airline               0\n",
       "Published Airline IATA Code    63\n",
       "GEO Summary                     0\n",
       "GEO Region                      0\n",
       "Activity Type Code              0\n",
       "Price Category Code             0\n",
       "Terminal                        0\n",
       "Boarding Area                   0\n",
       "Passenger Count                 0\n",
       "dtype: int64"
      ]
     },
     "execution_count": 5,
     "metadata": {},
     "output_type": "execute_result"
    }
   ],
   "source": [
    "df.isnull().sum()"
   ]
  },
  {
   "cell_type": "code",
   "execution_count": 6,
   "id": "6bfc48e7",
   "metadata": {},
   "outputs": [],
   "source": [
    "df['Operating Airline IATA Code'].fillna('None',inplace=True)\n",
    "df['Published Airline IATA Code'].fillna('None',inplace=True)"
   ]
  },
  {
   "cell_type": "code",
   "execution_count": 7,
   "id": "45ec7839",
   "metadata": {},
   "outputs": [
    {
     "data": {
      "text/plain": [
       "(18885, 12)"
      ]
     },
     "execution_count": 7,
     "metadata": {},
     "output_type": "execute_result"
    }
   ],
   "source": [
    "df.shape"
   ]
  },
  {
   "cell_type": "code",
   "execution_count": 8,
   "id": "f10b27f6",
   "metadata": {},
   "outputs": [
    {
     "data": {
      "text/html": [
       "<div>\n",
       "<style scoped>\n",
       "    .dataframe tbody tr th:only-of-type {\n",
       "        vertical-align: middle;\n",
       "    }\n",
       "\n",
       "    .dataframe tbody tr th {\n",
       "        vertical-align: top;\n",
       "    }\n",
       "\n",
       "    .dataframe thead th {\n",
       "        text-align: right;\n",
       "    }\n",
       "</style>\n",
       "<table border=\"1\" class=\"dataframe\">\n",
       "  <thead>\n",
       "    <tr style=\"text-align: right;\">\n",
       "      <th></th>\n",
       "      <th>Activity Period</th>\n",
       "      <th>Operating Airline</th>\n",
       "      <th>Operating Airline IATA Code</th>\n",
       "      <th>Published Airline</th>\n",
       "      <th>Published Airline IATA Code</th>\n",
       "      <th>GEO Summary</th>\n",
       "      <th>GEO Region</th>\n",
       "      <th>Activity Type Code</th>\n",
       "      <th>Price Category Code</th>\n",
       "      <th>Terminal</th>\n",
       "      <th>Boarding Area</th>\n",
       "      <th>Passenger Count</th>\n",
       "    </tr>\n",
       "  </thead>\n",
       "  <tbody>\n",
       "    <tr>\n",
       "      <th>0</th>\n",
       "      <td>200507</td>\n",
       "      <td>ATA Airlines</td>\n",
       "      <td>TZ</td>\n",
       "      <td>ATA Airlines</td>\n",
       "      <td>TZ</td>\n",
       "      <td>Domestic</td>\n",
       "      <td>US</td>\n",
       "      <td>Deplaned</td>\n",
       "      <td>Low Fare</td>\n",
       "      <td>Terminal 1</td>\n",
       "      <td>B</td>\n",
       "      <td>27271</td>\n",
       "    </tr>\n",
       "    <tr>\n",
       "      <th>1</th>\n",
       "      <td>200507</td>\n",
       "      <td>ATA Airlines</td>\n",
       "      <td>TZ</td>\n",
       "      <td>ATA Airlines</td>\n",
       "      <td>TZ</td>\n",
       "      <td>Domestic</td>\n",
       "      <td>US</td>\n",
       "      <td>Enplaned</td>\n",
       "      <td>Low Fare</td>\n",
       "      <td>Terminal 1</td>\n",
       "      <td>B</td>\n",
       "      <td>29131</td>\n",
       "    </tr>\n",
       "    <tr>\n",
       "      <th>2</th>\n",
       "      <td>200507</td>\n",
       "      <td>ATA Airlines</td>\n",
       "      <td>TZ</td>\n",
       "      <td>ATA Airlines</td>\n",
       "      <td>TZ</td>\n",
       "      <td>Domestic</td>\n",
       "      <td>US</td>\n",
       "      <td>Thru / Transit</td>\n",
       "      <td>Low Fare</td>\n",
       "      <td>Terminal 1</td>\n",
       "      <td>B</td>\n",
       "      <td>5415</td>\n",
       "    </tr>\n",
       "    <tr>\n",
       "      <th>3</th>\n",
       "      <td>200507</td>\n",
       "      <td>Air Canada</td>\n",
       "      <td>AC</td>\n",
       "      <td>Air Canada</td>\n",
       "      <td>AC</td>\n",
       "      <td>International</td>\n",
       "      <td>Canada</td>\n",
       "      <td>Deplaned</td>\n",
       "      <td>Other</td>\n",
       "      <td>Terminal 1</td>\n",
       "      <td>B</td>\n",
       "      <td>35156</td>\n",
       "    </tr>\n",
       "    <tr>\n",
       "      <th>4</th>\n",
       "      <td>200507</td>\n",
       "      <td>Air Canada</td>\n",
       "      <td>AC</td>\n",
       "      <td>Air Canada</td>\n",
       "      <td>AC</td>\n",
       "      <td>International</td>\n",
       "      <td>Canada</td>\n",
       "      <td>Enplaned</td>\n",
       "      <td>Other</td>\n",
       "      <td>Terminal 1</td>\n",
       "      <td>B</td>\n",
       "      <td>34090</td>\n",
       "    </tr>\n",
       "    <tr>\n",
       "      <th>...</th>\n",
       "      <td>...</td>\n",
       "      <td>...</td>\n",
       "      <td>...</td>\n",
       "      <td>...</td>\n",
       "      <td>...</td>\n",
       "      <td>...</td>\n",
       "      <td>...</td>\n",
       "      <td>...</td>\n",
       "      <td>...</td>\n",
       "      <td>...</td>\n",
       "      <td>...</td>\n",
       "      <td>...</td>\n",
       "    </tr>\n",
       "    <tr>\n",
       "      <th>18880</th>\n",
       "      <td>201806</td>\n",
       "      <td>WOW Air</td>\n",
       "      <td>WW</td>\n",
       "      <td>WOW Air</td>\n",
       "      <td>WW</td>\n",
       "      <td>International</td>\n",
       "      <td>Europe</td>\n",
       "      <td>Enplaned</td>\n",
       "      <td>Other</td>\n",
       "      <td>International</td>\n",
       "      <td>G</td>\n",
       "      <td>50</td>\n",
       "    </tr>\n",
       "    <tr>\n",
       "      <th>18881</th>\n",
       "      <td>201806</td>\n",
       "      <td>WestJet Airlines</td>\n",
       "      <td>WS</td>\n",
       "      <td>WestJet Airlines</td>\n",
       "      <td>WS</td>\n",
       "      <td>International</td>\n",
       "      <td>Canada</td>\n",
       "      <td>Deplaned</td>\n",
       "      <td>Other</td>\n",
       "      <td>International</td>\n",
       "      <td>A</td>\n",
       "      <td>10868</td>\n",
       "    </tr>\n",
       "    <tr>\n",
       "      <th>18882</th>\n",
       "      <td>201806</td>\n",
       "      <td>WestJet Airlines</td>\n",
       "      <td>WS</td>\n",
       "      <td>WestJet Airlines</td>\n",
       "      <td>WS</td>\n",
       "      <td>International</td>\n",
       "      <td>Canada</td>\n",
       "      <td>Enplaned</td>\n",
       "      <td>Other</td>\n",
       "      <td>International</td>\n",
       "      <td>A</td>\n",
       "      <td>11664</td>\n",
       "    </tr>\n",
       "    <tr>\n",
       "      <th>18883</th>\n",
       "      <td>201806</td>\n",
       "      <td>XL Airways France</td>\n",
       "      <td>SE</td>\n",
       "      <td>XL Airways France</td>\n",
       "      <td>SE</td>\n",
       "      <td>International</td>\n",
       "      <td>Europe</td>\n",
       "      <td>Deplaned</td>\n",
       "      <td>Other</td>\n",
       "      <td>International</td>\n",
       "      <td>A</td>\n",
       "      <td>804</td>\n",
       "    </tr>\n",
       "    <tr>\n",
       "      <th>18884</th>\n",
       "      <td>201806</td>\n",
       "      <td>XL Airways France</td>\n",
       "      <td>SE</td>\n",
       "      <td>XL Airways France</td>\n",
       "      <td>SE</td>\n",
       "      <td>International</td>\n",
       "      <td>Europe</td>\n",
       "      <td>Enplaned</td>\n",
       "      <td>Other</td>\n",
       "      <td>International</td>\n",
       "      <td>A</td>\n",
       "      <td>1243</td>\n",
       "    </tr>\n",
       "  </tbody>\n",
       "</table>\n",
       "<p>18885 rows × 12 columns</p>\n",
       "</div>"
      ],
      "text/plain": [
       "       Activity Period  Operating Airline Operating Airline IATA Code  \\\n",
       "0               200507       ATA Airlines                          TZ   \n",
       "1               200507       ATA Airlines                          TZ   \n",
       "2               200507       ATA Airlines                          TZ   \n",
       "3               200507         Air Canada                          AC   \n",
       "4               200507         Air Canada                          AC   \n",
       "...                ...                ...                         ...   \n",
       "18880           201806            WOW Air                          WW   \n",
       "18881           201806   WestJet Airlines                          WS   \n",
       "18882           201806   WestJet Airlines                          WS   \n",
       "18883           201806  XL Airways France                          SE   \n",
       "18884           201806  XL Airways France                          SE   \n",
       "\n",
       "       Published Airline Published Airline IATA Code    GEO Summary  \\\n",
       "0           ATA Airlines                          TZ       Domestic   \n",
       "1           ATA Airlines                          TZ       Domestic   \n",
       "2           ATA Airlines                          TZ       Domestic   \n",
       "3             Air Canada                          AC  International   \n",
       "4             Air Canada                          AC  International   \n",
       "...                  ...                         ...            ...   \n",
       "18880            WOW Air                          WW  International   \n",
       "18881   WestJet Airlines                          WS  International   \n",
       "18882   WestJet Airlines                          WS  International   \n",
       "18883  XL Airways France                          SE  International   \n",
       "18884  XL Airways France                          SE  International   \n",
       "\n",
       "      GEO Region Activity Type Code Price Category Code       Terminal  \\\n",
       "0             US           Deplaned            Low Fare     Terminal 1   \n",
       "1             US           Enplaned            Low Fare     Terminal 1   \n",
       "2             US     Thru / Transit            Low Fare     Terminal 1   \n",
       "3         Canada           Deplaned               Other     Terminal 1   \n",
       "4         Canada           Enplaned               Other     Terminal 1   \n",
       "...          ...                ...                 ...            ...   \n",
       "18880     Europe           Enplaned               Other  International   \n",
       "18881     Canada           Deplaned               Other  International   \n",
       "18882     Canada           Enplaned               Other  International   \n",
       "18883     Europe           Deplaned               Other  International   \n",
       "18884     Europe           Enplaned               Other  International   \n",
       "\n",
       "      Boarding Area  Passenger Count  \n",
       "0                 B            27271  \n",
       "1                 B            29131  \n",
       "2                 B             5415  \n",
       "3                 B            35156  \n",
       "4                 B            34090  \n",
       "...             ...              ...  \n",
       "18880             G               50  \n",
       "18881             A            10868  \n",
       "18882             A            11664  \n",
       "18883             A              804  \n",
       "18884             A             1243  \n",
       "\n",
       "[18885 rows x 12 columns]"
      ]
     },
     "execution_count": 8,
     "metadata": {},
     "output_type": "execute_result"
    }
   ],
   "source": [
    "df.drop_duplicates()"
   ]
  },
  {
   "cell_type": "code",
   "execution_count": 9,
   "id": "94871c52",
   "metadata": {},
   "outputs": [
    {
     "data": {
      "image/png": "[encoded data removed]",
      "text/plain": [
       "<Figure size 1080x1080 with 1 Axes>"
      ]
     },
     "metadata": {
      "needs_background": "light"
     },
     "output_type": "display_data"
    }
   ],
   "source": [
    "plt.figure(figsize=(15,15))\n",
    "sns.countplot(x='Operating Airline',palette='Set1',data=df)\n",
    "plt.xticks(rotation=90)\n",
    "plt.ylabel('passenger carry')\n",
    "plt.show()"
   ]
  },
  {
   "cell_type": "code",
   "execution_count": 10,
   "id": "bce2f08d",
   "metadata": {},
   "outputs": [
    {
     "data": {
      "image/png": "[encoded data removed]",
      "text/plain": [
       "<Figure size 1080x1080 with 1 Axes>"
      ]
     },
     "metadata": {
      "needs_background": "light"
     },
     "output_type": "display_data"
    }
   ],
   "source": [
    "plt.figure(figsize=(15,15))\n",
    "sns.countplot(x='GEO Region',palette='Set2',data=df)\n",
    "plt.xticks(rotation=90)\n",
    "plt.ylabel('passenger carry')\n",
    "plt.show()"
   ]
  },
  {
   "cell_type": "code",
   "execution_count": 11,
   "id": "27356b0d",
   "metadata": {},
   "outputs": [],
   "source": [
    "passenger_count=df.groupby('Operating Airline').sum()['Passenger Count']"
   ]
  },
  {
   "cell_type": "code",
   "execution_count": 12,
   "id": "e1ec2ee9",
   "metadata": {},
   "outputs": [],
   "source": [
    "airline_count=df['Operating Airline'].value_counts()"
   ]
  },
  {
   "cell_type": "code",
   "execution_count": 13,
   "id": "9bd3e837",
   "metadata": {},
   "outputs": [
    {
     "data": {
      "text/plain": [
       "United Airlines - Pre 07/01/2013    2154\n",
       "United Airlines                     1653\n",
       "SkyWest Airlines                    1212\n",
       "Alaska Airlines                      891\n",
       "Virgin America                       462\n",
       "                                    ... \n",
       "Xtra Airways                           2\n",
       "Evergreen International Airlines       2\n",
       "Pacific Aviation                       2\n",
       "Icelandair EHF                         2\n",
       "Boeing Company                         1\n",
       "Name: Operating Airline, Length: 89, dtype: int64"
      ]
     },
     "execution_count": 13,
     "metadata": {},
     "output_type": "execute_result"
    }
   ],
   "source": [
    "airline_count"
   ]
  },
  {
   "cell_type": "code",
   "execution_count": 14,
   "id": "ebcef096",
   "metadata": {},
   "outputs": [],
   "source": [
    "data=pd.DataFrame({'Passenger count':passenger_count,'Airline count':airline_count})"
   ]
  },
  {
   "cell_type": "code",
   "execution_count": null,
   "id": "36f6623d",
   "metadata": {},
   "outputs": [],
   "source": []
  },
  {
   "cell_type": "code",
   "execution_count": 15,
   "id": "016499a7",
   "metadata": {},
   "outputs": [],
   "source": [
    "x=data[['Passenger count','Airline count']]"
   ]
  },
  {
   "cell_type": "code",
   "execution_count": 16,
   "id": "2a4d6dd5",
   "metadata": {},
   "outputs": [
    {
     "name": "stdout",
     "output_type": "stream",
     "text": [
      "Number of cluster2,silhouette0.9286008999043343\n",
      "Number of cluster3,silhouette0.9124445056983075\n",
      "Number of cluster4,silhouette0.8270891141738362\n",
      "Number of cluster5,silhouette0.7267852090532811\n",
      "Number of cluster6,silhouette0.7269693507973984\n",
      "Number of cluster7,silhouette0.7235624228556456\n",
      "Number of cluster8,silhouette0.7372228603872746\n",
      "Number of cluster9,silhouette0.7192917541572154\n",
      "Number of cluster10,silhouette0.7107647583653071\n",
      "Number of cluster11,silhouette0.6975645432542432\n",
      "Number of cluster12,silhouette0.6704374789961269\n",
      "Number of cluster13,silhouette0.6665656728055497\n",
      "Number of cluster14,silhouette0.6725640395085105\n",
      "Number of cluster15,silhouette0.6562499965664569\n"
     ]
    }
   ],
   "source": [
    "allscore=[]\n",
    "allclusters=[]\n",
    "sum_of_squared_distances=[]\n",
    "def clust(clusters):\n",
    "     for no_of_cluster in np.arange(1,clusters):\n",
    "        no_of_cluster +=1\n",
    "        model=KMeans(n_clusters=no_of_cluster)\n",
    "        model=model.fit(x)\n",
    "        pred=model.predict(x)\n",
    "        sum_of_squared_distances.append(model.inertia_)\n",
    "        score=silhouette_score(x,pred)\n",
    "        print('Number of cluster{},silhouette{}'.format(no_of_cluster,score))\n",
    "        allscore.append(score)\n",
    "        allclusters.append(no_of_cluster)\n",
    "clust(15)"
   ]
  },
  {
   "cell_type": "code",
   "execution_count": 17,
   "id": "56928c44",
   "metadata": {},
   "outputs": [
    {
     "data": {
      "image/png": "[encoded data removed]",
      "text/plain": [
       "<Figure size 432x288 with 1 Axes>"
      ]
     },
     "metadata": {
      "needs_background": "light"
     },
     "output_type": "display_data"
    }
   ],
   "source": [
    "plt.plot(allclusters,sum_of_squared_distances,marker='x')\n",
    "plt.xlabel('k')\n",
    "plt.ylabel('distorsion')\n",
    "plt.title('The elbow method showin optimal k')\n",
    "plt.show()"
   ]
  },
  {
   "cell_type": "code",
   "execution_count": 18,
   "id": "82dcc43b",
   "metadata": {},
   "outputs": [],
   "source": [
    "model=KMeans(n_clusters=4)"
   ]
  },
  {
   "cell_type": "code",
   "execution_count": 19,
   "id": "5bc08c7e",
   "metadata": {},
   "outputs": [],
   "source": [
    "eğit=model.fit(x)"
   ]
  },
  {
   "cell_type": "code",
   "execution_count": 20,
   "id": "d49641a8",
   "metadata": {},
   "outputs": [],
   "source": [
    "sınıflandır=eğit.predict(x)"
   ]
  },
  {
   "cell_type": "code",
   "execution_count": 21,
   "id": "501c1ef4",
   "metadata": {},
   "outputs": [
    {
     "data": {
      "text/plain": [
       "array([0, 0, 0, 0, 0, 3, 0, 0, 0, 0, 0, 0, 0, 3, 0, 0, 2, 0, 0, 0, 0, 0,\n",
       "       0, 0, 0, 0, 0, 0, 0, 0, 0, 2, 0, 0, 0, 0, 0, 0, 0, 0, 0, 0, 0, 0,\n",
       "       0, 0, 0, 0, 0, 0, 3, 0, 0, 0, 0, 0, 0, 0, 0, 0, 0, 0, 0, 0, 0, 0,\n",
       "       0, 0, 2, 2, 0, 0, 0, 0, 0, 0, 0, 0, 3, 1, 1, 2, 0, 0, 0, 0, 0, 0,\n",
       "       0])"
      ]
     },
     "execution_count": 21,
     "metadata": {},
     "output_type": "execute_result"
    }
   ],
   "source": [
    "sınıflandır"
   ]
  },
  {
   "cell_type": "code",
   "execution_count": 22,
   "id": "934f1986",
   "metadata": {},
   "outputs": [
    {
     "data": {
      "text/plain": [
       "0.8270891141738362"
      ]
     },
     "execution_count": 22,
     "metadata": {},
     "output_type": "execute_result"
    }
   ],
   "source": [
    "(silhouette_score(x,sınıflandır))"
   ]
  },
  {
   "cell_type": "code",
   "execution_count": 23,
   "id": "72b73a65",
   "metadata": {},
   "outputs": [],
   "source": [
    "x['sınıf']=sınıflandır"
   ]
  },
  {
   "cell_type": "code",
   "execution_count": 24,
   "id": "cd466cc9",
   "metadata": {},
   "outputs": [
    {
     "data": {
      "text/plain": [
       "0    78\n",
       "2     5\n",
       "3     4\n",
       "1     2\n",
       "Name: sınıf, dtype: int64"
      ]
     },
     "execution_count": 24,
     "metadata": {},
     "output_type": "execute_result"
    }
   ],
   "source": [
    "x['sınıf'].value_counts()"
   ]
  },
  {
   "cell_type": "code",
   "execution_count": 25,
   "id": "620e898f",
   "metadata": {},
   "outputs": [
    {
     "data": {
      "text/html": [
       "<div>\n",
       "<style scoped>\n",
       "    .dataframe tbody tr th:only-of-type {\n",
       "        vertical-align: middle;\n",
       "    }\n",
       "\n",
       "    .dataframe tbody tr th {\n",
       "        vertical-align: top;\n",
       "    }\n",
       "\n",
       "    .dataframe thead th {\n",
       "        text-align: right;\n",
       "    }\n",
       "</style>\n",
       "<table border=\"1\" class=\"dataframe\">\n",
       "  <thead>\n",
       "    <tr style=\"text-align: right;\">\n",
       "      <th></th>\n",
       "      <th>Passenger count</th>\n",
       "      <th>Airline count</th>\n",
       "      <th>sınıf</th>\n",
       "    </tr>\n",
       "  </thead>\n",
       "  <tbody>\n",
       "    <tr>\n",
       "      <th>ABC Aerolineas S.A. de C.V. dba Interjet</th>\n",
       "      <td>15585</td>\n",
       "      <td>8</td>\n",
       "      <td>0</td>\n",
       "    </tr>\n",
       "    <tr>\n",
       "      <th>ATA Airlines</th>\n",
       "      <td>384764</td>\n",
       "      <td>44</td>\n",
       "      <td>0</td>\n",
       "    </tr>\n",
       "    <tr>\n",
       "      <th>Aer Lingus</th>\n",
       "      <td>777691</td>\n",
       "      <td>152</td>\n",
       "      <td>0</td>\n",
       "    </tr>\n",
       "    <tr>\n",
       "      <th>Aeromexico</th>\n",
       "      <td>1672946</td>\n",
       "      <td>234</td>\n",
       "      <td>0</td>\n",
       "    </tr>\n",
       "    <tr>\n",
       "      <th>Air Berlin</th>\n",
       "      <td>235155</td>\n",
       "      <td>60</td>\n",
       "      <td>0</td>\n",
       "    </tr>\n",
       "    <tr>\n",
       "      <th>...</th>\n",
       "      <td>...</td>\n",
       "      <td>...</td>\n",
       "      <td>...</td>\n",
       "    </tr>\n",
       "    <tr>\n",
       "      <th>WOW Air</th>\n",
       "      <td>295168</td>\n",
       "      <td>56</td>\n",
       "      <td>0</td>\n",
       "    </tr>\n",
       "    <tr>\n",
       "      <th>WestJet Airlines</th>\n",
       "      <td>799801</td>\n",
       "      <td>135</td>\n",
       "      <td>0</td>\n",
       "    </tr>\n",
       "    <tr>\n",
       "      <th>World Airways</th>\n",
       "      <td>785</td>\n",
       "      <td>3</td>\n",
       "      <td>0</td>\n",
       "    </tr>\n",
       "    <tr>\n",
       "      <th>XL Airways France</th>\n",
       "      <td>118961</td>\n",
       "      <td>51</td>\n",
       "      <td>0</td>\n",
       "    </tr>\n",
       "    <tr>\n",
       "      <th>Xtra Airways</th>\n",
       "      <td>146</td>\n",
       "      <td>2</td>\n",
       "      <td>0</td>\n",
       "    </tr>\n",
       "  </tbody>\n",
       "</table>\n",
       "<p>89 rows × 3 columns</p>\n",
       "</div>"
      ],
      "text/plain": [
       "                                          Passenger count  Airline count  \\\n",
       "ABC Aerolineas S.A. de C.V. dba Interjet            15585              8   \n",
       "ATA Airlines                                       384764             44   \n",
       "Aer Lingus                                         777691            152   \n",
       "Aeromexico                                        1672946            234   \n",
       "Air Berlin                                         235155             60   \n",
       "...                                                   ...            ...   \n",
       "WOW Air                                            295168             56   \n",
       "WestJet Airlines                                   799801            135   \n",
       "World Airways                                         785              3   \n",
       "XL Airways France                                  118961             51   \n",
       "Xtra Airways                                          146              2   \n",
       "\n",
       "                                          sınıf  \n",
       "ABC Aerolineas S.A. de C.V. dba Interjet      0  \n",
       "ATA Airlines                                  0  \n",
       "Aer Lingus                                    0  \n",
       "Aeromexico                                    0  \n",
       "Air Berlin                                    0  \n",
       "...                                         ...  \n",
       "WOW Air                                       0  \n",
       "WestJet Airlines                              0  \n",
       "World Airways                                 0  \n",
       "XL Airways France                             0  \n",
       "Xtra Airways                                  0  \n",
       "\n",
       "[89 rows x 3 columns]"
      ]
     },
     "execution_count": 25,
     "metadata": {},
     "output_type": "execute_result"
    }
   ],
   "source": [
    "x"
   ]
  },
  {
   "cell_type": "code",
   "execution_count": null,
   "id": "2a193558",
   "metadata": {},
   "outputs": [],
   "source": []
  }
 ],
 "metadata": {
  "kernelspec": {
   "display_name": "Python 3 (ipykernel)",
   "language": "python",
   "name": "python3"
  },
  "language_info": {
   "codemirror_mode": {
    "name": "ipython",
    "version": 3
   },
   "file_extension": ".py",
   "mimetype": "text/x-python",
   "name": "python",
   "nbconvert_exporter": "python",
   "pygments_lexer": "ipython3",
   "version": "3.8.3"
  }
 },
 "nbformat": 4,
 "nbformat_minor": 5
}
