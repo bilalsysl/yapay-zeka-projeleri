{
 "cells": [
  {
   "cell_type": "code",
   "execution_count": 1,
   "id": "c8e84ba0",
   "metadata": {},
   "outputs": [],
   "source": [
    "import pandas as pd\n",
    "import numpy as np"
   ]
  },
  {
   "cell_type": "code",
   "execution_count": 2,
   "id": "4f333ab1",
   "metadata": {},
   "outputs": [],
   "source": [
    "df1=pd.read_csv('train.csv')\n",
    "df2=pd.read_csv('test (1).csv')"
   ]
  },
  {
   "cell_type": "code",
   "execution_count": 3,
   "id": "4fe094a3",
   "metadata": {},
   "outputs": [
    {
     "data": {
      "text/html": [
       "<div>\n",
       "<style scoped>\n",
       "    .dataframe tbody tr th:only-of-type {\n",
       "        vertical-align: middle;\n",
       "    }\n",
       "\n",
       "    .dataframe tbody tr th {\n",
       "        vertical-align: top;\n",
       "    }\n",
       "\n",
       "    .dataframe thead th {\n",
       "        text-align: right;\n",
       "    }\n",
       "</style>\n",
       "<table border=\"1\" class=\"dataframe\">\n",
       "  <thead>\n",
       "    <tr style=\"text-align: right;\">\n",
       "      <th></th>\n",
       "      <th>key</th>\n",
       "      <th>fare_amount</th>\n",
       "      <th>pickup_datetime</th>\n",
       "      <th>pickup_longitude</th>\n",
       "      <th>pickup_latitude</th>\n",
       "      <th>dropoff_longitude</th>\n",
       "      <th>dropoff_latitude</th>\n",
       "      <th>passenger_count</th>\n",
       "    </tr>\n",
       "  </thead>\n",
       "  <tbody>\n",
       "    <tr>\n",
       "      <th>0</th>\n",
       "      <td>2009-06-15 17:26:21.0000001</td>\n",
       "      <td>4.5</td>\n",
       "      <td>2009-06-15 17:26:21 UTC</td>\n",
       "      <td>-73.844311</td>\n",
       "      <td>40.721319</td>\n",
       "      <td>-73.841610</td>\n",
       "      <td>40.712278</td>\n",
       "      <td>1</td>\n",
       "    </tr>\n",
       "    <tr>\n",
       "      <th>1</th>\n",
       "      <td>2010-01-05 16:52:16.0000002</td>\n",
       "      <td>16.9</td>\n",
       "      <td>2010-01-05 16:52:16 UTC</td>\n",
       "      <td>-74.016048</td>\n",
       "      <td>40.711303</td>\n",
       "      <td>-73.979268</td>\n",
       "      <td>40.782004</td>\n",
       "      <td>1</td>\n",
       "    </tr>\n",
       "    <tr>\n",
       "      <th>2</th>\n",
       "      <td>2011-08-18 00:35:00.00000049</td>\n",
       "      <td>5.7</td>\n",
       "      <td>2011-08-18 00:35:00 UTC</td>\n",
       "      <td>-73.982738</td>\n",
       "      <td>40.761270</td>\n",
       "      <td>-73.991242</td>\n",
       "      <td>40.750562</td>\n",
       "      <td>2</td>\n",
       "    </tr>\n",
       "    <tr>\n",
       "      <th>3</th>\n",
       "      <td>2012-04-21 04:30:42.0000001</td>\n",
       "      <td>7.7</td>\n",
       "      <td>2012-04-21 04:30:42 UTC</td>\n",
       "      <td>-73.987130</td>\n",
       "      <td>40.733143</td>\n",
       "      <td>-73.991567</td>\n",
       "      <td>40.758092</td>\n",
       "      <td>1</td>\n",
       "    </tr>\n",
       "    <tr>\n",
       "      <th>4</th>\n",
       "      <td>2010-03-09 07:51:00.000000135</td>\n",
       "      <td>5.3</td>\n",
       "      <td>2010-03-09 07:51:00 UTC</td>\n",
       "      <td>-73.968095</td>\n",
       "      <td>40.768008</td>\n",
       "      <td>-73.956655</td>\n",
       "      <td>40.783762</td>\n",
       "      <td>1</td>\n",
       "    </tr>\n",
       "    <tr>\n",
       "      <th>...</th>\n",
       "      <td>...</td>\n",
       "      <td>...</td>\n",
       "      <td>...</td>\n",
       "      <td>...</td>\n",
       "      <td>...</td>\n",
       "      <td>...</td>\n",
       "      <td>...</td>\n",
       "      <td>...</td>\n",
       "    </tr>\n",
       "    <tr>\n",
       "      <th>55423851</th>\n",
       "      <td>2014-03-15 03:28:00.00000070</td>\n",
       "      <td>14.0</td>\n",
       "      <td>2014-03-15 03:28:00 UTC</td>\n",
       "      <td>-74.005272</td>\n",
       "      <td>40.740027</td>\n",
       "      <td>-73.963280</td>\n",
       "      <td>40.762555</td>\n",
       "      <td>1</td>\n",
       "    </tr>\n",
       "    <tr>\n",
       "      <th>55423852</th>\n",
       "      <td>2009-03-24 20:46:20.0000002</td>\n",
       "      <td>4.2</td>\n",
       "      <td>2009-03-24 20:46:20 UTC</td>\n",
       "      <td>-73.957784</td>\n",
       "      <td>40.765530</td>\n",
       "      <td>-73.951640</td>\n",
       "      <td>40.773959</td>\n",
       "      <td>1</td>\n",
       "    </tr>\n",
       "    <tr>\n",
       "      <th>55423853</th>\n",
       "      <td>2011-04-02 22:04:24.0000004</td>\n",
       "      <td>14.1</td>\n",
       "      <td>2011-04-02 22:04:24 UTC</td>\n",
       "      <td>-73.970505</td>\n",
       "      <td>40.752325</td>\n",
       "      <td>-73.960537</td>\n",
       "      <td>40.797342</td>\n",
       "      <td>1</td>\n",
       "    </tr>\n",
       "    <tr>\n",
       "      <th>55423854</th>\n",
       "      <td>2011-10-26 05:57:51.0000002</td>\n",
       "      <td>28.9</td>\n",
       "      <td>2011-10-26 05:57:51 UTC</td>\n",
       "      <td>-73.980901</td>\n",
       "      <td>40.764629</td>\n",
       "      <td>-73.870605</td>\n",
       "      <td>40.773963</td>\n",
       "      <td>1</td>\n",
       "    </tr>\n",
       "    <tr>\n",
       "      <th>55423855</th>\n",
       "      <td>2014-12-12 11:33:00.00000015</td>\n",
       "      <td>7.5</td>\n",
       "      <td>2014-12-12 11:33:00 UTC</td>\n",
       "      <td>-73.969722</td>\n",
       "      <td>40.797668</td>\n",
       "      <td>-73.970885</td>\n",
       "      <td>40.783313</td>\n",
       "      <td>1</td>\n",
       "    </tr>\n",
       "  </tbody>\n",
       "</table>\n",
       "<p>55423856 rows × 8 columns</p>\n",
       "</div>"
      ],
      "text/plain": [
       "                                    key  fare_amount          pickup_datetime  \\\n",
       "0           2009-06-15 17:26:21.0000001          4.5  2009-06-15 17:26:21 UTC   \n",
       "1           2010-01-05 16:52:16.0000002         16.9  2010-01-05 16:52:16 UTC   \n",
       "2          2011-08-18 00:35:00.00000049          5.7  2011-08-18 00:35:00 UTC   \n",
       "3           2012-04-21 04:30:42.0000001          7.7  2012-04-21 04:30:42 UTC   \n",
       "4         2010-03-09 07:51:00.000000135          5.3  2010-03-09 07:51:00 UTC   \n",
       "...                                 ...          ...                      ...   \n",
       "55423851   2014-03-15 03:28:00.00000070         14.0  2014-03-15 03:28:00 UTC   \n",
       "55423852    2009-03-24 20:46:20.0000002          4.2  2009-03-24 20:46:20 UTC   \n",
       "55423853    2011-04-02 22:04:24.0000004         14.1  2011-04-02 22:04:24 UTC   \n",
       "55423854    2011-10-26 05:57:51.0000002         28.9  2011-10-26 05:57:51 UTC   \n",
       "55423855   2014-12-12 11:33:00.00000015          7.5  2014-12-12 11:33:00 UTC   \n",
       "\n",
       "          pickup_longitude  pickup_latitude  dropoff_longitude  \\\n",
       "0               -73.844311        40.721319         -73.841610   \n",
       "1               -74.016048        40.711303         -73.979268   \n",
       "2               -73.982738        40.761270         -73.991242   \n",
       "3               -73.987130        40.733143         -73.991567   \n",
       "4               -73.968095        40.768008         -73.956655   \n",
       "...                    ...              ...                ...   \n",
       "55423851        -74.005272        40.740027         -73.963280   \n",
       "55423852        -73.957784        40.765530         -73.951640   \n",
       "55423853        -73.970505        40.752325         -73.960537   \n",
       "55423854        -73.980901        40.764629         -73.870605   \n",
       "55423855        -73.969722        40.797668         -73.970885   \n",
       "\n",
       "          dropoff_latitude  passenger_count  \n",
       "0                40.712278                1  \n",
       "1                40.782004                1  \n",
       "2                40.750562                2  \n",
       "3                40.758092                1  \n",
       "4                40.783762                1  \n",
       "...                    ...              ...  \n",
       "55423851         40.762555                1  \n",
       "55423852         40.773959                1  \n",
       "55423853         40.797342                1  \n",
       "55423854         40.773963                1  \n",
       "55423855         40.783313                1  \n",
       "\n",
       "[55423856 rows x 8 columns]"
      ]
     },
     "execution_count": 3,
     "metadata": {},
     "output_type": "execute_result"
    }
   ],
   "source": [
    "df1"
   ]
  },
  {
   "cell_type": "code",
   "execution_count": 4,
   "id": "9191d7a7",
   "metadata": {},
   "outputs": [
    {
     "name": "stdout",
     "output_type": "stream",
     "text": [
      "<class 'pandas.core.frame.DataFrame'>\n",
      "RangeIndex: 55423856 entries, 0 to 55423855\n",
      "Data columns (total 8 columns):\n",
      " #   Column             Dtype  \n",
      "---  ------             -----  \n",
      " 0   key                object \n",
      " 1   fare_amount        float64\n",
      " 2   pickup_datetime    object \n",
      " 3   pickup_longitude   float64\n",
      " 4   pickup_latitude    float64\n",
      " 5   dropoff_longitude  float64\n",
      " 6   dropoff_latitude   float64\n",
      " 7   passenger_count    int64  \n",
      "dtypes: float64(5), int64(1), object(2)\n",
      "memory usage: 3.3+ GB\n"
     ]
    }
   ],
   "source": [
    "df1.info()"
   ]
  },
  {
   "cell_type": "code",
   "execution_count": 5,
   "id": "91c45dad",
   "metadata": {},
   "outputs": [
    {
     "data": {
      "text/plain": [
       "key                    0\n",
       "fare_amount            0\n",
       "pickup_datetime        0\n",
       "pickup_longitude       0\n",
       "pickup_latitude        0\n",
       "dropoff_longitude    376\n",
       "dropoff_latitude     376\n",
       "passenger_count        0\n",
       "dtype: int64"
      ]
     },
     "execution_count": 5,
     "metadata": {},
     "output_type": "execute_result"
    }
   ],
   "source": [
    "df1.isnull().sum()"
   ]
  },
  {
   "cell_type": "code",
   "execution_count": 6,
   "id": "63c1adf3",
   "metadata": {},
   "outputs": [],
   "source": [
    "df1['dropoff_longitude'].fillna(df1['dropoff_longitude'].mean(),inplace=True)\n",
    "df1['dropoff_latitude'].fillna(df1['dropoff_latitude'].mean(),inplace=True)"
   ]
  },
  {
   "cell_type": "code",
   "execution_count": 7,
   "id": "33f795e0",
   "metadata": {},
   "outputs": [
    {
     "data": {
      "text/plain": [
       "fare_amount          1.000000\n",
       "passenger_count      0.006131\n",
       "dropoff_longitude    0.004493\n",
       "pickup_longitude     0.004133\n",
       "dropoff_latitude     0.003426\n",
       "pickup_latitude      0.003120\n",
       "Name: fare_amount, dtype: float64"
      ]
     },
     "execution_count": 7,
     "metadata": {},
     "output_type": "execute_result"
    }
   ],
   "source": [
    "abs(df1.corr()['fare_amount']).sort_values(ascending=False)"
   ]
  },
  {
   "cell_type": "code",
   "execution_count": 8,
   "id": "2374c843",
   "metadata": {},
   "outputs": [],
   "source": [
    "df1['fark boylam']=df1['dropoff_longitude'] - df1['pickup_longitude']\n",
    "df1['fark enlem']=df1['dropoff_latitude'] - df1['pickup_latitude']"
   ]
  },
  {
   "cell_type": "code",
   "execution_count": 9,
   "id": "2a920a68",
   "metadata": {},
   "outputs": [],
   "source": [
    "boylamkare=df1['fark boylam']**2\n",
    "enlemkare=df1['fark enlem']**2"
   ]
  },
  {
   "cell_type": "code",
   "execution_count": 10,
   "id": "5af53885",
   "metadata": {},
   "outputs": [],
   "source": [
    "c=enlemkare + boylamkare\n",
    "a=c**0.5"
   ]
  },
  {
   "cell_type": "code",
   "execution_count": 11,
   "id": "dbae4671",
   "metadata": {},
   "outputs": [],
   "source": [
    "df1['mesafe']=a"
   ]
  },
  {
   "cell_type": "code",
   "execution_count": 12,
   "id": "0aa10f44",
   "metadata": {},
   "outputs": [
    {
     "data": {
      "text/plain": [
       "0           0.009436\n",
       "1           0.079696\n",
       "2           0.013674\n",
       "3           0.025340\n",
       "4           0.019470\n",
       "              ...   \n",
       "55423851    0.047653\n",
       "55423852    0.010431\n",
       "55423853    0.046107\n",
       "55423854    0.110690\n",
       "55423855    0.014402\n",
       "Name: mesafe, Length: 55423856, dtype: float64"
      ]
     },
     "execution_count": 12,
     "metadata": {},
     "output_type": "execute_result"
    }
   ],
   "source": [
    "df1['mesafe']"
   ]
  },
  {
   "cell_type": "code",
   "execution_count": 13,
   "id": "581943cf",
   "metadata": {},
   "outputs": [],
   "source": [
    "df2['fark boylam']=df2['dropoff_longitude'] - df2['pickup_longitude']\n",
    "df2['fark enlem']=df2['dropoff_latitude'] - df2['pickup_latitude']"
   ]
  },
  {
   "cell_type": "code",
   "execution_count": 14,
   "id": "cc9a7f6e",
   "metadata": {},
   "outputs": [],
   "source": [
    "boylamkare2=df2['fark boylam']**2\n",
    "enlemkare2=df2['fark enlem']**2"
   ]
  },
  {
   "cell_type": "code",
   "execution_count": 15,
   "id": "40baa940",
   "metadata": {},
   "outputs": [],
   "source": [
    "d=enlemkare2 + boylamkare2\n",
    "e=d**0.5"
   ]
  },
  {
   "cell_type": "code",
   "execution_count": 16,
   "id": "522a8a07",
   "metadata": {},
   "outputs": [],
   "source": [
    "df2['mesafe']=e"
   ]
  },
  {
   "cell_type": "code",
   "execution_count": 17,
   "id": "429c07ab",
   "metadata": {},
   "outputs": [],
   "source": [
    "x=df1[['mesafe','passenger_count']]\n",
    "y=df1['fare_amount']"
   ]
  },
  {
   "cell_type": "code",
   "execution_count": 18,
   "id": "f5a86c07",
   "metadata": {},
   "outputs": [],
   "source": [
    "from sklearn.linear_model import LinearRegression\n",
    "from sklearn.model_selection import train_test_split\n",
    "from sklearn.metrics import mean_squared_error, r2_score\n",
    "from sklearn.linear_model import Ridge,Lasso\n",
    "from sklearn.ensemble import GradientBoostingRegressor\n"
   ]
  },
  {
   "cell_type": "code",
   "execution_count": 19,
   "id": "d6e0231c",
   "metadata": {},
   "outputs": [],
   "source": [
    "x_train,x_test,y_train,y_test=train_test_split(x,y,test_size=0.2, random_state=42)"
   ]
  },
  {
   "cell_type": "code",
   "execution_count": 20,
   "id": "f0a20a99",
   "metadata": {},
   "outputs": [
    {
     "data": {
      "text/plain": [
       "((44339084, 2), (11084772, 2), (44339084,), (11084772,))"
      ]
     },
     "execution_count": 20,
     "metadata": {},
     "output_type": "execute_result"
    }
   ],
   "source": [
    "x_train.shape,x_test.shape,y_train.shape,y_test.shape"
   ]
  },
  {
   "cell_type": "code",
   "execution_count": 21,
   "id": "b5bfa33d",
   "metadata": {},
   "outputs": [],
   "source": [
    "lr=LinearRegression()\n",
    "regmodel=lr.fit(x_train,y_train)       "
   ]
  },
  {
   "cell_type": "code",
   "execution_count": 22,
   "id": "1b6a4714",
   "metadata": {},
   "outputs": [
    {
     "data": {
      "text/plain": [
       "array([11.27814555, 11.27821124, 11.27814013, ..., 11.278292  ,\n",
       "       11.27922529, 11.37417207])"
      ]
     },
     "execution_count": 22,
     "metadata": {},
     "output_type": "execute_result"
    }
   ],
   "source": [
    "y_pretest=regmodel.predict(x_test)     \n",
    "y_pretest"
   ]
  },
  {
   "cell_type": "code",
   "execution_count": 23,
   "id": "2a0293d6",
   "metadata": {},
   "outputs": [
    {
     "data": {
      "text/plain": [
       "29.874753066913353"
      ]
     },
     "execution_count": 23,
     "metadata": {},
     "output_type": "execute_result"
    }
   ],
   "source": [
    "(mean_squared_error(y_test,y_pretest))**0.5"
   ]
  },
  {
   "cell_type": "code",
   "execution_count": 24,
   "id": "132af3ad",
   "metadata": {},
   "outputs": [
    {
     "data": {
      "text/plain": [
       "2.4445537930017913e-05"
      ]
     },
     "execution_count": 24,
     "metadata": {},
     "output_type": "execute_result"
    }
   ],
   "source": [
    "r2_score(y_test,y_pretest)"
   ]
  },
  {
   "cell_type": "code",
   "execution_count": 25,
   "id": "564909a7",
   "metadata": {},
   "outputs": [],
   "source": [
    "R=Ridge()\n",
    "R.fit(x_train,y_train)\n",
    "y_pred_ridge=R.predict(x_test)"
   ]
  },
  {
   "cell_type": "code",
   "execution_count": 26,
   "id": "7ebd8bf2",
   "metadata": {},
   "outputs": [
    {
     "data": {
      "text/plain": [
       "29.874753066913318"
      ]
     },
     "execution_count": 26,
     "metadata": {},
     "output_type": "execute_result"
    }
   ],
   "source": [
    "(mean_squared_error(y_test,y_pred_ridge))**0.5"
   ]
  },
  {
   "cell_type": "code",
   "execution_count": 27,
   "id": "e501c079",
   "metadata": {},
   "outputs": [
    {
     "data": {
      "text/plain": [
       "2.444553793234938e-05"
      ]
     },
     "execution_count": 27,
     "metadata": {},
     "output_type": "execute_result"
    }
   ],
   "source": [
    "r2_score(y_test,y_pred_ridge)"
   ]
  },
  {
   "cell_type": "code",
   "execution_count": 28,
   "id": "40fd5cd6",
   "metadata": {},
   "outputs": [],
   "source": [
    "t=df2[['mesafe','passenger_count']]"
   ]
  },
  {
   "cell_type": "code",
   "execution_count": 29,
   "id": "510b28dc",
   "metadata": {},
   "outputs": [],
   "source": []
  },
  {
   "cell_type": "code",
   "execution_count": 32,
   "id": "d2904673",
   "metadata": {},
   "outputs": [],
   "source": [
    "o=R.predict(t)"
   ]
  },
  {
   "cell_type": "code",
   "execution_count": 33,
   "id": "a8c82090",
   "metadata": {},
   "outputs": [],
   "source": [
    "df2['fare_amount']=o"
   ]
  },
  {
   "cell_type": "code",
   "execution_count": 34,
   "id": "e9ca3890",
   "metadata": {},
   "outputs": [],
   "source": [
    "h=df2[['key','fare_amount']]"
   ]
  },
  {
   "cell_type": "code",
   "execution_count": 36,
   "id": "853514ec",
   "metadata": {},
   "outputs": [],
   "source": [
    "h.to_csv('taxipred.csv',index=False)"
   ]
  },
  {
   "cell_type": "code",
   "execution_count": 30,
   "id": "b788583c",
   "metadata": {},
   "outputs": [],
   "source": [
    "## R2 SCORE DÜŞÜK GÖZÜKÜYOR AMA MEAN SQUARED ERROR İYİ 55.423.856 VERİ İÇİNDEN 30 LUK BİR HATA GAYET İYİ"
   ]
  }
 ],
 "metadata": {
  "kernelspec": {
   "display_name": "Python 3.8.3 64-bit",
   "language": "python",
   "name": "python3"
  },
  "language_info": {
   "codemirror_mode": {
    "name": "ipython",
    "version": 3
   },
   "file_extension": ".py",
   "mimetype": "text/x-python",
   "name": "python",
   "nbconvert_exporter": "python",
   "pygments_lexer": "ipython3",
   "version": "3.8.3"
  },
  "vscode": {
   "interpreter": {
    "hash": "bc98aebe86ff5d0b47cd3c965885a66547819f4fa7e4966c37275f31e9e55567"
   }
  }
 },
 "nbformat": 4,
 "nbformat_minor": 5
}
