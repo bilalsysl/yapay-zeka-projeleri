{
 "cells": [
  {
   "cell_type": "code",
   "execution_count": null,
   "id": "3101dba2",
   "metadata": {},
   "outputs": [],
   "source": [
    "\n",
    "#! pip install tensorflow\n",
    "#! pip install keras"
   ]
  },
  {
   "cell_type": "code",
   "execution_count": null,
   "id": "a37a8cca",
   "metadata": {},
   "outputs": [],
   "source": [
    "import pandas as pd\n",
    "from keras.models import Sequential\n",
    "from keras.layers import Dense"
   ]
  },
  {
   "cell_type": "code",
   "execution_count": null,
   "id": "6f8f57b3",
   "metadata": {},
   "outputs": [],
   "source": [
    "df= pd.read_csv(\"pima-indians-diabetes1.csv\")"
   ]
  },
  {
   "cell_type": "code",
   "execution_count": null,
   "id": "ed41e993",
   "metadata": {},
   "outputs": [],
   "source": [
    "df"
   ]
  },
  {
   "cell_type": "code",
   "execution_count": null,
   "id": "88869c84",
   "metadata": {},
   "outputs": [],
   "source": [
    "df= pd.read_csv(\"pima-indians-diabetes1.csv\")"
   ]
  },
  {
   "cell_type": "code",
   "execution_count": null,
   "id": "7ccb56cb",
   "metadata": {},
   "outputs": [],
   "source": [
    "df.info()"
   ]
  },
  {
   "cell_type": "code",
   "execution_count": null,
   "id": "d8340883",
   "metadata": {},
   "outputs": [],
   "source": [
    "preg='Number of times pregnant'\n",
    "plas='Plasma glucose concentration a 2 hours in an oral glucose tolerance test'\n",
    "pres='Diastolic blood pressure (mm Hg)'\n",
    "skin='Triceps skin fold thickness (mm)'\n",
    "test='2-Hour serum insulin (mu U/ml)'\n",
    "mass='Body mass index (weight in kg/(height in m)^2)'\n",
    "pedi='Diabetes pedigree function'\n",
    "age='Age (years)'\n",
    "clas='Class variable (0 or 1)'\n"
   ]
  },
  {
   "cell_type": "code",
   "execution_count": null,
   "id": "ab33af21",
   "metadata": {},
   "outputs": [],
   "source": [
    "df.columns=['preg','plas','test','skin','pres','mass','pedi','age','clas']"
   ]
  },
  {
   "cell_type": "code",
   "execution_count": null,
   "id": "5efbd52a",
   "metadata": {},
   "outputs": [],
   "source": [
    "df"
   ]
  },
  {
   "cell_type": "code",
   "execution_count": null,
   "id": "a14e5cc6",
   "metadata": {},
   "outputs": [],
   "source": [
    "x=df.iloc[:,0:8]"
   ]
  },
  {
   "cell_type": "code",
   "execution_count": null,
   "id": "dc63d58a",
   "metadata": {},
   "outputs": [],
   "source": [
    "x"
   ]
  },
  {
   "cell_type": "code",
   "execution_count": null,
   "id": "dcb62f2c",
   "metadata": {},
   "outputs": [],
   "source": [
    "y=df.iloc[:,8]"
   ]
  },
  {
   "cell_type": "code",
   "execution_count": null,
   "id": "1f4dcd78",
   "metadata": {},
   "outputs": [],
   "source": [
    "y"
   ]
  },
  {
   "cell_type": "code",
   "execution_count": null,
   "id": "e8033f7a",
   "metadata": {},
   "outputs": [],
   "source": [
    "model=Sequential()\n",
    "model.add(Dense(12,kernel_initializer='uniform',input_dim=8,activation='relu'))\n",
    "model.add(Dense(8,kernel_initializer='uniform',activation='relu'))\n",
    "model.add(Dense(1,kernel_initializer='uniform',activation='sigmoid'))"
   ]
  },
  {
   "cell_type": "code",
   "execution_count": null,
   "id": "be05fa96",
   "metadata": {},
   "outputs": [],
   "source": [
    "model.compile(loss='binary_crossentropy',optimizer='adam',metrics=['accuracy'])"
   ]
  },
  {
   "cell_type": "code",
   "execution_count": null,
   "id": "87a9b6c2",
   "metadata": {},
   "outputs": [],
   "source": [
    "model.fit(x,y, epochs=150,batch_size=10,verbose=1)"
   ]
  },
  {
   "cell_type": "code",
   "execution_count": null,
   "id": "77769eef",
   "metadata": {},
   "outputs": [],
   "source": [
    "model.summary()"
   ]
  },
  {
   "cell_type": "code",
   "execution_count": null,
   "id": "9d874f91",
   "metadata": {},
   "outputs": [],
   "source": [
    "scores=model.evaluate(x,y)"
   ]
  },
  {
   "cell_type": "code",
   "execution_count": null,
   "id": "cfff8c6a",
   "metadata": {},
   "outputs": [],
   "source": [
    "history=model.fit(x,y,validation_split=0.2,epochs=200,batch_size=10,verbose=2)"
   ]
  },
  {
   "cell_type": "code",
   "execution_count": null,
   "id": "d9c721b5",
   "metadata": {},
   "outputs": [],
   "source": [
    "import matplotlib.pyplot as plt\n",
    "%matplotlib inline"
   ]
  },
  {
   "cell_type": "code",
   "execution_count": null,
   "id": "7d8cf415",
   "metadata": {},
   "outputs": [],
   "source": [
    "fig1=plt.figure(1)\n",
    "plt.plot(history.history['accuracy'])\n"
   ]
  },
  {
   "cell_type": "code",
   "execution_count": null,
   "id": "f07d0865",
   "metadata": {},
   "outputs": [],
   "source": [
    "from keras.callbacks import ModelCheckpoint"
   ]
  },
  {
   "cell_type": "code",
   "execution_count": null,
   "id": "357d1c65",
   "metadata": {},
   "outputs": [],
   "source": [
    "filepath='weights.best.hdf5'\n",
    "checkpoint=ModelCheckpoint(filepath,monitor='val_accuracy',verbose=1,save_best_only=True,mode='max')\n",
    "callbacks_list=[checkpoint]"
   ]
  },
  {
   "cell_type": "code",
   "execution_count": null,
   "id": "928400e3",
   "metadata": {},
   "outputs": [],
   "source": [
    "model.fit(x,y, validation_split=0.2,epochs=150,batch_size=10,callbacks=callbacks_list,verbose=0)"
   ]
  },
  {
   "cell_type": "code",
   "execution_count": null,
   "id": "2730fc42",
   "metadata": {},
   "outputs": [],
   "source": [
    "data=pd.read_csv('heightweight.csv')"
   ]
  },
  {
   "cell_type": "code",
   "execution_count": null,
   "id": "fe0b4329",
   "metadata": {},
   "outputs": [],
   "source": [
    "data.head()"
   ]
  },
  {
   "cell_type": "code",
   "execution_count": null,
   "id": "793169eb",
   "metadata": {},
   "outputs": [],
   "source": [
    "kolon=data[['WeightLB','ageYear']]"
   ]
  },
  {
   "cell_type": "code",
   "execution_count": null,
   "id": "5f457106",
   "metadata": {},
   "outputs": [],
   "source": [
    "kolon.head()"
   ]
  },
  {
   "cell_type": "code",
   "execution_count": null,
   "id": "60533625",
   "metadata": {},
   "outputs": [],
   "source": [
    "from sklearn.preprocessing import normalize,scale\n",
    "kolon_scaled=scale(kolon)"
   ]
  },
  {
   "cell_type": "code",
   "execution_count": null,
   "id": "17db2ce5",
   "metadata": {},
   "outputs": [],
   "source": [
    "kolon_scaled"
   ]
  },
  {
   "cell_type": "code",
   "execution_count": null,
   "id": "5c513bbe",
   "metadata": {},
   "outputs": [],
   "source": [
    "kolon_scaled.max()"
   ]
  },
  {
   "cell_type": "code",
   "execution_count": null,
   "id": "091bcffb",
   "metadata": {},
   "outputs": [],
   "source": [
    "kolon_scaled.min()"
   ]
  },
  {
   "cell_type": "code",
   "execution_count": null,
   "id": "3f0b61fd",
   "metadata": {},
   "outputs": [],
   "source": [
    "from sklearn.preprocessing import MinMaxScaler"
   ]
  },
  {
   "cell_type": "code",
   "execution_count": null,
   "id": "2bfb15d2",
   "metadata": {},
   "outputs": [],
   "source": [
    "scaler=MinMaxScaler()"
   ]
  },
  {
   "cell_type": "code",
   "execution_count": null,
   "id": "1984b94c",
   "metadata": {},
   "outputs": [],
   "source": [
    "scaled=scaler.fit_transform(kolon)"
   ]
  },
  {
   "cell_type": "code",
   "execution_count": null,
   "id": "45f8e56f",
   "metadata": {},
   "outputs": [],
   "source": [
    "scaled"
   ]
  },
  {
   "cell_type": "code",
   "execution_count": null,
   "id": "21de5d4e",
   "metadata": {},
   "outputs": [],
   "source": [
    "#! pip install pickle5"
   ]
  },
  {
   "cell_type": "code",
   "execution_count": null,
   "id": "0c3a9b1d",
   "metadata": {},
   "outputs": [],
   "source": [
    "ev=pd.read_csv('kc_house_data.csv')"
   ]
  },
  {
   "cell_type": "code",
   "execution_count": null,
   "id": "50750910",
   "metadata": {},
   "outputs": [],
   "source": [
    "ev.head()"
   ]
  },
  {
   "cell_type": "code",
   "execution_count": null,
   "id": "fbe28e42",
   "metadata": {},
   "outputs": [],
   "source": [
    "x=ev.drop('price',axis=1)"
   ]
  },
  {
   "cell_type": "code",
   "execution_count": null,
   "id": "5c2f5065",
   "metadata": {},
   "outputs": [],
   "source": [
    "y=ev['price']"
   ]
  },
  {
   "cell_type": "code",
   "execution_count": null,
   "id": "ce9e7e90",
   "metadata": {},
   "outputs": [],
   "source": [
    "import numpy as np"
   ]
  },
  {
   "cell_type": "code",
   "execution_count": null,
   "id": "1acfe7ab",
   "metadata": {},
   "outputs": [],
   "source": [
    "from sklearn.model_selection import train_test_split\n",
    "from sklearn.metrics import r2_score, mean_squared_error,mean_absolute_error"
   ]
  },
  {
   "cell_type": "code",
   "execution_count": null,
   "id": "beb245f9",
   "metadata": {},
   "outputs": [],
   "source": [
    "x_train,x_test,y_train,y_test=train_test_split(x,y,test_size=0.2,random_state=13)"
   ]
  },
  {
   "cell_type": "code",
   "execution_count": null,
   "id": "85e1fabd",
   "metadata": {},
   "outputs": [],
   "source": [
    "from tensorflow.keras.models import Sequential\n",
    "from tensorflow.keras.layers import Dense,Activation\n",
    "from tensorflow.keras.optimizers import Adam\n"
   ]
  },
  {
   "cell_type": "code",
   "execution_count": null,
   "id": "3bd65724",
   "metadata": {},
   "outputs": [],
   "source": [
    "model=Sequential()\n",
    "model.add(Dense(81,activation='relu'))\n",
    "model.add(Dense(40,activation='relu'))\n",
    "model.add(Dense(27,activation='relu'))\n",
    "model.add(Dense(19,activation='relu'))\n",
    "model.add(Dense(5,activation='relu'))\n",
    "model.add(Dense(3,activation='relu'))\n",
    "model.add(Dense(1))\n",
    "model.compile(optimizer='Adam',loss='mse')"
   ]
  },
  {
   "cell_type": "code",
   "execution_count": null,
   "id": "3e9afde7",
   "metadata": {},
   "outputs": [],
   "source": [
    "model.fit(x=x_train,y=y_train,validation_data=(x_train,y_train),batch_size=128,epochs=450,verbose=1)"
   ]
  },
  {
   "cell_type": "code",
   "execution_count": null,
   "id": "a79bc5aa",
   "metadata": {},
   "outputs": [],
   "source": [
    "model.summary()"
   ]
  },
  {
   "cell_type": "markdown",
   "id": "6d4d0f61",
   "metadata": {},
   "source": [
    "## el yazması sınıflandırması"
   ]
  },
  {
   "cell_type": "code",
   "execution_count": null,
   "id": "4a437a9d",
   "metadata": {},
   "outputs": [],
   "source": [
    "import tensorflow as tf\n",
    "from tensorflow import keras"
   ]
  },
  {
   "cell_type": "code",
   "execution_count": null,
   "id": "ba2858f7",
   "metadata": {},
   "outputs": [],
   "source": [
    "mnist=keras.datasets.mnist"
   ]
  },
  {
   "cell_type": "code",
   "execution_count": null,
   "id": "6063025e",
   "metadata": {},
   "outputs": [],
   "source": [
    "(train_images,train_labels),(test_images,test_labels)=mnist.load_data()"
   ]
  },
  {
   "cell_type": "code",
   "execution_count": null,
   "id": "cf1d4f30",
   "metadata": {},
   "outputs": [],
   "source": [
    "train_images.shape"
   ]
  },
  {
   "cell_type": "code",
   "execution_count": null,
   "id": "89090a8e",
   "metadata": {},
   "outputs": [],
   "source": [
    "train_images,"
   ]
  },
  {
   "cell_type": "code",
   "execution_count": null,
   "id": "79dee386",
   "metadata": {},
   "outputs": [],
   "source": [
    "train_labels,"
   ]
  },
  {
   "cell_type": "code",
   "execution_count": null,
   "id": "041379ad",
   "metadata": {},
   "outputs": [],
   "source": [
    "import matplotlib.pyplot as plt\n",
    "%matplotlib inline\n",
    "plt.imshow(train_images[59999],cmap='gray')\n"
   ]
  },
  {
   "cell_type": "code",
   "execution_count": null,
   "id": "5be94503",
   "metadata": {},
   "outputs": [],
   "source": [
    "plt.imshow(train_images[20],cmap='gray')"
   ]
  },
  {
   "cell_type": "code",
   "execution_count": null,
   "id": "654401cd",
   "metadata": {},
   "outputs": [],
   "source": [
    "plt.imshow(train_images[5000],cmap='gray')"
   ]
  },
  {
   "cell_type": "code",
   "execution_count": null,
   "id": "b976daf2",
   "metadata": {},
   "outputs": [],
   "source": [
    "plt.imshow(train_images[50000],cmap='gray')"
   ]
  },
  {
   "cell_type": "code",
   "execution_count": null,
   "id": "d22664fd",
   "metadata": {},
   "outputs": [],
   "source": [
    "train_images=train_images/255.0\n",
    "test_images=test_images/255.0"
   ]
  },
  {
   "cell_type": "code",
   "execution_count": null,
   "id": "bbf9c7dc",
   "metadata": {},
   "outputs": [],
   "source": [
    "model=keras.Sequential([keras.layers.InputLayer(input_shape=(28,28),),\n",
    "                        keras.layers.Reshape(target_shape=(28,28,1)),\n",
    "                        keras.layers.Conv2D(filters=12,kernel_size=(3,3),activation=tf.nn.relu),\n",
    "                        keras.layers.MaxPooling2D(pool_size=(2,2)),\n",
    "                        keras.layers.Flatten(),\n",
    "                        keras.layers.Dense(10)\n",
    "                       ])"
   ]
  },
  {
   "cell_type": "code",
   "execution_count": null,
   "id": "720958cc",
   "metadata": {},
   "outputs": [],
   "source": [
    "model.compile(optimizer='adam',loss=tf.keras.losses.SparseCategoricalCrossentropy(from_logits=True),metrics=['accuracy'])"
   ]
  },
  {
   "cell_type": "code",
   "execution_count": null,
   "id": "9887bb42",
   "metadata": {},
   "outputs": [],
   "source": [
    "model.fit(train_images,train_labels,validation_split=0.1,epochs=10)"
   ]
  },
  {
   "cell_type": "code",
   "execution_count": null,
   "id": "664c891a",
   "metadata": {},
   "outputs": [],
   "source": [
    "accuracy=model.evaluate(test_images,test_labels)\n"
   ]
  },
  {
   "cell_type": "markdown",
   "id": "05fac423",
   "metadata": {},
   "source": [
    "## ELBİSE"
   ]
  },
  {
   "cell_type": "code",
   "execution_count": null,
   "id": "e276bfb4",
   "metadata": {},
   "outputs": [],
   "source": [
    "import tensorflow as tf\n",
    "from tensorflow import keras\n",
    "import numpy as np"
   ]
  },
  {
   "cell_type": "code",
   "execution_count": null,
   "id": "f938e4e0",
   "metadata": {},
   "outputs": [],
   "source": [
    "fashion_mnist=tf.keras.datasets.fashion_mnist\n",
    "(train_images,train_labels),(test_images,test_labels)=mnist.load_data()\n"
   ]
  },
  {
   "cell_type": "code",
   "execution_count": null,
   "id": "02454d75",
   "metadata": {},
   "outputs": [],
   "source": [
    "class_names=['T-shirt','Trouser','Pullover','Dress','Coat','Sandal','Shirt','Sneaker','Bag','Ankle boot']"
   ]
  },
  {
   "cell_type": "code",
   "execution_count": null,
   "id": "fdf066fd",
   "metadata": {},
   "outputs": [],
   "source": [
    "train_images=train_images/255.0\n",
    "test_images=test_images/255.0"
   ]
  },
  {
   "cell_type": "code",
   "execution_count": null,
   "id": "9cf4ce16",
   "metadata": {},
   "outputs": [],
   "source": [
    "model=tf.keras.Sequential([tf.keras.layers.Flatten(input_shape=(28,28)),\n",
    "                        tf.keras.layers.Dense(128,activation='relu'),\n",
    "                        tf.keras.layers.Dense(128,activation='relu'),\n",
    "                        tf.keras.layers.Dense(10)\n",
    "                       ])"
   ]
  },
  {
   "cell_type": "code",
   "execution_count": null,
   "id": "bf5649bd",
   "metadata": {},
   "outputs": [],
   "source": [
    "model.compile(optimizer='adam',loss=tf.keras.losses.SparseCategoricalCrossentropy(from_logits=True),metrics=['accuracy'])"
   ]
  },
  {
   "cell_type": "code",
   "execution_count": null,
   "id": "ddfa9a94",
   "metadata": {},
   "outputs": [],
   "source": [
    "model.fit(train_images,train_labels,epochs=10,verbose=1)"
   ]
  },
  {
   "cell_type": "code",
   "execution_count": null,
   "id": "2e3538da",
   "metadata": {},
   "outputs": [],
   "source": [
    "test_loss,test_acc=model.evaluate(test_images,test_labels,verbose=2)"
   ]
  },
  {
   "cell_type": "code",
   "execution_count": null,
   "id": "35e6329d",
   "metadata": {},
   "outputs": [],
   "source": [
    "model_json=model.to_json()\n",
    "with open('model_mnist.json','w') as json_file:\n",
    "    json_file.write(model_json)\n",
    "model.save_weights('model_mnist.h5')\n",
    "print('iş tamam')"
   ]
  },
  {
   "cell_type": "code",
   "execution_count": null,
   "id": "68a27a3b",
   "metadata": {},
   "outputs": [],
   "source": []
  }
 ],
 "metadata": {
  "kernelspec": {
   "display_name": "Python 3.8.3 64-bit",
   "language": "python",
   "name": "python3"
  },
  "language_info": {
   "codemirror_mode": {
    "name": "ipython",
    "version": 3
   },
   "file_extension": ".py",
   "mimetype": "text/x-python",
   "name": "python",
   "nbconvert_exporter": "python",
   "pygments_lexer": "ipython3",
   "version": "3.8.3"
  },
  "vscode": {
   "interpreter": {
    "hash": "bc98aebe86ff5d0b47cd3c965885a66547819f4fa7e4966c37275f31e9e55567"
   }
  }
 },
 "nbformat": 4,
 "nbformat_minor": 5
}
