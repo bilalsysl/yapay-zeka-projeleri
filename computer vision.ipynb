{
 "cells": [
  {
   "cell_type": "code",
   "execution_count": null,
   "id": "9d37e1f0",
   "metadata": {},
   "outputs": [],
   "source": [
    "#! pip install opencv-python"
   ]
  },
  {
   "cell_type": "code",
   "execution_count": null,
   "id": "7618eb8c",
   "metadata": {},
   "outputs": [],
   "source": [
    "import cv2\n",
    "import numpy as np \n",
    "input=cv2.imread('./input.jpg')\n",
    "cv2.imshow('Hello world',input)\n",
    "cv2.waitKey()\n",
    "cv2.destroyAllWindows()"
   ]
  },
  {
   "cell_type": "code",
   "execution_count": null,
   "id": "17d3a12f",
   "metadata": {},
   "outputs": [],
   "source": [
    "input.shape\n",
    "print(input.shape)"
   ]
  },
  {
   "cell_type": "code",
   "execution_count": null,
   "id": "f869f797",
   "metadata": {},
   "outputs": [],
   "source": [
    "print('Height of image',int(input.shape[0]),'pixels')\n",
    "print('widht of image',int(input.shape[1]),'pixels')"
   ]
  },
  {
   "cell_type": "code",
   "execution_count": null,
   "id": "455a741b",
   "metadata": {},
   "outputs": [],
   "source": [
    "%matplotlib inline\n",
    "%load_ext autoreload\n",
    "%autoreload\n",
    "checkboard=np.zeros((9,9))\n",
    "checkboard[0::2,1::2]=1\n",
    "checkboard[1::2,0::2]=1\n",
    "print(checkboard)"
   ]
  },
  {
   "cell_type": "code",
   "execution_count": null,
   "id": "02f3583f",
   "metadata": {},
   "outputs": [],
   "source": [
    "import matplotlib.pyplot as plt\n",
    "import matplotlib.image as mpimg\n",
    "plt.imshow(checkboard,cmap='gray',interpolation='nearest')"
   ]
  },
  {
   "cell_type": "code",
   "execution_count": null,
   "id": "d1577544",
   "metadata": {},
   "outputs": [],
   "source": [
    "from skimage import data\n",
    "image_of_a_bush=data.lfw_subset()\n",
    "image_of_a_bush=image_of_a_bush[0,:,:]\n",
    "print(image_of_a_bush)"
   ]
  },
  {
   "cell_type": "code",
   "execution_count": null,
   "id": "d9cc6d6a",
   "metadata": {},
   "outputs": [],
   "source": [
    "plt.figure(figsize=(3,3))\n",
    "plt.imshow(image_of_a_bush,cmap='gray',interpolation='nearest')\n",
    "plt.show()"
   ]
  },
  {
   "cell_type": "code",
   "execution_count": null,
   "id": "dc777763",
   "metadata": {},
   "outputs": [],
   "source": [
    "image=data.astronaut()\n",
    "plt.imshow(image)"
   ]
  },
  {
   "cell_type": "code",
   "execution_count": null,
   "id": "a98dfa5b",
   "metadata": {},
   "outputs": [],
   "source": [
    "import cv2\n",
    "image=cv2.imread('input.jpg')\n",
    "cv2.imshow('Original',image)\n",
    "cv2.waitKey()\n",
    "gray_image=cv2.cvtColor(image,cv2.COLOR_BGR2GRAY)\n",
    "cv2.imshow('Grayscale',gray_image)\n",
    "cv2.waitKey()\n",
    "cv2.destroyAllWindows()\n"
   ]
  },
  {
   "cell_type": "code",
   "execution_count": null,
   "id": "97cade2f",
   "metadata": {},
   "outputs": [],
   "source": [
    "image=cv2.imread('input.jpg',0)\n",
    "cv2.imshow('Grayscale',image)\n",
    "cv2.waitKey()\n",
    "cv2.destroyAllWindows()"
   ]
  },
  {
   "cell_type": "code",
   "execution_count": null,
   "id": "df8a2ba4",
   "metadata": {},
   "outputs": [],
   "source": [
    "image=cv2.imread('input.jpg')\n",
    "B,G,R=image[0,0]\n",
    "B,G,R=image[10,50]\n",
    "print(B,G,R)\n",
    "print(image.shape)"
   ]
  },
  {
   "cell_type": "code",
   "execution_count": null,
   "id": "8f76b0fa",
   "metadata": {},
   "outputs": [],
   "source": [
    "gray_img=cv2.cvtColor(image,cv2.COLOR_BGR2GRAY)\n",
    "print(gray_img.shape)\n",
    "print(gray_img[10,50])"
   ]
  },
  {
   "cell_type": "code",
   "execution_count": null,
   "id": "2fbf9ac0",
   "metadata": {},
   "outputs": [],
   "source": [
    "gray_img[0,0]"
   ]
  },
  {
   "cell_type": "code",
   "execution_count": null,
   "id": "2a51b88e",
   "metadata": {},
   "outputs": [],
   "source": [
    "image=cv2.imread('input.jpg')\n",
    "hsv_image=cv2.cvtColor(image,cv2.COLOR_BGR2HSV)\n",
    "\n",
    "cv2.imshow('HSV image',hsv_image)\n",
    "cv2.imshow('Channel',hsv_image[:,:,0])\n",
    "cv2.imshow('saturation channel',hsv_image[:,:,1])\n",
    "cv2.imshow('calue channel',hsv_image[:,:,2])\n",
    "cv2.waitKey()\n",
    "cv2.destroyAllWindows()"
   ]
  },
  {
   "cell_type": "code",
   "execution_count": null,
   "id": "be5ff316",
   "metadata": {},
   "outputs": [],
   "source": [
    "image=cv2.imread('input.jpg')\n",
    "B,G,R=cv2.split(image)\n",
    "print(B.shape)\n",
    "cv2.imshow('Red',R)\n",
    "cv2.imshow('Green',G)\n",
    "cv2.imshow('Blue',B)\n",
    "cv2.waitKey(0)\n",
    "cv.destroyAllWindows()\n",
    "merged=cv2.merge([B,G,R])\n",
    "cv2.imshow('Merged',merged)\n",
    "\n",
    "merged=cv2.merge([B+100,G,R+100])\n",
    "cv2.imshow('Merged with blue amplified',merged)\n",
    "cv2.waitKey(0)\n",
    "cv2.destroyAllWindows()"
   ]
  },
  {
   "cell_type": "code",
   "execution_count": null,
   "id": "db05bbc5",
   "metadata": {},
   "outputs": [],
   "source": [
    "image=cv2.imread('input.jpg')\n",
    "height,width=image.shape[:2]\n",
    "quareter_height,quareter_width=height/4,width/4\n",
    "T=np.float32([[1,0,quareter_width],[0,1,quareter_height]])\n",
    "img_translation=cv2.warpAffine(image,T,(width,height))\n",
    "cv2.imshow('Translation',img_translation)\n",
    "cv2.waitKey()\n",
    "cv2.destroyAllWindows()"
   ]
  },
  {
   "cell_type": "code",
   "execution_count": null,
   "id": "9729bb00",
   "metadata": {},
   "outputs": [],
   "source": [
    "print(T)"
   ]
  },
  {
   "cell_type": "code",
   "execution_count": null,
   "id": "7e25ec5f",
   "metadata": {},
   "outputs": [],
   "source": [
    "image=cv2.imread('input.jpg')\n",
    "height,width=image.shape[:2]\n",
    "rotation_matrix=cv2.getRotationMatrix2D((width/2,height/2),45,.5)\n",
    "rotated_image=cv2.warpAffine(image,rotation_matrix,(width,height))\n",
    "cv2.imshow('Rotated image',rotated_image)\n",
    "cv2.waitKey()\n",
    "cv2.destroyAllWindows()"
   ]
  },
  {
   "cell_type": "code",
   "execution_count": null,
   "id": "8473483f",
   "metadata": {},
   "outputs": [],
   "source": [
    "import cv2\n",
    "import numpy as np\n",
    "image=cv2.imread('input.jpg',0)\n",
    "height,width=image.shape[:2]\n",
    "sobel_x=cv2.Sobel(image,cv2.CV_64F,0,1,ksize=5)\n",
    "sobel_y=cv2.Sobel(image,cv2.CV_64F,1,0,ksize=5)\n",
    "cv2.imshow('Rotated ımage',image)\n",
    "cv2.waitKey(0)\n",
    "cv2.imshow('X',sobel_x)\n",
    "cv2.waitKey(0)\n",
    "cv2.imshow('Y',sobel_y)\n",
    "cv2.waitKey(0)\n",
    "sobel_OR=cv2.bitwise_or(sobel_x,sobel_y)\n",
    "cv2.imshow('or',sobel_OR)\n",
    "cv2.waitKey(0)\n",
    "\n",
    "laplacian=cv2.Laplacian(image,cv2.CV_64F)\n",
    "cv2.imshow('laplas',laplacian)\n",
    "cv2.waitKey(0)\n",
    "canny=cv2.Canny(image,50,120)\n",
    "cv2.imshow('kanny',canny)\n",
    "cv2.waitKey(0)\n",
    "\n",
    "\n",
    "\n",
    "\n",
    "\n",
    "\n",
    "\n",
    "cv2.destroyAllWindows()\n"
   ]
  },
  {
   "cell_type": "code",
   "execution_count": null,
   "id": "eaa7b208",
   "metadata": {},
   "outputs": [],
   "source": [
    "def sketch(image):\n",
    "    img_gray=cv2.cvtColor(image,cv2.COLOR_BGR2GRAY)\n",
    "    img_gray_blur=cv2.GaussianBlur(img_gray,(5,5),0)\n",
    "    canny_edges=cv2.Canny(img_gray_blur,10,70)\n",
    "    ret,mask=cv2.threshold(canny_edges,70,255,cv2.THRESH_BINARY_INV)\n",
    "    return mask\n",
    "cap=cv2.VideoCapture(0)\n",
    "while True:\n",
    "    ret,frame=cap.read()\n",
    "    cv2.imshow('our live sketcher',sketch(frame))\n",
    "    if cv2.waitKey(1)==13:\n",
    "        break\n",
    "cap.release()\n",
    "cv2.destroyAllWindows()\n",
    "print('Tamamdır BABAYİĞİT')\n",
    "\n",
    "        "
   ]
  },
  {
   "cell_type": "code",
   "execution_count": null,
   "id": "64a91cdd",
   "metadata": {},
   "outputs": [],
   "source": [
    "cv2.destroyAllWindows()"
   ]
  },
  {
   "cell_type": "code",
   "execution_count": null,
   "id": "5f545a40",
   "metadata": {},
   "outputs": [],
   "source": [
    "image=cv2.imread('WaldoBeach.jpg')\n",
    "cv2.imshow('waldo busted',image)\n",
    "cv2.waitKey(0)\n",
    "gray=cv2.cvtColor(image,cv2.COLOR_BGR2GRAY)\n",
    "template=cv2.imread('waldo.jpg',0)\n",
    "result=cv2.matchTemplate(gray,template,cv2.TM_CCOEFF)\n",
    "minVal,maxVal,minLoc,maxLoc=cv2.minMaxLoc(result)\n",
    "top_left=maxLoc\n",
    "bottom_right=(top_left[0]+50,top_left[1]+50)\n",
    "cv2.rectangle(image,top_left,bottom_right,(0,0,255),5)\n",
    "cv2.imshow('waldo busted',image)\n",
    "cv2.waitKey(0)\n",
    "cv2.destroyAllWindows()\n"
   ]
  },
  {
   "cell_type": "code",
   "execution_count": null,
   "id": "51497ac4",
   "metadata": {},
   "outputs": [],
   "source": [
    "!pip install imutils"
   ]
  },
  {
   "cell_type": "code",
   "execution_count": null,
   "id": "0ad33587",
   "metadata": {},
   "outputs": [],
   "source": [
    "import imutils\n",
    "import cv2\n",
    "image=cv2.imread('input.jpg')\n",
    "cv2.imshow('orjinal',image)\n",
    "flipped=cv2.flip(image,0)\n",
    "cv2.imshow('vertical flip',flipped)\n",
    "flipped=cv2.flip(image,1)\n",
    "cv2.imshow('horizontal flip',flipped)\n",
    "flipped=cv2.flip(image,-1)\n",
    "cv2.imshow('bot flip',flipped)\n",
    "cv2.waitKey(0)\n",
    "cv2.destroyAllWindows()\n"
   ]
  },
  {
   "cell_type": "code",
   "execution_count": null,
   "id": "6521509d",
   "metadata": {},
   "outputs": [],
   "source": [
    "cap=cv2.VideoCapture('airplanes.mp4')\n",
    "while True:\n",
    "    ret,frame=cap.read()\n",
    "    if ret:\n",
    "        cv2.imshow('demo',frame)\n",
    "    else:\n",
    "        break\n",
    "    key=cv2.waitKey(10)\n",
    "    if key==ord('q'):\n",
    "        break\n",
    "cv2.destroyAllWindows()\n"
   ]
  },
  {
   "cell_type": "code",
   "execution_count": null,
   "id": "a532cecd",
   "metadata": {},
   "outputs": [],
   "source": [
    "cap=cv2.VideoCapture(0)\n",
    "while True:\n",
    "    ret,frame=cap.read()\n",
    "    if ret:\n",
    "        cv2.imshow('isminiz',frame)\n",
    "    else:\n",
    "        break\n",
    "    key=cv2.waitKey(10)\n",
    "    if key==ord('q'):\n",
    "        cap.release()\n",
    "        break\n",
    "cv2.destroyAllWindows()"
   ]
  },
  {
   "cell_type": "code",
   "execution_count": null,
   "id": "efdcd441",
   "metadata": {},
   "outputs": [],
   "source": [
    "cap=cv2.VideoCapture('cars.mp4')\n",
    "while True:\n",
    "    ret,frame=cap.read()\n",
    "    if ret:\n",
    "        gray=cv2.cvtColor(frame,cv2.COLOR_BGR2GRAY)\n",
    "        hsv=cv2.cvtColor(frame,cv2.COLOR_BGR2HSV)\n",
    "        cv2.imshow('demo',frame)\n",
    "        cv2.imshow('gray',gray)\n",
    "        cv2.imshow('hasv',hsv)\n",
    "        \n",
    "            \n",
    "        \n",
    "    else:\n",
    "        cap.release()\n",
    "        break\n",
    "    key=cv2.waitKey(10)\n",
    "    if key==ord('q'):\n",
    "        break\n",
    "cv2.destroyAllWindows()"
   ]
  },
  {
   "cell_type": "code",
   "execution_count": null,
   "id": "2ec7da21",
   "metadata": {},
   "outputs": [],
   "source": [
    "cap=cv2.VideoCapture(0)\n",
    "ret1,frame1=cap.read()\n",
    "ret2,frame2=cap.read()\n",
    "while True:\n",
    "    frame1_gray=cv2.cvtColor(frame1,cv2.COLOR_BGR2GRAY)\n",
    "    frame2_gray=cv2.cvtColor(frame2,cv2.COLOR_BGR2GRAY)\n",
    "    frame1_blur=cv2.GaussianBlur(frame1_gray,(21,21),0)\n",
    "    frame2_blur=cv2.GaussianBlur(frame2_gray,(21,21),0)\n",
    "    diff=cv2.absdiff(frame1_blur,frame2_blur)\n",
    "    cv2.imshow('motion',diff)\n",
    "    frame1=frame2\n",
    "    ret,frame2=cap.read()\n",
    "    if not ret:\n",
    "        cap.release()\n",
    "        break\n",
    " \n",
    "   \n",
    "    key=cv2.waitKey(10)\n",
    "    if key==ord('q'):\n",
    "        break\n",
    "cv2.destroyAllWindows()"
   ]
  },
  {
   "cell_type": "code",
   "execution_count": null,
   "id": "9b521475",
   "metadata": {},
   "outputs": [],
   "source": [
    "cap=cv2.VideoCapture('cars.mp4')\n",
    "ret1,frame1=cap.read()\n",
    "ret2,frame2=cap.read()\n",
    "while True:\n",
    "    frame1_gray=cv2.cvtColor(frame1,cv2.COLOR_BGR2GRAY)\n",
    "    frame2_gray=cv2.cvtColor(frame2,cv2.COLOR_BGR2GRAY)\n",
    "    frame1_blur=cv2.GaussianBlur(frame1_gray,(21,21),0)\n",
    "    frame2_blur=cv2.GaussianBlur(frame2_gray,(21,21),0)\n",
    "    diff=cv2.absdiff(frame1_blur,frame2_blur)\n",
    "    \n",
    "    thresh=cv2.threshold(diff,20,255,cv2.THRESH_BINARY)[1]\n",
    "    final=cv2.dilate(thresh,None,iterations=2)\n",
    "    \n",
    "    cv2.imshow('motion',thresh)\n",
    "    frame1=frame2\n",
    "    ret,frame2=cap.read()\n",
    "    if not ret:\n",
    "        \n",
    "        break\n",
    " \n",
    "   \n",
    "    key=cv2.waitKey(10)\n",
    "    if key==ord('q') or key==27:\n",
    "        break\n",
    "cv2.destroyAllWindows()"
   ]
  },
  {
   "cell_type": "code",
   "execution_count": null,
   "id": "1c6f0a3e",
   "metadata": {},
   "outputs": [],
   "source": [
    "cap=cv2.VideoCapture('airplanes.mp4')\n",
    "ret1,frame1=cap.read()\n",
    "ret2,frame2=cap.read()\n",
    "while True:\n",
    "    frame1_gray=cv2.cvtColor(frame1,cv2.COLOR_BGR2GRAY)\n",
    "    frame2_gray=cv2.cvtColor(frame2,cv2.COLOR_BGR2GRAY)\n",
    "    frame1_blur=cv2.GaussianBlur(frame1_gray,(21,21),0)\n",
    "    frame2_blur=cv2.GaussianBlur(frame2_gray,(21,21),0)\n",
    "    diff=cv2.absdiff(frame1_blur,frame2_blur)\n",
    "    \n",
    "    thresh=cv2.threshold(diff,20,255,cv2.THRESH_BINARY)[1]\n",
    "    final=cv2.dilate(thresh,None,iterations=2)\n",
    "    masked=cv2.bitwise_and(frame1,frame1,mask=thresh)\n",
    "    white_pixels=np.sum(thresh)/255\n",
    "    row,cols=thresh.shape\n",
    "    total=row*cols\n",
    "    if white_pixels>0.01*total:\n",
    "        font=cv2.FONT_HERSHEY_SIMPLEX\n",
    "        cv2.putText(frame1,'Hareket var babayiğit',(10,50),font,1,(0,0,255),2,cv2.LINE_AA)\n",
    "    \n",
    "    cv2.imshow('motion',thresh)\n",
    "    frame1=frame2\n",
    "    ret,frame2=cap.read()\n",
    "    if not ret:\n",
    "        \n",
    "        break\n",
    " \n",
    "   \n",
    "    key=cv2.waitKey(10)\n",
    "    if key==ord('q') or key==27:\n",
    "        break\n",
    "cv2.destroyAllWindows()"
   ]
  },
  {
   "cell_type": "code",
   "execution_count": null,
   "id": "f99149f8",
   "metadata": {},
   "outputs": [],
   "source": [
    "image=cv2.imread('oxford.jpg',88)\n",
    "cv2.imshow('Input Image',image)\n",
    "cv2.waitKey()\n",
    "gray=cv2.cvtColor(image,cv2.COLOR_BGR2GRAY)\n",
    "edged=cv2.Canny(gray,30,200)\n",
    "cv2.imshow('Canny edges',edged)\n",
    "cv2.waitKey(0)\n",
    "contours,hierarchy=cv2.findContours(edged,cv2.RETR_EXTERNAL,cv2.CHAIN_APPROX_NONE)\n",
    "cv2.imshow('A',edged)\n",
    "cv2.waitKey(0)\n",
    "print('number of find contours='+ str(len(contours)))\n",
    "cv2.drawContours(image,contours,-1,(0,255,0),thickness=2)\n",
    "cv2.imshow('B',edged)\n",
    "cv2.waitKey(0)\n",
    "cv2.destroyAllWindows()"
   ]
  },
  {
   "cell_type": "code",
   "execution_count": null,
   "id": "5b190333",
   "metadata": {},
   "outputs": [],
   "source": [
    "image=cv2.imread('opencv_inv.png')\n",
    "gray=cv2.cvtColor(image,cv2.COLOR_BGR2GRAY)\n",
    "blur=cv2.medianBlur(gray,5)\n",
    "circles=cv2.HoughCircles(blur,cv2.HOUGH_GRADIENT,1.5,20,param1=60,param2=40,minRadius=0,maxRadius=0)\n",
    "circles=np.uint16(np.around(circles))\n",
    "for i in circles[0,:]:\n",
    "    cv2.circle(image,(i[0],i[1]),i[2],(0,255,0),2)\n",
    "    cv2.circle(image,(i[0],i[1]),2,   (0,255,0),5)\n",
    "    \n",
    "cv2.imshow('dc',circles)\n",
    "cv2.waitKey(0)\n",
    "cv2.destroyAllWindows()"
   ]
  },
  {
   "cell_type": "code",
   "execution_count": null,
   "id": "b6faa13c",
   "metadata": {},
   "outputs": [],
   "source": []
  },
  {
   "cell_type": "code",
   "execution_count": null,
   "id": "b4dbf2bb",
   "metadata": {},
   "outputs": [],
   "source": [
    "face_classifier=cv2.CascadeClassifier('haarcascade_frontalface_default.xml')\n",
    "image=cv2.imread('bilal.JPG')\n",
    "gray=cv2.cvtColor(image,cv2.COLOR_BGR2GRAY)\n",
    "faces=face_classifier.detectMultiScale(gray,1.3,5)\n",
    "if faces is ():\n",
    "    print('no faces')\n",
    "    \n",
    "for(x,y,w,h) in faces:\n",
    "    cv2.rectangle(image,(x,y),(x+w,y+h),(127,0,255),2)\n",
    "    cv2.imshow('found',image)\n",
    "    cv2.waitKey(0)\n",
    "cv2.destroyAllWindows()    "
   ]
  },
  {
   "cell_type": "code",
   "execution_count": null,
   "id": "719e72bf",
   "metadata": {},
   "outputs": [],
   "source": [
    "face_classifier=cv2.CascadeClassifier('haarcascade_frontalface_default.xml')\n",
    "eye_classifier=cv2.CascadeClassifier('haarcascade_eye.xml')\n",
    "\n",
    "def face_detector(img,size=0.5):\n",
    "    gray=cv2.cvtColor(image,cv2.COLOR_BGR2GRAY)\n",
    "    faces=face_classifier.detectMultiScale(gray,1.3,5)\n",
    "    if faces is ():\n",
    "        print('no faces')\n",
    "        return image\n",
    "    "
   ]
  }
 ],
 "metadata": {
  "kernelspec": {
   "display_name": "Python 3 (ipykernel)",
   "language": "python",
   "name": "python3"
  },
  "language_info": {
   "codemirror_mode": {
    "name": "ipython",
    "version": 3
   },
   "file_extension": ".py",
   "mimetype": "text/x-python",
   "name": "python",
   "nbconvert_exporter": "python",
   "pygments_lexer": "ipython3",
   "version": "3.8.3"
  }
 },
 "nbformat": 4,
 "nbformat_minor": 5
}
