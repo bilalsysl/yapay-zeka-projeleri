{
 "cells": [
  {
   "cell_type": "code",
   "execution_count": null,
   "id": "b8f0318c",
   "metadata": {},
   "outputs": [],
   "source": [
    "#! pip install ffmpeg\n",
    "#! pip install bar_chart_race"
   ]
  },
  {
   "cell_type": "code",
   "execution_count": null,
   "id": "e5176ed7",
   "metadata": {},
   "outputs": [],
   "source": [
    "import pandas as pd\n",
    "import matplotlib.pyplot as plt\n",
    "%matplotlib inline\n",
    "import seaborn as sns\n",
    "import bar_chart_race as bcr"
   ]
  },
  {
   "cell_type": "code",
   "execution_count": null,
   "id": "cf3eb222",
   "metadata": {},
   "outputs": [],
   "source": [
    "pd.set_option('display.max_columns',1000)"
   ]
  },
  {
   "cell_type": "code",
   "execution_count": null,
   "id": "d2f812be",
   "metadata": {},
   "outputs": [],
   "source": [
    "df=pd.read_csv('corona_dat.csv')"
   ]
  },
  {
   "cell_type": "code",
   "execution_count": null,
   "id": "00573918",
   "metadata": {},
   "outputs": [],
   "source": [
    "df.head()"
   ]
  },
  {
   "cell_type": "code",
   "execution_count": null,
   "id": "8fd60f64",
   "metadata": {},
   "outputs": [],
   "source": [
    "df2=df[['date','China','US','Turkey','Brazil','Spain','Italy','France']]"
   ]
  },
  {
   "cell_type": "code",
   "execution_count": null,
   "id": "d2487a70",
   "metadata": {},
   "outputs": [],
   "source": [
    "df2.set_index('date',inplace=True)"
   ]
  },
  {
   "cell_type": "code",
   "execution_count": null,
   "id": "fe4a608c",
   "metadata": {},
   "outputs": [],
   "source": [
    "df_total=df2.cumsum(axis=0)"
   ]
  },
  {
   "cell_type": "code",
   "execution_count": null,
   "id": "4c0f01bd",
   "metadata": {},
   "outputs": [],
   "source": [
    "#! pip install ffmpeg"
   ]
  },
  {
   "cell_type": "code",
   "execution_count": null,
   "id": "879f45bc",
   "metadata": {},
   "outputs": [],
   "source": [
    "bcr.bar_chart_race(df=df_total,filename='covid19.mp4',figsize=(8,6),title='Covid19')"
   ]
  },
  {
   "cell_type": "code",
   "execution_count": null,
   "id": "77fc504b",
   "metadata": {},
   "outputs": [],
   "source": [
    "from IPython display import HTML\n",
    "from base64 import b64encode\n",
    "mp4=open('covid19.mp4','rb').read()\n",
    "data_url='data:video/mp4;base64,'+b64encode(mp4).decode()\n",
    "HTML('''\n",
    "<Video width=400 controls>\n",
    "<source src=\"%s\" type=\"video/mp4\">\n",
    "</video>\n",
    "'''%data_url)"
   ]
  },
  {
   "cell_type": "markdown",
   "id": "a7ef5bf4",
   "metadata": {},
   "source": [
    "## Elektrik Tüketimi"
   ]
  },
  {
   "cell_type": "code",
   "execution_count": null,
   "id": "fc678bfd",
   "metadata": {},
   "outputs": [],
   "source": [
    "#! pip install plotly"
   ]
  },
  {
   "cell_type": "code",
   "execution_count": null,
   "id": "93e19769",
   "metadata": {},
   "outputs": [],
   "source": [
    "import plotly.graph_objs  as go\n",
    "from plotly.offline import init_notebook_mode,iplot,plot\n",
    "init_notebook_mode(connected=True)"
   ]
  },
  {
   "cell_type": "code",
   "execution_count": null,
   "id": "3a9db27e",
   "metadata": {},
   "outputs": [],
   "source": [
    "import pandas as pd"
   ]
  },
  {
   "cell_type": "code",
   "execution_count": null,
   "id": "ce3d16d7",
   "metadata": {},
   "outputs": [],
   "source": [
    "df=pd.read_csv('2014_World_Power_Consumption')"
   ]
  },
  {
   "cell_type": "code",
   "execution_count": null,
   "id": "97784d50",
   "metadata": {},
   "outputs": [],
   "source": [
    "df.head()"
   ]
  },
  {
   "cell_type": "code",
   "execution_count": null,
   "id": "0f4be418",
   "metadata": {},
   "outputs": [],
   "source": [
    "data=dict(\n",
    "       type='choropleth',\n",
    "       colorscale='Viridis',\n",
    "       reversescale=True,\n",
    "       locations=df['Country'],\n",
    "       locationmode='country names',\n",
    "       z=df['Power Consumption KWH'],\n",
    "       text=df['Country'],\n",
    "       colorbar={'title':'Power Consumption KWH'},\n",
    "        )\n",
    "layout=dict(title='2014 POwer Consumption KWH',\n",
    "           geo=dict(showframe=False,projection={'type':'mercator'}))"
   ]
  },
  {
   "cell_type": "code",
   "execution_count": null,
   "id": "c9506f18",
   "metadata": {},
   "outputs": [],
   "source": [
    "choromap=go.Figure(data=[data],layout=layout)\n",
    "iplot(choromap,validate=False)"
   ]
  },
  {
   "cell_type": "markdown",
   "id": "8febbe10",
   "metadata": {},
   "source": [
    "## PYCAROT"
   ]
  },
  {
   "cell_type": "code",
   "execution_count": null,
   "id": "cb88ab22",
   "metadata": {},
   "outputs": [],
   "source": [
    "#pip install numpy==1.20"
   ]
  },
  {
   "cell_type": "code",
   "execution_count": null,
   "id": "099bdd24",
   "metadata": {},
   "outputs": [],
   "source": [
    "# !pip install --user pycaret"
   ]
  },
  {
   "cell_type": "code",
   "execution_count": null,
   "id": "24da35b2",
   "metadata": {},
   "outputs": [],
   "source": [
    "import pandas as pd"
   ]
  },
  {
   "cell_type": "code",
   "execution_count": null,
   "id": "efcf084a",
   "metadata": {},
   "outputs": [],
   "source": []
  },
  {
   "cell_type": "code",
   "execution_count": null,
   "id": "d20b7317",
   "metadata": {},
   "outputs": [],
   "source": [
    "import numpy as np"
   ]
  },
  {
   "cell_type": "code",
   "execution_count": null,
   "id": "32a4c495",
   "metadata": {},
   "outputs": [],
   "source": [
    "import jinja2"
   ]
  },
  {
   "cell_type": "code",
   "execution_count": null,
   "id": "2af0d734",
   "metadata": {},
   "outputs": [],
   "source": [
    "from pycaret.regression import *"
   ]
  },
  {
   "cell_type": "code",
   "execution_count": null,
   "id": "12e4616b",
   "metadata": {},
   "outputs": [],
   "source": [
    "df=pd.read_pickle('kc_house.pkl')"
   ]
  },
  {
   "cell_type": "code",
   "execution_count": null,
   "id": "d1d71836",
   "metadata": {},
   "outputs": [],
   "source": [
    "exp_name=setup(data=df,target='price')"
   ]
  },
  {
   "cell_type": "code",
   "execution_count": null,
   "id": "dde36f0b",
   "metadata": {},
   "outputs": [],
   "source": [
    "best_model=compare_models()"
   ]
  },
  {
   "cell_type": "markdown",
   "id": "f54a7399",
   "metadata": {},
   "source": [
    "## Clustering"
   ]
  },
  {
   "cell_type": "code",
   "execution_count": null,
   "id": "44d0c9db",
   "metadata": {},
   "outputs": [],
   "source": [
    "import pandas as pd"
   ]
  },
  {
   "cell_type": "code",
   "execution_count": null,
   "id": "ac69be85",
   "metadata": {},
   "outputs": [],
   "source": [
    "df=pd.read_excel('cars.xls')"
   ]
  },
  {
   "cell_type": "code",
   "execution_count": null,
   "id": "02188c51",
   "metadata": {},
   "outputs": [],
   "source": [
    "x=df[['Price','Mileage','Cylinder']]"
   ]
  },
  {
   "cell_type": "code",
   "execution_count": null,
   "id": "ebe1b52c",
   "metadata": {},
   "outputs": [],
   "source": [
    "from pycaret.clustering import *"
   ]
  },
  {
   "cell_type": "code",
   "execution_count": null,
   "id": "c5f99c79",
   "metadata": {},
   "outputs": [],
   "source": [
    "clul=setup(df,session_id=123,log_experiment=True,log_plots=True,experiment_name='Cars Clustering')\n"
   ]
  },
  {
   "cell_type": "code",
   "execution_count": null,
   "id": "6689b636",
   "metadata": {},
   "outputs": [],
   "source": [
    "kmeans=create_model('kmeans',num_clusters=4)"
   ]
  },
  {
   "cell_type": "code",
   "execution_count": null,
   "id": "9de27f8e",
   "metadata": {},
   "outputs": [],
   "source": [
    "plot_model(kmeans)"
   ]
  },
  {
   "cell_type": "code",
   "execution_count": null,
   "id": "e455ffb1",
   "metadata": {},
   "outputs": [],
   "source": [
    "plot_model(kmeans,feature='Cylinder',label=True)"
   ]
  },
  {
   "cell_type": "markdown",
   "id": "46f271ad",
   "metadata": {},
   "source": [
    "## Classification"
   ]
  },
  {
   "cell_type": "code",
   "execution_count": null,
   "id": "39c416cb",
   "metadata": {},
   "outputs": [],
   "source": [
    "from pycaret.classification import *"
   ]
  },
  {
   "cell_type": "code",
   "execution_count": null,
   "id": "ca8d1a48",
   "metadata": {},
   "outputs": [],
   "source": [
    "df=pd.read_csv('train.csv')"
   ]
  },
  {
   "cell_type": "code",
   "execution_count": null,
   "id": "0c53d987",
   "metadata": {},
   "outputs": [],
   "source": [
    "clf=setup(data=df,target='Survived',session_id=1229,normalize=True)"
   ]
  },
  {
   "cell_type": "code",
   "execution_count": null,
   "id": "93bfb747",
   "metadata": {},
   "outputs": [],
   "source": [
    "compare_models(sort='AUC')"
   ]
  },
  {
   "cell_type": "code",
   "execution_count": null,
   "id": "7b1f3cd3",
   "metadata": {},
   "outputs": [],
   "source": [
    "lr=create_model('lr',fold=10)"
   ]
  },
  {
   "cell_type": "code",
   "execution_count": null,
   "id": "a7cdd814",
   "metadata": {},
   "outputs": [],
   "source": [
    "gbc=create_model('gbc',fold=10)"
   ]
  },
  {
   "cell_type": "code",
   "execution_count": null,
   "id": "82bc0da9",
   "metadata": {},
   "outputs": [],
   "source": [
    "xgb=create_model('xgboost',fold=10)"
   ]
  },
  {
   "cell_type": "code",
   "execution_count": null,
   "id": "6df966b5",
   "metadata": {},
   "outputs": [],
   "source": [
    "blend_specific_soft=blend_models(estimator_list=[lr,gbc,xgb],method='soft')"
   ]
  },
  {
   "cell_type": "code",
   "execution_count": null,
   "id": "17b0205b",
   "metadata": {},
   "outputs": [],
   "source": [
    "plot_model(blend_specific_soft)"
   ]
  },
  {
   "cell_type": "markdown",
   "id": "3678fc8e",
   "metadata": {},
   "source": [
    "## Spark"
   ]
  },
  {
   "cell_type": "code",
   "execution_count": null,
   "id": "ace7d6e6",
   "metadata": {},
   "outputs": [],
   "source": [
    "#!pip install spark"
   ]
  },
  {
   "cell_type": "code",
   "execution_count": null,
   "id": "a7df31a0",
   "metadata": {},
   "outputs": [],
   "source": [
    "#!pip install pyspark"
   ]
  },
  {
   "cell_type": "code",
   "execution_count": null,
   "id": "4a4bb73d",
   "metadata": {},
   "outputs": [],
   "source": [
    "#! pip install findspark"
   ]
  },
  {
   "cell_type": "code",
   "execution_count": 1,
   "id": "a6cfdbf4",
   "metadata": {},
   "outputs": [],
   "source": [
    "import findspark\n",
    "findspark.init()"
   ]
  },
  {
   "cell_type": "code",
   "execution_count": null,
   "id": "f2f2d57c",
   "metadata": {},
   "outputs": [],
   "source": []
  },
  {
   "cell_type": "code",
   "execution_count": 2,
   "id": "87d56661",
   "metadata": {},
   "outputs": [
    {
     "name": "stdout",
     "output_type": "stream",
     "text": [
      "[16, 25, 4, 4]\n"
     ]
    }
   ],
   "source": [
    "from pyspark import SparkConf,SparkContext\n",
    "import collections\n",
    "sc=SparkContext()\n",
    "rdd=sc.parallelize([4,5,2,2])\n",
    "sq=rdd.map(lambda x:x*x)\n",
    "print(sq.collect())\n",
    "sc.stop()"
   ]
  },
  {
   "cell_type": "code",
   "execution_count": 3,
   "id": "2db27525",
   "metadata": {},
   "outputs": [],
   "source": [
    "sc.stop()"
   ]
  },
  {
   "cell_type": "code",
   "execution_count": 4,
   "id": "98d36cb9",
   "metadata": {},
   "outputs": [
    {
     "name": "stdout",
     "output_type": "stream",
     "text": [
      "16111\n",
      "211370\n",
      "327145\n",
      "434174\n",
      "521203\n"
     ]
    }
   ],
   "source": [
    "from pyspark import SparkConf,SparkContext\n",
    "import collections\n",
    "conf=SparkConf().setMaster('local').setAppName('RatingHistogram')\n",
    "sc=SparkContext(conf=conf)\n",
    "lines=sc.textFile('spark/spark/ml-100k/u.data')\n",
    "ratings=lines.map(lambda x:x.split()[2])\n",
    "result=ratings.countByValue()\n",
    "sortedResults=collections.OrderedDict(sorted(result.items()))\n",
    "for key, value in sortedResults.items():\n",
    "    print('%s%i'%(key,value))\n",
    "sc.stop()    "
   ]
  },
  {
   "cell_type": "code",
   "execution_count": null,
   "id": "366ce63b",
   "metadata": {},
   "outputs": [],
   "source": []
  },
  {
   "cell_type": "code",
   "execution_count": null,
   "id": "e78b73e2",
   "metadata": {},
   "outputs": [],
   "source": []
  }
 ],
 "metadata": {
  "kernelspec": {
   "display_name": "Python 3 (ipykernel)",
   "language": "python",
   "name": "python3"
  },
  "language_info": {
   "codemirror_mode": {
    "name": "ipython",
    "version": 3
   },
   "file_extension": ".py",
   "mimetype": "text/x-python",
   "name": "python",
   "nbconvert_exporter": "python",
   "pygments_lexer": "ipython3",
   "version": "3.8.3"
  }
 },
 "nbformat": 4,
 "nbformat_minor": 5
}
