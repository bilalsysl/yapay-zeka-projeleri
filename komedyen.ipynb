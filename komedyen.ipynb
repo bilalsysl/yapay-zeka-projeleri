{
 "cells": [
  {
   "cell_type": "code",
   "execution_count": null,
   "id": "8874c7bd",
   "metadata": {},
   "outputs": [],
   "source": [
    "import requests\n",
    "from bs4 import BeautifulSoup\n",
    "import pickle"
   ]
  },
  {
   "cell_type": "code",
   "execution_count": null,
   "id": "d4f23ae8",
   "metadata": {},
   "outputs": [],
   "source": [
    "def url_to_transcript(url):\n",
    "    '''Returns transcript data specifically from scrapsfromtheloft.com.'''\n",
    "    page=requests.get(url).text\n",
    "    soup=BeautifulSoup(page,'lxml')\n",
    "    text=[p.text for p in soup.find(class_=\"elementor-element elementor-element-74af9a5b elementor-widget elementor-widget-theme-post-content\").find_all('p')]\n",
    "    print(url)\n",
    "    return text\n",
    "urls=['http://scrapsfromtheloft.com/2017/05/06/ louis-ck-oh-my-god-full-transcript/',\n",
    "     'http://scrapsfromtheloft.com/2017/04/11/dave-chappelle-age-spin-2017-full-transcript/',\n",
    "      'http://scrapsfromtheloft.com/2018/03/15/ricky-gervais-humanity-transcript/',\n",
    "      'http://scrapsfromtheloft.com/2017/08/07/bo-burnham-2013-full-transcript/',\n",
    "      'http://scrapsfromtheloft.com/2017/05/24/bill-burr-im-sorry-feel-way-2014-full-transcript/',\n",
    "      'http://scrapsfromtheloft.com/2017/04/21/jim-jefferies-bare-2014-full-transcript/',\n",
    "      'http://scrapsfromtheloft.com/2017/08/02/john-mulaney-comeback-kid-2015-full-transcript/',\n",
    "      'http://scrapsfromtheloft.com/2017/10/21/hasan-minhaj-homecoming-king-2017-full-transcript/',\n",
    "      'http://scrapsfromtheloft.com/2017/09/19/ali-wong-baby-cobra-2016-full-transcript/',\n",
    "      'http://scrapsfromtheloft.com/2017/08/03/anthony-jeselnik-throughts-prayers-2015-full-transcript/',\n",
    "      'http://scrapsfromtheloft.com/2018/03/03/mike-birbiglia-my-girlfriends-boyfriend-2013-full-transcript/',\n",
    "      'http://scrapsfromtheloft.com/2017/08/19/joe-rogan-triggered-2016-full-transcript/']\n",
    "comedians=['louis','dave','ricky','bo','bill','jim','john','hasan','ali','anthony','mike','joe']\n",
    "     "
   ]
  },
  {
   "cell_type": "code",
   "execution_count": null,
   "id": "fefdf2b1",
   "metadata": {
    "collapsed": true
   },
   "outputs": [],
   "source": [
    "transcripts=[url_to_transcript(u) for u in urls]"
   ]
  },
  {
   "cell_type": "code",
   "execution_count": null,
   "id": "9efdea5c",
   "metadata": {},
   "outputs": [],
   "source": [
    "#!mkdir transcripts\n",
    "#for i,c in enumerate (comedians):\n",
    " #   with open('transcripts/'+c+'.txt','wb') as file:\n",
    "  #      pickle.dump(transcripts[i],file)\n"
   ]
  },
  {
   "cell_type": "code",
   "execution_count": null,
   "id": "02b40de9",
   "metadata": {},
   "outputs": [],
   "source": [
    "#data={}\n",
    "#for i,c in enumerate (comedians):\n",
    "    #with open('transcripts/'+c+'.txt','rb') as file:\n",
    "        #data[c]=pickle.load(file)"
   ]
  },
  {
   "cell_type": "code",
   "execution_count": null,
   "id": "6bdb4e8c",
   "metadata": {},
   "outputs": [],
   "source": [
    "#data.keys()"
   ]
  },
  {
   "cell_type": "code",
   "execution_count": null,
   "id": "f3626faf",
   "metadata": {},
   "outputs": [],
   "source": [
    "#data['louis'][:2]"
   ]
  },
  {
   "cell_type": "code",
   "execution_count": null,
   "id": "2fbb7dd1",
   "metadata": {},
   "outputs": [],
   "source": [
    "#def combine_text(list_of_text):\n",
    " #   '''Takes a list of text and combines them into one large chunk of text.'''\n",
    "  #  combined_text=''.join(list_of_text)\n",
    "   # return combined_text\n"
   ]
  },
  {
   "cell_type": "code",
   "execution_count": null,
   "id": "2baabc7e",
   "metadata": {},
   "outputs": [],
   "source": [
    "import pandas as pd"
   ]
  },
  {
   "cell_type": "code",
   "execution_count": null,
   "id": "fe7a1035",
   "metadata": {},
   "outputs": [],
   "source": [
    "#pd.set_option('max_coldwith',150)\n",
    "#data_df=pd.DataFrame.from_dict(data_combined).transpore()\n",
    "#data_df.columns=['transcript']\n",
    "#data_df=data_df.sort_index()\n",
    "#data_df"
   ]
  },
  {
   "cell_type": "code",
   "execution_count": null,
   "id": "832e9643",
   "metadata": {},
   "outputs": [],
   "source": [
    "#data_df.transcript.loc['ali']"
   ]
  },
  {
   "cell_type": "code",
   "execution_count": null,
   "id": "8a03b1b1",
   "metadata": {},
   "outputs": [],
   "source": [
    "# def clean_text_round1(text):\n",
    "#   '''Make text lowercase,remove text in square brackets,remove punctuation and remove words containing numbers.'''\n",
    "#      text=text.lower()\n",
    "#      text=re.sub('\\[.*?\\]','',text)\n",
    "#      text=re.sub('[%S]',%re.escape(string.punctuation),'',text)\n",
    "#      text=re.sub('\\w*\\d\\w*','',text)\n",
    "#      text=re.sub('[''\"\"...]','',text)\n",
    "#      text=re.sub('\\n','',text)\n",
    "#      return text\n",
    "#round1= lambda x: clean_text_round(x)\n"
   ]
  },
  {
   "cell_type": "code",
   "execution_count": null,
   "id": "6d308587",
   "metadata": {},
   "outputs": [],
   "source": [
    "#data_clean=pd.DataFrame(data_df.transcript.apply(round1))\n",
    "#data_clean"
   ]
  },
  {
   "cell_type": "code",
   "execution_count": null,
   "id": "8ae04985",
   "metadata": {},
   "outputs": [],
   "source": [
    "#full_names=['Ali wong','anthony jeselnik','Bill Burr','...','Ricky gervais']\n",
    "#data_df['full_name']=full_names\n",
    "#data_df"
   ]
  },
  {
   "cell_type": "code",
   "execution_count": null,
   "id": "01db5fb0",
   "metadata": {},
   "outputs": [],
   "source": [
    "#data_df.to_pickle['corpus pkl']\n"
   ]
  },
  {
   "cell_type": "code",
   "execution_count": null,
   "id": "75c570d0",
   "metadata": {},
   "outputs": [],
   "source": [
    "#cv=CountVectorizer(stop_words('english))\n",
    "#data_cv=cv.fit_transform(data_clean.transcript)\n",
    "#data.dtm=pd.DataFrame(data_cv.toarray(),columns=cv.get_feature_names())\n",
    "#data_dtm.index=data_clean.index\n",
    "#data_dtm"
   ]
  },
  {
   "cell_type": "code",
   "execution_count": null,
   "id": "74adc51c",
   "metadata": {},
   "outputs": [],
   "source": []
  }
 ],
 "metadata": {
  "kernelspec": {
   "display_name": "Python 3 (ipykernel)",
   "language": "python",
   "name": "python3"
  },
  "language_info": {
   "codemirror_mode": {
    "name": "ipython",
    "version": 3
   },
   "file_extension": ".py",
   "mimetype": "text/x-python",
   "name": "python",
   "nbconvert_exporter": "python",
   "pygments_lexer": "ipython3",
   "version": "3.9.12"
  }
 },
 "nbformat": 4,
 "nbformat_minor": 5
}
