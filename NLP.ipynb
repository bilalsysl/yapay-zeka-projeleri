{
 "cells": [
  {
   "cell_type": "code",
   "execution_count": null,
   "id": "49349ee2",
   "metadata": {},
   "outputs": [],
   "source": [
    "import pandas as pd\n",
    "import numpy as  np\n",
    "import scipy as sp"
   ]
  },
  {
   "cell_type": "code",
   "execution_count": null,
   "id": "c48a04ed",
   "metadata": {},
   "outputs": [],
   "source": [
    "! pip install nltk\n"
   ]
  },
  {
   "cell_type": "code",
   "execution_count": null,
   "id": "cbdf996b",
   "metadata": {},
   "outputs": [],
   "source": []
  },
  {
   "cell_type": "code",
   "execution_count": null,
   "id": "a4542d90",
   "metadata": {},
   "outputs": [],
   "source": [
    "import nltk\n",
    "from nltk.tokenize import sent_tokenize #cümleleri ayırır"
   ]
  },
  {
   "cell_type": "code",
   "execution_count": null,
   "id": "e6385cde",
   "metadata": {},
   "outputs": [],
   "source": [
    "nltk.download('punkt')"
   ]
  },
  {
   "cell_type": "code",
   "execution_count": null,
   "id": "5467f053",
   "metadata": {},
   "outputs": [],
   "source": [
    "nltk.download('stopwords')"
   ]
  },
  {
   "cell_type": "code",
   "execution_count": null,
   "id": "3dd40c83",
   "metadata": {},
   "outputs": [],
   "source": [
    "text='Hoşgeldin babayiğit.Umarım bu uygulamayı iyi bulursun'\n",
    "print(sent_tokenize(text))"
   ]
  },
  {
   "cell_type": "code",
   "execution_count": null,
   "id": "cc74e2d3",
   "metadata": {},
   "outputs": [],
   "source": [
    "from nltk.tokenize import word_tokenize\n",
    "print(word_tokenize(text)) #kelimeleri ayırır"
   ]
  },
  {
   "cell_type": "code",
   "execution_count": null,
   "id": "85ccc9f8",
   "metadata": {},
   "outputs": [],
   "source": [
    "from nltk.tokenize import TreebankWordTokenizer\n",
    "tokenizer=TreebankWordTokenizer()\n",
    "tokenizer.tokenize('Hayırlı Nöbetler babayiğit')"
   ]
  },
  {
   "cell_type": "code",
   "execution_count": null,
   "id": "052451bd",
   "metadata": {},
   "outputs": [],
   "source": [
    "WPT=nltk.WordPunctTokenizer()\n",
    "stop_word_list=nltk.corpus.stopwords.words('turkish')"
   ]
  },
  {
   "cell_type": "code",
   "execution_count": null,
   "id": "557596ba",
   "metadata": {},
   "outputs": [],
   "source": [
    "# stemma ekleri atar\n",
    "#lemma kökü bulur"
   ]
  },
  {
   "cell_type": "code",
   "execution_count": null,
   "id": "bde9e8ff",
   "metadata": {},
   "outputs": [],
   "source": [
    "from nltk.stem import PorterStemmer\n",
    "stemmerporter=PorterStemmer()\n",
    "stemmerporter.stem('happiness')"
   ]
  },
  {
   "cell_type": "code",
   "execution_count": null,
   "id": "da1c1a6a",
   "metadata": {},
   "outputs": [],
   "source": [
    "from nltk.stem import LancasterStemmer        #stemmer içinde kök bulan porter ve lancester gibi çok sınıf var ama pek farkları yok\n",
    "stemmerlan=PorterStemmer()\n",
    "stemmerlan.stem('happiness')"
   ]
  },
  {
   "cell_type": "code",
   "execution_count": null,
   "id": "627142e4",
   "metadata": {},
   "outputs": [],
   "source": [
    "from nltk.stem import RegexpStemmer #hangi eki istersek onu atıoz\n",
    "stemmerreg=RegexpStemmer('ing')\n",
    "print(stemmerreg.stem('happiness'))\n",
    "print(stemmerreg.stem('working'))\n",
    "print(stemmerreg.stem('swimming'))"
   ]
  },
  {
   "cell_type": "code",
   "execution_count": null,
   "id": "0e9631fc",
   "metadata": {},
   "outputs": [],
   "source": [
    "from nltk.stem import SnowballStemmer\n",
    "print(SnowballStemmer.languages)\n",
    "spanishtemmer=SnowballStemmer('spanish')\n",
    "print(spanishtemmer.stem('comiende'))\n",
    "frenchstemmer=SnowballStemmer('french')\n",
    "print(frenchstemmer.stem('manager'))"
   ]
  },
  {
   "cell_type": "code",
   "execution_count": null,
   "id": "8498e86b",
   "metadata": {},
   "outputs": [],
   "source": [
    "nltk.download('wordnet')"
   ]
  },
  {
   "cell_type": "code",
   "execution_count": null,
   "id": "945119fd",
   "metadata": {},
   "outputs": [],
   "source": [
    "! pip install TurkishStemmer"
   ]
  },
  {
   "cell_type": "code",
   "execution_count": null,
   "id": "9d85fd9b",
   "metadata": {},
   "outputs": [],
   "source": [
    "nltk.download('omw-1.4')"
   ]
  },
  {
   "cell_type": "code",
   "execution_count": null,
   "id": "19959f63",
   "metadata": {},
   "outputs": [],
   "source": [
    "from nltk.stem import WordNetLemmatizer\n",
    "lemmatizer_output=WordNetLemmatizer()\n",
    "print(lemmatizer_output.lemmatize('working'))\n",
    "print(lemmatizer_output.lemmatize('working',pos='v'))#pos kelimenin türünü söyler isimmi fiilmi harf mi sıfat mı....\n",
    "print(lemmatizer_output.lemmatize('works'))"
   ]
  },
  {
   "cell_type": "code",
   "execution_count": null,
   "id": "efb0e9b7",
   "metadata": {},
   "outputs": [],
   "source": [
    "from nltk.tokenize import word_tokenize\n",
    "text=word_tokenize('hayırlı nöbetler babayiğit')\n",
    "text"
   ]
  },
  {
   "cell_type": "code",
   "execution_count": null,
   "id": "9923edce",
   "metadata": {},
   "outputs": [],
   "source": [
    "nltk.download('averaged_perceptron_tagger')"
   ]
  },
  {
   "cell_type": "code",
   "execution_count": null,
   "id": "5cb1db50",
   "metadata": {},
   "outputs": [],
   "source": [
    "nltk.pos_tag(text)"
   ]
  },
  {
   "cell_type": "code",
   "execution_count": null,
   "id": "af733bfd",
   "metadata": {},
   "outputs": [],
   "source": [
    "from nltk.tag import DefaultTagger\n",
    "tag=DefaultTagger('he is a man')\n",
    "tag.tag(['beautiful','morning'])"
   ]
  },
  {
   "cell_type": "code",
   "execution_count": null,
   "id": "167912b8",
   "metadata": {},
   "outputs": [],
   "source": [
    "! pip install autocorrect"
   ]
  },
  {
   "cell_type": "code",
   "execution_count": null,
   "id": "1c5bb0e6",
   "metadata": {},
   "outputs": [],
   "source": [
    "from autocorrect import spell\n",
    "spell('tghe')\n"
   ]
  },
  {
   "cell_type": "code",
   "execution_count": null,
   "id": "fee994e0",
   "metadata": {},
   "outputs": [],
   "source": [
    "! pip install --trusted-host pypi.python.org textblob"
   ]
  },
  {
   "cell_type": "code",
   "execution_count": null,
   "id": "1970668a",
   "metadata": {},
   "outputs": [],
   "source": [
    "! pip install langdetect"
   ]
  },
  {
   "cell_type": "code",
   "execution_count": null,
   "id": "52f6b5a1",
   "metadata": {},
   "outputs": [],
   "source": [
    "from textblob import TextBlob\n",
    "b=TextBlob('I havv good kik')\n",
    "print(b.detect_language())\n",
    "print(b.correct())"
   ]
  },
  {
   "cell_type": "code",
   "execution_count": null,
   "id": "c4fece11",
   "metadata": {},
   "outputs": [],
   "source": [
    "from textblob import Word\n",
    "w=Word('falability')\n",
    "w.spellcheck()"
   ]
  },
  {
   "cell_type": "code",
   "execution_count": null,
   "id": "f9301d5f",
   "metadata": {},
   "outputs": [],
   "source": [
    "from langdetect import detect\n",
    "print(detect('have are you'))\n",
    "print(detect('ein,zwei,drei,vier'))\n",
    "print(detect('hayırlı nöbetler babayiğit'))"
   ]
  },
  {
   "cell_type": "code",
   "execution_count": null,
   "id": "deec0807",
   "metadata": {},
   "outputs": [],
   "source": [
    "#tr_blob= TextBlob(u'Benim çok işim var.')\n",
    "#tr_blob.translate(to='en')"
   ]
  },
  {
   "cell_type": "code",
   "execution_count": null,
   "id": "091504d4",
   "metadata": {},
   "outputs": [],
   "source": [
    "from sklearn.feature_extraction.text import CountVectorizer,TfidfVectorizer\n",
    "simple_train=['''call you tonight','call me a cab,'please call me please''']\n",
    "vect=CountVectorizer()\n",
    "\n",
    "tf=pd.DataFrame(vect.fit_transform(simple_train).toarray(),columns=vect.get_feature_names())\n",
    "tf"
   ]
  },
  {
   "cell_type": "code",
   "execution_count": null,
   "id": "6ae3d706",
   "metadata": {},
   "outputs": [],
   "source": [
    "vect=CountVectorizer(binary=True)\n",
    "df=vect.fit_transform(simple_train).toarray().sum(axis=0)\n",
    "pd.DataFrame(df.reshape(1,6),columns=vect.get_feature_names())\n",
    "\n"
   ]
  },
  {
   "cell_type": "code",
   "execution_count": null,
   "id": "cd354fbc",
   "metadata": {},
   "outputs": [],
   "source": [
    "tf/df\n"
   ]
  },
  {
   "cell_type": "code",
   "execution_count": null,
   "id": "5092d757",
   "metadata": {},
   "outputs": [],
   "source": [
    "vect=TfidfVectorizer()\n",
    "tf=pd.DataFrame(vect.fit_transform(simple_train).toarray(),columns=vect.get_feature_names())\n",
    "tf"
   ]
  },
  {
   "cell_type": "code",
   "execution_count": null,
   "id": "ec5a1333",
   "metadata": {},
   "outputs": [],
   "source": [
    "from sklearn.feature_extraction.text import CountVectorizer\n",
    "vectorizer=CountVectorizer(min_df=1)\n",
    "print(vectorizer)\n",
    "corpus=['This is the first document','This is the second second document']\n",
    "x=vectorizer.fit_transform(corpus)\n",
    "tf=pd.DataFrame(x.toarray(),columns=vect.get_feature_names())\n",
    "tf"
   ]
  },
  {
   "cell_type": "code",
   "execution_count": null,
   "id": "0162db0d",
   "metadata": {},
   "outputs": [],
   "source": [
    "from sklearn.model_selection import train_test_split\n",
    "from sklearn.naive_bayes import MultinomialNB #binary ise bernoulliNB,gaussaianNB eğer 3 seneçek varsa evet,hayır nötr gibi multinomialNB kullancvaaz\n",
    "from sklearn.linear_model import LogisticRegression\n",
    "from sklearn import metrics\n",
    "from textblob import TextBlob,Word\n",
    "from nltk.stem.snowball import SnowballStemmer\n",
    "%matplotlib inline"
   ]
  },
  {
   "cell_type": "code",
   "execution_count": null,
   "id": "948fa4a4",
   "metadata": {},
   "outputs": [],
   "source": [
    "yelp= pd.read_csv('yelp.csv')\n",
    "yelp.head()"
   ]
  },
  {
   "cell_type": "code",
   "execution_count": null,
   "id": "a33521d1",
   "metadata": {},
   "outputs": [],
   "source": [
    "yelp.info()"
   ]
  },
  {
   "cell_type": "code",
   "execution_count": null,
   "id": "86aa2d62",
   "metadata": {},
   "outputs": [],
   "source": [
    "# 1-bütün harfler küçük hale getirilir\n",
    "# 2-noktalama işaretleri kaldırılır\n",
    "#3-rakamları kaldırılır\n",
    "#4-satır sonları kaldırılır , \\n \\r\n",
    "#5-stopwordsler kaldırılır\n",
    "#6-tokenize edicez\n",
    "#7-lemma ve stemma ile ekler atılır\n",
    "#8-vectörizer ile yazıları sayıya atıoruz"
   ]
  },
  {
   "cell_type": "code",
   "execution_count": null,
   "id": "28d02bad",
   "metadata": {},
   "outputs": [],
   "source": [
    "yelp['text']=yelp['text'].str.lower() #küçük harfe çeviridik"
   ]
  },
  {
   "cell_type": "code",
   "execution_count": null,
   "id": "12e0a1ea",
   "metadata": {},
   "outputs": [],
   "source": [
    "yelp['text']=yelp['text'].str.replace('[^\\w\\s]','') #noktalama işaretlerini kaldırdık"
   ]
  },
  {
   "cell_type": "code",
   "execution_count": null,
   "id": "a44a1781",
   "metadata": {},
   "outputs": [],
   "source": [
    "yelp['text']=yelp['text'].str.replace('\\d+','') # rakamları kaldırdık"
   ]
  },
  {
   "cell_type": "code",
   "execution_count": null,
   "id": "c77b6728",
   "metadata": {},
   "outputs": [],
   "source": [
    "yelp['text']=yelp['text'].str.replace('\\n','').replace('\\r','') #satrı sonlarını kaldırdık"
   ]
  },
  {
   "cell_type": "code",
   "execution_count": null,
   "id": "8de858e4",
   "metadata": {},
   "outputs": [],
   "source": [
    "yelp_best_worst=yelp[(yelp.stars==5) | (yelp.stars==1)]\n",
    "yelp_best_worst.reset_index(drop=True,inplace=True)\n",
    "x=yelp_best_worst.text\n",
    "y=yelp_best_worst.stars\n",
    "print(x.shape)\n",
    "x_train,x_test,y_train,y_test=train_test_split(x,y,random_state=1)"
   ]
  },
  {
   "cell_type": "code",
   "execution_count": null,
   "id": "3eb90bef",
   "metadata": {},
   "outputs": [],
   "source": [
    "print(x)"
   ]
  },
  {
   "cell_type": "code",
   "execution_count": null,
   "id": "d0e6e4b8",
   "metadata": {},
   "outputs": [],
   "source": [
    "vect=CountVectorizer(stop_words='english')\n",
    "x_train_dtm=vect.fit_transform(x_train)\n",
    "print(x_train_dtm)\n",
    "x_train_dtm=vect.transform(x_test)"
   ]
  },
  {
   "cell_type": "code",
   "execution_count": null,
   "id": "e1a1b565",
   "metadata": {},
   "outputs": [],
   "source": [
    "tf=pd.DataFrame(x_train_dtm.toarray(),columns=vect.get_feature_names())\n",
    "tf.head()"
   ]
  },
  {
   "cell_type": "code",
   "execution_count": null,
   "id": "db8cdaa7",
   "metadata": {},
   "outputs": [],
   "source": [
    "vect=CountVectorizer(ngram_range=(1,2))\n",
    "x_train_dtm=vect.fit_transform(x_train)\n",
    "x_train_dtm.shape"
   ]
  },
  {
   "cell_type": "code",
   "execution_count": null,
   "id": "5d9130bd",
   "metadata": {},
   "outputs": [],
   "source": [
    "print(vect.get_feature_names()[-50:])"
   ]
  },
  {
   "cell_type": "code",
   "execution_count": null,
   "id": "047209da",
   "metadata": {},
   "outputs": [],
   "source": [
    "vect=CountVectorizer()\n",
    "x_train_dtm=vect.fit_transform(x_train)\n",
    "x_test_dtm=vect.transform(x_test)\n",
    "nb=MultinomialNB()\n",
    "nb.fit(x_train_dtm,y_train)\n",
    "y_pred_class=nb.predict(x_train_dtm)\n",
    "print(metrics.accuracy_score(y_test,y_pred_class))"
   ]
  },
  {
   "cell_type": "code",
   "execution_count": null,
   "id": "980fcda2",
   "metadata": {},
   "outputs": [],
   "source": [
    "def tokenize_test(vect):\n",
    "    x_train_dtm=vect.fit_transform(x_train)\n",
    "    print('Features: ',x_train_dtm.shape[1])\n",
    "    x_test_dtm=vect.transform(x_test)\n",
    "    nb=MultinomialNB()\n",
    "    nb.fit(x_train_dtm,y_train)\n",
    "    y_pred_class=nb.predict(x_test_dtm)\n",
    "    print('Accuracy: ',metrics.accuracy_score(y_test,y_pred_class))\n",
    "    "
   ]
  },
  {
   "cell_type": "code",
   "execution_count": null,
   "id": "1927418c",
   "metadata": {},
   "outputs": [],
   "source": [
    "vect=CountVectorizer(ngram_range=(1,2))\n",
    "tokenize_test(vect)"
   ]
  },
  {
   "cell_type": "code",
   "execution_count": null,
   "id": "d2094b28",
   "metadata": {},
   "outputs": [],
   "source": [
    "vect=CountVectorizer()\n",
    "tokenize_test(vect)"
   ]
  },
  {
   "cell_type": "code",
   "execution_count": null,
   "id": "752138f0",
   "metadata": {},
   "outputs": [],
   "source": [
    "vect=CountVectorizer(stop_words='english')\n",
    "tokenize_test(vect)"
   ]
  },
  {
   "cell_type": "code",
   "execution_count": null,
   "id": "c776e331",
   "metadata": {},
   "outputs": [],
   "source": [
    "print(vect.get_stop_words())"
   ]
  },
  {
   "cell_type": "code",
   "execution_count": null,
   "id": "8e8cac8c",
   "metadata": {},
   "outputs": [],
   "source": []
  }
 ],
 "metadata": {
  "kernelspec": {
   "display_name": "Python 3 (ipykernel)",
   "language": "python",
   "name": "python3"
  },
  "language_info": {
   "codemirror_mode": {
    "name": "ipython",
    "version": 3
   },
   "file_extension": ".py",
   "mimetype": "text/x-python",
   "name": "python",
   "nbconvert_exporter": "python",
   "pygments_lexer": "ipython3",
   "version": "3.8.3"
  }
 },
 "nbformat": 4,
 "nbformat_minor": 5
}
