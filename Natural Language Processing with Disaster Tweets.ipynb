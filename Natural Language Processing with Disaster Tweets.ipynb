{
 "cells": [
  {
   "cell_type": "code",
   "execution_count": 1,
   "id": "6efc1650",
   "metadata": {},
   "outputs": [],
   "source": [
    "import pandas as pd\n",
    "import numpy as  np\n",
    "import scipy as sp\n",
    "from sklearn.model_selection import train_test_split\n",
    "from sklearn.feature_extraction.text import CountVectorizer\n",
    "from sklearn.ensemble import GradientBoostingClassifier\n",
    "from sklearn.metrics import accuracy_score,precision_score,recall_score,f1_score\n",
    "from sklearn.ensemble import RandomForestClassifier\n",
    "r=RandomForestClassifier()\n",
    "from sklearn.tree import DecisionTreeClassifier\n",
    "d=DecisionTreeClassifier()"
   ]
  },
  {
   "cell_type": "code",
   "execution_count": 2,
   "id": "e8e332d6",
   "metadata": {},
   "outputs": [
    {
     "data": {
      "text/plain": [
       "(7613, 5)"
      ]
     },
     "execution_count": 2,
     "metadata": {},
     "output_type": "execute_result"
    }
   ],
   "source": [
    "df1=pd.read_csv('train.csv')\n",
    "df1.shape"
   ]
  },
  {
   "cell_type": "code",
   "execution_count": 3,
   "id": "fd91534b",
   "metadata": {},
   "outputs": [
    {
     "data": {
      "text/plain": [
       "(3263, 4)"
      ]
     },
     "execution_count": 3,
     "metadata": {},
     "output_type": "execute_result"
    }
   ],
   "source": [
    "df2=pd.read_csv('test.csv')\n",
    "df2.shape"
   ]
  },
  {
   "cell_type": "code",
   "execution_count": 4,
   "id": "871899b0",
   "metadata": {},
   "outputs": [
    {
     "name": "stderr",
     "output_type": "stream",
     "text": [
      "C:\\Users\\bilal\\AppData\\Local\\Temp\\ipykernel_9656\\2456558213.py:1: FutureWarning: The frame.append method is deprecated and will be removed from pandas in a future version. Use pandas.concat instead.\n",
      "  df=df1.append(df2)\n"
     ]
    }
   ],
   "source": [
    "df=df1.append(df2)"
   ]
  },
  {
   "cell_type": "code",
   "execution_count": 5,
   "id": "60cb5775",
   "metadata": {},
   "outputs": [],
   "source": [
    "df.drop(['keyword','location','id'],axis=1,inplace=True)"
   ]
  },
  {
   "cell_type": "code",
   "execution_count": 6,
   "id": "260a64a9",
   "metadata": {},
   "outputs": [
    {
     "name": "stderr",
     "output_type": "stream",
     "text": [
      "C:\\Users\\bilal\\AppData\\Local\\Temp\\ipykernel_9656\\743733382.py:2: FutureWarning: The default value of regex will change from True to False in a future version.\n",
      "  df['text']=df['text'].str.replace('\\d+','')\n",
      "C:\\Users\\bilal\\AppData\\Local\\Temp\\ipykernel_9656\\743733382.py:3: FutureWarning: The default value of regex will change from True to False in a future version.\n",
      "  df['text']=df['text'].str.replace('[^\\w\\s]','')\n"
     ]
    }
   ],
   "source": [
    "df['text']=df['text'].str.lower()\n",
    "df['text']=df['text'].str.replace('\\d+','')\n",
    "df['text']=df['text'].str.replace('[^\\w\\s]','')\n",
    "df['text']=df['text'].str.replace('\\n',' ').replace('\\r','')"
   ]
  },
  {
   "cell_type": "code",
   "execution_count": 7,
   "id": "bfc6f8ae",
   "metadata": {},
   "outputs": [],
   "source": [
    "x_train=df['text'][:7613]\n",
    "x_test=df['text'][7613:]"
   ]
  },
  {
   "cell_type": "code",
   "execution_count": 8,
   "id": "3327f63b",
   "metadata": {},
   "outputs": [],
   "source": [
    "y=df1['target']"
   ]
  },
  {
   "cell_type": "raw",
   "id": "2a2ced26",
   "metadata": {},
   "source": [
    "x_train,x_test,y_train,y_test=train_test_split(x,y,random_state=41)"
   ]
  },
  {
   "cell_type": "raw",
   "id": "f9e89666",
   "metadata": {},
   "source": [
    "x_train.shape,x_test.shape,y_train.shape,y_test.shape"
   ]
  },
  {
   "cell_type": "code",
   "execution_count": 9,
   "id": "4cb2bee6",
   "metadata": {},
   "outputs": [
    {
     "name": "stdout",
     "output_type": "stream",
     "text": [
      "  (0, 3747)\t1\n",
      "  (0, 16613)\t1\n",
      "  (0, 4529)\t1\n",
      "  (0, 436)\t1\n",
      "  (0, 5624)\t1\n",
      "  (1, 5614)\t1\n",
      "  (1, 14596)\t1\n",
      "  (1, 12861)\t1\n",
      "  (1, 17171)\t1\n",
      "  (1, 17454)\t1\n",
      "  (1, 2206)\t1\n",
      "  (2, 16886)\t1\n",
      "  (2, 870)\t1\n",
      "  (2, 17844)\t2\n",
      "  (2, 15798)\t2\n",
      "  (2, 14862)\t1\n",
      "  (2, 15029)\t1\n",
      "  (2, 4958)\t1\n",
      "  (2, 15218)\t1\n",
      "  (2, 5045)\t1\n",
      "  (3, 4958)\t1\n",
      "  (3, 15218)\t1\n",
      "  (3, 15595)\t1\n",
      "  (3, 16634)\t1\n",
      "  (3, 20933)\t1\n",
      "  :\t:\n",
      "  (7610, 20565)\t1\n",
      "  (7610, 6561)\t1\n",
      "  (7610, 20343)\t1\n",
      "  (7610, 11456)\t1\n",
      "  (7611, 2268)\t1\n",
      "  (7611, 15902)\t1\n",
      "  (7611, 17013)\t1\n",
      "  (7611, 13244)\t1\n",
      "  (7611, 12088)\t1\n",
      "  (7611, 19523)\t1\n",
      "  (7611, 2900)\t1\n",
      "  (7611, 4553)\t2\n",
      "  (7611, 15954)\t1\n",
      "  (7611, 18878)\t1\n",
      "  (7611, 14805)\t1\n",
      "  (7611, 11959)\t1\n",
      "  (7612, 2160)\t1\n",
      "  (7612, 14667)\t1\n",
      "  (7612, 12952)\t1\n",
      "  (7612, 14833)\t1\n",
      "  (7612, 20932)\t1\n",
      "  (7612, 6866)\t1\n",
      "  (7612, 59)\t1\n",
      "  (7612, 16550)\t1\n",
      "  (7612, 11353)\t1\n"
     ]
    }
   ],
   "source": [
    "vect=CountVectorizer(stop_words='english')\n",
    "x_train_dtm=vect.fit_transform(x_train)\n",
    "print(x_train_dtm)\n",
    "x_test_dtm=vect.transform(x_test)"
   ]
  },
  {
   "cell_type": "code",
   "execution_count": 10,
   "id": "8a29d872",
   "metadata": {},
   "outputs": [
    {
     "name": "stdout",
     "output_type": "stream",
     "text": [
      "Features:  69889\n"
     ]
    }
   ],
   "source": [
    "vect=CountVectorizer(stop_words='english',ngram_range=(1,2))\n",
    "x_train_dtm=vect.fit_transform(x_train)\n",
    "print('Features: ',x_train_dtm.shape[1])\n",
    "x_test_dtm=vect.transform(x_test)\n",
    "nb=GradientBoostingClassifier()\n",
    "nb.fit(x_train_dtm,y)\n",
    "y_pred_class=nb.predict(x_test_dtm)\n"
   ]
  },
  {
   "cell_type": "code",
   "execution_count": null,
   "id": "9785e1b2",
   "metadata": {},
   "outputs": [],
   "source": [
    "\n"
   ]
  },
  {
   "cell_type": "code",
   "execution_count": 11,
   "id": "a20a2747",
   "metadata": {},
   "outputs": [
    {
     "data": {
      "text/plain": [
       "array([0, 1, 0, ..., 1, 0, 0], dtype=int64)"
      ]
     },
     "execution_count": 11,
     "metadata": {},
     "output_type": "execute_result"
    }
   ],
   "source": [
    "y_pred_class"
   ]
  },
  {
   "cell_type": "code",
   "execution_count": 12,
   "id": "410b43a0",
   "metadata": {},
   "outputs": [],
   "source": [
    "df2['target']=y_pred_class"
   ]
  },
  {
   "cell_type": "code",
   "execution_count": 14,
   "id": "187aa5f7",
   "metadata": {},
   "outputs": [],
   "source": [
    "df2.drop(['keyword','location'],axis=1,inplace=True)"
   ]
  },
  {
   "cell_type": "code",
   "execution_count": 16,
   "id": "44ffbdd0",
   "metadata": {},
   "outputs": [],
   "source": [
    "df2.drop('text',axis=1,inplace=True)"
   ]
  },
  {
   "cell_type": "code",
   "execution_count": 18,
   "id": "be3e2486",
   "metadata": {},
   "outputs": [],
   "source": [
    "df2.to_csv('twitterkaggle.csv',index=False)"
   ]
  },
  {
   "cell_type": "code",
   "execution_count": null,
   "id": "5f6a3cab",
   "metadata": {},
   "outputs": [],
   "source": []
  },
  {
   "cell_type": "code",
   "execution_count": null,
   "id": "be7f3096",
   "metadata": {},
   "outputs": [],
   "source": [
    "\n"
   ]
  },
  {
   "cell_type": "code",
   "execution_count": null,
   "id": "db9edbe5",
   "metadata": {},
   "outputs": [],
   "source": []
  },
  {
   "cell_type": "code",
   "execution_count": null,
   "id": "7f964ace",
   "metadata": {},
   "outputs": [],
   "source": []
  }
 ],
 "metadata": {
  "kernelspec": {
   "display_name": "Python 3 (ipykernel)",
   "language": "python",
   "name": "python3"
  },
  "language_info": {
   "codemirror_mode": {
    "name": "ipython",
    "version": 3
   },
   "file_extension": ".py",
   "mimetype": "text/x-python",
   "name": "python",
   "nbconvert_exporter": "python",
   "pygments_lexer": "ipython3",
   "version": "3.8.3"
  }
 },
 "nbformat": 4,
 "nbformat_minor": 5
}
