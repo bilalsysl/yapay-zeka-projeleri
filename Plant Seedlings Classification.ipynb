{
 "cells": [
  {
   "cell_type": "code",
   "execution_count": 1,
   "id": "a2bef910",
   "metadata": {},
   "outputs": [],
   "source": [
    "import pandas as pd\n",
    "import numpy as np"
   ]
  },
  {
   "cell_type": "code",
   "execution_count": 2,
   "id": "6e8a25f1",
   "metadata": {},
   "outputs": [],
   "source": [
    "import pandas as pd\n",
    "import numpy as np\n",
    "import tensorflow as tf\n",
    "from keras.models import Sequential\n",
    "from keras.layers import Dense\n",
    "from sklearn.preprocessing import normalize,scale\n",
    "from tensorflow.keras.models import Sequential\n",
    "from tensorflow.keras.layers import Dense,Activation\n",
    "from tensorflow.keras.optimizers import Adam\n",
    "from sklearn.model_selection import train_test_split\n",
    "import keras\n",
    "import os"
   ]
  },
  {
   "cell_type": "code",
   "execution_count": 3,
   "id": "51a983db",
   "metadata": {},
   "outputs": [],
   "source": [
    "from PIL import Image\n",
    "from matplotlib import pyplot as plt\n",
    "from tqdm import tqdm\n",
    "%matplotlib inline"
   ]
  },
  {
   "cell_type": "code",
   "execution_count": 4,
   "id": "dbd74ba9",
   "metadata": {},
   "outputs": [],
   "source": [
    "\n",
    "test_path = r\"D:\\kodlar\\Lecture proggraming\\ödevler\\KAGGLE PROJELERİ\\Plant Seedlings Classification\\test\"\n",
    "blackgrass_path = r\"D:\\kodlar\\Lecture proggraming\\ödevler\\KAGGLE PROJELERİ\\Plant Seedlings Classification\\Black-grass\"\n",
    "charlock_path = r\"D:\\kodlar\\Lecture proggraming\\ödevler\\KAGGLE PROJELERİ\\Plant Seedlings Classification\\Charlock\"\n",
    "cleavers_path = r\"D:\\kodlar\\Lecture proggraming\\ödevler\\KAGGLE PROJELERİ\\Plant Seedlings Classification\\Cleavers\"\n",
    "commonchickweed_path = r\"D:\\kodlar\\Lecture proggraming\\ödevler\\KAGGLE PROJELERİ\\Plant Seedlings Classification\\Common Chickweed\"\n",
    "commonwheat_path = r\"D:\\kodlar\\Lecture proggraming\\ödevler\\KAGGLE PROJELERİ\\Plant Seedlings Classification\\Common wheat\"\n",
    "fathen_path = r\"D:\\kodlar\\Lecture proggraming\\ödevler\\KAGGLE PROJELERİ\\Plant Seedlings Classification\\Fat Hen\"\n",
    "loose_path = r\"D:\\kodlar\\Lecture proggraming\\ödevler\\KAGGLE PROJELERİ\\Plant Seedlings Classification\\Loose Silky-bent\"\n",
    "maize_path = r\"D:\\kodlar\\Lecture proggraming\\ödevler\\KAGGLE PROJELERİ\\Plant Seedlings Classification\\Maize\"\n",
    "scentless_path = r\"D:\\kodlar\\Lecture proggraming\\ödevler\\KAGGLE PROJELERİ\\Plant Seedlings Classification\\Scentless Mayweed\"\n",
    "Shepherds_path = r\"D:\\kodlar\\Lecture proggraming\\ödevler\\KAGGLE PROJELERİ\\Plant Seedlings Classification\\Shepherds Purse\"\n",
    "smallflower_path = r\"D:\\kodlar\\Lecture proggraming\\ödevler\\KAGGLE PROJELERİ\\Plant Seedlings Classification\\Small-flowered Cranesbill\"\n",
    "sugar_path = r\"D:\\kodlar\\Lecture proggraming\\ödevler\\KAGGLE PROJELERİ\\Plant Seedlings Classification\\Sugar beet\"\n",
    "\n",
    "\n",
    "test = os.listdir(test_path)\n",
    "blackgrass = os.listdir(blackgrass_path)\n",
    "smallflower = os.listdir(smallflower_path)\n",
    "charlock = os.listdir(charlock_path)\n",
    "sugar = os.listdir(sugar_path)\n",
    "cleavers = os.listdir(cleavers_path)\n",
    "commonchickweed = os.listdir(commonchickweed_path)\n",
    "commonwheat = os.listdir(commonwheat_path)\n",
    "fathen = os.listdir(fathen_path)\n",
    "loose = os.listdir(loose_path)\n",
    "maize = os.listdir(maize_path)\n",
    "scentless = os.listdir(scentless_path)\n",
    "shepherds = os.listdir(Shepherds_path)\n",
    "\n",
    "\n"
   ]
  },
  {
   "cell_type": "code",
   "execution_count": 5,
   "id": "6b8daf4f",
   "metadata": {},
   "outputs": [
    {
     "name": "stderr",
     "output_type": "stream",
     "text": [
      "100%|████████████████████████████████████████████████████████████████████████████████| 263/263 [00:06<00:00, 43.24it/s]\n",
      "100%|███████████████████████████████████████████████████████████████████████████████| 390/390 [00:03<00:00, 105.43it/s]\n",
      "100%|███████████████████████████████████████████████████████████████████████████████| 287/287 [00:01<00:00, 221.87it/s]\n",
      "100%|███████████████████████████████████████████████████████████████████████████████| 611/611 [00:01<00:00, 316.12it/s]\n",
      "100%|███████████████████████████████████████████████████████████████████████████████| 221/221 [00:02<00:00, 101.37it/s]\n",
      "100%|███████████████████████████████████████████████████████████████████████████████| 475/475 [00:02<00:00, 200.28it/s]\n",
      "100%|████████████████████████████████████████████████████████████████████████████████| 654/654 [00:07<00:00, 88.54it/s]\n",
      "100%|████████████████████████████████████████████████████████████████████████████████| 221/221 [00:03<00:00, 72.92it/s]\n",
      "100%|███████████████████████████████████████████████████████████████████████████████| 516/516 [00:01<00:00, 267.93it/s]\n",
      "100%|███████████████████████████████████████████████████████████████████████████████| 231/231 [00:01<00:00, 188.31it/s]\n",
      "100%|███████████████████████████████████████████████████████████████████████████████| 496/496 [00:02<00:00, 173.01it/s]\n",
      "100%|████████████████████████████████████████████████████████████████████████████████| 385/385 [00:06<00:00, 62.38it/s]\n"
     ]
    }
   ],
   "source": [
    "cells = list()\n",
    "label = list()\n",
    "\n",
    "IMG_SIZE = (64, 64)\n",
    "\n",
    "\n",
    "\n",
    "for name in tqdm(blackgrass):\n",
    "    path = blackgrass_path + '/' + name\n",
    "    image = Image.open(path).convert('RGB')\n",
    "    image_data = np.array(image.resize(IMG_SIZE))\n",
    "    cells.append(image_data)\n",
    "    label.append(0)\n",
    "    \n",
    "for name in tqdm(charlock):\n",
    "    path = charlock_path + '/' + name\n",
    "    image = Image.open(path).convert('RGB')\n",
    "    image_data = np.array(image.resize(IMG_SIZE))\n",
    "    cells.append(image_data)\n",
    "    label.append(1)\n",
    "    \n",
    "for name in tqdm(cleavers):\n",
    "    path = cleavers_path + '/' + name\n",
    "    image = Image.open(path).convert('RGB')\n",
    "    image_data = np.array(image.resize(IMG_SIZE))\n",
    "    cells.append(image_data)\n",
    "    label.append(2)\n",
    "        \n",
    "    \n",
    "for name in tqdm(commonchickweed):\n",
    "    path = commonchickweed_path + '/' + name\n",
    "    image = Image.open(path).convert('RGB')\n",
    "    image_data = np.array(image.resize(IMG_SIZE))\n",
    "    cells.append(image_data)\n",
    "    label.append(3)\n",
    "    \n",
    "for name in tqdm(commonwheat):\n",
    "    path = commonwheat_path + '/' + name\n",
    "    image = Image.open(path).convert('RGB')\n",
    "    image_data = np.array(image.resize(IMG_SIZE))\n",
    "    cells.append(image_data)\n",
    "    label.append(4)\n",
    "    \n",
    "for name in tqdm(fathen):\n",
    "    path = fathen_path + '/' + name\n",
    "    image = Image.open(path).convert('RGB')\n",
    "    image_data = np.array(image.resize(IMG_SIZE))\n",
    "    cells.append(image_data)\n",
    "    label.append(5)\n",
    "    \n",
    "for name in tqdm(loose):\n",
    "    path = loose_path + '/' + name\n",
    "    image = Image.open(path).convert('RGB')\n",
    "    image_data = np.array(image.resize(IMG_SIZE))\n",
    "    cells.append(image_data)\n",
    "    label.append(6)\n",
    "    \n",
    "for name in tqdm(maize):\n",
    "    path = maize_path + '/' + name\n",
    "    image = Image.open(path).convert('RGB')\n",
    "    image_data = np.array(image.resize(IMG_SIZE))\n",
    "    cells.append(image_data)\n",
    "    label.append(7)\n",
    "    \n",
    "for name in tqdm(scentless):\n",
    "    path = scentless_path + '/' + name\n",
    "    image = Image.open(path).convert('RGB')\n",
    "    image_data = np.array(image.resize(IMG_SIZE))\n",
    "    cells.append(image_data)\n",
    "    label.append(8)\n",
    "    \n",
    "    \n",
    "for name in tqdm(shepherds):\n",
    "    path = Shepherds_path + '/' + name\n",
    "    image = Image.open(path).convert('RGB')\n",
    "    image_data = np.array(image.resize(IMG_SIZE))\n",
    "    cells.append(image_data)\n",
    "    label.append(9)\n",
    "    \n",
    "for name in tqdm(smallflower):\n",
    "    path = smallflower_path + '/' + name\n",
    "    image = Image.open(path).convert('RGB')\n",
    "    image_data = np.array(image.resize(IMG_SIZE))\n",
    "    cells.append(image_data)\n",
    "    label.append(10)\n",
    "    \n",
    "for name in tqdm(sugar):\n",
    "    path = sugar_path + '/' + name\n",
    "    image = Image.open(path).convert('RGB')\n",
    "    image_data = np.array(image.resize(IMG_SIZE))\n",
    "    cells.append(image_data)\n",
    "    label.append(11)\n",
    "\n",
    "\n",
    "\n",
    "   \n",
    "    \n"
   ]
  },
  {
   "cell_type": "code",
   "execution_count": null,
   "id": "8572f719",
   "metadata": {},
   "outputs": [],
   "source": []
  },
  {
   "cell_type": "code",
   "execution_count": 6,
   "id": "2279ce18",
   "metadata": {},
   "outputs": [],
   "source": [
    "cells = (np.array(cells).astype(float))/255"
   ]
  },
  {
   "cell_type": "code",
   "execution_count": 7,
   "id": "de47020f",
   "metadata": {},
   "outputs": [],
   "source": [
    "label = np.array(label)"
   ]
  },
  {
   "cell_type": "code",
   "execution_count": 8,
   "id": "3f536436",
   "metadata": {},
   "outputs": [],
   "source": [
    "model=keras.Sequential([keras.layers.InputLayer(input_shape=(64,64,3)),\n",
    "                        keras.layers.Reshape(target_shape=(64,64,3)),\n",
    "                        keras.layers.Conv2D(filters=12,kernel_size=(3,3),activation=tf.nn.relu),\n",
    "                        keras.layers.MaxPooling2D(pool_size=(2,2)),\n",
    "                        keras.layers.Flatten(),\n",
    "                        keras.layers.Dense(12)\n",
    "                        ]) # CNN-Convolutional Neural Network"
   ]
  },
  {
   "cell_type": "code",
   "execution_count": 9,
   "id": "ccf287ed",
   "metadata": {},
   "outputs": [],
   "source": [
    "model.compile(optimizer='adam',loss=tf.keras.losses.SparseCategoricalCrossentropy(from_logits=True),metrics=['accuracy'])"
   ]
  },
  {
   "cell_type": "code",
   "execution_count": 10,
   "id": "9287b9b9",
   "metadata": {},
   "outputs": [
    {
     "name": "stdout",
     "output_type": "stream",
     "text": [
      "Epoch 1/50\n",
      "134/134 [==============================] - 2s 14ms/step - loss: 2.0961 - accuracy: 0.2837 - val_loss: 10.2170 - val_accuracy: 0.1368\n",
      "Epoch 2/50\n",
      "134/134 [==============================] - 2s 13ms/step - loss: 1.4518 - accuracy: 0.5160 - val_loss: 12.3282 - val_accuracy: 0.1621\n",
      "Epoch 3/50\n",
      "134/134 [==============================] - 2s 13ms/step - loss: 1.1461 - accuracy: 0.6274 - val_loss: 13.1075 - val_accuracy: 0.1705\n",
      "Epoch 4/50\n",
      "134/134 [==============================] - 2s 14ms/step - loss: 0.9683 - accuracy: 0.7001 - val_loss: 14.8045 - val_accuracy: 0.1684\n",
      "Epoch 5/50\n",
      "134/134 [==============================] - 2s 14ms/step - loss: 0.8614 - accuracy: 0.7312 - val_loss: 15.3361 - val_accuracy: 0.1663\n",
      "Epoch 6/50\n",
      "134/134 [==============================] - 2s 14ms/step - loss: 0.7580 - accuracy: 0.7689 - val_loss: 15.8480 - val_accuracy: 0.1579\n",
      "Epoch 7/50\n",
      "134/134 [==============================] - 2s 14ms/step - loss: 0.6836 - accuracy: 0.7920 - val_loss: 17.3559 - val_accuracy: 0.1705\n",
      "Epoch 8/50\n",
      "134/134 [==============================] - 2s 14ms/step - loss: 0.5982 - accuracy: 0.8227 - val_loss: 17.8786 - val_accuracy: 0.1600\n",
      "Epoch 9/50\n",
      "134/134 [==============================] - 2s 14ms/step - loss: 0.5537 - accuracy: 0.8370 - val_loss: 17.9036 - val_accuracy: 0.1684\n",
      "Epoch 10/50\n",
      "134/134 [==============================] - 2s 14ms/step - loss: 0.4954 - accuracy: 0.8582 - val_loss: 18.5045 - val_accuracy: 0.1705\n",
      "Epoch 11/50\n",
      "134/134 [==============================] - 2s 14ms/step - loss: 0.4496 - accuracy: 0.8765 - val_loss: 19.5895 - val_accuracy: 0.1684\n",
      "Epoch 12/50\n",
      "134/134 [==============================] - 2s 14ms/step - loss: 0.4152 - accuracy: 0.8910 - val_loss: 19.6581 - val_accuracy: 0.1705\n",
      "Epoch 13/50\n",
      "134/134 [==============================] - 2s 15ms/step - loss: 0.3714 - accuracy: 0.9130 - val_loss: 20.6506 - val_accuracy: 0.1621\n",
      "Epoch 14/50\n",
      "134/134 [==============================] - 2s 14ms/step - loss: 0.3365 - accuracy: 0.9228 - val_loss: 21.3192 - val_accuracy: 0.1642\n",
      "Epoch 15/50\n",
      "134/134 [==============================] - 2s 13ms/step - loss: 0.3046 - accuracy: 0.9280 - val_loss: 21.0663 - val_accuracy: 0.1621\n",
      "Epoch 16/50\n",
      "134/134 [==============================] - 2s 13ms/step - loss: 0.2921 - accuracy: 0.9322 - val_loss: 21.1319 - val_accuracy: 0.1600\n",
      "Epoch 17/50\n",
      "134/134 [==============================] - 2s 13ms/step - loss: 0.2461 - accuracy: 0.9485 - val_loss: 22.7690 - val_accuracy: 0.1600\n",
      "Epoch 18/50\n",
      "134/134 [==============================] - 2s 13ms/step - loss: 0.2325 - accuracy: 0.9565 - val_loss: 23.4485 - val_accuracy: 0.1579\n",
      "Epoch 19/50\n",
      "134/134 [==============================] - 2s 13ms/step - loss: 0.2245 - accuracy: 0.9537 - val_loss: 22.7364 - val_accuracy: 0.1579\n",
      "Epoch 20/50\n",
      "134/134 [==============================] - 2s 13ms/step - loss: 0.1921 - accuracy: 0.9675 - val_loss: 23.1892 - val_accuracy: 0.1642\n",
      "Epoch 21/50\n",
      "134/134 [==============================] - 2s 13ms/step - loss: 0.1703 - accuracy: 0.9729 - val_loss: 24.3117 - val_accuracy: 0.1600\n",
      "Epoch 22/50\n",
      "134/134 [==============================] - 2s 14ms/step - loss: 0.1497 - accuracy: 0.9801 - val_loss: 25.2482 - val_accuracy: 0.1537\n",
      "Epoch 23/50\n",
      "134/134 [==============================] - 2s 13ms/step - loss: 0.1439 - accuracy: 0.9829 - val_loss: 24.6472 - val_accuracy: 0.1621\n",
      "Epoch 24/50\n",
      "134/134 [==============================] - 2s 13ms/step - loss: 0.1293 - accuracy: 0.9860 - val_loss: 25.4807 - val_accuracy: 0.1579\n",
      "Epoch 25/50\n",
      "134/134 [==============================] - 2s 13ms/step - loss: 0.1220 - accuracy: 0.9850 - val_loss: 25.7783 - val_accuracy: 0.1495\n",
      "Epoch 26/50\n",
      "134/134 [==============================] - 2s 13ms/step - loss: 0.1061 - accuracy: 0.9892 - val_loss: 26.5091 - val_accuracy: 0.1642\n",
      "Epoch 27/50\n",
      "134/134 [==============================] - 2s 14ms/step - loss: 0.0935 - accuracy: 0.9930 - val_loss: 27.1872 - val_accuracy: 0.1642\n",
      "Epoch 28/50\n",
      "134/134 [==============================] - 2s 14ms/step - loss: 0.0834 - accuracy: 0.9963 - val_loss: 27.7864 - val_accuracy: 0.1411\n",
      "Epoch 29/50\n",
      "134/134 [==============================] - 2s 14ms/step - loss: 0.0725 - accuracy: 0.9967 - val_loss: 28.2593 - val_accuracy: 0.1621\n",
      "Epoch 30/50\n",
      "134/134 [==============================] - 2s 13ms/step - loss: 0.0702 - accuracy: 0.9970 - val_loss: 28.2082 - val_accuracy: 0.1537\n",
      "Epoch 31/50\n",
      "134/134 [==============================] - 2s 14ms/step - loss: 0.0620 - accuracy: 0.9986 - val_loss: 28.6491 - val_accuracy: 0.1600\n",
      "Epoch 32/50\n",
      "134/134 [==============================] - 2s 14ms/step - loss: 0.0548 - accuracy: 0.9986 - val_loss: 29.1646 - val_accuracy: 0.1621\n",
      "Epoch 33/50\n",
      "134/134 [==============================] - 2s 14ms/step - loss: 0.0495 - accuracy: 0.9988 - val_loss: 29.4249 - val_accuracy: 0.1600\n",
      "Epoch 34/50\n",
      "134/134 [==============================] - 2s 13ms/step - loss: 0.0479 - accuracy: 0.9988 - val_loss: 29.9484 - val_accuracy: 0.1558\n",
      "Epoch 35/50\n",
      "134/134 [==============================] - 2s 13ms/step - loss: 0.0451 - accuracy: 0.9993 - val_loss: 30.1038 - val_accuracy: 0.1621\n",
      "Epoch 36/50\n",
      "134/134 [==============================] - 2s 14ms/step - loss: 0.0389 - accuracy: 0.9995 - val_loss: 30.6693 - val_accuracy: 0.1579\n",
      "Epoch 37/50\n",
      "134/134 [==============================] - 2s 16ms/step - loss: 0.0395 - accuracy: 0.9981 - val_loss: 30.3100 - val_accuracy: 0.1558\n",
      "Epoch 38/50\n",
      "134/134 [==============================] - 2s 13ms/step - loss: 0.0306 - accuracy: 0.9998 - val_loss: 31.2231 - val_accuracy: 0.1579\n",
      "Epoch 39/50\n",
      "134/134 [==============================] - 2s 13ms/step - loss: 0.0278 - accuracy: 1.0000 - val_loss: 31.4657 - val_accuracy: 0.1558\n",
      "Epoch 40/50\n",
      "134/134 [==============================] - 2s 14ms/step - loss: 0.0274 - accuracy: 1.0000 - val_loss: 31.6838 - val_accuracy: 0.1621\n",
      "Epoch 41/50\n",
      "134/134 [==============================] - 2s 13ms/step - loss: 0.0253 - accuracy: 1.0000 - val_loss: 31.8112 - val_accuracy: 0.1579\n",
      "Epoch 42/50\n",
      "134/134 [==============================] - 2s 13ms/step - loss: 0.0211 - accuracy: 1.0000 - val_loss: 32.5846 - val_accuracy: 0.1558\n",
      "Epoch 43/50\n",
      "134/134 [==============================] - 2s 13ms/step - loss: 0.0198 - accuracy: 1.0000 - val_loss: 33.0432 - val_accuracy: 0.1579\n",
      "Epoch 44/50\n",
      "134/134 [==============================] - 2s 14ms/step - loss: 0.0170 - accuracy: 1.0000 - val_loss: 33.8884 - val_accuracy: 0.1579\n",
      "Epoch 45/50\n",
      "134/134 [==============================] - 2s 14ms/step - loss: 0.0154 - accuracy: 1.0000 - val_loss: 34.4103 - val_accuracy: 0.1663\n",
      "Epoch 46/50\n",
      "134/134 [==============================] - 2s 14ms/step - loss: 0.0151 - accuracy: 1.0000 - val_loss: 34.0099 - val_accuracy: 0.1558\n",
      "Epoch 47/50\n",
      "134/134 [==============================] - 2s 14ms/step - loss: 0.0138 - accuracy: 1.0000 - val_loss: 34.6791 - val_accuracy: 0.1537\n",
      "Epoch 48/50\n",
      "134/134 [==============================] - 2s 13ms/step - loss: 0.0122 - accuracy: 1.0000 - val_loss: 35.0801 - val_accuracy: 0.1558\n",
      "Epoch 49/50\n",
      "134/134 [==============================] - 2s 14ms/step - loss: 0.0117 - accuracy: 1.0000 - val_loss: 35.2799 - val_accuracy: 0.1537\n",
      "Epoch 50/50\n",
      "134/134 [==============================] - 2s 14ms/step - loss: 0.0103 - accuracy: 1.0000 - val_loss: 35.7040 - val_accuracy: 0.1579\n"
     ]
    },
    {
     "data": {
      "text/plain": [
       "<keras.callbacks.History at 0x238516ded60>"
      ]
     },
     "execution_count": 10,
     "metadata": {},
     "output_type": "execute_result"
    }
   ],
   "source": [
    "model.fit(cells,label,validation_split=0.1,epochs=50)"
   ]
  },
  {
   "cell_type": "code",
   "execution_count": 11,
   "id": "57cdc5fc",
   "metadata": {},
   "outputs": [],
   "source": [
    "cells_test=list()\n",
    "filenames=list()\n",
    "\n",
    "for name in test:\n",
    "    path = test_path + '/' + name\n",
    "    image = Image.open(path).convert('RGB')\n",
    "    image_data = np.array(image.resize(IMG_SIZE))\n",
    "    cells_test.append(image_data)\n",
    "    filenames.append(name)\n",
    "        \n",
    "cells_test = (np.array(cells_test).astype(float))/255"
   ]
  },
  {
   "cell_type": "code",
   "execution_count": 12,
   "id": "7038a02e",
   "metadata": {},
   "outputs": [
    {
     "name": "stdout",
     "output_type": "stream",
     "text": [
      "25/25 [==============================] - 0s 5ms/step\n"
     ]
    }
   ],
   "source": [
    "tahmin=model.predict(cells_test)"
   ]
  },
  {
   "cell_type": "code",
   "execution_count": 13,
   "id": "a19c6da3",
   "metadata": {},
   "outputs": [
    {
     "data": {
      "text/plain": [
       "(794, 12)"
      ]
     },
     "execution_count": 13,
     "metadata": {},
     "output_type": "execute_result"
    }
   ],
   "source": [
    "tahmin.shape"
   ]
  },
  {
   "cell_type": "code",
   "execution_count": 14,
   "id": "a3900b4c",
   "metadata": {},
   "outputs": [
    {
     "data": {
      "text/plain": [
       "array([[-33.63111   , -12.204236  , -15.226448  , ...,  -8.939518  ,\n",
       "          4.541892  , -51.60482   ],\n",
       "       [ -7.954434  , -20.86422   , -14.778759  , ..., -18.540209  ,\n",
       "        -12.8058    , -42.20737   ],\n",
       "       [ -7.5952444 , -12.366442  , -16.216549  , ..., -20.387238  ,\n",
       "        -17.434282  , -47.248768  ],\n",
       "       ...,\n",
       "       [-15.453369  , -11.12775   , -10.774509  , ..., -15.088458  ,\n",
       "        -19.728796  , -45.05717   ],\n",
       "       [-23.37791   ,   4.632388  ,   0.49260437, ...,  -6.841865  ,\n",
       "         -4.902242  , -44.471268  ],\n",
       "       [ -7.21473   , -26.033855  , -16.536396  , ..., -20.982965  ,\n",
       "        -16.340189  , -45.95063   ]], dtype=float32)"
      ]
     },
     "execution_count": 14,
     "metadata": {},
     "output_type": "execute_result"
    }
   ],
   "source": [
    "tahmin"
   ]
  },
  {
   "cell_type": "code",
   "execution_count": null,
   "id": "7c844719",
   "metadata": {},
   "outputs": [],
   "source": []
  }
 ],
 "metadata": {
  "kernelspec": {
   "display_name": "Python 3 (ipykernel)",
   "language": "python",
   "name": "python3"
  },
  "language_info": {
   "codemirror_mode": {
    "name": "ipython",
    "version": 3
   },
   "file_extension": ".py",
   "mimetype": "text/x-python",
   "name": "python",
   "nbconvert_exporter": "python",
   "pygments_lexer": "ipython3",
   "version": "3.8.3"
  }
 },
 "nbformat": 4,
 "nbformat_minor": 5
}
