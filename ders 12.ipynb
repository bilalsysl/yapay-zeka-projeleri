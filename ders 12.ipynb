{
 "cells": [
  {
   "cell_type": "code",
   "execution_count": null,
   "id": "206d823a",
   "metadata": {},
   "outputs": [],
   "source": [
    "import findspark\n",
    "findspark.init()"
   ]
  },
  {
   "cell_type": "code",
   "execution_count": null,
   "id": "f0c20c24",
   "metadata": {},
   "outputs": [],
   "source": [
    "from pyspark import SparkConf,SparkContext\n",
    "import collections\n",
    "sc=SparkContext()\n",
    "rdd=sc.parallelize([4,5,2,2])\n",
    "sq=rdd.map(lambda x:x*x)\n",
    "print(sq.collect())\n",
    "sc.stop()"
   ]
  },
  {
   "cell_type": "code",
   "execution_count": null,
   "id": "d3d9b0cf",
   "metadata": {},
   "outputs": [],
   "source": [
    "from pyspark import SparkConf,SparkContext\n",
    "import collections\n",
    "conf=SparkConf().setMaster('local').setAppName('RatingHistogram')\n",
    "sc=SparkContext(conf=conf)\n",
    "lines=sc.textFile('spark/spark/ml-100k/u.data')\n",
    "ratings=lines.map(lambda x:x.split()[2])\n",
    "result=ratings.countByValue()\n",
    "sortedResults=collections.OrderedDict(sorted(result.items()))\n",
    "for key, value in sortedResults.items():\n",
    "    print('%s%i'%(key,value))\n",
    "sc.stop()    "
   ]
  },
  {
   "cell_type": "code",
   "execution_count": null,
   "id": "3f2ac8ae",
   "metadata": {},
   "outputs": [],
   "source": [
    "import findspark\n",
    "findspark.init()"
   ]
  },
  {
   "cell_type": "code",
   "execution_count": null,
   "id": "31949c28",
   "metadata": {},
   "outputs": [],
   "source": [
    "from pyspark import SparkConf,SparkContext\n",
    "import collections\n",
    "conf=SparkConf().setMaster('local').setAppName('SpendByCustomer')\n",
    "sc=SparkContext(conf=conf)\n",
    "def extracustomerpricepairs(line):\n",
    "    fields=line.split(',')\n",
    "    return(int(fields[0]),float(fields[2]))\n",
    "input=sc.textFile('spark/spark/customer-orders.csv')\n",
    "mappedInput=input.map(extracustomerpricepairs)\n",
    "totalByCustomer=mappedInput.reduceByKey(lambda x,y:x+y)\n",
    "results=totalByCustomer.collect();\n",
    "for result in results:\n",
    "    print(result)\n",
    "sc.stop()    "
   ]
  },
  {
   "cell_type": "code",
   "execution_count": null,
   "id": "80feacaf",
   "metadata": {},
   "outputs": [],
   "source": [
    "from pyspark import SparkConf,SparkContext\n",
    "import collections\n",
    "conf=SparkConf().setMaster('local').setAppName('PopularMovies')\n",
    "sc=SparkContext(conf=conf)\n",
    "lines=sc.textFile('spark/spark/ml-100k/u.data')\n",
    "movies=lines.map(lambda x: (int(x.split()[1]),1))\n",
    "movieCounts=movies.reduceByKey(lambda x,y:x+y)\n",
    "flipped=movieCounts.map(lambda xy:(xy[1],xy[0]))\n",
    "sortedMovies=flipped.sortByKey(False)\n",
    "results=sortedMovies.collect()\n",
    "for result in results:\n",
    "    print(result)"
   ]
  },
  {
   "cell_type": "code",
   "execution_count": null,
   "id": "88a9ee2b",
   "metadata": {},
   "outputs": [],
   "source": [
    "sc.stop()"
   ]
  },
  {
   "cell_type": "raw",
   "id": "09992f64",
   "metadata": {},
   "source": [
    " conf = SparkConf().setMaster(\"local\").setAppName('PopularHero') \n",
    "                                              sc=SparkContext(conf=conf)\n",
    "\n",
    "                                              def countCoOccurences(line):\n",
    "                                                   elements = line. split()\n",
    "                                                   return (int(elements(0]), len(elements) - 1)\n",
    "\n",
    "                                              def parsellaces(line):\n",
    "                                                   fields = line.split()\\\"))\n",
    "                                                   return (int(fields[0]), fields[1].encode(\"utf8.))\n",
    "\n",
    "                                              names = sc.textFile('spark/spark/Marvel-names.txt.') \n",
    "                                              namesRdd = names.map(parseNames)\n",
    "\n",
    "                                              lines = sc.textFile(\"spark/spark/Marvel-graph.txt.\")\n",
    "\n",
    "                                              Pairings = lines.naP(countCoOccurences)\n",
    "                                              totalFriendsByCharacter = pairings.reduceByKey(lambda x, y : x + y) \n",
    "                                              flipped = totalFriendsByCharacter.map(lambda xy : (xy(1), xy(0)))\n",
    "\n",
    "                                              mostPopular = flipped.max()\n",
    "\n",
    "                                              mostPopularName = namesRdd.lookup(mostPopular[1])[0]\n",
    "\n",
    "                                              print(str(mostPopularName) + \" is the most popular superhero, with \"\" + str(mostPopular[0]) + \\ \n",
    "                                                       'co-appearances.')\n",
    "\n",
    "                                              sc.stop()"
   ]
  },
  {
   "cell_type": "markdown",
   "id": "7c899ace",
   "metadata": {},
   "source": [
    "## MNIST OPTİMİZATİON"
   ]
  },
  {
   "cell_type": "code",
   "execution_count": null,
   "id": "a917f298",
   "metadata": {},
   "outputs": [],
   "source": [
    "import tensorflow as tf\n",
    "from tensorflow import keras"
   ]
  },
  {
   "cell_type": "code",
   "execution_count": null,
   "id": "07b79e1f",
   "metadata": {},
   "outputs": [],
   "source": [
    "mnist=keras.datasets.mnist"
   ]
  },
  {
   "cell_type": "code",
   "execution_count": null,
   "id": "ed84d794",
   "metadata": {},
   "outputs": [],
   "source": [
    "(train_images,train_labels),(test_images,test_labels)=mnist.load_data()"
   ]
  },
  {
   "cell_type": "code",
   "execution_count": null,
   "id": "8834fd79",
   "metadata": {},
   "outputs": [],
   "source": [
    "train_images=train_images.reshape(60000,784)\n",
    "test_images=test_images.reshape(10000,784)\n",
    "test_images=test_images.astype('float32')\n",
    "train_images=train_images.astype('float32')\n",
    "test_images/=255\n",
    "train_images/=255"
   ]
  },
  {
   "cell_type": "code",
   "execution_count": null,
   "id": "3f3c0f66",
   "metadata": {},
   "outputs": [],
   "source": [
    "from tensorflow.keras.models import Sequential\n",
    "from tensorflow.keras.layers import Dense,Activation\n",
    "from tensorflow.keras.optimizers import Adam"
   ]
  },
  {
   "cell_type": "code",
   "execution_count": null,
   "id": "7231c55c",
   "metadata": {},
   "outputs": [],
   "source": [
    "import pandas as pd\n"
   ]
  },
  {
   "cell_type": "code",
   "execution_count": null,
   "id": "9c74fc5d",
   "metadata": {
    "scrolled": true
   },
   "outputs": [],
   "source": [
    "model=tf.keras.Sequential([tf.keras.layers.Dense(128,activation='relu', input_shape=(784,)),\n",
    "                        tf.keras.layers.Dense(64,activation='relu'),\n",
    "                        tf.keras.layers.Dense(10,activation='softmax'),\n",
    "                       ])\n",
    "model.compile(optimizer='adam',loss='sparse_categorical_crossentropy',metrics=['accuracy'])\n",
    "history=model.fit(train_images,train_labels,batch_size=128,epochs=40,verbose=1,validation_data=(test_images,test_labels))"
   ]
  },
  {
   "cell_type": "code",
   "execution_count": null,
   "id": "3311f825",
   "metadata": {},
   "outputs": [],
   "source": [
    "_, accuracy=model.evaluate(test_images,test_labels)\n",
    "print('Accuracy:%.2f'%(accuracy*100))"
   ]
  },
  {
   "cell_type": "code",
   "execution_count": null,
   "id": "bbf0a143",
   "metadata": {},
   "outputs": [],
   "source": [
    "import matplotlib.pyplot as plt"
   ]
  },
  {
   "cell_type": "code",
   "execution_count": null,
   "id": "88e39b44",
   "metadata": {},
   "outputs": [],
   "source": [
    "model=tf.keras.Sequential([tf.keras.layers.Dense(512,activation='relu', input_shape=(784,)),\n",
    "                        tf.keras.layers.Dense(512,activation='relu'),\n",
    "                        tf.keras.layers.Dense(512,activation='relu'),\n",
    "                        tf.keras.layers.Dense(10,activation='softmax'),\n",
    "                       ])\n",
    "model.compile(optimizer='adam',loss='sparse_categorical_crossentropy',metrics=['accuracy'])\n",
    "history=model.fit(train_images,train_labels,batch_size=128,epochs=40,verbose=1,validation_data=(test_images,test_labels))"
   ]
  },
  {
   "cell_type": "code",
   "execution_count": null,
   "id": "32992df7",
   "metadata": {},
   "outputs": [],
   "source": [
    "_, accuracy=model.evaluate(test_images,test_labels)\n",
    "print('Accuracy:%.2f'%(accuracy*100))"
   ]
  },
  {
   "cell_type": "code",
   "execution_count": null,
   "id": "4c3eebaa",
   "metadata": {},
   "outputs": [],
   "source": [
    "train_images=train_images.reshape(60000,28,28,1)\n",
    "test_images=test_images.reshape(10000,28,28,1)\n",
    "\n",
    "test_images/=255\n",
    "train_images/=255"
   ]
  },
  {
   "cell_type": "code",
   "execution_count": null,
   "id": "a3661d4e",
   "metadata": {},
   "outputs": [],
   "source": [
    "model=tf.keras.Sequential([tf.keras.layers.Conv2D(32,(3,3),activation='relu', input_shape=(28,28,1)),\n",
    "                        tf.keras.layers.MaxPooling2D(2,2),\n",
    "                        tf.keras.layers.Flatten(),\n",
    "                        tf.keras.layers.Dense(100,activation='relu'),\n",
    "                        tf.keras.layers.Dense(10,activation='softmax'),\n",
    "                           \n",
    "                       ])\n",
    "model.compile(optimizer=tf.keras.optimizers.SGD(lr=0.01,momentum=0.9),loss='sparse_categorical_crossentropy',metrics=['accuracy'])\n",
    "history=model.fit(train_images,train_labels,batch_size=32,epochs=10,verbose=1,validation_data=(test_images,test_labels))"
   ]
  },
  {
   "cell_type": "code",
   "execution_count": null,
   "id": "de3c1ed7",
   "metadata": {},
   "outputs": [],
   "source": [
    "model=tf.keras.Sequential([tf.keras.layers.Conv2D(32,(3,3),activation='relu', input_shape=(28,28,1)),\n",
    "                        tf.keras.layers.Conv2D(64,(3,3),activation='relu'),\n",
    "                        tf.keras.layers.MaxPooling2D(2,2),\n",
    "                        tf.keras.layers.Flatten(),\n",
    "                        tf.keras.layers.Dense(100,activation='relu'),\n",
    "                        tf.keras.layers.Dense(10,activation='softmax'),\n",
    "                           \n",
    "                       ])\n",
    "model.compile(optimizer=tf.keras.optimizers.SGD(lr=0.01,momentum=0.9),loss='sparse_categorical_crossentropy',metrics=['accuracy'])\n",
    "history=model.fit(train_images,train_labels,batch_size=32,epochs=15,verbose=1,validation_data=(test_images,test_labels))"
   ]
  },
  {
   "cell_type": "code",
   "execution_count": null,
   "id": "1c8c5b8d",
   "metadata": {},
   "outputs": [],
   "source": [
    "model=tf.keras.Sequential([tf.keras.layers.Conv2D(32,(3,3),activation='relu', input_shape=(28,28,1)),\n",
    "                        tf.keras.layers.Conv2D(64,(3,3),activation='relu'),\n",
    "                        tf.keras.layers.MaxPooling2D(2,2),\n",
    "                        tf.keras.layers.Dropout(0.25),\n",
    "                        tf.keras.layers.Flatten(),\n",
    "                        tf.keras.layers.Dense(100,activation='relu'),\n",
    "                        tf.keras.layers.Dropout(0.5),\n",
    "                        tf.keras.layers.Dense(10,activation='softmax'),\n",
    "                           \n",
    "                       ])\n",
    "model.compile(optimizer=tf.keras.optimizers.SGD(lr=0.01,momentum=0.9),loss='sparse_categorical_crossentropy',metrics=['accuracy'])\n",
    "history=model.fit(train_images,train_labels,batch_size=32,epochs=5,verbose=1,validation_data=(test_images,test_labels))"
   ]
  },
  {
   "cell_type": "code",
   "execution_count": null,
   "id": "c3ce8006",
   "metadata": {},
   "outputs": [],
   "source": [
    "model=tf.keras.Sequential([tf.keras.layers.Conv2D(32,(3,3),activation='relu', input_shape=(28,28,1)),\n",
    "                        tf.keras.layers.Conv2D(64,(3,3),activation='relu'),\n",
    "                        tf.keras.layers.MaxPooling2D(2,2),\n",
    "                        tf.keras.layers.BatchNormalization(),\n",
    "                        tf.keras.layers.Flatten(),\n",
    "                        tf.keras.layers.Dense(100,activation='relu'),\n",
    "                        tf.keras.layers.BatchNormalization()\n",
    "                        tf.keras.layers.Dense(10,activation='softmax'),\n",
    "                           \n",
    "                       ])\n",
    "model.compile(optimizer=tf.keras.optimizers.SGD(lr=0.01,momentum=0.9),loss='sparse_categorical_crossentropy',metrics=['accuracy'])\n",
    "history=model.fit(train_images,train_labels,batch_size=32,epochs=1,verbose=1,validation_data=(test_images,test_labels))"
   ]
  },
  {
   "cell_type": "code",
   "execution_count": null,
   "id": "d3f04ae3",
   "metadata": {},
   "outputs": [],
   "source": [
    "## hocam hızlı çalışsın diye epochsu düşürdüm birde çok düşük doğruluk alıyorum %11 civarı (epochs yüksekkende %11 civarı)"
   ]
  },
  {
   "cell_type": "code",
   "execution_count": null,
   "id": "8bccfb4a",
   "metadata": {},
   "outputs": [],
   "source": []
  },
  {
   "cell_type": "code",
   "execution_count": null,
   "id": "24ad7e75",
   "metadata": {},
   "outputs": [],
   "source": []
  },
  {
   "cell_type": "code",
   "execution_count": null,
   "id": "da147524",
   "metadata": {},
   "outputs": [],
   "source": []
  },
  {
   "cell_type": "code",
   "execution_count": null,
   "id": "c35e17f4",
   "metadata": {},
   "outputs": [],
   "source": []
  },
  {
   "cell_type": "code",
   "execution_count": null,
   "id": "92cd471b",
   "metadata": {},
   "outputs": [],
   "source": []
  },
  {
   "cell_type": "code",
   "execution_count": null,
   "id": "5f14d5cb",
   "metadata": {},
   "outputs": [],
   "source": []
  },
  {
   "cell_type": "code",
   "execution_count": null,
   "id": "8dda61e7",
   "metadata": {},
   "outputs": [],
   "source": []
  },
  {
   "cell_type": "code",
   "execution_count": null,
   "id": "1e8a5004",
   "metadata": {},
   "outputs": [],
   "source": []
  }
 ],
 "metadata": {
  "kernelspec": {
   "display_name": "Python 3.8.3 64-bit",
   "language": "python",
   "name": "python3"
  },
  "language_info": {
   "codemirror_mode": {
    "name": "ipython",
    "version": 3
   },
   "file_extension": ".py",
   "mimetype": "text/x-python",
   "name": "python",
   "nbconvert_exporter": "python",
   "pygments_lexer": "ipython3",
   "version": "3.8.3"
  },
  "vscode": {
   "interpreter": {
    "hash": "bc98aebe86ff5d0b47cd3c965885a66547819f4fa7e4966c37275f31e9e55567"
   }
  }
 },
 "nbformat": 4,
 "nbformat_minor": 5
}
