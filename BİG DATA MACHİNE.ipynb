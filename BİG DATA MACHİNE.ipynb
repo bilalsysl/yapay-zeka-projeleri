{
 "cells": [
  {
   "cell_type": "code",
   "execution_count": 48,
   "id": "8f4099a8",
   "metadata": {},
   "outputs": [],
   "source": [
    "import pandas as pd\n",
    "import numpy as np\n",
    "from __future__ import print_function\n",
    "from pyspark.ml.classification import GBTClassifier\n",
    "import findspark\n",
    "findspark.init()\n",
    "from pyspark.ml import Pipeline\n",
    "from pyspark.ml.feature import StringIndexer, VectorIndexer\n",
    "from pyspark.ml.evaluation import MulticlassClassificationEvaluator\n",
    "from pyspark.sql import SparkSession\n",
    "from pyspark.ml.linalg import Vectors\n",
    "from pyspark.sql import SparkSession\n",
    "from pyspark.sql import Row\n",
    "import collections\n",
    "from pyspark import SparkConf,SparkContext"
   ]
  },
  {
   "cell_type": "markdown",
   "id": "fb21bacd",
   "metadata": {},
   "source": [
    "df1=pd.read_csv('churn.csv')"
   ]
  },
  {
   "cell_type": "markdown",
   "id": "c3085faa",
   "metadata": {},
   "source": [
    "df1"
   ]
  },
  {
   "cell_type": "markdown",
   "id": "00a8adf8",
   "metadata": {},
   "source": [
    "df1.drop(['Names','Unnamed: 0'],axis=1,inplace=True)"
   ]
  },
  {
   "cell_type": "markdown",
   "id": "06f06870",
   "metadata": {},
   "source": [
    "df1['Age']=df1['Age'].astype(float)\n",
    "df1['Total_Purchase']=df1['Total_Purchase'].astype(float)\n",
    "df1['Account_Manager']=df1['Account_Manager'].astype(float)\n",
    "df1['Years']=df1['Years'].astype(float)\n",
    "df1['Num_Sites']=df1['Num_Sites'].astype(float)\n",
    "df1['Churn']=df1['Churn'].astype(float)"
   ]
  },
  {
   "cell_type": "markdown",
   "id": "a77c1188",
   "metadata": {},
   "source": [
    "df1.info()"
   ]
  },
  {
   "cell_type": "markdown",
   "id": "ab944b1a",
   "metadata": {},
   "source": [
    "df1.to_csv('churnprep.csv')"
   ]
  },
  {
   "cell_type": "markdown",
   "id": "174ed217",
   "metadata": {},
   "source": [
    "df1"
   ]
  },
  {
   "cell_type": "code",
   "execution_count": null,
   "id": "49ce9f45",
   "metadata": {},
   "outputs": [],
   "source": []
  },
  {
   "cell_type": "code",
   "execution_count": 49,
   "id": "391a3fd6",
   "metadata": {},
   "outputs": [],
   "source": [
    "spark=SparkSession.builder.getOrCreate()"
   ]
  },
  {
   "cell_type": "code",
   "execution_count": 50,
   "id": "ac817a72",
   "metadata": {},
   "outputs": [],
   "source": [
    "inputlines=df = spark.read.options(header = True, inferSchema = True).csv(\"churnprep.csv\") #spark.sparkContext.textFile('churnprep1.csv')"
   ]
  },
  {
   "cell_type": "code",
   "execution_count": 51,
   "id": "20ff8b4b",
   "metadata": {},
   "outputs": [
    {
     "data": {
      "text/plain": [
       "DataFrame[index: int, Age: double, Total_Purchase: double, Account_Manager: double, Years: double, Num_Sites: double, Churn: double]"
      ]
     },
     "execution_count": 51,
     "metadata": {},
     "output_type": "execute_result"
    }
   ],
   "source": [
    "inputlines"
   ]
  },
  {
   "cell_type": "code",
   "execution_count": 52,
   "id": "3852258a",
   "metadata": {},
   "outputs": [],
   "source": [
    "#data=inputlines.map(lambda x: x.split(\",\"))"
   ]
  },
  {
   "cell_type": "code",
   "execution_count": 53,
   "id": "a06c0658",
   "metadata": {},
   "outputs": [],
   "source": [
    "#data"
   ]
  },
  {
   "cell_type": "code",
   "execution_count": 54,
   "id": "e672b4a6",
   "metadata": {},
   "outputs": [],
   "source": [
    "#colnames=['Age','Total_Purchase','Account_Manager','Years','Num_Sites','Churn']"
   ]
  },
  {
   "cell_type": "code",
   "execution_count": 55,
   "id": "f6b1819a",
   "metadata": {},
   "outputs": [],
   "source": [
    "#df=inputlines.toDF(colnames)"
   ]
  },
  {
   "cell_type": "code",
   "execution_count": 56,
   "id": "b20db483",
   "metadata": {
    "scrolled": true
   },
   "outputs": [
    {
     "data": {
      "text/plain": [
       "DataFrame[index: int, Age: double, Total_Purchase: double, Account_Manager: double, Years: double, Num_Sites: double, Churn: double]"
      ]
     },
     "execution_count": 56,
     "metadata": {},
     "output_type": "execute_result"
    }
   ],
   "source": [
    "df = inputlines\n",
    "df"
   ]
  },
  {
   "cell_type": "code",
   "execution_count": 57,
   "id": "dd10b8ae",
   "metadata": {},
   "outputs": [],
   "source": [
    "from  pyspark.ml.feature import VectorAssembler"
   ]
  },
  {
   "cell_type": "code",
   "execution_count": 58,
   "id": "1f830571",
   "metadata": {},
   "outputs": [
    {
     "data": {
      "text/plain": [
       "DataFrame[index: int, Age: double, Total_Purchase: double, Account_Manager: double, Years: double, Num_Sites: double, Churn: double, features: vector]"
      ]
     },
     "execution_count": 58,
     "metadata": {},
     "output_type": "execute_result"
    }
   ],
   "source": [
    "vecAssembler = VectorAssembler(inputCols=['Age','Total_Purchase','Account_Manager','Years','Num_Sites'], outputCol=\"features\")\n",
    "df = vecAssembler.transform(df)\n",
    "df"
   ]
  },
  {
   "cell_type": "code",
   "execution_count": 59,
   "id": "e421b11e",
   "metadata": {},
   "outputs": [
    {
     "data": {
      "text/plain": [
       "DataFrame[Churn: double, features: vector]"
      ]
     },
     "execution_count": 59,
     "metadata": {},
     "output_type": "execute_result"
    }
   ],
   "source": [
    "df = df.drop(\"index\", 'Age','Total_Purchase','Account_Manager','Years','Num_Sites')\n",
    "df"
   ]
  },
  {
   "cell_type": "code",
   "execution_count": 60,
   "id": "67e20e4f",
   "metadata": {},
   "outputs": [
    {
     "data": {
      "text/plain": [
       "DataFrame[label: double, features: vector]"
      ]
     },
     "execution_count": 60,
     "metadata": {},
     "output_type": "execute_result"
    }
   ],
   "source": [
    "df = df.withColumnRenamed(\"Churn\", \"label\")\n",
    "df"
   ]
  },
  {
   "cell_type": "code",
   "execution_count": 61,
   "id": "b4db1b96",
   "metadata": {},
   "outputs": [],
   "source": [
    "trainTest=df.randomSplit([0.5,0.5])\n",
    "trainingDF=trainTest[0]\n",
    "testDF=trainTest[1]"
   ]
  },
  {
   "cell_type": "code",
   "execution_count": 62,
   "id": "1719bad1",
   "metadata": {},
   "outputs": [
    {
     "data": {
      "text/plain": [
       "DataFrame[label: double, features: vector]"
      ]
     },
     "execution_count": 62,
     "metadata": {},
     "output_type": "execute_result"
    }
   ],
   "source": [
    "trainingDF"
   ]
  },
  {
   "cell_type": "code",
   "execution_count": 63,
   "id": "f1f70ef3",
   "metadata": {},
   "outputs": [
    {
     "data": {
      "text/plain": [
       "DataFrame[label: double, features: vector]"
      ]
     },
     "execution_count": 63,
     "metadata": {},
     "output_type": "execute_result"
    }
   ],
   "source": [
    "testDF"
   ]
  },
  {
   "cell_type": "code",
   "execution_count": 64,
   "id": "fe38f8b6",
   "metadata": {},
   "outputs": [],
   "source": [
    "\n",
    "from sklearn.metrics import accuracy_score,precision_score,recall_score,f1_score"
   ]
  },
  {
   "cell_type": "code",
   "execution_count": null,
   "id": "3b77dda8",
   "metadata": {},
   "outputs": [],
   "source": []
  },
  {
   "cell_type": "code",
   "execution_count": 65,
   "id": "bae1e424",
   "metadata": {},
   "outputs": [],
   "source": [
    "gbt=GBTClassifier(featuresCol='features',maxIter=10)"
   ]
  },
  {
   "cell_type": "code",
   "execution_count": 66,
   "id": "1d18c305",
   "metadata": {},
   "outputs": [],
   "source": [
    "gbt = gbt.fit(trainingDF)"
   ]
  },
  {
   "cell_type": "code",
   "execution_count": 67,
   "id": "5a78ecfb",
   "metadata": {},
   "outputs": [
    {
     "name": "stdout",
     "output_type": "stream",
     "text": [
      "+-----+--------------------+--------------------+--------------------+----------+\n",
      "|label|            features|       rawPrediction|         probability|prediction|\n",
      "+-----+--------------------+--------------------+--------------------+----------+\n",
      "|  0.0|[22.0,11254.38,1....|[1.02123000176285...|[0.88518352410328...|       0.0|\n",
      "|  0.0|[25.0,9672.03,0.0...|[0.92554866753198...|[0.86425589122228...|       0.0|\n",
      "|  0.0|[27.0,8628.8,1.0,...|[0.85489526677014...|[0.84680911349936...|       0.0|\n",
      "|  0.0|[28.0,8670.98,0.0...|[1.13424217255855...|[0.90623307473440...|       0.0|\n",
      "|  0.0|[29.0,9378.24,0.0...|[0.98154842037103...|[0.87686771101437...|       0.0|\n",
      "|  0.0|[29.0,10203.18,1....|[0.91343241063173...|[0.86138781405375...|       0.0|\n",
      "|  0.0|[29.0,13240.01,1....|[1.20926313553665...|[0.91822915870950...|       0.0|\n",
      "|  0.0|[29.0,13255.05,1....|[1.02017899862339...|[0.88496971649468...|       0.0|\n",
      "|  0.0|[30.0,6744.87,0.0...|[1.24577770983735...|[0.92354769908127...|       0.0|\n",
      "|  0.0|[30.0,8677.28,1.0...|[0.76111420703639...|[0.82086639153070...|       0.0|\n",
      "|  0.0|[30.0,8874.83,0.0...|[0.03100664574058...|[0.51549835641957...|       0.0|\n",
      "|  0.0|[30.0,13473.35,0....|[1.39290402099947...|[0.94190408197812...|       0.0|\n",
      "|  0.0|[31.0,5304.6,0.0,...|[1.26303225467499...|[0.92594895864188...|       0.0|\n",
      "|  0.0|[31.0,7073.61,0.0...|[0.10859233392404...|[0.55408374341773...|       0.0|\n",
      "|  0.0|[31.0,9574.89,0.0...|[1.15874576561158...|[0.91031535667228...|       0.0|\n",
      "|  0.0|[31.0,10058.87,1....|[1.24263883272901...|[0.92310326324998...|       0.0|\n",
      "|  0.0|[31.0,12264.68,1....|[1.33857850550355...|[0.93566519932151...|       0.0|\n",
      "|  0.0|[32.0,8575.71,0.0...|[1.32168571813895...|[0.93360126533676...|       0.0|\n",
      "|  0.0|[32.0,11715.72,0....|[1.23705859018705...|[0.92230730122064...|       0.0|\n",
      "|  0.0|[32.0,12254.75,1....|[1.13018935746654...|[0.90554202965796...|       0.0|\n",
      "+-----+--------------------+--------------------+--------------------+----------+\n",
      "only showing top 20 rows\n",
      "\n"
     ]
    }
   ],
   "source": [
    "predictions = gbt.transform(testDF)\n",
    "predictions.show()"
   ]
  },
  {
   "cell_type": "code",
   "execution_count": 68,
   "id": "70b355b9",
   "metadata": {},
   "outputs": [
    {
     "name": "stdout",
     "output_type": "stream",
     "text": [
      "Accuracy: 0.8657074340527577\n"
     ]
    }
   ],
   "source": [
    "from pyspark.ml.evaluation import MulticlassClassificationEvaluator\n",
    "\n",
    "evaluator = MulticlassClassificationEvaluator(labelCol=\"label\", predictionCol=\"prediction\", metricName=\"accuracy\")\n",
    "accuracy = evaluator.evaluate(predictions)\n",
    "print(\"Accuracy:\", accuracy)\n"
   ]
  },
  {
   "cell_type": "code",
   "execution_count": null,
   "id": "9a0daccb",
   "metadata": {},
   "outputs": [],
   "source": []
  },
  {
   "cell_type": "code",
   "execution_count": null,
   "id": "52ae7c42",
   "metadata": {},
   "outputs": [],
   "source": []
  }
 ],
 "metadata": {
  "kernelspec": {
   "display_name": "Python 3.8.3 64-bit",
   "language": "python",
   "name": "python3"
  },
  "language_info": {
   "codemirror_mode": {
    "name": "ipython",
    "version": 3
   },
   "file_extension": ".py",
   "mimetype": "text/x-python",
   "name": "python",
   "nbconvert_exporter": "python",
   "pygments_lexer": "ipython3",
   "version": "3.8.3"
  },
  "vscode": {
   "interpreter": {
    "hash": "bc98aebe86ff5d0b47cd3c965885a66547819f4fa7e4966c37275f31e9e55567"
   }
  }
 },
 "nbformat": 4,
 "nbformat_minor": 5
}
