{
 "cells": [
  {
   "cell_type": "code",
   "execution_count": null,
   "id": "ced48865",
   "metadata": {},
   "outputs": [],
   "source": [
    "#!pip install twython"
   ]
  },
  {
   "cell_type": "code",
   "execution_count": null,
   "id": "0b373096",
   "metadata": {},
   "outputs": [],
   "source": [
    "import pandas as pd\n",
    "import numpy as np\n",
    "import matplotlib.pyplot as plt\n",
    "%matplotlib inline"
   ]
  },
  {
   "cell_type": "code",
   "execution_count": null,
   "id": "9ab13608",
   "metadata": {},
   "outputs": [],
   "source": [
    "from twython import Twython\n",
    "consumer_key='0pJRCT1emkOcrtxHl7lMN4N5A'\n",
    "consumer_secret='IS4Gxcx1aQ1c5Hyei5PSePL37IcVmYBT8Qt1t4IOxmLIxJD42'"
   ]
  },
  {
   "cell_type": "code",
   "execution_count": null,
   "id": "3ad447e8",
   "metadata": {},
   "outputs": [],
   "source": [
    "twitter=Twython(consumer_key,consumer_secret)"
   ]
  },
  {
   "cell_type": "code",
   "execution_count": null,
   "id": "02f5e387",
   "metadata": {},
   "outputs": [],
   "source": [
    "twitter"
   ]
  },
  {
   "cell_type": "code",
   "execution_count": null,
   "id": "54594320",
   "metadata": {},
   "outputs": [],
   "source": [
    "dir(Twython)"
   ]
  },
  {
   "cell_type": "code",
   "execution_count": null,
   "id": "99caf4e8",
   "metadata": {},
   "outputs": [],
   "source": [
    "help(Twython).search"
   ]
  },
  {
   "cell_type": "code",
   "execution_count": null,
   "id": "6181b5dd",
   "metadata": {},
   "outputs": [],
   "source": [
    "results= twitter.search(q='Süleyman Çakır', count=20)\n",
    "type(results)"
   ]
  },
  {
   "cell_type": "code",
   "execution_count": null,
   "id": "e5eb4987",
   "metadata": {},
   "outputs": [],
   "source": [
    " results"
   ]
  },
  {
   "cell_type": "code",
   "execution_count": null,
   "id": "49f0b683",
   "metadata": {},
   "outputs": [],
   "source": [
    "all_items=results['statuses']"
   ]
  },
  {
   "cell_type": "code",
   "execution_count": null,
   "id": "e51b4bf3",
   "metadata": {},
   "outputs": [],
   "source": [
    "tweet_df=pd.DataFrame(all_items)\n"
   ]
  },
  {
   "cell_type": "code",
   "execution_count": null,
   "id": "a77687cb",
   "metadata": {},
   "outputs": [],
   "source": [
    "# Yukarıdaki kodlar çalışmaığı için devam edemiyorum.Ders videosunu izlemeye devam ettim.\n"
   ]
  },
  {
   "cell_type": "markdown",
   "id": "9e26138a",
   "metadata": {},
   "source": [
    "## RNN"
   ]
  },
  {
   "cell_type": "code",
   "execution_count": null,
   "id": "3c7172da",
   "metadata": {},
   "outputs": [],
   "source": [
    "import pandas as pd\n",
    "import numpy as np\n",
    "import keras"
   ]
  },
  {
   "cell_type": "code",
   "execution_count": null,
   "id": "d76fcf33",
   "metadata": {},
   "outputs": [],
   "source": [
    "training_set=pd.read_csv('Google_Stock_Price_Train.csv')\n",
    "training_set=training_set.iloc[:,1:2].values"
   ]
  },
  {
   "cell_type": "code",
   "execution_count": null,
   "id": "6cc8a2b1",
   "metadata": {},
   "outputs": [],
   "source": []
  },
  {
   "cell_type": "code",
   "execution_count": null,
   "id": "e3749a79",
   "metadata": {},
   "outputs": [],
   "source": [
    "from sklearn.preprocessing import MinMaxScaler\n",
    "sc=MinMaxScaler()\n",
    "training_set=sc.fit_transform(training_set)"
   ]
  },
  {
   "cell_type": "code",
   "execution_count": null,
   "id": "39b8ba4e",
   "metadata": {},
   "outputs": [],
   "source": [
    "x_train=training_set[0:1257]\n",
    "y_train=training_set[1:1258]"
   ]
  },
  {
   "cell_type": "code",
   "execution_count": null,
   "id": "e59f3f7e",
   "metadata": {},
   "outputs": [],
   "source": [
    "x_train=np.reshape(x_train,(1257,1,1))"
   ]
  },
  {
   "cell_type": "code",
   "execution_count": null,
   "id": "80edc72b",
   "metadata": {},
   "outputs": [],
   "source": [
    "from keras.models import Sequential\n",
    "from  keras.layers import Dense\n",
    "from keras.layers import LSTM"
   ]
  },
  {
   "cell_type": "code",
   "execution_count": null,
   "id": "adbb77c1",
   "metadata": {},
   "outputs": [],
   "source": [
    "regressor=Sequential()\n",
    "regressor.add(LSTM(units=4,activation='sigmoid',input_shape=(None,1)))\n",
    "regressor.add(Dense(units=1))\n",
    "regressor.compile(optimizer='adam',loss='mean_squared_error')\n",
    "regressor.fit(x_train,y_train,batch_size=32,epochs=200)"
   ]
  },
  {
   "cell_type": "code",
   "execution_count": null,
   "id": "444af980",
   "metadata": {},
   "outputs": [],
   "source": [
    "test_set=pd.read_csv('Google_Stock_Price_Test.csv')\n",
    "real_stock_price=test_set.iloc[:,1:2].values"
   ]
  },
  {
   "cell_type": "code",
   "execution_count": null,
   "id": "8fe33682",
   "metadata": {},
   "outputs": [],
   "source": [
    "inputs=real_stock_price\n",
    "inputs=sc.transform(inputs)\n",
    "inputs=np.reshape(inputs,(20,1,1))\n",
    "predicted_stock_price=regressor.predict(inputs)\n",
    "predicted_stock_price=sc.inverse_transform(predicted_stock_price)"
   ]
  },
  {
   "cell_type": "code",
   "execution_count": null,
   "id": "82247515",
   "metadata": {},
   "outputs": [],
   "source": [
    "plt.plot(real_stock_price,color='red',label='Real Google Stock Price')\n",
    "plt.plot(predicted_stock_price,color='blue',label='Predicted Google Stock Price')\n",
    "plt.title('Tamam yeter babayiğit')\n",
    "plt.xlabel('Time')\n",
    "plt.ylabel('Google time price')\n",
    "plt.legend()\n",
    "plt.show()"
   ]
  },
  {
   "cell_type": "code",
   "execution_count": null,
   "id": "3863ad85",
   "metadata": {},
   "outputs": [],
   "source": [
    "import tensorflow as tf\n"
   ]
  },
  {
   "cell_type": "code",
   "execution_count": null,
   "id": "56399028",
   "metadata": {},
   "outputs": [],
   "source": [
    "regressor.save('model rnn.h5')"
   ]
  },
  {
   "cell_type": "code",
   "execution_count": null,
   "id": "e4786914",
   "metadata": {},
   "outputs": [],
   "source": [
    "new_model=tf.keras.models.load_model('model rnn.h5')"
   ]
  },
  {
   "cell_type": "code",
   "execution_count": null,
   "id": "4ec91fdd",
   "metadata": {},
   "outputs": [],
   "source": [
    "predicted_stock_price=new_model.predict(inputs)"
   ]
  },
  {
   "cell_type": "markdown",
   "id": "d38c502d",
   "metadata": {},
   "source": [
    "## Time series"
   ]
  },
  {
   "cell_type": "code",
   "execution_count": null,
   "id": "9fa8cea4",
   "metadata": {},
   "outputs": [],
   "source": [
    "import pandas as pd\n",
    "import matplotlib.pyplot as plt\n",
    "from sklearn.metrics import silhouette_score\n",
    "from sklearn.cluster import KMeans\n",
    "%matplotlib inline\n",
    "from matplotlib.pylab import rcParams"
   ]
  },
  {
   "cell_type": "code",
   "execution_count": null,
   "id": "836fda85",
   "metadata": {},
   "outputs": [],
   "source": [
    "data=pd.read_csv('AirPassengers.csv')"
   ]
  },
  {
   "cell_type": "code",
   "execution_count": null,
   "id": "ae3d31c4",
   "metadata": {},
   "outputs": [],
   "source": [
    "data.info()"
   ]
  },
  {
   "cell_type": "code",
   "execution_count": null,
   "id": "506c71df",
   "metadata": {},
   "outputs": [],
   "source": [
    "data.head()"
   ]
  },
  {
   "cell_type": "code",
   "execution_count": null,
   "id": "12250134",
   "metadata": {},
   "outputs": [],
   "source": [
    "dateparse=lambda dates:pd.datetime.strptime(dates,'%m%d%%y')"
   ]
  },
  {
   "cell_type": "code",
   "execution_count": null,
   "id": "1ee9bb72",
   "metadata": {},
   "outputs": [],
   "source": [
    "plt.figure(figsize=(15,10))"
   ]
  },
  {
   "cell_type": "code",
   "execution_count": null,
   "id": "5cac6e34",
   "metadata": {},
   "outputs": [],
   "source": [
    "data.plot(figsize=(15,10))"
   ]
  },
  {
   "cell_type": "code",
   "execution_count": null,
   "id": "6e8a5a7f",
   "metadata": {},
   "outputs": [],
   "source": []
  }
 ],
 "metadata": {
  "kernelspec": {
   "display_name": "Python 3 (ipykernel)",
   "language": "python",
   "name": "python3"
  },
  "language_info": {
   "codemirror_mode": {
    "name": "ipython",
    "version": 3
   },
   "file_extension": ".py",
   "mimetype": "text/x-python",
   "name": "python",
   "nbconvert_exporter": "python",
   "pygments_lexer": "ipython3",
   "version": "3.9.12"
  }
 },
 "nbformat": 4,
 "nbformat_minor": 5
}
