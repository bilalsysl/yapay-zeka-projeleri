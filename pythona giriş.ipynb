{
 "cells": [
  {
   "cell_type": "code",
   "execution_count": 1,
   "id": "c11fc922",
   "metadata": {},
   "outputs": [],
   "source": [
    "# Pythona giriş"
   ]
  },
  {
   "cell_type": "code",
   "execution_count": 2,
   "id": "47c03eab",
   "metadata": {},
   "outputs": [
    {
     "data": {
      "text/plain": [
       "10"
      ]
     },
     "execution_count": 2,
     "metadata": {},
     "output_type": "execute_result"
    }
   ],
   "source": [
    "5+5"
   ]
  },
  {
   "cell_type": "code",
   "execution_count": 3,
   "id": "4e1f6250",
   "metadata": {},
   "outputs": [
    {
     "data": {
      "text/plain": [
       "'hello world'"
      ]
     },
     "execution_count": 3,
     "metadata": {},
     "output_type": "execute_result"
    }
   ],
   "source": [
    "\"hello world\""
   ]
  },
  {
   "cell_type": "code",
   "execution_count": 4,
   "id": "b63a2b75",
   "metadata": {},
   "outputs": [],
   "source": [
    "# ahmet*1000"
   ]
  },
  {
   "cell_type": "code",
   "execution_count": 5,
   "id": "f0dfe958",
   "metadata": {},
   "outputs": [],
   "source": [
    "a=5\n",
    "b=6\n",
    "c=a*b"
   ]
  },
  {
   "cell_type": "code",
   "execution_count": 6,
   "id": "908190d2",
   "metadata": {},
   "outputs": [],
   "source": [
    "yil=2011"
   ]
  },
  {
   "cell_type": "code",
   "execution_count": 7,
   "id": "3de6d476",
   "metadata": {},
   "outputs": [],
   "source": [
    "isim=\"ali ali dedi ki o'connor\""
   ]
  },
  {
   "cell_type": "code",
   "execution_count": 8,
   "id": "b6c7e6fe",
   "metadata": {},
   "outputs": [
    {
     "data": {
      "text/plain": [
       "\"ali ali dedi ki o'connor\""
      ]
     },
     "execution_count": 8,
     "metadata": {},
     "output_type": "execute_result"
    }
   ],
   "source": [
    "isim"
   ]
  },
  {
   "cell_type": "code",
   "execution_count": 9,
   "id": "1bbdea65",
   "metadata": {},
   "outputs": [],
   "source": [
    "#data types"
   ]
  },
  {
   "cell_type": "code",
   "execution_count": 10,
   "id": "b0533e50",
   "metadata": {},
   "outputs": [
    {
     "data": {
      "text/plain": [
       "int"
      ]
     },
     "execution_count": 10,
     "metadata": {},
     "output_type": "execute_result"
    }
   ],
   "source": [
    "type(5)"
   ]
  },
  {
   "cell_type": "code",
   "execution_count": 11,
   "id": "ff8d7443",
   "metadata": {},
   "outputs": [
    {
     "data": {
      "text/plain": [
       "float"
      ]
     },
     "execution_count": 11,
     "metadata": {},
     "output_type": "execute_result"
    }
   ],
   "source": [
    "type(2.5)"
   ]
  },
  {
   "cell_type": "code",
   "execution_count": 12,
   "id": "58b2fe0a",
   "metadata": {},
   "outputs": [
    {
     "data": {
      "text/plain": [
       "str"
      ]
     },
     "execution_count": 12,
     "metadata": {},
     "output_type": "execute_result"
    }
   ],
   "source": [
    "type(isim)"
   ]
  },
  {
   "cell_type": "code",
   "execution_count": 13,
   "id": "a63808d1",
   "metadata": {},
   "outputs": [
    {
     "data": {
      "text/plain": [
       "bool"
      ]
     },
     "execution_count": 13,
     "metadata": {},
     "output_type": "execute_result"
    }
   ],
   "source": [
    "type(True)"
   ]
  },
  {
   "cell_type": "code",
   "execution_count": 14,
   "id": "e5ef6936",
   "metadata": {},
   "outputs": [],
   "source": [
    "# OPERATÖRLER"
   ]
  },
  {
   "cell_type": "code",
   "execution_count": 15,
   "id": "759f83d4",
   "metadata": {},
   "outputs": [],
   "source": [
    "# ARİTMETİK OPERATÖRLER"
   ]
  },
  {
   "cell_type": "code",
   "execution_count": 16,
   "id": "dd603c4d",
   "metadata": {},
   "outputs": [],
   "source": [
    "#+.-,*./,//,%"
   ]
  },
  {
   "cell_type": "code",
   "execution_count": 17,
   "id": "f3c1b98f",
   "metadata": {},
   "outputs": [
    {
     "data": {
      "text/plain": [
       "11"
      ]
     },
     "execution_count": 17,
     "metadata": {},
     "output_type": "execute_result"
    }
   ],
   "source": [
    "5+6"
   ]
  },
  {
   "cell_type": "code",
   "execution_count": 18,
   "id": "89b1b3fb",
   "metadata": {},
   "outputs": [
    {
     "data": {
      "text/plain": [
       "-1"
      ]
     },
     "execution_count": 18,
     "metadata": {},
     "output_type": "execute_result"
    }
   ],
   "source": [
    "5-6"
   ]
  },
  {
   "cell_type": "code",
   "execution_count": 19,
   "id": "e26b8857",
   "metadata": {},
   "outputs": [
    {
     "data": {
      "text/plain": [
       "2.0"
      ]
     },
     "execution_count": 19,
     "metadata": {},
     "output_type": "execute_result"
    }
   ],
   "source": [
    "4/2"
   ]
  },
  {
   "cell_type": "code",
   "execution_count": 20,
   "id": "56279ec6",
   "metadata": {},
   "outputs": [
    {
     "data": {
      "text/plain": [
       "4"
      ]
     },
     "execution_count": 20,
     "metadata": {},
     "output_type": "execute_result"
    }
   ],
   "source": [
    "2**2"
   ]
  },
  {
   "cell_type": "code",
   "execution_count": 21,
   "id": "ba14680e",
   "metadata": {},
   "outputs": [
    {
     "data": {
      "text/plain": [
       "8"
      ]
     },
     "execution_count": 21,
     "metadata": {},
     "output_type": "execute_result"
    }
   ],
   "source": [
    "2**3"
   ]
  },
  {
   "cell_type": "code",
   "execution_count": 22,
   "id": "c7b72427",
   "metadata": {},
   "outputs": [
    {
     "data": {
      "text/plain": [
       "65536"
      ]
     },
     "execution_count": 22,
     "metadata": {},
     "output_type": "execute_result"
    }
   ],
   "source": [
    "2**16"
   ]
  },
  {
   "cell_type": "code",
   "execution_count": 23,
   "id": "3a6adbf8",
   "metadata": {},
   "outputs": [
    {
     "data": {
      "text/plain": [
       "6"
      ]
     },
     "execution_count": 23,
     "metadata": {},
     "output_type": "execute_result"
    }
   ],
   "source": [
    "20//3"
   ]
  },
  {
   "cell_type": "code",
   "execution_count": 24,
   "id": "e9f7bba1",
   "metadata": {},
   "outputs": [
    {
     "data": {
      "text/plain": [
       "16"
      ]
     },
     "execution_count": 24,
     "metadata": {},
     "output_type": "execute_result"
    }
   ],
   "source": [
    "2*8"
   ]
  },
  {
   "cell_type": "code",
   "execution_count": 25,
   "id": "1995afce",
   "metadata": {},
   "outputs": [
    {
     "data": {
      "text/plain": [
       "0"
      ]
     },
     "execution_count": 25,
     "metadata": {},
     "output_type": "execute_result"
    }
   ],
   "source": [
    "4%2"
   ]
  },
  {
   "cell_type": "code",
   "execution_count": 26,
   "id": "cf3c92c3",
   "metadata": {},
   "outputs": [
    {
     "data": {
      "text/plain": [
       "1"
      ]
     },
     "execution_count": 26,
     "metadata": {},
     "output_type": "execute_result"
    }
   ],
   "source": [
    "5%2"
   ]
  },
  {
   "cell_type": "code",
   "execution_count": 27,
   "id": "e249b10d",
   "metadata": {},
   "outputs": [],
   "source": [
    "#LOGİC OPERATORS"
   ]
  },
  {
   "cell_type": "code",
   "execution_count": 28,
   "id": "b7094754",
   "metadata": {},
   "outputs": [],
   "source": [
    "#<,>,==,or,and, xor"
   ]
  },
  {
   "cell_type": "code",
   "execution_count": 29,
   "id": "cd86ce9f",
   "metadata": {},
   "outputs": [
    {
     "data": {
      "text/plain": [
       "True"
      ]
     },
     "execution_count": 29,
     "metadata": {},
     "output_type": "execute_result"
    }
   ],
   "source": [
    "5>4"
   ]
  },
  {
   "cell_type": "code",
   "execution_count": 30,
   "id": "c9b30fba",
   "metadata": {},
   "outputs": [
    {
     "data": {
      "text/plain": [
       "False"
      ]
     },
     "execution_count": 30,
     "metadata": {},
     "output_type": "execute_result"
    }
   ],
   "source": [
    "5<4"
   ]
  },
  {
   "cell_type": "code",
   "execution_count": 31,
   "id": "4dbc5b2b",
   "metadata": {},
   "outputs": [
    {
     "data": {
      "text/plain": [
       "True"
      ]
     },
     "execution_count": 31,
     "metadata": {},
     "output_type": "execute_result"
    }
   ],
   "source": [
    "3==3"
   ]
  },
  {
   "cell_type": "code",
   "execution_count": 32,
   "id": "20f205c4",
   "metadata": {},
   "outputs": [
    {
     "data": {
      "text/plain": [
       "False"
      ]
     },
     "execution_count": 32,
     "metadata": {},
     "output_type": "execute_result"
    }
   ],
   "source": [
    "3==4"
   ]
  },
  {
   "cell_type": "code",
   "execution_count": null,
   "id": "ff94264f",
   "metadata": {},
   "outputs": [],
   "source": []
  },
  {
   "cell_type": "code",
   "execution_count": 33,
   "id": "eff98bb5",
   "metadata": {},
   "outputs": [
    {
     "name": "stdout",
     "output_type": "stream",
     "text": [
      "yaşınızı giriniz30\n",
      "sokağa çıkabilirsin\n"
     ]
    }
   ],
   "source": [
    "yas =int(input(\"yaşınızı giriniz\"))\n",
    "if yas<20:\n",
    "    print(\"sokağa çıkmazsın\")\n",
    "else:\n",
    "    print(\"sokağa çıkabilirsin\")"
   ]
  },
  {
   "cell_type": "code",
   "execution_count": 34,
   "id": "4092fb40",
   "metadata": {},
   "outputs": [
    {
     "name": "stdout",
     "output_type": "stream",
     "text": [
      "notunuzu girin90\n",
      " a ile geçitiniz\n"
     ]
    }
   ],
   "source": [
    "notunuz=int(input(\"notunuzu girin\"))\n",
    "if notunuz<50:\n",
    "    print(\"f aldınız ve kaldınız\")\n",
    "elif notunuz<60:\n",
    "    print(\"d aldınız şartlı geçiş\")\n",
    "elif notunuz<70:\n",
    "    print(\"c ile geçtiniz\")\n",
    "elif notunuz<80:\n",
    "    print(\"b ile geçitiniz\")\n",
    "else:\n",
    "    print(\" a ile geçitiniz\")\n",
    "    "
   ]
  },
  {
   "cell_type": "code",
   "execution_count": 37,
   "id": "f082bee0",
   "metadata": {},
   "outputs": [
    {
     "name": "stdout",
     "output_type": "stream",
     "text": [
      "0\n",
      "1\n",
      "2\n",
      "3\n",
      "4\n",
      "5\n",
      "6\n",
      "7\n",
      "8\n",
      "9\n",
      "10\n",
      "11\n",
      "12\n",
      "13\n",
      "14\n",
      "15\n",
      "16\n",
      "17\n",
      "18\n",
      "19\n",
      "20\n",
      "21\n",
      "22\n",
      "23\n",
      "24\n",
      "25\n",
      "26\n",
      "27\n",
      "28\n",
      "29\n",
      "30\n",
      "31\n",
      "32\n",
      "33\n",
      "34\n",
      "35\n",
      "36\n",
      "37\n",
      "38\n",
      "39\n",
      "40\n",
      "41\n",
      "42\n",
      "43\n",
      "44\n",
      "45\n",
      "46\n",
      "47\n",
      "48\n",
      "49\n",
      "50\n",
      "51\n",
      "52\n",
      "53\n",
      "54\n",
      "55\n",
      "56\n",
      "57\n",
      "58\n",
      "59\n",
      "60\n",
      "61\n",
      "62\n",
      "63\n",
      "64\n",
      "65\n",
      "66\n",
      "67\n",
      "68\n",
      "69\n",
      "70\n",
      "71\n",
      "72\n",
      "73\n",
      "74\n",
      "75\n",
      "76\n",
      "77\n",
      "78\n",
      "79\n",
      "80\n",
      "81\n",
      "82\n",
      "83\n",
      "84\n",
      "85\n",
      "86\n",
      "87\n",
      "88\n",
      "89\n",
      "90\n",
      "91\n",
      "92\n",
      "93\n",
      "94\n",
      "95\n",
      "96\n",
      "97\n",
      "98\n",
      "99\n",
      "100\n"
     ]
    }
   ],
   "source": [
    "for i in range(101):\n",
    " print(i)"
   ]
  },
  {
   "cell_type": "code",
   "execution_count": null,
   "id": "77d6e42b",
   "metadata": {},
   "outputs": [],
   "source": []
  }
 ],
 "metadata": {
  "kernelspec": {
   "display_name": "Python 3 (ipykernel)",
   "language": "python",
   "name": "python3"
  },
  "language_info": {
   "codemirror_mode": {
    "name": "ipython",
    "version": 3
   },
   "file_extension": ".py",
   "mimetype": "text/x-python",
   "name": "python",
   "nbconvert_exporter": "python",
   "pygments_lexer": "ipython3",
   "version": "3.9.12"
  }
 },
 "nbformat": 4,
 "nbformat_minor": 5
}
