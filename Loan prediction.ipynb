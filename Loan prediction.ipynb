{
 "cells": [
  {
   "cell_type": "code",
   "execution_count": 1,
   "id": "1052aacf",
   "metadata": {},
   "outputs": [],
   "source": [
    "import pandas as pd\n",
    "import numpy as np"
   ]
  },
  {
   "cell_type": "code",
   "execution_count": 2,
   "id": "8101ae62",
   "metadata": {},
   "outputs": [],
   "source": [
    "from sklearn.metrics import accuracy_score,precision_score,recall_score,f1_score\n",
    "from sklearn.metrics import confusion_matrix,classification_report\n",
    "from sklearn.ensemble import GradientBoostingClassifier\n",
    "gbc=GradientBoostingClassifier()\n",
    "from sklearn.ensemble import RandomForestClassifier\n",
    "r=RandomForestClassifier()\n",
    "from sklearn.tree import DecisionTreeClassifier\n",
    "d=DecisionTreeClassifier()\n",
    "from sklearn.linear_model import LogisticRegression\n",
    "log=LogisticRegression()\n",
    "from sklearn.neighbors import KNeighborsClassifier\n",
    "k=KNeighborsClassifier()\n",
    "from sklearn.naive_bayes import GaussianNB\n",
    "from sklearn.naive_bayes import BernoulliNB\n",
    "gas=GaussianNB()\n",
    "ber=BernoulliNB()\n",
    "from xgboost import XGBClassifier\n",
    "xgbc=XGBClassifier()"
   ]
  },
  {
   "cell_type": "code",
   "execution_count": 3,
   "id": "3f206cb9",
   "metadata": {},
   "outputs": [
    {
     "name": "stderr",
     "output_type": "stream",
     "text": [
      "C:\\Users\\bilal\\AppData\\Local\\Temp\\ipykernel_17700\\841172785.py:1: DtypeWarning: Columns (16) have mixed types. Specify dtype option on import or set low_memory=False.\n",
      "  df=pd.read_csv('LoansTrainingSet.csv')\n"
     ]
    }
   ],
   "source": [
    "df=pd.read_csv('LoansTrainingSet.csv')"
   ]
  },
  {
   "cell_type": "code",
   "execution_count": 4,
   "id": "4f069df4",
   "metadata": {},
   "outputs": [
    {
     "data": {
      "text/plain": [
       "(256984, 19)"
      ]
     },
     "execution_count": 4,
     "metadata": {},
     "output_type": "execute_result"
    }
   ],
   "source": [
    "df.shape"
   ]
  },
  {
   "cell_type": "code",
   "execution_count": 5,
   "id": "028b0d2f",
   "metadata": {},
   "outputs": [
    {
     "data": {
      "text/plain": [
       "Loan ID                         215700\n",
       "Customer ID                     215700\n",
       "Loan Status                          2\n",
       "Current Loan Amount              27347\n",
       "Term                                 2\n",
       "Credit Score                       334\n",
       "Years in current job                11\n",
       "Home Ownership                       4\n",
       "Annual Income                    60558\n",
       "Purpose                             10\n",
       "Monthly Debt                    129115\n",
       "Years of Credit History            541\n",
       "Months since last delinquent       131\n",
       "Number of Open Accounts             59\n",
       "Number of Credit Problems           12\n",
       "Current Credit Balance           45704\n",
       "Maximum Open Credit              87188\n",
       "Bankruptcies                         8\n",
       "Tax Liens                           12\n",
       "dtype: int64"
      ]
     },
     "execution_count": 5,
     "metadata": {},
     "output_type": "execute_result"
    }
   ],
   "source": [
    "df.nunique()"
   ]
  },
  {
   "cell_type": "code",
   "execution_count": 6,
   "id": "3c1f5103",
   "metadata": {},
   "outputs": [
    {
     "data": {
      "text/plain": [
       "Loan ID                              0\n",
       "Customer ID                          0\n",
       "Loan Status                          0\n",
       "Current Loan Amount                  0\n",
       "Term                                 0\n",
       "Credit Score                     61676\n",
       "Years in current job             11476\n",
       "Home Ownership                       0\n",
       "Annual Income                    61676\n",
       "Purpose                              0\n",
       "Monthly Debt                         0\n",
       "Years of Credit History              0\n",
       "Months since last delinquent    140383\n",
       "Number of Open Accounts              0\n",
       "Number of Credit Problems            0\n",
       "Current Credit Balance               0\n",
       "Maximum Open Credit                  0\n",
       "Bankruptcies                       529\n",
       "Tax Liens                           23\n",
       "dtype: int64"
      ]
     },
     "execution_count": 6,
     "metadata": {},
     "output_type": "execute_result"
    }
   ],
   "source": [
    "df.isnull().sum()"
   ]
  },
  {
   "cell_type": "code",
   "execution_count": 7,
   "id": "4543bfd3",
   "metadata": {},
   "outputs": [
    {
     "data": {
      "text/plain": [
       "747.0     5669\n",
       "740.0     5537\n",
       "741.0     5499\n",
       "746.0     5486\n",
       "742.0     5219\n",
       "          ... \n",
       "6070.0       3\n",
       "5980.0       3\n",
       "5910.0       3\n",
       "5930.0       2\n",
       "5860.0       1\n",
       "Name: Credit Score, Length: 334, dtype: int64"
      ]
     },
     "execution_count": 7,
     "metadata": {},
     "output_type": "execute_result"
    }
   ],
   "source": [
    "df['Credit Score'].value_counts()"
   ]
  },
  {
   "cell_type": "code",
   "execution_count": 8,
   "id": "e79eaf89",
   "metadata": {},
   "outputs": [
    {
     "name": "stdout",
     "output_type": "stream",
     "text": [
      "<class 'pandas.core.frame.DataFrame'>\n",
      "RangeIndex: 256984 entries, 0 to 256983\n",
      "Data columns (total 19 columns):\n",
      " #   Column                        Non-Null Count   Dtype  \n",
      "---  ------                        --------------   -----  \n",
      " 0   Loan ID                       256984 non-null  object \n",
      " 1   Customer ID                   256984 non-null  object \n",
      " 2   Loan Status                   256984 non-null  object \n",
      " 3   Current Loan Amount           256984 non-null  int64  \n",
      " 4   Term                          256984 non-null  object \n",
      " 5   Credit Score                  195308 non-null  float64\n",
      " 6   Years in current job          245508 non-null  object \n",
      " 7   Home Ownership                256984 non-null  object \n",
      " 8   Annual Income                 195308 non-null  float64\n",
      " 9   Purpose                       256984 non-null  object \n",
      " 10  Monthly Debt                  256984 non-null  object \n",
      " 11  Years of Credit History       256984 non-null  float64\n",
      " 12  Months since last delinquent  116601 non-null  float64\n",
      " 13  Number of Open Accounts       256984 non-null  int64  \n",
      " 14  Number of Credit Problems     256984 non-null  int64  \n",
      " 15  Current Credit Balance        256984 non-null  int64  \n",
      " 16  Maximum Open Credit           256984 non-null  object \n",
      " 17  Bankruptcies                  256455 non-null  float64\n",
      " 18  Tax Liens                     256961 non-null  float64\n",
      "dtypes: float64(6), int64(4), object(9)\n",
      "memory usage: 37.3+ MB\n"
     ]
    }
   ],
   "source": [
    "df.info()"
   ]
  },
  {
   "cell_type": "code",
   "execution_count": null,
   "id": "cbf49619",
   "metadata": {},
   "outputs": [],
   "source": []
  },
  {
   "cell_type": "code",
   "execution_count": 9,
   "id": "20914fe4",
   "metadata": {},
   "outputs": [],
   "source": [
    "df['Credit Score'].fillna('585.0',inplace=True)"
   ]
  },
  {
   "cell_type": "code",
   "execution_count": 10,
   "id": "f1d09f68",
   "metadata": {},
   "outputs": [],
   "source": [
    "df['Annual Income'].fillna(df['Annual Income'].mean(),inplace=True)"
   ]
  },
  {
   "cell_type": "code",
   "execution_count": 11,
   "id": "7ed75145",
   "metadata": {},
   "outputs": [],
   "source": [
    "df['Months since last delinquent'].fillna(df['Months since last delinquent'].median(),inplace=True)"
   ]
  },
  {
   "cell_type": "code",
   "execution_count": 12,
   "id": "f7e3caad",
   "metadata": {},
   "outputs": [],
   "source": [
    "df['Bankruptcies'].fillna(df['Bankruptcies'].mean(),inplace=True)"
   ]
  },
  {
   "cell_type": "code",
   "execution_count": 13,
   "id": "284dded9",
   "metadata": {},
   "outputs": [],
   "source": [
    "df['Tax Liens'].fillna(df['Tax Liens'].mean(),inplace=True)"
   ]
  },
  {
   "cell_type": "code",
   "execution_count": 14,
   "id": "a9cf6c51",
   "metadata": {},
   "outputs": [],
   "source": [
    "df['Years in current job'].fillna('7 years',inplace=True)"
   ]
  },
  {
   "cell_type": "code",
   "execution_count": 15,
   "id": "b92b4577",
   "metadata": {},
   "outputs": [],
   "source": [
    "df['Maximum Open Credit']=df['Maximum Open Credit'].replace('#VALUE!','37000')"
   ]
  },
  {
   "cell_type": "code",
   "execution_count": 16,
   "id": "f62741a7",
   "metadata": {},
   "outputs": [],
   "source": [
    "df['Maximum Open Credit']=df['Maximum Open Credit'].astype('int')"
   ]
  },
  {
   "cell_type": "code",
   "execution_count": 17,
   "id": "6f36bdf9",
   "metadata": {},
   "outputs": [
    {
     "data": {
      "text/plain": [
       "Loan ID                         0\n",
       "Customer ID                     0\n",
       "Loan Status                     0\n",
       "Current Loan Amount             0\n",
       "Term                            0\n",
       "Credit Score                    0\n",
       "Years in current job            0\n",
       "Home Ownership                  0\n",
       "Annual Income                   0\n",
       "Purpose                         0\n",
       "Monthly Debt                    0\n",
       "Years of Credit History         0\n",
       "Months since last delinquent    0\n",
       "Number of Open Accounts         0\n",
       "Number of Credit Problems       0\n",
       "Current Credit Balance          0\n",
       "Maximum Open Credit             0\n",
       "Bankruptcies                    0\n",
       "Tax Liens                       0\n",
       "dtype: int64"
      ]
     },
     "execution_count": 17,
     "metadata": {},
     "output_type": "execute_result"
    }
   ],
   "source": [
    "df.isnull().sum()"
   ]
  },
  {
   "cell_type": "code",
   "execution_count": 18,
   "id": "4368faef",
   "metadata": {},
   "outputs": [
    {
     "data": {
      "text/html": [
       "<div>\n",
       "<style scoped>\n",
       "    .dataframe tbody tr th:only-of-type {\n",
       "        vertical-align: middle;\n",
       "    }\n",
       "\n",
       "    .dataframe tbody tr th {\n",
       "        vertical-align: top;\n",
       "    }\n",
       "\n",
       "    .dataframe thead th {\n",
       "        text-align: right;\n",
       "    }\n",
       "</style>\n",
       "<table border=\"1\" class=\"dataframe\">\n",
       "  <thead>\n",
       "    <tr style=\"text-align: right;\">\n",
       "      <th></th>\n",
       "      <th>Loan ID</th>\n",
       "      <th>Customer ID</th>\n",
       "      <th>Loan Status</th>\n",
       "      <th>Current Loan Amount</th>\n",
       "      <th>Term</th>\n",
       "      <th>Credit Score</th>\n",
       "      <th>Years in current job</th>\n",
       "      <th>Home Ownership</th>\n",
       "      <th>Annual Income</th>\n",
       "      <th>Purpose</th>\n",
       "      <th>Monthly Debt</th>\n",
       "      <th>Years of Credit History</th>\n",
       "      <th>Months since last delinquent</th>\n",
       "      <th>Number of Open Accounts</th>\n",
       "      <th>Number of Credit Problems</th>\n",
       "      <th>Current Credit Balance</th>\n",
       "      <th>Maximum Open Credit</th>\n",
       "      <th>Bankruptcies</th>\n",
       "      <th>Tax Liens</th>\n",
       "    </tr>\n",
       "  </thead>\n",
       "  <tbody>\n",
       "    <tr>\n",
       "      <th>0</th>\n",
       "      <td>000025bb-5694-4cff-b17d-192b1a98ba44</td>\n",
       "      <td>5ebc8bb1-5eb9-4404-b11b-a6eebc401a19</td>\n",
       "      <td>Fully Paid</td>\n",
       "      <td>11520</td>\n",
       "      <td>Short Term</td>\n",
       "      <td>741.0</td>\n",
       "      <td>10+ years</td>\n",
       "      <td>Home Mortgage</td>\n",
       "      <td>33694.000000</td>\n",
       "      <td>Debt Consolidation</td>\n",
       "      <td>$584.03</td>\n",
       "      <td>12.3</td>\n",
       "      <td>41.0</td>\n",
       "      <td>10</td>\n",
       "      <td>0</td>\n",
       "      <td>6760</td>\n",
       "      <td>16056</td>\n",
       "      <td>0.0</td>\n",
       "      <td>0.0</td>\n",
       "    </tr>\n",
       "    <tr>\n",
       "      <th>1</th>\n",
       "      <td>00002c49-3a29-4bd4-8f67-c8f8fbc1048c</td>\n",
       "      <td>927b388d-2e01-423f-a8dc-f7e42d668f46</td>\n",
       "      <td>Fully Paid</td>\n",
       "      <td>3441</td>\n",
       "      <td>Short Term</td>\n",
       "      <td>734.0</td>\n",
       "      <td>4 years</td>\n",
       "      <td>Home Mortgage</td>\n",
       "      <td>42269.000000</td>\n",
       "      <td>other</td>\n",
       "      <td>$1,106.04</td>\n",
       "      <td>26.3</td>\n",
       "      <td>32.0</td>\n",
       "      <td>17</td>\n",
       "      <td>0</td>\n",
       "      <td>6262</td>\n",
       "      <td>19149</td>\n",
       "      <td>0.0</td>\n",
       "      <td>0.0</td>\n",
       "    </tr>\n",
       "    <tr>\n",
       "      <th>2</th>\n",
       "      <td>00002d89-27f3-409b-aa76-90834f359a65</td>\n",
       "      <td>defce609-c631-447d-aad6-1270615e89c4</td>\n",
       "      <td>Fully Paid</td>\n",
       "      <td>21029</td>\n",
       "      <td>Short Term</td>\n",
       "      <td>747.0</td>\n",
       "      <td>10+ years</td>\n",
       "      <td>Home Mortgage</td>\n",
       "      <td>90126.000000</td>\n",
       "      <td>Debt Consolidation</td>\n",
       "      <td>$1,321.85</td>\n",
       "      <td>28.8</td>\n",
       "      <td>32.0</td>\n",
       "      <td>5</td>\n",
       "      <td>0</td>\n",
       "      <td>20967</td>\n",
       "      <td>28335</td>\n",
       "      <td>0.0</td>\n",
       "      <td>0.0</td>\n",
       "    </tr>\n",
       "    <tr>\n",
       "      <th>3</th>\n",
       "      <td>00005222-b4d8-45a4-ad8c-186057e24233</td>\n",
       "      <td>070bcecb-aae7-4485-a26a-e0403e7bb6c5</td>\n",
       "      <td>Fully Paid</td>\n",
       "      <td>18743</td>\n",
       "      <td>Short Term</td>\n",
       "      <td>747.0</td>\n",
       "      <td>10+ years</td>\n",
       "      <td>Own Home</td>\n",
       "      <td>38072.000000</td>\n",
       "      <td>Debt Consolidation</td>\n",
       "      <td>$751.92</td>\n",
       "      <td>26.2</td>\n",
       "      <td>32.0</td>\n",
       "      <td>9</td>\n",
       "      <td>0</td>\n",
       "      <td>22529</td>\n",
       "      <td>43915</td>\n",
       "      <td>0.0</td>\n",
       "      <td>0.0</td>\n",
       "    </tr>\n",
       "    <tr>\n",
       "      <th>4</th>\n",
       "      <td>0000757f-a121-41ed-b17b-162e76647c1f</td>\n",
       "      <td>dde79588-12f0-4811-bab0-e2b07f633fcd</td>\n",
       "      <td>Fully Paid</td>\n",
       "      <td>11731</td>\n",
       "      <td>Short Term</td>\n",
       "      <td>746.0</td>\n",
       "      <td>4 years</td>\n",
       "      <td>Rent</td>\n",
       "      <td>50025.000000</td>\n",
       "      <td>Debt Consolidation</td>\n",
       "      <td>$355.18</td>\n",
       "      <td>11.5</td>\n",
       "      <td>32.0</td>\n",
       "      <td>12</td>\n",
       "      <td>0</td>\n",
       "      <td>17391</td>\n",
       "      <td>37081</td>\n",
       "      <td>0.0</td>\n",
       "      <td>0.0</td>\n",
       "    </tr>\n",
       "    <tr>\n",
       "      <th>...</th>\n",
       "      <td>...</td>\n",
       "      <td>...</td>\n",
       "      <td>...</td>\n",
       "      <td>...</td>\n",
       "      <td>...</td>\n",
       "      <td>...</td>\n",
       "      <td>...</td>\n",
       "      <td>...</td>\n",
       "      <td>...</td>\n",
       "      <td>...</td>\n",
       "      <td>...</td>\n",
       "      <td>...</td>\n",
       "      <td>...</td>\n",
       "      <td>...</td>\n",
       "      <td>...</td>\n",
       "      <td>...</td>\n",
       "      <td>...</td>\n",
       "      <td>...</td>\n",
       "      <td>...</td>\n",
       "    </tr>\n",
       "    <tr>\n",
       "      <th>256979</th>\n",
       "      <td>fffef5b7-be99-4666-ac70-2a397d2ee435</td>\n",
       "      <td>7211a8e3-cba4-4132-b939-222eed8a662c</td>\n",
       "      <td>Fully Paid</td>\n",
       "      <td>3911</td>\n",
       "      <td>Short Term</td>\n",
       "      <td>585.0</td>\n",
       "      <td>2 years</td>\n",
       "      <td>Rent</td>\n",
       "      <td>71952.716187</td>\n",
       "      <td>Debt Consolidation</td>\n",
       "      <td>$1,706.58</td>\n",
       "      <td>19.9</td>\n",
       "      <td>32.0</td>\n",
       "      <td>16</td>\n",
       "      <td>0</td>\n",
       "      <td>43992</td>\n",
       "      <td>44080</td>\n",
       "      <td>0.0</td>\n",
       "      <td>0.0</td>\n",
       "    </tr>\n",
       "    <tr>\n",
       "      <th>256980</th>\n",
       "      <td>ffffca93-aa8c-4123-b8ff-7852f6df889a</td>\n",
       "      <td>616fef0c-8f09-4327-9b5c-48fcfaa52934</td>\n",
       "      <td>Fully Paid</td>\n",
       "      <td>5078</td>\n",
       "      <td>Short Term</td>\n",
       "      <td>737.0</td>\n",
       "      <td>10+ years</td>\n",
       "      <td>Own Home</td>\n",
       "      <td>77186.000000</td>\n",
       "      <td>Debt Consolidation</td>\n",
       "      <td>$1,376.47</td>\n",
       "      <td>19.1</td>\n",
       "      <td>47.0</td>\n",
       "      <td>9</td>\n",
       "      <td>0</td>\n",
       "      <td>1717</td>\n",
       "      <td>9758</td>\n",
       "      <td>0.0</td>\n",
       "      <td>0.0</td>\n",
       "    </tr>\n",
       "    <tr>\n",
       "      <th>256981</th>\n",
       "      <td>ffffcb2e-e48e-4d2c-a0d6-ed6bce5bfdbe</td>\n",
       "      <td>971a6682-183b-4a52-8bce-1d3429ade295</td>\n",
       "      <td>Charged Off</td>\n",
       "      <td>12116</td>\n",
       "      <td>Short Term</td>\n",
       "      <td>7460.0</td>\n",
       "      <td>9 years</td>\n",
       "      <td>Home Mortgage</td>\n",
       "      <td>52504.000000</td>\n",
       "      <td>Debt Consolidation</td>\n",
       "      <td>$297.96</td>\n",
       "      <td>15.1</td>\n",
       "      <td>82.0</td>\n",
       "      <td>8</td>\n",
       "      <td>0</td>\n",
       "      <td>3315</td>\n",
       "      <td>20090</td>\n",
       "      <td>0.0</td>\n",
       "      <td>0.0</td>\n",
       "    </tr>\n",
       "    <tr>\n",
       "      <th>256982</th>\n",
       "      <td>ffffcb2e-e48e-4d2c-a0d6-ed6bce5bfdbe</td>\n",
       "      <td>971a6682-183b-4a52-8bce-1d3429ade295</td>\n",
       "      <td>Charged Off</td>\n",
       "      <td>12116</td>\n",
       "      <td>Short Term</td>\n",
       "      <td>746.0</td>\n",
       "      <td>9 years</td>\n",
       "      <td>Home Mortgage</td>\n",
       "      <td>52504.000000</td>\n",
       "      <td>Debt Consolidation</td>\n",
       "      <td>$297.96</td>\n",
       "      <td>15.1</td>\n",
       "      <td>82.0</td>\n",
       "      <td>8</td>\n",
       "      <td>0</td>\n",
       "      <td>3315</td>\n",
       "      <td>20090</td>\n",
       "      <td>0.0</td>\n",
       "      <td>0.0</td>\n",
       "    </tr>\n",
       "    <tr>\n",
       "      <th>256983</th>\n",
       "      <td>ffffe32e-ed17-459f-9cfd-7b9ee7972933</td>\n",
       "      <td>97281336-1e45-41d2-acb2-263ce56a590e</td>\n",
       "      <td>Fully Paid</td>\n",
       "      <td>27902</td>\n",
       "      <td>Long Term</td>\n",
       "      <td>678.0</td>\n",
       "      <td>10+ years</td>\n",
       "      <td>Home Mortgage</td>\n",
       "      <td>117480.000000</td>\n",
       "      <td>Debt Consolidation</td>\n",
       "      <td>$2,525.82</td>\n",
       "      <td>18.0</td>\n",
       "      <td>11.0</td>\n",
       "      <td>10</td>\n",
       "      <td>0</td>\n",
       "      <td>28317</td>\n",
       "      <td>62371</td>\n",
       "      <td>0.0</td>\n",
       "      <td>0.0</td>\n",
       "    </tr>\n",
       "  </tbody>\n",
       "</table>\n",
       "<p>256984 rows × 19 columns</p>\n",
       "</div>"
      ],
      "text/plain": [
       "                                     Loan ID  \\\n",
       "0       000025bb-5694-4cff-b17d-192b1a98ba44   \n",
       "1       00002c49-3a29-4bd4-8f67-c8f8fbc1048c   \n",
       "2       00002d89-27f3-409b-aa76-90834f359a65   \n",
       "3       00005222-b4d8-45a4-ad8c-186057e24233   \n",
       "4       0000757f-a121-41ed-b17b-162e76647c1f   \n",
       "...                                      ...   \n",
       "256979  fffef5b7-be99-4666-ac70-2a397d2ee435   \n",
       "256980  ffffca93-aa8c-4123-b8ff-7852f6df889a   \n",
       "256981  ffffcb2e-e48e-4d2c-a0d6-ed6bce5bfdbe   \n",
       "256982  ffffcb2e-e48e-4d2c-a0d6-ed6bce5bfdbe   \n",
       "256983  ffffe32e-ed17-459f-9cfd-7b9ee7972933   \n",
       "\n",
       "                                 Customer ID  Loan Status  \\\n",
       "0       5ebc8bb1-5eb9-4404-b11b-a6eebc401a19   Fully Paid   \n",
       "1       927b388d-2e01-423f-a8dc-f7e42d668f46   Fully Paid   \n",
       "2       defce609-c631-447d-aad6-1270615e89c4   Fully Paid   \n",
       "3       070bcecb-aae7-4485-a26a-e0403e7bb6c5   Fully Paid   \n",
       "4       dde79588-12f0-4811-bab0-e2b07f633fcd   Fully Paid   \n",
       "...                                      ...          ...   \n",
       "256979  7211a8e3-cba4-4132-b939-222eed8a662c   Fully Paid   \n",
       "256980  616fef0c-8f09-4327-9b5c-48fcfaa52934   Fully Paid   \n",
       "256981  971a6682-183b-4a52-8bce-1d3429ade295  Charged Off   \n",
       "256982  971a6682-183b-4a52-8bce-1d3429ade295  Charged Off   \n",
       "256983  97281336-1e45-41d2-acb2-263ce56a590e   Fully Paid   \n",
       "\n",
       "        Current Loan Amount        Term Credit Score Years in current job  \\\n",
       "0                     11520  Short Term        741.0            10+ years   \n",
       "1                      3441  Short Term        734.0              4 years   \n",
       "2                     21029  Short Term        747.0            10+ years   \n",
       "3                     18743  Short Term        747.0            10+ years   \n",
       "4                     11731  Short Term        746.0              4 years   \n",
       "...                     ...         ...          ...                  ...   \n",
       "256979                 3911  Short Term        585.0              2 years   \n",
       "256980                 5078  Short Term        737.0            10+ years   \n",
       "256981                12116  Short Term       7460.0              9 years   \n",
       "256982                12116  Short Term        746.0              9 years   \n",
       "256983                27902   Long Term        678.0            10+ years   \n",
       "\n",
       "       Home Ownership  Annual Income             Purpose Monthly Debt  \\\n",
       "0       Home Mortgage   33694.000000  Debt Consolidation      $584.03   \n",
       "1       Home Mortgage   42269.000000               other   $1,106.04    \n",
       "2       Home Mortgage   90126.000000  Debt Consolidation   $1,321.85    \n",
       "3            Own Home   38072.000000  Debt Consolidation      $751.92   \n",
       "4                Rent   50025.000000  Debt Consolidation      $355.18   \n",
       "...               ...            ...                 ...          ...   \n",
       "256979           Rent   71952.716187  Debt Consolidation   $1,706.58    \n",
       "256980       Own Home   77186.000000  Debt Consolidation   $1,376.47    \n",
       "256981  Home Mortgage   52504.000000  Debt Consolidation      $297.96   \n",
       "256982  Home Mortgage   52504.000000  Debt Consolidation      $297.96   \n",
       "256983  Home Mortgage  117480.000000  Debt Consolidation   $2,525.82    \n",
       "\n",
       "        Years of Credit History  Months since last delinquent  \\\n",
       "0                          12.3                          41.0   \n",
       "1                          26.3                          32.0   \n",
       "2                          28.8                          32.0   \n",
       "3                          26.2                          32.0   \n",
       "4                          11.5                          32.0   \n",
       "...                         ...                           ...   \n",
       "256979                     19.9                          32.0   \n",
       "256980                     19.1                          47.0   \n",
       "256981                     15.1                          82.0   \n",
       "256982                     15.1                          82.0   \n",
       "256983                     18.0                          11.0   \n",
       "\n",
       "        Number of Open Accounts  Number of Credit Problems  \\\n",
       "0                            10                          0   \n",
       "1                            17                          0   \n",
       "2                             5                          0   \n",
       "3                             9                          0   \n",
       "4                            12                          0   \n",
       "...                         ...                        ...   \n",
       "256979                       16                          0   \n",
       "256980                        9                          0   \n",
       "256981                        8                          0   \n",
       "256982                        8                          0   \n",
       "256983                       10                          0   \n",
       "\n",
       "        Current Credit Balance  Maximum Open Credit  Bankruptcies  Tax Liens  \n",
       "0                         6760                16056           0.0        0.0  \n",
       "1                         6262                19149           0.0        0.0  \n",
       "2                        20967                28335           0.0        0.0  \n",
       "3                        22529                43915           0.0        0.0  \n",
       "4                        17391                37081           0.0        0.0  \n",
       "...                        ...                  ...           ...        ...  \n",
       "256979                   43992                44080           0.0        0.0  \n",
       "256980                    1717                 9758           0.0        0.0  \n",
       "256981                    3315                20090           0.0        0.0  \n",
       "256982                    3315                20090           0.0        0.0  \n",
       "256983                   28317                62371           0.0        0.0  \n",
       "\n",
       "[256984 rows x 19 columns]"
      ]
     },
     "execution_count": 18,
     "metadata": {},
     "output_type": "execute_result"
    }
   ],
   "source": [
    "df"
   ]
  },
  {
   "cell_type": "code",
   "execution_count": 19,
   "id": "e6c1fe95",
   "metadata": {},
   "outputs": [],
   "source": [
    "df.drop(['Loan ID','Customer ID'],axis=1,inplace=True)"
   ]
  },
  {
   "cell_type": "code",
   "execution_count": 20,
   "id": "553e30f3",
   "metadata": {},
   "outputs": [],
   "source": [
    "df['Loan Status']=df['Loan Status'].replace('Fully Paid',1).replace('Charged Off',0).astype(int)"
   ]
  },
  {
   "cell_type": "code",
   "execution_count": 21,
   "id": "a8c4df3a",
   "metadata": {},
   "outputs": [],
   "source": [
    "df['Monthly Debt']=df['Monthly Debt'].str.extract('\\$?([0-9,]+\\.?[0-9]+)')\n",
    "df['Monthly Debt']=df['Monthly Debt'].str.replace(',','', regex=True)\n",
    "df['Monthly Debt']=df['Monthly Debt'].str.replace('$','', regex=True)\n",
    "\n"
   ]
  },
  {
   "cell_type": "code",
   "execution_count": 22,
   "id": "9377db11",
   "metadata": {},
   "outputs": [],
   "source": [
    "df['Monthly Debt']=df['Monthly Debt'].astype(float)"
   ]
  },
  {
   "cell_type": "code",
   "execution_count": null,
   "id": "54079c84",
   "metadata": {},
   "outputs": [],
   "source": []
  },
  {
   "cell_type": "code",
   "execution_count": 23,
   "id": "c5e2d719",
   "metadata": {},
   "outputs": [],
   "source": [
    "df['Years in current job']=df['Years in current job'].replace('years','',regex=True)"
   ]
  },
  {
   "cell_type": "code",
   "execution_count": 24,
   "id": "4477a606",
   "metadata": {},
   "outputs": [],
   "source": [
    "df['Years in current job']=df['Years in current job'].str.extract('(\\d+)')"
   ]
  },
  {
   "cell_type": "code",
   "execution_count": 25,
   "id": "f444d5da",
   "metadata": {},
   "outputs": [],
   "source": [
    "df['Years in current job']=df['Years in current job'].astype('int')"
   ]
  },
  {
   "cell_type": "code",
   "execution_count": 26,
   "id": "5afd4ce7",
   "metadata": {},
   "outputs": [],
   "source": [
    "df.drop('Purpose',axis=1,inplace=True)"
   ]
  },
  {
   "cell_type": "code",
   "execution_count": 27,
   "id": "d8952892",
   "metadata": {},
   "outputs": [],
   "source": [
    "df=pd.get_dummies(df,drop_first=True)"
   ]
  },
  {
   "cell_type": "code",
   "execution_count": 28,
   "id": "3b264a13",
   "metadata": {},
   "outputs": [],
   "source": [
    "df_train=df.loc[:100000]"
   ]
  },
  {
   "cell_type": "code",
   "execution_count": 29,
   "id": "8152352c",
   "metadata": {},
   "outputs": [],
   "source": [
    "df_test=df.loc[100000:]"
   ]
  },
  {
   "cell_type": "code",
   "execution_count": 30,
   "id": "dd8963f0",
   "metadata": {},
   "outputs": [
    {
     "data": {
      "text/plain": [
       "((100001, 351), (156984, 351))"
      ]
     },
     "execution_count": 30,
     "metadata": {},
     "output_type": "execute_result"
    }
   ],
   "source": [
    "df_train.shape,df_test.shape"
   ]
  },
  {
   "cell_type": "code",
   "execution_count": null,
   "id": "7bfc67a8",
   "metadata": {},
   "outputs": [],
   "source": []
  },
  {
   "cell_type": "code",
   "execution_count": 31,
   "id": "b163ae92",
   "metadata": {},
   "outputs": [],
   "source": [
    "b=df_train['Loan Status']"
   ]
  },
  {
   "cell_type": "code",
   "execution_count": 32,
   "id": "083ded39",
   "metadata": {},
   "outputs": [
    {
     "name": "stderr",
     "output_type": "stream",
     "text": [
      "C:\\Users\\bilal\\AppData\\Local\\Temp\\ipykernel_17700\\3903067236.py:1: SettingWithCopyWarning: \n",
      "A value is trying to be set on a copy of a slice from a DataFrame\n",
      "\n",
      "See the caveats in the documentation: https://pandas.pydata.org/pandas-docs/stable/user_guide/indexing.html#returning-a-view-versus-a-copy\n",
      "  df_train.drop(['Loan Status'],axis=1,inplace=True)\n"
     ]
    }
   ],
   "source": [
    "df_train.drop(['Loan Status'],axis=1,inplace=True)"
   ]
  },
  {
   "cell_type": "code",
   "execution_count": 33,
   "id": "88a3d72a",
   "metadata": {},
   "outputs": [],
   "source": [
    "algorithms=[gas,ber,k,log,gbc,r,d,xgbc]\n",
    "names=['GaussianNB','BernoulliNB','KNearest','Logistic','GradientBoosting','RandomForest','Decision','XGBC']"
   ]
  },
  {
   "cell_type": "code",
   "execution_count": 34,
   "id": "ee379f6e",
   "metadata": {},
   "outputs": [],
   "source": [
    "def algo_test(X,y,algorithms=algorithms , names=names):\n",
    "    for i in range(len(algorithms)):\n",
    "        algorithms[i]=algorithms[i].fit(X, y)\n",
    "    accuracy=[]\n",
    "    precision=[]\n",
    "    recall=[]\n",
    "    f1=[]\n",
    "    for i in range(len(algorithms)):\n",
    "        accuracy.append(accuracy_score(y,algorithms[i].predict(X)))\n",
    "        precision.append(precision_score(y,algorithms[i].predict(X)))\n",
    "        recall.append(recall_score(y,algorithms[i].predict(X)))\n",
    "        f1.append(f1_score(y,algorithms[i].predict(X)))\n",
    "    metrics=pd.DataFrame(columns=['Accuracy','Precision','Recall','F1'],index=names)\n",
    "    metrics['Accuracy']=accuracy\n",
    "    metrics['Precision']=precision\n",
    "    metrics['Recall']=recall\n",
    "    metrics['F1']=f1\n",
    "    return metrics.sort_values('F1',ascending=False)"
   ]
  },
  {
   "cell_type": "code",
   "execution_count": 35,
   "id": "b3692643",
   "metadata": {},
   "outputs": [
    {
     "data": {
      "text/html": [
       "<div>\n",
       "<style scoped>\n",
       "    .dataframe tbody tr th:only-of-type {\n",
       "        vertical-align: middle;\n",
       "    }\n",
       "\n",
       "    .dataframe tbody tr th {\n",
       "        vertical-align: top;\n",
       "    }\n",
       "\n",
       "    .dataframe thead th {\n",
       "        text-align: right;\n",
       "    }\n",
       "</style>\n",
       "<table border=\"1\" class=\"dataframe\">\n",
       "  <thead>\n",
       "    <tr style=\"text-align: right;\">\n",
       "      <th></th>\n",
       "      <th>Accuracy</th>\n",
       "      <th>Precision</th>\n",
       "      <th>Recall</th>\n",
       "      <th>F1</th>\n",
       "    </tr>\n",
       "  </thead>\n",
       "  <tbody>\n",
       "    <tr>\n",
       "      <th>RandomForest</th>\n",
       "      <td>1.000000</td>\n",
       "      <td>1.000000</td>\n",
       "      <td>1.000000</td>\n",
       "      <td>1.000000</td>\n",
       "    </tr>\n",
       "    <tr>\n",
       "      <th>Decision</th>\n",
       "      <td>1.000000</td>\n",
       "      <td>1.000000</td>\n",
       "      <td>1.000000</td>\n",
       "      <td>1.000000</td>\n",
       "    </tr>\n",
       "    <tr>\n",
       "      <th>KNearest</th>\n",
       "      <td>0.792532</td>\n",
       "      <td>0.827726</td>\n",
       "      <td>0.878600</td>\n",
       "      <td>0.852405</td>\n",
       "    </tr>\n",
       "    <tr>\n",
       "      <th>XGBC</th>\n",
       "      <td>0.769732</td>\n",
       "      <td>0.771953</td>\n",
       "      <td>0.939989</td>\n",
       "      <td>0.847724</td>\n",
       "    </tr>\n",
       "    <tr>\n",
       "      <th>BernoulliNB</th>\n",
       "      <td>0.745283</td>\n",
       "      <td>0.755938</td>\n",
       "      <td>0.925133</td>\n",
       "      <td>0.832021</td>\n",
       "    </tr>\n",
       "    <tr>\n",
       "      <th>GradientBoosting</th>\n",
       "      <td>0.734543</td>\n",
       "      <td>0.735335</td>\n",
       "      <td>0.954097</td>\n",
       "      <td>0.830552</td>\n",
       "    </tr>\n",
       "    <tr>\n",
       "      <th>Logistic</th>\n",
       "      <td>0.680883</td>\n",
       "      <td>0.681948</td>\n",
       "      <td>0.996979</td>\n",
       "      <td>0.809907</td>\n",
       "    </tr>\n",
       "    <tr>\n",
       "      <th>GaussianNB</th>\n",
       "      <td>0.460615</td>\n",
       "      <td>0.982657</td>\n",
       "      <td>0.212721</td>\n",
       "      <td>0.349733</td>\n",
       "    </tr>\n",
       "  </tbody>\n",
       "</table>\n",
       "</div>"
      ],
      "text/plain": [
       "                  Accuracy  Precision    Recall        F1\n",
       "RandomForest      1.000000   1.000000  1.000000  1.000000\n",
       "Decision          1.000000   1.000000  1.000000  1.000000\n",
       "KNearest          0.792532   0.827726  0.878600  0.852405\n",
       "XGBC              0.769732   0.771953  0.939989  0.847724\n",
       "BernoulliNB       0.745283   0.755938  0.925133  0.832021\n",
       "GradientBoosting  0.734543   0.735335  0.954097  0.830552\n",
       "Logistic          0.680883   0.681948  0.996979  0.809907\n",
       "GaussianNB        0.460615   0.982657  0.212721  0.349733"
      ]
     },
     "execution_count": 35,
     "metadata": {},
     "output_type": "execute_result"
    }
   ],
   "source": [
    "algo_test(df_train,b)"
   ]
  },
  {
   "cell_type": "code",
   "execution_count": 36,
   "id": "fd1a9a5f",
   "metadata": {},
   "outputs": [],
   "source": [
    "h=df_test['Loan Status']"
   ]
  },
  {
   "cell_type": "code",
   "execution_count": 37,
   "id": "085aeff1",
   "metadata": {},
   "outputs": [
    {
     "name": "stderr",
     "output_type": "stream",
     "text": [
      "C:\\Users\\bilal\\AppData\\Local\\Temp\\ipykernel_17700\\802577237.py:1: SettingWithCopyWarning: \n",
      "A value is trying to be set on a copy of a slice from a DataFrame\n",
      "\n",
      "See the caveats in the documentation: https://pandas.pydata.org/pandas-docs/stable/user_guide/indexing.html#returning-a-view-versus-a-copy\n",
      "  df_test.drop(['Loan Status'],axis=1,inplace=True)\n"
     ]
    }
   ],
   "source": [
    "df_test.drop(['Loan Status'],axis=1,inplace=True) "
   ]
  },
  {
   "cell_type": "code",
   "execution_count": 38,
   "id": "fe87f933",
   "metadata": {},
   "outputs": [],
   "source": [
    "tahmin=d.predict(df_test)"
   ]
  },
  {
   "cell_type": "code",
   "execution_count": 39,
   "id": "352f3d3a",
   "metadata": {},
   "outputs": [
    {
     "data": {
      "text/plain": [
       "array([1, 1, 1, ..., 0, 1, 1])"
      ]
     },
     "execution_count": 39,
     "metadata": {},
     "output_type": "execute_result"
    }
   ],
   "source": [
    "tahmin"
   ]
  },
  {
   "cell_type": "code",
   "execution_count": 40,
   "id": "2f1b70c4",
   "metadata": {},
   "outputs": [
    {
     "data": {
      "text/plain": [
       "(156984,)"
      ]
     },
     "execution_count": 40,
     "metadata": {},
     "output_type": "execute_result"
    }
   ],
   "source": [
    "tahmin.shape"
   ]
  },
  {
   "cell_type": "code",
   "execution_count": 41,
   "id": "699177ee",
   "metadata": {},
   "outputs": [
    {
     "data": {
      "text/plain": [
       "0.665526423074963"
      ]
     },
     "execution_count": 41,
     "metadata": {},
     "output_type": "execute_result"
    }
   ],
   "source": [
    "(accuracy_score(h,tahmin))"
   ]
  },
  {
   "cell_type": "code",
   "execution_count": 42,
   "id": "e550f765",
   "metadata": {},
   "outputs": [
    {
     "data": {
      "text/plain": [
       "0.7369944911816202"
      ]
     },
     "execution_count": 42,
     "metadata": {},
     "output_type": "execute_result"
    }
   ],
   "source": [
    "(precision_score(h,tahmin))"
   ]
  },
  {
   "cell_type": "code",
   "execution_count": 43,
   "id": "90bcd043",
   "metadata": {},
   "outputs": [
    {
     "data": {
      "text/plain": [
       "0.7989611495870523"
      ]
     },
     "execution_count": 43,
     "metadata": {},
     "output_type": "execute_result"
    }
   ],
   "source": [
    "(recall_score(h,tahmin))"
   ]
  },
  {
   "cell_type": "code",
   "execution_count": 44,
   "id": "d973c78e",
   "metadata": {},
   "outputs": [
    {
     "data": {
      "text/plain": [
       "0.7667278276592815"
      ]
     },
     "execution_count": 44,
     "metadata": {},
     "output_type": "execute_result"
    }
   ],
   "source": [
    "(f1_score(h,tahmin))"
   ]
  },
  {
   "cell_type": "code",
   "execution_count": null,
   "id": "2a11054a",
   "metadata": {},
   "outputs": [],
   "source": []
  }
 ],
 "metadata": {
  "kernelspec": {
   "display_name": "Python 3 (ipykernel)",
   "language": "python",
   "name": "python3"
  },
  "language_info": {
   "codemirror_mode": {
    "name": "ipython",
    "version": 3
   },
   "file_extension": ".py",
   "mimetype": "text/x-python",
   "name": "python",
   "nbconvert_exporter": "python",
   "pygments_lexer": "ipython3",
   "version": "3.8.3"
  }
 },
 "nbformat": 4,
 "nbformat_minor": 5
}
